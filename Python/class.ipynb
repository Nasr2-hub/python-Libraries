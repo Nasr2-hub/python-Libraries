{
 "cells": [
  {
   "cell_type": "code",
   "execution_count": 2,
   "id": "a6b79ba3-9736-439a-b9e0-45d4b9d96e54",
   "metadata": {},
   "outputs": [
    {
     "name": "stdout",
     "output_type": "stream",
     "text": [
      "BMW\n",
      "i'm from BMW\n",
      "my model is series1\n"
     ]
    }
   ],
   "source": [
    "class cars:\n",
    "    attr1=\"BMW\"\n",
    "    attr2=\"series1\"\n",
    "    def fun(self):\n",
    "        print(\"i'm from\",self.attr1)\n",
    "        print(\"my model is\",self.attr2)\n",
    "john=cars()\n",
    "print(john.attr1)\n",
    "john.fun()"
   ]
  },
  {
   "cell_type": "code",
   "execution_count": null,
   "id": "e5877ab6-e87e-4b23-a666-b121cf19d77c",
   "metadata": {},
   "outputs": [],
   "source": [
    "# init method"
   ]
  },
  {
   "cell_type": "code",
   "execution_count": 5,
   "id": "46fd5059-e698-4c9f-b0f0-a2e7f3dcaa91",
   "metadata": {},
   "outputs": [
    {
     "name": "stdout",
     "output_type": "stream",
     "text": [
      "Hello,my name is vignesh\n"
     ]
    }
   ],
   "source": [
    "class person:\n",
    "    def __init__ (self,name):\n",
    "        self.name=name\n",
    "    def say_hi(self):\n",
    "        print('Hello,my name is',self.name)\n",
    "p=person('vignesh')\n",
    "p.say_hi()\n"
   ]
  },
  {
   "cell_type": "code",
   "execution_count": 17,
   "id": "8a005c32-9c46-4c3b-8cba-214246a04a3c",
   "metadata": {},
   "outputs": [
    {
     "name": "stdout",
     "output_type": "stream",
     "text": [
      "hello NEXON\n",
      "and color is brown\n"
     ]
    }
   ],
   "source": [
    "class cars:\n",
    "    fourwheeler='cars'\n",
    "    def __init__ (self,brand,color):\n",
    "        self.brand=brand\n",
    "        self.color=color\n",
    "    def fun(self):\n",
    "        print(\"hello\",self.brand)\n",
    "        print(\"and color is\",self.color)\n",
    "TATA=cars(\"NEXON\",\"brown\")\n",
    "mustang=cars(\"ford\",\"orange\")\n",
    "TATA.fun()"
   ]
  },
  {
   "cell_type": "code",
   "execution_count": 18,
   "id": "6f1c56d2-8578-4b64-8934-b89e0609d2ac",
   "metadata": {},
   "outputs": [],
   "source": [
    "TATA.color=\"red\""
   ]
  },
  {
   "cell_type": "code",
   "execution_count": 19,
   "id": "7773be29-7892-4faf-a59b-5584f812e380",
   "metadata": {},
   "outputs": [
    {
     "name": "stdout",
     "output_type": "stream",
     "text": [
      "hello NEXON\n",
      "and color is red\n"
     ]
    }
   ],
   "source": [
    "TATA.fun()"
   ]
  },
  {
   "cell_type": "code",
   "execution_count": 20,
   "id": "026aee97-aa7f-4fc9-b254-48ee59c2d1d8",
   "metadata": {},
   "outputs": [],
   "source": [
    "del TATA.color"
   ]
  },
  {
   "cell_type": "code",
   "execution_count": 21,
   "id": "53e6430e-8868-434d-9c6c-2bd6399a283c",
   "metadata": {},
   "outputs": [
    {
     "name": "stdout",
     "output_type": "stream",
     "text": [
      "hello NEXON\n"
     ]
    },
    {
     "ename": "AttributeError",
     "evalue": "'cars' object has no attribute 'color'",
     "output_type": "error",
     "traceback": [
      "\u001b[1;31m---------------------------------------------------------------------------\u001b[0m",
      "\u001b[1;31mAttributeError\u001b[0m                            Traceback (most recent call last)",
      "Cell \u001b[1;32mIn[21], line 1\u001b[0m\n\u001b[1;32m----> 1\u001b[0m \u001b[43mTATA\u001b[49m\u001b[38;5;241;43m.\u001b[39;49m\u001b[43mfun\u001b[49m\u001b[43m(\u001b[49m\u001b[43m)\u001b[49m\n",
      "Cell \u001b[1;32mIn[17], line 8\u001b[0m, in \u001b[0;36mcars.fun\u001b[1;34m(self)\u001b[0m\n\u001b[0;32m      6\u001b[0m \u001b[38;5;28;01mdef\u001b[39;00m \u001b[38;5;21mfun\u001b[39m(\u001b[38;5;28mself\u001b[39m):\n\u001b[0;32m      7\u001b[0m     \u001b[38;5;28mprint\u001b[39m(\u001b[38;5;124m\"\u001b[39m\u001b[38;5;124mhello\u001b[39m\u001b[38;5;124m\"\u001b[39m,\u001b[38;5;28mself\u001b[39m\u001b[38;5;241m.\u001b[39mbrand)\n\u001b[1;32m----> 8\u001b[0m     \u001b[38;5;28mprint\u001b[39m(\u001b[38;5;124m\"\u001b[39m\u001b[38;5;124mand color is\u001b[39m\u001b[38;5;124m\"\u001b[39m,\u001b[38;5;28;43mself\u001b[39;49m\u001b[38;5;241;43m.\u001b[39;49m\u001b[43mcolor\u001b[49m)\n",
      "\u001b[1;31mAttributeError\u001b[0m: 'cars' object has no attribute 'color'"
     ]
    }
   ],
   "source": [
    "TATA.fun()"
   ]
  },
  {
   "cell_type": "code",
   "execution_count": 22,
   "id": "fada21c8-33dd-4881-9fa6-59d3c39d6842",
   "metadata": {},
   "outputs": [
    {
     "ename": "NameError",
     "evalue": "name 'TATA' is not defined",
     "output_type": "error",
     "traceback": [
      "\u001b[1;31m---------------------------------------------------------------------------\u001b[0m",
      "\u001b[1;31mNameError\u001b[0m                                 Traceback (most recent call last)",
      "Cell \u001b[1;32mIn[22], line 2\u001b[0m\n\u001b[0;32m      1\u001b[0m \u001b[38;5;28;01mdel\u001b[39;00m TATA\n\u001b[1;32m----> 2\u001b[0m \u001b[43mTATA\u001b[49m\u001b[38;5;241m.\u001b[39mfun()\n",
      "\u001b[1;31mNameError\u001b[0m: name 'TATA' is not defined"
     ]
    }
   ],
   "source": [
    "del TATA\n",
    "TATA.fun()"
   ]
  },
  {
   "cell_type": "code",
   "execution_count": null,
   "id": "85ce7f4a-46fd-4b4a-918b-6212f199c749",
   "metadata": {},
   "outputs": [],
   "source": [
    "# default constructor"
   ]
  },
  {
   "cell_type": "code",
   "execution_count": 23,
   "id": "8f6db3f4-dcb5-40e8-83eb-d51683918b9a",
   "metadata": {},
   "outputs": [
    {
     "name": "stdout",
     "output_type": "stream",
     "text": [
      "hello\n"
     ]
    }
   ],
   "source": [
    "class myclass:\n",
    "    def __init__ (self):\n",
    "        self.hello=\"hello\"\n",
    "    def print_hello(self):\n",
    "        print(self.hello)\n",
    "obj=myclass()\n",
    "obj.print_hello()"
   ]
  },
  {
   "cell_type": "code",
   "execution_count": null,
   "id": "0bd2ddc5-d1ad-4fd0-82b5-add976c13376",
   "metadata": {},
   "outputs": [],
   "source": [
    "# parameterized constructor"
   ]
  },
  {
   "cell_type": "code",
   "execution_count": 29,
   "id": "0eb4789b-ef40-4581-bd97-4b56822a61b1",
   "metadata": {},
   "outputs": [
    {
     "name": "stdout",
     "output_type": "stream",
     "text": [
      "First number= 2000\n",
      "second number=2000\n",
      "Addition of two numbers= 4000\n"
     ]
    }
   ],
   "source": [
    "class  myclass:\n",
    "    first=0\n",
    "    second=0\n",
    "    def __init__ (self,f,s):\n",
    "        self.first=f\n",
    "        self.second=s\n",
    "    def display(self):\n",
    "        print(\"First number= \"+str(self.first))\n",
    "        print(\"second number=\"+str(self.second))\n",
    "        print(\"Addition of two numbers= \"+str(self.answer))\n",
    "    def calculate(self):\n",
    "        self.answer=self.first+self.second\n",
    "obj=myclass(2000,2000)\n",
    "obj.calculate()\n",
    "obj.display()"
   ]
  },
  {
   "cell_type": "code",
   "execution_count": 4,
   "id": "95d63ee7-9293-46fc-abc7-4ff244dc93fb",
   "metadata": {},
   "outputs": [
    {
     "name": "stdout",
     "output_type": "stream",
     "text": [
      "calling create_obj()function...\n",
      "making object...\n",
      "Employee created\n",
      "function end...\n",
      "program end...\n"
     ]
    }
   ],
   "source": [
    "class Employee:\n",
    "    def __init__(self):\n",
    "        print('Employee created')\n",
    "    def __del__(self):\n",
    "            print(\"Destructor called\")\n",
    "def create_obj():\n",
    "    print('making object...')\n",
    "    obj=Employee()\n",
    "    print('function end...')\n",
    "    return obj\n",
    "print('calling create_obj()function...')\n",
    "obj=create_obj()\n",
    "print('program end...')"
   ]
  },
  {
   "cell_type": "code",
   "execution_count": 6,
   "id": "c6210874-7e15-44b2-86c4-c9011bb73532",
   "metadata": {},
   "outputs": [
    {
     "name": "stdout",
     "output_type": "stream",
     "text": [
      "Employee created\n",
      "Destructor called\n",
      "Destructor called\n"
     ]
    }
   ],
   "source": [
    "   def __init__(self):\n",
    "       print('Employee created.')\n",
    "   def __del__(self):\n",
    "    print('Destructor called,Employee deleted.')\n",
    "obj=Employee()\n",
    "del obj\n"
   ]
  },
  {
   "cell_type": "code",
   "execution_count": null,
   "id": "47e8dc02-270f-45dc-af38-c6b940ebac81",
   "metadata": {},
   "outputs": [],
   "source": []
  }
 ],
 "metadata": {
  "kernelspec": {
   "display_name": "Python 3 (ipykernel)",
   "language": "python",
   "name": "python3"
  },
  "language_info": {
   "codemirror_mode": {
    "name": "ipython",
    "version": 3
   },
   "file_extension": ".py",
   "mimetype": "text/x-python",
   "name": "python",
   "nbconvert_exporter": "python",
   "pygments_lexer": "ipython3",
   "version": "3.12.7"
  }
 },
 "nbformat": 4,
 "nbformat_minor": 5
}
