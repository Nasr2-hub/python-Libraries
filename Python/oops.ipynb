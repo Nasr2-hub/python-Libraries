{
 "cells": [
  {
   "cell_type": "code",
   "execution_count": 6,
   "id": "86ac15d0-fe23-42da-9419-ee889445ad1d",
   "metadata": {},
   "outputs": [
    {
     "name": "stdout",
     "output_type": "stream",
     "text": [
      "2\n",
      "7\n"
     ]
    },
    {
     "ename": "AttributeError",
     "evalue": "'myclass' object has no attribute '__hiddenvariable'",
     "output_type": "error",
     "traceback": [
      "\u001b[1;31m---------------------------------------------------------------------------\u001b[0m",
      "\u001b[1;31mAttributeError\u001b[0m                            Traceback (most recent call last)",
      "Cell \u001b[1;32mIn[6], line 9\u001b[0m\n\u001b[0;32m      7\u001b[0m myobject\u001b[38;5;241m.\u001b[39madd(\u001b[38;5;241m2\u001b[39m)\n\u001b[0;32m      8\u001b[0m myobject\u001b[38;5;241m.\u001b[39madd(\u001b[38;5;241m5\u001b[39m)\n\u001b[1;32m----> 9\u001b[0m \u001b[38;5;28mprint\u001b[39m(\u001b[43mmyobject\u001b[49m\u001b[38;5;241;43m.\u001b[39;49m\u001b[43m__hiddenvariable\u001b[49m)\n",
      "\u001b[1;31mAttributeError\u001b[0m: 'myclass' object has no attribute '__hiddenvariable'"
     ]
    }
   ],
   "source": [
    "class myclass:\n",
    "  __hiddenvariable=0\n",
    "  def add(self,increment):\n",
    "    self.__hiddenvariable+=increment\n",
    "    print(self.__hiddenvariable)\n",
    "myobject=myclass()\n",
    "myobject.add(2)\n",
    "myobject.add(5)\n",
    "print(myobject.__hiddenvariable)\n",
    " "
   ]
  },
  {
   "cell_type": "code",
   "execution_count": 7,
   "id": "23779ce2-c59f-4b9a-ab1d-a827d33eb584",
   "metadata": {},
   "outputs": [
    {
     "name": "stdout",
     "output_type": "stream",
     "text": [
      "10\n"
     ]
    }
   ],
   "source": [
    "class myclass:\n",
    "    __hiddenvariable=10\n",
    "myobject=myclass()\n",
    "print(myobject._myclass__hiddenvariable)"
   ]
  },
  {
   "cell_type": "code",
   "execution_count": 8,
   "id": "ddea4265-58cf-4400-944b-bf367aac2305",
   "metadata": {},
   "outputs": [
    {
     "name": "stdout",
     "output_type": "stream",
     "text": [
      "3\n"
     ]
    }
   ],
   "source": [
    "class counter:\n",
    "    def __init__(self):\n",
    "        self.current=0\n",
    "    def increment(self):\n",
    "        self.current+=1\n",
    "    def value(self):\n",
    "        return self.current\n",
    "    def reset(self):\n",
    "        self.current=0\n",
    "counter=counter()\n",
    "counter.increment()\n",
    "counter.increment()\n",
    "counter.increment()\n",
    "print(counter.value())"
   ]
  },
  {
   "cell_type": "code",
   "execution_count": 3,
   "id": "4d343dc6-9ea1-4a32-8bad-f1a66ec26da7",
   "metadata": {},
   "outputs": [
    {
     "ename": "AttributeError",
     "evalue": "'counter' object has no attribute '__current'",
     "output_type": "error",
     "traceback": [
      "\u001b[1;31m---------------------------------------------------------------------------\u001b[0m",
      "\u001b[1;31mAttributeError\u001b[0m                            Traceback (most recent call last)",
      "Cell \u001b[1;32mIn[3], line 11\u001b[0m\n\u001b[0;32m      9\u001b[0m         self__current\u001b[38;5;241m=\u001b[39m\u001b[38;5;241m0\u001b[39m\n\u001b[0;32m     10\u001b[0m counter\u001b[38;5;241m=\u001b[39mcounter()\n\u001b[1;32m---> 11\u001b[0m \u001b[38;5;28mprint\u001b[39m(\u001b[43mcounter\u001b[49m\u001b[38;5;241;43m.\u001b[39;49m\u001b[43m__current\u001b[49m)\n",
      "\u001b[1;31mAttributeError\u001b[0m: 'counter' object has no attribute '__current'"
     ]
    }
   ],
   "source": [
    "class counter:\n",
    "    def __init__(self):\n",
    "        self.__current=0\n",
    "    def increment(self):\n",
    "        self.__current+=1\n",
    "    def value(self):\n",
    "        return self.__current\n",
    "    def reset(self):\n",
    "        self __current=0\n",
    "counter=counter()\n",
    "print(counter.__current)"
   ]
  },
  {
   "cell_type": "code",
   "execution_count": 18,
   "id": "b6926e3d-0a53-41cd-b2c4-ffeea34e6990",
   "metadata": {},
   "outputs": [
    {
     "name": "stdout",
     "output_type": "stream",
     "text": [
      "1\n"
     ]
    }
   ],
   "source": [
    "counter.increment()\n",
    "print(counter._counter__current)"
   ]
  },
  {
   "cell_type": "code",
   "execution_count": 2,
   "id": "3aaa7db2-292f-4048-9ae0-fa907e06a194",
   "metadata": {},
   "outputs": [
    {
     "name": "stdout",
     "output_type": "stream",
     "text": [
      "True\n",
      "False\n"
     ]
    }
   ],
   "source": [
    "import prime\n",
    "prime.isprimenot(3)"
   ]
  },
  {
   "cell_type": "code",
   "execution_count": null,
   "id": "7a4b5c44-c1f3-46a9-8b81-ddd9ce88d13a",
   "metadata": {},
   "outputs": [],
   "source": [
    "# Inheritance"
   ]
  },
  {
   "cell_type": "code",
   "execution_count": 5,
   "id": "f03ea2d2-8d96-461d-9711-f053e242f1c6",
   "metadata": {},
   "outputs": [
    {
     "name": "stdout",
     "output_type": "stream",
     "text": [
      "Hello world child\n",
      "Hello world Parent Function\n"
     ]
    }
   ],
   "source": [
    "class MyParent:\n",
    "    def __init__(self):\n",
    "        print(\"Hello world\")\n",
    "    def ParFun(self):\n",
    "        print(\"Hello world Parent Function\")\n",
    "        \n",
    "class MyChild(MyParent):\n",
    "    def __init__(self):\n",
    "        print(\"Hello world child\")\n",
    "obj=MyChild()\n",
    "obj.ParFun()\n",
    "    "
   ]
  },
  {
   "cell_type": "code",
   "execution_count": null,
   "id": "9b714851-f735-4853-9be1-738a9e138657",
   "metadata": {},
   "outputs": [],
   "source": [
    "# Single inheritance"
   ]
  },
  {
   "cell_type": "code",
   "execution_count": 19,
   "id": "0754c453-8863-4ad7-b6de-acb9c147161d",
   "metadata": {},
   "outputs": [
    {
     "name": "stdout",
     "output_type": "stream",
     "text": [
      "Animal speaks\n",
      "Dog barks\n"
     ]
    }
   ],
   "source": [
    "class Animal:\n",
    "    def speak(self):\n",
    "        return \"Animal speaks\"\n",
    "class Dog(Animal):\n",
    "    def bark(self):\n",
    "        return\"Dog barks\"\n",
    "dog=Dog()\n",
    "print(dog.speak())\n",
    "print(dog.bark())"
   ]
  },
  {
   "cell_type": "code",
   "execution_count": 12,
   "id": "8d6c7d36-3416-4d9e-94f7-0bb9d6ab3f73",
   "metadata": {},
   "outputs": [
    {
     "name": "stdout",
     "output_type": "stream",
     "text": [
      "sathya False\n",
      "vignesh False\n"
     ]
    }
   ],
   "source": [
    "class person(object):\n",
    "    def __init__(self,name):\n",
    "        self.name=name\n",
    "    def getName(self):\n",
    "        return self.name\n",
    "    def isEmployee(self):\n",
    "        return False\n",
    "class Employee(person):\n",
    "    def isEmploye(self):\n",
    "        return True\n",
    "emp=person(\"sathya\")\n",
    "print(emp.getName(),emp.isEmployee())\n",
    "emp=Employee(\"vignesh\")\n",
    "print(emp.getName(),emp.isEmployee())\n",
    "    "
   ]
  },
  {
   "cell_type": "code",
   "execution_count": 1,
   "id": "72d81b03-1bad-4158-ace6-81bb70e55f9a",
   "metadata": {},
   "outputs": [
    {
     "name": "stdout",
     "output_type": "stream",
     "text": [
      "vignesh\n",
      "9823700\n"
     ]
    }
   ],
   "source": [
    "class person(object):\n",
    "    def __init__(self,name,idnumber):\n",
    "        self.name=name\n",
    "        self.idnumber=idnumber\n",
    "    def display(self):\n",
    "        print(self.name)\n",
    "        print(self.idnumber)\n",
    "class Employee(person):\n",
    "    def __init__(self,name,idnumber,salary,post):\n",
    "        self.salary=salary\n",
    "        self.post=post\n",
    "        person.__init__(self,name,idnumber)\n",
    "a=Employee('vignesh',9823700,2000,\"inter\")\n",
    "a.display()\n",
    "    "
   ]
  },
  {
   "cell_type": "code",
   "execution_count": null,
   "id": "b957eb5a-2740-401e-83ea-3b70edd45fc3",
   "metadata": {},
   "outputs": [],
   "source": [
    "# Multiple inheritance"
   ]
  },
  {
   "cell_type": "code",
   "execution_count": 20,
   "id": "a5c8ab49-8da9-491f-acff-cf4168498fea",
   "metadata": {},
   "outputs": [
    {
     "name": "stdout",
     "output_type": "stream",
     "text": [
      "can walk\n",
      "can swim\n"
     ]
    }
   ],
   "source": [
    "class walkable:\n",
    "    def walk(self):\n",
    "        return \"can walk\"\n",
    "class swimmable:\n",
    "    def swim(self):\n",
    "        return\"can swim\"\n",
    "class Duck(walkable,swimmable):\n",
    "    pass\n",
    "duck=Duck()\n",
    "print(duck.walk())\n",
    "print(duck.swim())"
   ]
  },
  {
   "cell_type": "code",
   "execution_count": 3,
   "id": "55418dea-1165-4f29-81c3-b9eb4071a2fd",
   "metadata": {},
   "outputs": [
    {
     "name": "stdout",
     "output_type": "stream",
     "text": [
      "Base1\n",
      "Base2\n",
      "Derived\n",
      "hello hy\n"
     ]
    }
   ],
   "source": [
    "class Base1(object):\n",
    "    def __init__(self):\n",
    "        self.str1=\"hello\"\n",
    "        print(\"Base1\")\n",
    "class Base2(object):\n",
    "    def __init__(self):\n",
    "        self.str2=\"hy\"\n",
    "        print(\"Base2\")\n",
    "class Derived(Base1,Base2):\n",
    "    def __init__(self):\n",
    "        Base1.__init__(self)\n",
    "        Base2.__init__(self)\n",
    "        print(\"Derived\")\n",
    "    def printStrs(self):\n",
    "        print(self.str1,self.str2)\n",
    "ob=Derived()\n",
    "ob.printStrs()"
   ]
  },
  {
   "cell_type": "code",
   "execution_count": null,
   "id": "3c878335-f1ee-4374-8415-4cc922138cc3",
   "metadata": {},
   "outputs": [],
   "source": [
    "# Multilevel inheritance"
   ]
  },
  {
   "cell_type": "code",
   "execution_count": 22,
   "id": "3b49e701-f1a8-4164-b359-d7d496a4051c",
   "metadata": {},
   "outputs": [
    {
     "name": "stdout",
     "output_type": "stream",
     "text": [
      "Eating\n",
      "Barking\n",
      "strong\n"
     ]
    }
   ],
   "source": [
    "class Animal:\n",
    "    def eat(self):\n",
    "        return \"Eating\"\n",
    "class Dog(Animal):\n",
    "    def bark(self):\n",
    "        return \"Barking\"\n",
    "class Bulldog(Dog):\n",
    "    def strength(self):\n",
    "        return\"strong\"\n",
    "bulldog=Bulldog()\n",
    "print(bulldog.eat())\n",
    "print(bulldog.bark())\n",
    "print(bulldog.strength())\n"
   ]
  },
  {
   "cell_type": "code",
   "execution_count": 18,
   "id": "74397f84-dbd3-43c3-971e-733645aca7b3",
   "metadata": {},
   "outputs": [
    {
     "name": "stdout",
     "output_type": "stream",
     "text": [
      "vignesh 23 tvpm\n"
     ]
    }
   ],
   "source": [
    "class Base(object):\n",
    "    def __init__(self,name):\n",
    "        self.name=name\n",
    "    def getName(self):\n",
    "        return self.name\n",
    "class child(Base):\n",
    "    def __init__(self,name,age):\n",
    "        Base.__init__(self,name)\n",
    "        self.age=age\n",
    "    def getAge(self):\n",
    "        return self.age\n",
    "class Grandchild(child):\n",
    "    def __init__(self,name,age,address):\n",
    "        child.__init__(self,name,age)\n",
    "        self.address=address\n",
    "    def getAddress(self):\n",
    "        return self.address\n",
    "g=Grandchild(\"vignesh\",23,\"tvpm\")\n",
    "print(g.getName(),g.getAge(),g.getAddress())\n"
   ]
  },
  {
   "cell_type": "code",
   "execution_count": null,
   "id": "758f0c16-7a76-4988-8227-d27edff0f030",
   "metadata": {},
   "outputs": [],
   "source": [
    "# Hierarchial inheritance"
   ]
  },
  {
   "cell_type": "code",
   "execution_count": 24,
   "id": "5c61e85b-92ae-4662-852f-0c826e9153cf",
   "metadata": {},
   "outputs": [
    {
     "name": "stdout",
     "output_type": "stream",
     "text": [
      "Eating\n",
      "Barking\n",
      "Eating\n",
      "meaowing\n"
     ]
    }
   ],
   "source": [
    "class Animal:\n",
    "    def eat(self):\n",
    "        return \"Eating\"\n",
    "class Dog(Animal):\n",
    "    def bark(self):\n",
    "        return \"Barking\"\n",
    "class Cat(Animal):\n",
    "    def meow(self):\n",
    "        return \"meaowing\"\n",
    "dog=Dog()\n",
    "cat=Cat()\n",
    "print(dog.eat())\n",
    "print(dog.bark())\n",
    "print(cat.eat())\n",
    "print(cat.meow())"
   ]
  },
  {
   "cell_type": "code",
   "execution_count": null,
   "id": "bfae5e95-83bd-4404-af11-7a6543637fb6",
   "metadata": {},
   "outputs": [],
   "source": [
    "# Hybrid inheritance"
   ]
  },
  {
   "cell_type": "code",
   "execution_count": 30,
   "id": "fd47f6e3-08cc-404e-9d34-0b9fc513b3b5",
   "metadata": {},
   "outputs": [
    {
     "name": "stdout",
     "output_type": "stream",
     "text": [
      "Eating\n"
     ]
    }
   ],
   "source": [
    "class animal:\n",
    "    def eat(self):\n",
    "        return \"Eating\"\n",
    "class Bird(Animal):\n",
    "    def fly(self):\n",
    "        return \"flying\"\n",
    "class Ostrich(Bird):\n",
    "    def walk(self):\n",
    "        return \"walking\"\n",
    "class pen(Animal):\n",
    "    def swim(self):\n",
    "        return \"swimming\"\n",
    "obj = pen()\n",
    "print(obj.eat())\n",
    "    "
   ]
  },
  {
   "cell_type": "code",
   "execution_count": null,
   "id": "30e1df3e-baa5-4c45-a5fa-4b9caa0e4ed0",
   "metadata": {},
   "outputs": [],
   "source": [
    "# Polymorphism"
   ]
  },
  {
   "cell_type": "code",
   "execution_count": 1,
   "id": "d3f48fac-e8b0-4a92-a750-dfe4ba8a36df",
   "metadata": {},
   "outputs": [
    {
     "name": "stdout",
     "output_type": "stream",
     "text": [
      "6\n",
      "3\n"
     ]
    }
   ],
   "source": [
    "print(len(\"python\"))\n",
    "print(len([10,20,30]))"
   ]
  },
  {
   "cell_type": "code",
   "execution_count": 2,
   "id": "9745258d-14e3-4f52-a67b-370310ea3f52",
   "metadata": {},
   "outputs": [
    {
     "name": "stdout",
     "output_type": "stream",
     "text": [
      "5\n",
      "9\n"
     ]
    }
   ],
   "source": [
    "def add(x,y,z=0):\n",
    "    return x+y+z\n",
    "print(add(2,3))\n",
    "print(add(2,3,4))"
   ]
  },
  {
   "cell_type": "code",
   "execution_count": 22,
   "id": "8280af5f-8b75-4c3e-b3c0-12effec5027e",
   "metadata": {},
   "outputs": [
    {
     "name": "stdout",
     "output_type": "stream",
     "text": [
      "New Delhi is the cappital of india\n",
      "Hindi is the most widely spoken language of india.\n",
      "India is a developing country.\n",
      "Washington,D.C.is the capital of USA.\n",
      "English is the primary language of USA.\n",
      "USA is a developed country.\n",
      "New Delhi is the capital of india\n",
      "Hindi is the most widely spoken language of india.\n",
      "India is a developing country.\n",
      "Washington,D.C.is the capital of USA.\n",
      "English is the primary language of USA.\n",
      "USA is a developed country.\n"
     ]
    }
   ],
   "source": [
    "class India():\n",
    "    def capital(self):\n",
    "        print(\"New Delhi is the capital of india\")\n",
    "    def language(self):\n",
    "        print(\"Hindi is the most widely spoken language of india.\")\n",
    "    def type(self):\n",
    "        print(\"India is a developing country.\")\n",
    "class USA():\n",
    "    def capital(self):\n",
    "        print(\"Washington,D.C.is the capital of USA.\")\n",
    "    def language(self):\n",
    "        print(\"English is the primary language of USA.\")\n",
    "    def type(self):\n",
    "        print(\"USA is a developed country.\")\n",
    "obj_ind=india()\n",
    "obj_usa=USA()\n",
    "for country in(obj_ind,obj_usa):\n",
    "    country.capital()\n",
    "    country.language()\n",
    "    country.type()\n",
    "def func(obj):\n",
    "    obj.capital()\n",
    "    obj.language()\n",
    "    obj.type()\n",
    "obj_ind=India()\n",
    "obj_usa=USA()\n",
    "func(obj_ind)\n",
    "func(obj_usa)"
   ]
  },
  {
   "cell_type": "code",
   "execution_count": 5,
   "id": "3cfb043f-ef56-4b3e-98c7-b2e4ee76ba58",
   "metadata": {},
   "outputs": [
    {
     "name": "stdout",
     "output_type": "stream",
     "text": [
      "There are many type of birds.\n",
      "Most of the birds can fly but some cannot\n",
      "There are many type of birds.\n",
      "Sparrows can fly\n",
      "There are many type of birds.\n",
      "Ostriches cannot fly.\n"
     ]
    }
   ],
   "source": [
    "class Bird:\n",
    "    def intro(self):\n",
    "        print(\"There are many type of birds.\")\n",
    "    def flight(self):\n",
    "        print(\"Most of the birds can fly but some cannot\")\n",
    "class sparrow(Bird):\n",
    "    def flight(self):\n",
    "        print(\"Sparrows can fly\")\n",
    "class ostrich(Bird):\n",
    "    def flight(self):\n",
    "        print(\"Ostriches cannot fly.\")\n",
    "obj_bird=Bird()\n",
    "obj_spr=sparrow()\n",
    "obj_ost=ostrich()\n",
    "obj_bird.intro()\n",
    "obj_bird.flight()\n",
    "obj_spr.intro()\n",
    "obj_spr.flight()\n",
    "obj_ost.intro()\n",
    "obj_ost.flight()"
   ]
  },
  {
   "cell_type": "code",
   "execution_count": null,
   "id": "a3981698-f236-40bc-bd87-441bd3db1446",
   "metadata": {},
   "outputs": [],
   "source": []
  }
 ],
 "metadata": {
  "kernelspec": {
   "display_name": "Python 3 (ipykernel)",
   "language": "python",
   "name": "python3"
  },
  "language_info": {
   "codemirror_mode": {
    "name": "ipython",
    "version": 3
   },
   "file_extension": ".py",
   "mimetype": "text/x-python",
   "name": "python",
   "nbconvert_exporter": "python",
   "pygments_lexer": "ipython3",
   "version": "3.12.7"
  }
 },
 "nbformat": 4,
 "nbformat_minor": 5
}
