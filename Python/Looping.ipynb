{
 "cells": [
  {
   "cell_type": "code",
   "execution_count": null,
   "id": "ab6ee1fe-65d4-4b0a-a062-28ae9a1cd891",
   "metadata": {},
   "outputs": [],
   "source": [
    "# While Loop"
   ]
  },
  {
   "cell_type": "code",
   "execution_count": null,
   "id": "d83180a2-259c-435f-8e3b-8d0ab76e9aa3",
   "metadata": {},
   "outputs": [],
   "source": [
    "i=0\n",
    "while i<5:\n",
    "    print(i)\n",
    "    i+=1"
   ]
  },
  {
   "cell_type": "code",
   "execution_count": 17,
   "id": "e25e7ed4-af74-46c1-9477-a4b0df653dbf",
   "metadata": {},
   "outputs": [
    {
     "name": "stdout",
     "output_type": "stream",
     "text": [
      "0\n",
      "1\n",
      "2\n",
      "4\n"
     ]
    }
   ],
   "source": [
    "i=0\n",
    "while i<5:\n",
    "    if i==3:\n",
    "        i+=1\n",
    "        continue\n",
    "    else:\n",
    "        print(i)\n",
    "        i+=1"
   ]
  },
  {
   "cell_type": "code",
   "execution_count": 18,
   "id": "84855659-ab7f-42dc-aada-4c2ef9007c5e",
   "metadata": {},
   "outputs": [
    {
     "name": "stdout",
     "output_type": "stream",
     "text": [
      "0\n",
      "1\n",
      "2\n"
     ]
    }
   ],
   "source": [
    "i=0\n",
    "while i<5:\n",
    "    if i==3:\n",
    "        i+=1\n",
    "        break\n",
    "    else:\n",
    "        print(i)\n",
    "        i+=1"
   ]
  },
  {
   "cell_type": "code",
   "execution_count": 19,
   "id": "456c81e2-1f31-457f-9bc3-583600ebf79a",
   "metadata": {},
   "outputs": [
    {
     "name": "stdout",
     "output_type": "stream",
     "text": [
      "0\n",
      "1\n",
      "2\n",
      "3\n"
     ]
    }
   ],
   "source": [
    "i=0\n",
    "while i<4:\n",
    "    print(i)\n",
    "    i+=1"
   ]
  },
  {
   "cell_type": "code",
   "execution_count": 20,
   "id": "5446a984-1f28-4a2c-892e-b14f50cb5dc5",
   "metadata": {},
   "outputs": [
    {
     "name": "stdout",
     "output_type": "stream",
     "text": [
      "0\n",
      "1\n",
      "2\n",
      "3\n"
     ]
    }
   ],
   "source": [
    "i=0\n",
    "while i<4:\n",
    "    print(i)\n",
    "    i+=1\n",
    "    continue"
   ]
  },
  {
   "cell_type": "code",
   "execution_count": 1,
   "id": "fff4f192-97bb-4132-9458-8b39bbd7f79b",
   "metadata": {},
   "outputs": [
    {
     "name": "stdout",
     "output_type": "stream",
     "text": [
      "3\n"
     ]
    }
   ],
   "source": [
    "i=0\n",
    "while i<4:\n",
    "    i+=3\n",
    "    print(i)\n",
    "    break\n"
   ]
  },
  {
   "cell_type": "code",
   "execution_count": 4,
   "id": "f4133d50-800f-49bb-8fc6-720ba085282a",
   "metadata": {},
   "outputs": [
    {
     "name": "stdout",
     "output_type": "stream",
     "text": [
      "value of i: 14\n"
     ]
    }
   ],
   "source": [
    "a='loop in python'\n",
    "i=0\n",
    "while i<len(a):\n",
    " i+=1\n",
    "pass\n",
    "print('value of i:',i)"
   ]
  },
  {
   "cell_type": "code",
   "execution_count": 1,
   "id": "edf066a5-0076-4f4d-8256-f9430b82d9c6",
   "metadata": {},
   "outputs": [
    {
     "name": "stdout",
     "output_type": "stream",
     "text": [
      "current letter: l\n",
      "current letter: o\n",
      "current letter: o\n",
      "current letter: p\n",
      "current letter:  \n",
      "current letter: i\n",
      "current letter: n\n",
      "current letter:  \n",
      "current letter: p\n",
      "current letter: y\n",
      "current letter: t\n",
      "current letter: h\n",
      "current letter: o\n",
      "current letter: n\n"
     ]
    }
   ],
   "source": [
    "i=0\n",
    "a='loops in python'\n",
    "while i<len(a):\n",
    "    if a[i]=='e' or a[i]=='s':\n",
    "        i+=1\n",
    "        continue\n",
    "    print('current letter:',a[i])\n",
    "    i+=1"
   ]
  },
  {
   "cell_type": "code",
   "execution_count": 2,
   "id": "c9cd6e99-9873-4481-8f4f-39da59a38b4e",
   "metadata": {},
   "outputs": [
    {
     "name": "stdout",
     "output_type": "stream",
     "text": [
      "current letter: l\n",
      "current letter: o\n",
      "current letter: o\n"
     ]
    }
   ],
   "source": [
    "i=0\n",
    "a='loops in python'\n",
    "while i<len(a):\n",
    "    if a[i]=='p' or a[i]=='h':\n",
    "        i+=1\n",
    "        break\n",
    "    print('current letter:',a[i])\n",
    "    i+=1"
   ]
  },
  {
   "cell_type": "code",
   "execution_count": 1,
   "id": "0a78adbc-03f0-48e0-a1cf-826cffd2f780",
   "metadata": {},
   "outputs": [
    {
     "name": "stdout",
     "output_type": "stream",
     "text": [
      "1\n",
      "2\n",
      "3\n",
      "4\n",
      "No break \n",
      "\n"
     ]
    }
   ],
   "source": [
    "i=0\n",
    "while i<4:\n",
    "    i+=1\n",
    "    print(i)\n",
    "else:\n",
    "    print(\"No break \\n\")"
   ]
  },
  {
   "cell_type": "code",
   "execution_count": 2,
   "id": "7384781d-71c2-4dbd-95f4-4f798fc849ee",
   "metadata": {},
   "outputs": [
    {
     "name": "stdout",
     "output_type": "stream",
     "text": [
      "1\n"
     ]
    }
   ],
   "source": [
    "i=0\n",
    "while i<4:\n",
    "    i+=1\n",
    "    print(i)\n",
    "    break\n",
    "else:\n",
    "    print(\"No break\")"
   ]
  },
  {
   "cell_type": "code",
   "execution_count": null,
   "id": "4cf56ebe-040c-48b6-a14e-36a800e47ecf",
   "metadata": {},
   "outputs": [],
   "source": [
    "# Foor loops"
   ]
  },
  {
   "cell_type": "code",
   "execution_count": 4,
   "id": "99730ccf-4907-4161-a112-5f28cec6e075",
   "metadata": {},
   "outputs": [
    {
     "name": "stdout",
     "output_type": "stream",
     "text": [
      "List iteration\n",
      "hello\n",
      "for\n",
      "python\n"
     ]
    }
   ],
   "source": [
    "print(\"List iteration\")\n",
    "l=[\"hello\",\"for\",\"python\"]\n",
    "for i in l:\n",
    "    print(i)"
   ]
  },
  {
   "cell_type": "code",
   "execution_count": 6,
   "id": "99fb5f4a-78d7-40e4-bb79-c4a534a7dc4f",
   "metadata": {},
   "outputs": [
    {
     "name": "stdout",
     "output_type": "stream",
     "text": [
      "Tuple iteration\n",
      "hello\n",
      "for\n",
      "python\n"
     ]
    }
   ],
   "source": [
    "print(\"Tuple iteration\")\n",
    "t=(\"hello\",\"for\",\"python\")\n",
    "for i in t:\n",
    "    print(i)"
   ]
  },
  {
   "cell_type": "code",
   "execution_count": 9,
   "id": "9d0d6eb1-1efa-49ec-b3b3-ae4030e188db",
   "metadata": {},
   "outputs": [
    {
     "name": "stdout",
     "output_type": "stream",
     "text": [
      "Dictionary iteration\n",
      "xyz123\n",
      "abc346\n"
     ]
    }
   ],
   "source": [
    "print(\"Dictionary iteration\")\n",
    "d=dict()\n",
    "d['xyz']=123\n",
    "d['abc']=346\n",
    "for i in d:\n",
    "    print(\"%s%d\"%(i,d[i]))"
   ]
  },
  {
   "cell_type": "code",
   "execution_count": 13,
   "id": "7bc74caa-4612-41c7-a34e-a02b6de04128",
   "metadata": {},
   "outputs": [
    {
     "name": "stdout",
     "output_type": "stream",
     "text": [
      "current letter: p\n",
      "current letter: y\n",
      "current letter: t\n",
      "current letter: h\n",
      "current letter: n\n",
      "current letter:  \n",
      "current letter: d\n",
      "current letter: v\n",
      "current letter: l\n",
      "current letter: p\n",
      "current letter: r\n"
     ]
    }
   ],
   "source": [
    "for x in 'python developer':\n",
    "    if x=='e' or x=='o':\n",
    "        continue\n",
    "    print('current letter:',x)"
   ]
  },
  {
   "cell_type": "code",
   "execution_count": 17,
   "id": "aeaa3b59-b1ae-4506-a202-f76d08b0b24b",
   "metadata": {},
   "outputs": [
    {
     "name": "stdout",
     "output_type": "stream",
     "text": [
      "current letter: o\n"
     ]
    }
   ],
   "source": [
    "for x in 'python developer':\n",
    "    if x=='o' or x=='e':\n",
    "        break\n",
    "print('current letter:',x)"
   ]
  },
  {
   "cell_type": "code",
   "execution_count": 21,
   "id": "74e506e5-63bf-42ad-9f97-7f104416fc4d",
   "metadata": {},
   "outputs": [
    {
     "name": "stdout",
     "output_type": "stream",
     "text": [
      "last letter: r\n"
     ]
    }
   ],
   "source": [
    "for x in 'python developer':\n",
    "    pass\n",
    "print('last letter:',x)"
   ]
  },
  {
   "cell_type": "code",
   "execution_count": null,
   "id": "03e6493c-3a7f-4a67-b401-74e016058436",
   "metadata": {},
   "outputs": [],
   "source": [
    "# Range"
   ]
  },
  {
   "cell_type": "code",
   "execution_count": 24,
   "id": "cdf119f7-35c4-41ef-b1a7-c59271e33f18",
   "metadata": {},
   "outputs": [
    {
     "name": "stdout",
     "output_type": "stream",
     "text": [
      "0\n",
      "1\n",
      "2\n",
      "3\n",
      "4\n",
      "5\n",
      "6\n",
      "7\n",
      "8\n",
      "9\n"
     ]
    }
   ],
   "source": [
    "for i in range(10):\n",
    "    print(i)"
   ]
  },
  {
   "cell_type": "code",
   "execution_count": 29,
   "id": "827e6884-fea8-465d-80f3-30749f5c0adb",
   "metadata": {},
   "outputs": [
    {
     "name": "stdout",
     "output_type": "stream",
     "text": [
      "10\n",
      "20\n",
      "30\n",
      "40\n"
     ]
    }
   ],
   "source": [
    "l=[10,20,30,40]\n",
    "for i in range(len(l)):\n",
    "    print(l[i])\n",
    "    "
   ]
  },
  {
   "cell_type": "code",
   "execution_count": 33,
   "id": "d408cc82-4bef-4d94-92c5-dc918481b86d",
   "metadata": {},
   "outputs": [
    {
     "name": "stdout",
     "output_type": "stream",
     "text": [
      "sum of first 10 natural number: 55\n"
     ]
    }
   ],
   "source": [
    "sum=0\n",
    "for i in range(1,11):\n",
    "    sum=sum+i\n",
    "print(\"sum of first 10 natural number:\",sum)"
   ]
  },
  {
   "cell_type": "code",
   "execution_count": 36,
   "id": "3a30d607-3679-48ee-938c-45eff7d8df5b",
   "metadata": {},
   "outputs": [
    {
     "name": "stdout",
     "output_type": "stream",
     "text": [
      "1\n",
      "2\n",
      "3\n",
      "No break\n"
     ]
    }
   ],
   "source": [
    "for i in range(1,4):\n",
    "    print(i)\n",
    "else:\n",
    "    print(\"No break\")"
   ]
  },
  {
   "cell_type": "code",
   "execution_count": 37,
   "id": "924c95a8-2d59-443d-b3af-c623e0237484",
   "metadata": {},
   "outputs": [
    {
     "name": "stdout",
     "output_type": "stream",
     "text": [
      "1\n"
     ]
    }
   ],
   "source": [
    "for i in range(1,4):\n",
    "    print(i)\n",
    "    break\n",
    "else:\n",
    "    print(\"No break\")"
   ]
  },
  {
   "cell_type": "code",
   "execution_count": null,
   "id": "6a42a59a-d5c5-4ecf-82eb-d186c470232e",
   "metadata": {},
   "outputs": [],
   "source": [
    "# Nested Loop"
   ]
  },
  {
   "cell_type": "code",
   "execution_count": 1,
   "id": "b0cece44-582a-4bd7-ab05-200fe03c2871",
   "metadata": {},
   "outputs": [
    {
     "name": "stdout",
     "output_type": "stream",
     "text": [
      "red apple\n",
      "red banana\n",
      "red cherry\n",
      "big apple\n",
      "big banana\n",
      "big cherry\n",
      "tasty apple\n",
      "tasty banana\n",
      "tasty cherry\n"
     ]
    }
   ],
   "source": [
    "adj=[\"red\",\"big\",\"tasty\"]\n",
    "fruits=[\"apple\",\"banana\",\"cherry\"]\n",
    "for x in adj:\n",
    "    for y in fruits:\n",
    "        print(x,y)"
   ]
  }
 ],
 "metadata": {
  "kernelspec": {
   "display_name": "Python 3 (ipykernel)",
   "language": "python",
   "name": "python3"
  },
  "language_info": {
   "codemirror_mode": {
    "name": "ipython",
    "version": 3
   },
   "file_extension": ".py",
   "mimetype": "text/x-python",
   "name": "python",
   "nbconvert_exporter": "python",
   "pygments_lexer": "ipython3",
   "version": "3.12.7"
  }
 },
 "nbformat": 4,
 "nbformat_minor": 5
}
