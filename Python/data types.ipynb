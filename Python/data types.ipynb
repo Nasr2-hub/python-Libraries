{
 "cells": [
  {
   "cell_type": "code",
   "execution_count": 3,
   "id": "de337977-2cbb-4f75-bb40-72f7f2478a1f",
   "metadata": {},
   "outputs": [
    {
     "name": "stdout",
     "output_type": "stream",
     "text": [
      "hello python 123 1.23 True 1234\n"
     ]
    }
   ],
   "source": [
    "x=\"hello python\"\n",
    "y=123\n",
    "z=1.23\n",
    "a=True\n",
    "b=\"1234\"\n",
    "print(x,y,z,a,b)"
   ]
  },
  {
   "cell_type": "code",
   "execution_count": 6,
   "id": "4e41503a-7e6a-49ef-a7b5-9d13c4b2dc2c",
   "metadata": {},
   "outputs": [
    {
     "name": "stdout",
     "output_type": "stream",
     "text": [
      "<class 'int'>\n",
      "<class 'str'>\n",
      "<class 'float'>\n",
      "<class 'bool'>\n",
      "<class 'str'>\n"
     ]
    }
   ],
   "source": [
    "print(type(y))\n",
    "print(type(x))\n",
    "print(type(z))\n",
    "print(type(a))\n",
    "print(type(b))\n"
   ]
  },
  {
   "cell_type": "code",
   "execution_count": 4,
   "id": "f102ab99-347c-4102-8fbd-ef7ba08caacd",
   "metadata": {},
   "outputs": [
    {
     "name": "stdout",
     "output_type": "stream",
     "text": [
      "hellopython\n"
     ]
    }
   ],
   "source": [
    "x=\"hello\"\n",
    "y=\"python\"\n",
    "var=x+y\n",
    "print(var)"
   ]
  },
  {
   "cell_type": "code",
   "execution_count": 7,
   "id": "f1bf08de-12dd-4555-a974-82e8fd5b2d42",
   "metadata": {},
   "outputs": [
    {
     "name": "stdout",
     "output_type": "stream",
     "text": [
      "25690\n"
     ]
    }
   ],
   "source": [
    "x=\"13345\"\n",
    "y=12345\n",
    "z=int(x)\n",
    "a=z+y\n",
    "print(a)"
   ]
  },
  {
   "cell_type": "code",
   "execution_count": 8,
   "id": "678c3b46-804c-4432-b628-9c31faea516f",
   "metadata": {},
   "outputs": [
    {
     "name": "stdout",
     "output_type": "stream",
     "text": [
      "hello\n",
      "hello\n"
     ]
    }
   ],
   "source": [
    "print('hello')\n",
    "print(\"hello\")"
   ]
  },
  {
   "cell_type": "code",
   "execution_count": 11,
   "id": "283bd725-920c-4a1c-98ec-cb27a3a284ee",
   "metadata": {},
   "outputs": [
    {
     "name": "stdout",
     "output_type": "stream",
     "text": [
      "a\n"
     ]
    }
   ],
   "source": [
    "x=\"array\"\n",
    "print(x[0])"
   ]
  },
  {
   "cell_type": "code",
   "execution_count": 12,
   "id": "8ed9befe-bcc1-4c2e-96be-bee3a71c221a",
   "metadata": {},
   "outputs": [
    {
     "name": "stdout",
     "output_type": "stream",
     "text": [
      "16\n"
     ]
    }
   ],
   "source": [
    "x=\"hello programmer\"\n",
    "print(len(x))"
   ]
  },
  {
   "cell_type": "code",
   "execution_count": 13,
   "id": "6ee1bf1a-f125-41fb-b959-7f32bd75834d",
   "metadata": {},
   "outputs": [
    {
     "name": "stdout",
     "output_type": "stream",
     "text": [
      "True\n"
     ]
    }
   ],
   "source": [
    "Text=\"hello,lets start coding\"\n",
    "print(\"start\" in Text)"
   ]
  },
  {
   "cell_type": "code",
   "execution_count": 19,
   "id": "76928008-77d1-4cf3-8051-1a6cc1dd1808",
   "metadata": {},
   "outputs": [
    {
     "name": "stdout",
     "output_type": "stream",
     "text": [
      "True\n"
     ]
    }
   ],
   "source": [
    "voice=\"this is an automated voice by siri\"\n",
    "print(\"hello\"not in voice)"
   ]
  },
  {
   "cell_type": "code",
   "execution_count": 16,
   "id": "16740baa-9780-4683-a95f-1e46ae90fba7",
   "metadata": {},
   "outputs": [
    {
     "name": "stdout",
     "output_type": "stream",
     "text": [
      " my name\n"
     ]
    }
   ],
   "source": [
    "xyz=\"hy my name is python\"\n",
    "print(xyz[2:10])"
   ]
  },
  {
   "cell_type": "code",
   "execution_count": 17,
   "id": "6a17dca6-a75a-42b5-98a7-289141878970",
   "metadata": {},
   "outputs": [
    {
     "name": "stdout",
     "output_type": "stream",
     "text": [
      "ello python\n"
     ]
    }
   ],
   "source": [
    "word=\"hello python\"\n",
    "print(word[1:])"
   ]
  },
  {
   "cell_type": "code",
   "execution_count": 20,
   "id": "b9ec25fb-cb4c-47d4-b783-24f8d5446e5c",
   "metadata": {},
   "outputs": [
    {
     "name": "stdout",
     "output_type": "stream",
     "text": [
      "hello pytho\n"
     ]
    }
   ],
   "source": [
    "print(word[:-1])"
   ]
  },
  {
   "cell_type": "code",
   "execution_count": 21,
   "id": "3e9b8262-3e6a-4c9f-8e92-baaf4c42f5f2",
   "metadata": {},
   "outputs": [
    {
     "name": "stdout",
     "output_type": "stream",
     "text": [
      "pytho\n"
     ]
    }
   ],
   "source": [
    "print(word[-6:-1])"
   ]
  },
  {
   "cell_type": "code",
   "execution_count": 22,
   "id": "bc456b34-f4de-4849-956e-d14cf602dc12",
   "metadata": {},
   "outputs": [
    {
     "name": "stdout",
     "output_type": "stream",
     "text": [
      "n\n"
     ]
    }
   ],
   "source": [
    "x=\"python\"\n",
    "print(x[-1])"
   ]
  },
  {
   "cell_type": "code",
   "execution_count": 24,
   "id": "01877af6-ace0-4a61-bd75-57b3ce021ea5",
   "metadata": {},
   "outputs": [
    {
     "name": "stdout",
     "output_type": "stream",
     "text": [
      "orl\n"
     ]
    }
   ],
   "source": [
    "b=\"Hello, World!\"\n",
    "print(b[-5:-2])"
   ]
  },
  {
   "cell_type": "code",
   "execution_count": 2,
   "id": "cc08b822-1de1-4203-913b-f724d10eb579",
   "metadata": {},
   "outputs": [
    {
     "name": "stdout",
     "output_type": "stream",
     "text": [
      "grak\n"
     ]
    }
   ],
   "source": [
    "xyz=\"prograkmig\"\n",
    "print(xyz[3:7])"
   ]
  },
  {
   "cell_type": "code",
   "execution_count": 5,
   "id": "442a9eed-e64e-4bb5-a3c9-bbe562accba9",
   "metadata": {},
   "outputs": [
    {
     "name": "stdout",
     "output_type": "stream",
     "text": [
      "de\n"
     ]
    }
   ],
   "source": [
    "a=\"hi dude!\"\n",
    "print(a[-3:-1])"
   ]
  },
  {
   "cell_type": "code",
   "execution_count": null,
   "id": "9c2fa460-2cc0-4f51-8d7a-26a6601e1432",
   "metadata": {},
   "outputs": [],
   "source": [
    "#String Methods"
   ]
  },
  {
   "cell_type": "code",
   "execution_count": 6,
   "id": "f18cab6b-59a4-49a2-b0d3-67fd3531fb7b",
   "metadata": {},
   "outputs": [
    {
     "name": "stdout",
     "output_type": "stream",
     "text": [
      "HELLO\n"
     ]
    }
   ],
   "source": [
    "#upper()\n",
    "text=\"hello\"\n",
    "print(text.upper())"
   ]
  },
  {
   "cell_type": "code",
   "execution_count": 7,
   "id": "d062ae60-4578-4ff9-8c0c-7b157ddd70db",
   "metadata": {},
   "outputs": [
    {
     "name": "stdout",
     "output_type": "stream",
     "text": [
      "hello\n"
     ]
    }
   ],
   "source": [
    "#lower\n",
    "text=\"Hello\"\n",
    "print(text.lower())"
   ]
  },
  {
   "cell_type": "code",
   "execution_count": 8,
   "id": "47374ac7-22e0-4dec-8d57-6a865f9c14d6",
   "metadata": {},
   "outputs": [
    {
     "name": "stdout",
     "output_type": "stream",
     "text": [
      "hello\n"
     ]
    }
   ],
   "source": [
    "#strip\n",
    "text=\"   hello   \"\n",
    "print(text.strip())"
   ]
  },
  {
   "cell_type": "code",
   "execution_count": 12,
   "id": "c4662632-d584-44f0-a029-2c3ffc80eb2a",
   "metadata": {},
   "outputs": [
    {
     "name": "stdout",
     "output_type": "stream",
     "text": [
      "hello python\n"
     ]
    }
   ],
   "source": [
    "#replace(old,new)\n",
    "text=\"hello world\"\n",
    "print(text.replace(\"world\",\"python\"))"
   ]
  },
  {
   "cell_type": "code",
   "execution_count": 13,
   "id": "b9595185-99a3-4a8e-8f1a-b0363c173c71",
   "metadata": {},
   "outputs": [
    {
     "name": "stdout",
     "output_type": "stream",
     "text": [
      "['apple', 'banana', 'orange']\n"
     ]
    }
   ],
   "source": [
    "#split(separator)\n",
    "text=\"apple,banana,orange\"\n",
    "fruits=text.split(\",\")\n",
    "print(fruits)"
   ]
  },
  {
   "cell_type": "code",
   "execution_count": 16,
   "id": "e6044618-ef74-4a17-bf97-6cd1f7328bf7",
   "metadata": {},
   "outputs": [
    {
     "name": "stdout",
     "output_type": "stream",
     "text": [
      "apple,banana,banana\n"
     ]
    }
   ],
   "source": [
    "#join(iterable)\n",
    "fruits=['apple','banana','banana']\n",
    "print(\",\".join(fruits))"
   ]
  },
  {
   "cell_type": "code",
   "execution_count": 19,
   "id": "3389e479-f17d-42bb-9ef6-c278a276d7af",
   "metadata": {},
   "outputs": [
    {
     "name": "stdout",
     "output_type": "stream",
     "text": [
      "2\n"
     ]
    }
   ],
   "source": [
    "#find(substrig)\n",
    "text=\"hello\"\n",
    "print(text.find(\"l\"))"
   ]
  },
  {
   "cell_type": "code",
   "execution_count": 20,
   "id": "4247850e-c752-4a73-b42e-731fcc2102c7",
   "metadata": {},
   "outputs": [
    {
     "name": "stdout",
     "output_type": "stream",
     "text": [
      "True\n"
     ]
    }
   ],
   "source": [
    "#startswith(prefix)\n",
    "text=\"hello\"\n",
    "print(text.startswith(\"he\"))"
   ]
  },
  {
   "cell_type": "code",
   "execution_count": 21,
   "id": "618815bf-1ed7-4b4c-a0f4-aee5bf11dbd6",
   "metadata": {},
   "outputs": [
    {
     "name": "stdout",
     "output_type": "stream",
     "text": [
      "True\n"
     ]
    }
   ],
   "source": [
    "#endswith(suffix)\n",
    "text=\"hello\"\n",
    "print(text.endswith(\"lo\"))"
   ]
  },
  {
   "cell_type": "code",
   "execution_count": 22,
   "id": "8a2aceea-a7bb-497f-8449-8779a7116e5e",
   "metadata": {},
   "outputs": [
    {
     "name": "stdout",
     "output_type": "stream",
     "text": [
      "2\n"
     ]
    }
   ],
   "source": [
    "#count(substring)\n",
    "text=\"hello\"\n",
    "print(text.count(\"l\"))"
   ]
  },
  {
   "cell_type": "code",
   "execution_count": 24,
   "id": "ed478043-ce95-4fb4-ba2f-90f007c4da8c",
   "metadata": {},
   "outputs": [
    {
     "name": "stdout",
     "output_type": "stream",
     "text": [
      "Hello\n"
     ]
    }
   ],
   "source": [
    "#capitalize()\n",
    "text=\"hello\"\n",
    "print(text.capitalize())"
   ]
  },
  {
   "cell_type": "code",
   "execution_count": 3,
   "id": "c52e7185-787e-4bb5-831a-ae00ccc0f56e",
   "metadata": {},
   "outputs": [
    {
     "name": "stdout",
     "output_type": "stream",
     "text": [
      "Hello World\n"
     ]
    }
   ],
   "source": [
    "#title()\n",
    "text=\"hello world\"\n",
    "print(text.title())\n"
   ]
  },
  {
   "cell_type": "code",
   "execution_count": 43,
   "id": "f50c58d5-12f6-41ef-bd19-6b68d40fd6cf",
   "metadata": {},
   "outputs": [
    {
     "name": "stdout",
     "output_type": "stream",
     "text": [
      "['Hello', 'World!']\n"
     ]
    }
   ],
   "source": [
    "#split\n",
    "a=\"Hello,World!\"\n",
    "print(a.split(\",\"))\n"
   ]
  },
  {
   "cell_type": "code",
   "execution_count": 4,
   "id": "785bd42f-3d2e-4c11-9863-c0e89a41d1d5",
   "metadata": {},
   "outputs": [
    {
     "name": "stdout",
     "output_type": "stream",
     "text": [
      "my name is john,i am 36\n"
     ]
    }
   ],
   "source": [
    "age=36\n",
    "txt=\"my name is john,i am \" +str (age)\n",
    "print(txt)\n"
   ]
  },
  {
   "cell_type": "code",
   "execution_count": 3,
   "id": "03489b4b-bd26-40fa-9357-dd76f8169597",
   "metadata": {},
   "outputs": [
    {
     "name": "stdout",
     "output_type": "stream",
     "text": [
      "hellopython\n"
     ]
    }
   ],
   "source": [
    "A=\"hello\"\n",
    "B=\"python\"\n",
    "v=A+B\n",
    "print(v)"
   ]
  },
  {
   "cell_type": "code",
   "execution_count": 47,
   "id": "2e3227a2-07bf-4b46-a4a0-bec72ea956f1",
   "metadata": {},
   "outputs": [
    {
     "name": "stdout",
     "output_type": "stream",
     "text": [
      "My name is john,i am36\n"
     ]
    }
   ],
   "source": [
    "#String format(method 1)\n",
    "age=36\n",
    "txt=\"My name is john,i am{}\"\n",
    "print(txt.format(age))"
   ]
  },
  {
   "cell_type": "code",
   "execution_count": 49,
   "id": "d705dce8-8957-4af5-b6ce-f1117eb28292",
   "metadata": {},
   "outputs": [
    {
     "name": "stdout",
     "output_type": "stream",
     "text": [
      "i want10of my order4776for3212rupees.\n"
     ]
    }
   ],
   "source": [
    "#(method 2)\n",
    "amount=3212\n",
    "orderno=4776\n",
    "quantity=10\n",
    "myorder=\"i want{}of my order{}for{}rupees.\"\n",
    "print(myorder.format(quantity,orderno,amount))\n"
   ]
  },
  {
   "cell_type": "code",
   "execution_count": 50,
   "id": "4b52d005-f244-4222-9c42-c337e1cc3bda",
   "metadata": {},
   "outputs": [
    {
     "name": "stdout",
     "output_type": "stream",
     "text": [
      "we are the so called\"vikings\"from the north.\n"
     ]
    }
   ],
   "source": [
    "#Escape Character\n",
    "txt=\"we are the so called\\\"vikings\\\"from the north.\"\n",
    "print(txt)"
   ]
  },
  {
   "cell_type": "code",
   "execution_count": 53,
   "id": "b6853f0c-e53b-446d-854c-aafaab146c9c",
   "metadata": {},
   "outputs": [
    {
     "name": "stdout",
     "output_type": "stream",
     "text": [
      "HelLO\n",
      "World\n"
     ]
    }
   ],
   "source": [
    "text=\"HelLO\\nWorld\"\n",
    "print(text)\n",
    "#New line escape(\\n)"
   ]
  },
  {
   "cell_type": "code",
   "execution_count": 54,
   "id": "3a61476b-d380-4e25-89f5-8c93d0eeddec",
   "metadata": {},
   "outputs": [
    {
     "name": "stdout",
     "output_type": "stream",
     "text": [
      "Hello\tWorld\n"
     ]
    }
   ],
   "source": [
    "text=\"Hello\\tWorld\"\n",
    "print(text)\n",
    "#Tab escape(\\t)"
   ]
  },
  {
   "cell_type": "code",
   "execution_count": 55,
   "id": "e92e204e-cccd-4010-bfad-885550c22a4f",
   "metadata": {},
   "outputs": [
    {
     "name": "stdout",
     "output_type": "stream",
     "text": [
      "This is a backslash:\\\n"
     ]
    }
   ],
   "source": [
    "#Backslash escape(\\\\)\n",
    "text=\"This is a backslash:\\\\\"\n",
    "print(text)"
   ]
  },
  {
   "cell_type": "code",
   "execution_count": 56,
   "id": "1445d432-ec29-4736-bc25-6c080a9e45bd",
   "metadata": {},
   "outputs": [
    {
     "name": "stdout",
     "output_type": "stream",
     "text": [
      "it's a beutiful day\n"
     ]
    }
   ],
   "source": [
    "#Single Quote(\\')\n",
    "text='it\\'s a beutiful day'\n",
    "print(text)\n"
   ]
  },
  {
   "cell_type": "code",
   "execution_count": 57,
   "id": "707d5d91-52c5-410c-ba7c-11295e7d71ed",
   "metadata": {},
   "outputs": [
    {
     "name": "stdout",
     "output_type": "stream",
     "text": [
      "she said,\"Hello!\"\n"
     ]
    }
   ],
   "source": [
    "#Double Quote(\\\")\n",
    "text=\"she said,\\\"Hello!\\\"\"\n",
    "print(text)"
   ]
  },
  {
   "cell_type": "code",
   "execution_count": 58,
   "id": "41ce8540-3060-4fab-a74b-632c7bb45063",
   "metadata": {},
   "outputs": [
    {
     "name": "stdout",
     "output_type": "stream",
     "text": [
      "World\n"
     ]
    }
   ],
   "source": [
    "#Carriage Return(\\r)\n",
    "text=\"Hello\\rWorld\"\n",
    "print(text)\n"
   ]
  },
  {
   "cell_type": "code",
   "execution_count": 59,
   "id": "e9fae784-5301-4cc2-8cd3-56feb792c94d",
   "metadata": {},
   "outputs": [
    {
     "name": "stdout",
     "output_type": "stream",
     "text": [
      "Hell World\n"
     ]
    }
   ],
   "source": [
    "#Backspace(\\b)\n",
    "text=\"Hello\\b World\"\n",
    "print(text)"
   ]
  },
  {
   "cell_type": "code",
   "execution_count": 60,
   "id": "197dfc02-7060-445d-9d61-52f93a3dd2c9",
   "metadata": {},
   "outputs": [
    {
     "name": "stdout",
     "output_type": "stream",
     "text": [
      "Hello\f",
      "World\n"
     ]
    }
   ],
   "source": [
    "#Form Feed(\\f)\n",
    "text=\"Hello\\fWorld\"\n",
    "print(text)"
   ]
  },
  {
   "cell_type": "code",
   "execution_count": 61,
   "id": "397e262b-7253-4844-8b84-166733cc71f2",
   "metadata": {},
   "outputs": [
    {
     "name": "stdout",
     "output_type": "stream",
     "text": [
      "Unicode example: ☺\n"
     ]
    }
   ],
   "source": [
    "#Unicode(\\uXXXX)\n",
    "text=\"Unicode example: \\u263A\"\n",
    "print(text)\n"
   ]
  },
  {
   "cell_type": "code",
   "execution_count": 62,
   "id": "99afa893-6e43-4376-9c7c-5dd0f2864c75",
   "metadata": {},
   "outputs": [
    {
     "name": "stdout",
     "output_type": "stream",
     "text": [
      "ABC\n"
     ]
    }
   ],
   "source": [
    "#Octal value(\\000)\n",
    "text=\"\\101\\102\\103\"   #ASCII values for A,B,C\n",
    "print(text)"
   ]
  },
  {
   "cell_type": "code",
   "execution_count": 63,
   "id": "8af16844-74a1-41b5-a35f-9d88b64ca152",
   "metadata": {},
   "outputs": [
    {
     "name": "stdout",
     "output_type": "stream",
     "text": [
      "ABC\n"
     ]
    }
   ],
   "source": [
    "#Hexademical value(\\xhh)\n",
    "text=\"\\x41\\x42\\x43\"  #ASII value for A,B,C\n",
    "print(text)"
   ]
  },
  {
   "cell_type": "code",
   "execution_count": 65,
   "id": "ac9a5c4e-1e54-478c-aa64-0f86088de257",
   "metadata": {},
   "outputs": [
    {
     "name": "stdout",
     "output_type": "stream",
     "text": [
      "True\n",
      "False\n",
      "False\n"
     ]
    }
   ],
   "source": [
    "#Python Booleans\n",
    "print(10==10)\n",
    "print(10<9)\n",
    "print(10==100)"
   ]
  },
  {
   "cell_type": "code",
   "execution_count": 68,
   "id": "53dc5f8b-f919-4397-8f06-7a7f9d58664f",
   "metadata": {},
   "outputs": [
    {
     "name": "stdout",
     "output_type": "stream",
     "text": [
      "False\n"
     ]
    }
   ],
   "source": [
    "print(bool(False))"
   ]
  },
  {
   "cell_type": "code",
   "execution_count": 66,
   "id": "8358a46f-35fe-47dd-85c9-4a7e7712b9b0",
   "metadata": {},
   "outputs": [
    {
     "name": "stdout",
     "output_type": "stream",
     "text": [
      "True\n",
      "True\n"
     ]
    }
   ],
   "source": [
    "print(bool(\"hello\"))\n",
    "print(bool(100))"
   ]
  },
  {
   "cell_type": "code",
   "execution_count": 1,
   "id": "dbb4001d-b738-4093-bf83-a2f38e36df0b",
   "metadata": {},
   "outputs": [
    {
     "name": "stdout",
     "output_type": "stream",
     "text": [
      "True\n",
      "True\n",
      "True\n"
     ]
    }
   ],
   "source": [
    "print(bool(\"apple\"))\n",
    "print(bool(\"orange\"))\n",
    "print(bool(\"banana\"))"
   ]
  },
  {
   "cell_type": "code",
   "execution_count": 70,
   "id": "0a95ab53-d5b0-4a81-b09c-ac0e7eb22825",
   "metadata": {},
   "outputs": [
    {
     "name": "stdout",
     "output_type": "stream",
     "text": [
      "False\n"
     ]
    }
   ],
   "source": [
    "print(bool(None))"
   ]
  },
  {
   "cell_type": "code",
   "execution_count": 71,
   "id": "09407d35-aa19-42da-a093-0eae24f799c7",
   "metadata": {},
   "outputs": [
    {
     "name": "stdout",
     "output_type": "stream",
     "text": [
      "False\n"
     ]
    }
   ],
   "source": [
    "print(bool(0))"
   ]
  },
  {
   "cell_type": "code",
   "execution_count": 73,
   "id": "df4bf0ed-621a-43f0-80f4-b4e390bbcc72",
   "metadata": {},
   "outputs": [
    {
     "name": "stdout",
     "output_type": "stream",
     "text": [
      "False\n"
     ]
    }
   ],
   "source": [
    "print(bool(()))"
   ]
  },
  {
   "cell_type": "code",
   "execution_count": 74,
   "id": "7e633389-8611-4803-a6c0-417cc8d6912f",
   "metadata": {},
   "outputs": [
    {
     "name": "stdout",
     "output_type": "stream",
     "text": [
      "False\n"
     ]
    }
   ],
   "source": [
    "print(bool([]))"
   ]
  },
  {
   "cell_type": "code",
   "execution_count": 75,
   "id": "a75cb2ce-a3fc-4bf0-9f6a-bd07e5e237d6",
   "metadata": {},
   "outputs": [
    {
     "name": "stdout",
     "output_type": "stream",
     "text": [
      "True\n"
     ]
    }
   ],
   "source": [
    "x=200\n",
    "print(isinstance(x,int))"
   ]
  },
  {
   "cell_type": "code",
   "execution_count": null,
   "id": "90eac1c8-b16b-4d09-bf41-5a14fb23322e",
   "metadata": {},
   "outputs": [],
   "source": [
    "#Boolean Methods"
   ]
  },
  {
   "cell_type": "code",
   "execution_count": 76,
   "id": "3eb3d6ed-6fe8-4d90-956d-7e5976679074",
   "metadata": {},
   "outputs": [
    {
     "name": "stdout",
     "output_type": "stream",
     "text": [
      "True\n"
     ]
    }
   ],
   "source": [
    "#isalpha\n",
    "text=\"Hello\"\n",
    "print(text.isalpha())"
   ]
  },
  {
   "cell_type": "code",
   "execution_count": 78,
   "id": "1899e6da-d452-4ebf-95a7-9e066d89280d",
   "metadata": {},
   "outputs": [
    {
     "name": "stdout",
     "output_type": "stream",
     "text": [
      "False\n"
     ]
    }
   ],
   "source": [
    "text=\"Hello123\"\n",
    "print(text.isalpha())"
   ]
  },
  {
   "cell_type": "code",
   "execution_count": 77,
   "id": "bc8e8506-98a0-4bc1-86c6-121c02e2b62a",
   "metadata": {},
   "outputs": [
    {
     "name": "stdout",
     "output_type": "stream",
     "text": [
      "True\n"
     ]
    }
   ],
   "source": [
    "#isdigit()\n",
    "text=\"12345\"\n",
    "print(text.isdigit())"
   ]
  },
  {
   "cell_type": "code",
   "execution_count": 80,
   "id": "18bb552a-9c83-49ed-aca3-7f0979126994",
   "metadata": {},
   "outputs": [
    {
     "name": "stdout",
     "output_type": "stream",
     "text": [
      "False\n"
     ]
    }
   ],
   "source": [
    "text=\"123abc\"\n",
    "print(text.isdigit())"
   ]
  },
  {
   "cell_type": "code",
   "execution_count": 81,
   "id": "0449df5c-7420-4afd-970f-332d9724e815",
   "metadata": {},
   "outputs": [
    {
     "name": "stdout",
     "output_type": "stream",
     "text": [
      "True\n"
     ]
    }
   ],
   "source": [
    "#isalnum\n",
    "text=\"Hello123\"\n",
    "print(text.isalnum())"
   ]
  },
  {
   "cell_type": "code",
   "execution_count": 82,
   "id": "6299279e-d757-49b8-aed7-4da2c798a1ee",
   "metadata": {},
   "outputs": [
    {
     "name": "stdout",
     "output_type": "stream",
     "text": [
      "True\n"
     ]
    }
   ],
   "source": [
    "text=\"Hello123\"\n",
    "print(text.isalnum())"
   ]
  },
  {
   "cell_type": "code",
   "execution_count": 83,
   "id": "61c9c3cb-e7e1-42d1-a44b-5b78633cb957",
   "metadata": {},
   "outputs": [
    {
     "name": "stdout",
     "output_type": "stream",
     "text": [
      "True\n"
     ]
    }
   ],
   "source": [
    "#islower\n",
    "text=\"hello\"\n",
    "print(text.islower())"
   ]
  },
  {
   "cell_type": "code",
   "execution_count": 84,
   "id": "16e1b00f-c83a-4414-8f66-d8e31668f437",
   "metadata": {},
   "outputs": [
    {
     "name": "stdout",
     "output_type": "stream",
     "text": [
      "False\n"
     ]
    }
   ],
   "source": [
    "text=\"Hello\"\n",
    "print(text.islower())"
   ]
  },
  {
   "cell_type": "code",
   "execution_count": 85,
   "id": "06e57047-a722-4c15-ad26-de8181a3ef99",
   "metadata": {},
   "outputs": [
    {
     "name": "stdout",
     "output_type": "stream",
     "text": [
      "True\n"
     ]
    }
   ],
   "source": [
    "#isupper\n",
    "text=\"HELLO\"\n",
    "print(text.isupper())"
   ]
  },
  {
   "cell_type": "code",
   "execution_count": 86,
   "id": "58d3beb1-4889-4f8a-beb2-36697ce709dc",
   "metadata": {},
   "outputs": [
    {
     "name": "stdout",
     "output_type": "stream",
     "text": [
      "False\n"
     ]
    }
   ],
   "source": [
    "text=\"Hello\"\n",
    "print(text.isupper())"
   ]
  },
  {
   "cell_type": "code",
   "execution_count": 87,
   "id": "31a090cb-0e4e-47b8-b7c6-2c2f6a507077",
   "metadata": {},
   "outputs": [
    {
     "name": "stdout",
     "output_type": "stream",
     "text": [
      "True\n"
     ]
    }
   ],
   "source": [
    "#isspace()\n",
    "text=\" \"\n",
    "print(text.isspace())"
   ]
  },
  {
   "cell_type": "code",
   "execution_count": 88,
   "id": "3755371b-bdbf-492c-800f-7a0a793fde2f",
   "metadata": {},
   "outputs": [
    {
     "name": "stdout",
     "output_type": "stream",
     "text": [
      "False\n"
     ]
    }
   ],
   "source": [
    "text=\"Hello World\"\n",
    "print(text.isspace())"
   ]
  },
  {
   "cell_type": "code",
   "execution_count": 89,
   "id": "ddd820f5-a359-46ae-ab4f-7f15da43c4e3",
   "metadata": {},
   "outputs": [
    {
     "name": "stdout",
     "output_type": "stream",
     "text": [
      "True\n"
     ]
    }
   ],
   "source": [
    "#startswith(prefix)\n",
    "text=\"Hello\"\n",
    "print(text.startswith(\"He\"))"
   ]
  },
  {
   "cell_type": "code",
   "execution_count": 90,
   "id": "79d5c74c-d7f0-4c0f-894a-6b8f25399a23",
   "metadata": {},
   "outputs": [
    {
     "name": "stdout",
     "output_type": "stream",
     "text": [
      "False\n"
     ]
    }
   ],
   "source": [
    "print(text.startswith(\"hi\"))"
   ]
  },
  {
   "cell_type": "code",
   "execution_count": 91,
   "id": "a0a1251b-44d1-41ce-b003-0a18067e8533",
   "metadata": {},
   "outputs": [
    {
     "name": "stdout",
     "output_type": "stream",
     "text": [
      "True\n"
     ]
    }
   ],
   "source": [
    "#endswith(suffix)\n",
    "text=\"Hello\"\n",
    "print(text.endswith(\"lo\"))"
   ]
  },
  {
   "cell_type": "code",
   "execution_count": 92,
   "id": "7192a495-c5af-4b85-a680-c1057df8df3a",
   "metadata": {},
   "outputs": [
    {
     "name": "stdout",
     "output_type": "stream",
     "text": [
      "False\n"
     ]
    }
   ],
   "source": [
    "print(text.endswith(\"He\"))"
   ]
  },
  {
   "cell_type": "code",
   "execution_count": 2,
   "id": "2e1157c5-cf7b-4871-9109-cd297b5a0b89",
   "metadata": {},
   "outputs": [
    {
     "name": "stdout",
     "output_type": "stream",
     "text": [
      "True\n"
     ]
    }
   ],
   "source": [
    "#isnumeric()\n",
    "text=\"12345\"\n",
    "print(text.isnumeric())\n"
   ]
  },
  {
   "cell_type": "code",
   "execution_count": 3,
   "id": "0d1661fe-55eb-4ca2-94d7-163d790406dc",
   "metadata": {},
   "outputs": [
    {
     "name": "stdout",
     "output_type": "stream",
     "text": [
      "False\n"
     ]
    }
   ],
   "source": [
    "text=\"123abc\"\n",
    "print(text.isnumeric())"
   ]
  },
  {
   "cell_type": "code",
   "execution_count": 4,
   "id": "583e7274-7500-47d9-9ccf-114a008d3923",
   "metadata": {},
   "outputs": [
    {
     "name": "stdout",
     "output_type": "stream",
     "text": [
      "True\n"
     ]
    }
   ],
   "source": [
    "#isdecimal()\n",
    "text=\"12345\"\n",
    "print(text.isdecimal())"
   ]
  },
  {
   "cell_type": "code",
   "execution_count": 5,
   "id": "719f134c-cda3-4c2d-9c8f-a8392a3c7663",
   "metadata": {},
   "outputs": [
    {
     "name": "stdout",
     "output_type": "stream",
     "text": [
      "False\n"
     ]
    }
   ],
   "source": [
    "text=\"1/3\"\n",
    "print(text.isdecimal())"
   ]
  },
  {
   "cell_type": "code",
   "execution_count": 1,
   "id": "09c12fad-3c61-4ef8-8cbb-cddd89f88f0f",
   "metadata": {},
   "outputs": [
    {
     "name": "stdout",
     "output_type": "stream",
     "text": [
      "25\n"
     ]
    }
   ],
   "source": [
    "import operator\n",
    "a=12\n",
    "b=13\n",
    "sum=operator.add(a,b)\n",
    "print(sum)"
   ]
  },
  {
   "cell_type": "code",
   "execution_count": null,
   "id": "11ad547e-ff8a-4d38-9806-63ee3136ca67",
   "metadata": {},
   "outputs": [],
   "source": [
    "#Arithmetic Operators"
   ]
  },
  {
   "cell_type": "code",
   "execution_count": 2,
   "id": "8665f378-243d-474b-9285-9f91c6a889ea",
   "metadata": {},
   "outputs": [
    {
     "name": "stdout",
     "output_type": "stream",
     "text": [
      "25\n"
     ]
    }
   ],
   "source": [
    "#Addition+\n",
    "a=12\n",
    "b=13\n",
    "sum=a+b\n",
    "print(sum)"
   ]
  },
  {
   "cell_type": "code",
   "execution_count": 4,
   "id": "6777a0c3-bc5d-48e2-9479-c936486c4713",
   "metadata": {},
   "outputs": [
    {
     "name": "stdout",
     "output_type": "stream",
     "text": [
      "-1\n"
     ]
    }
   ],
   "source": [
    "#Substraction-\n",
    "a=12\n",
    "b=13\n",
    "sum=operator.sub(a,b)\n",
    "print(sum)\n"
   ]
  },
  {
   "cell_type": "code",
   "execution_count": 6,
   "id": "6490e09a-b4c6-4380-ba75-144dfd3baade",
   "metadata": {},
   "outputs": [
    {
     "name": "stdout",
     "output_type": "stream",
     "text": [
      "156\n"
     ]
    }
   ],
   "source": [
    "#Multiplication*\n",
    "a=12\n",
    "b=13\n",
    "sum=operator.mul(a,b)\n",
    "print(sum)"
   ]
  },
  {
   "cell_type": "code",
   "execution_count": 7,
   "id": "1266875b-b57e-46c2-b2e5-4b8737eb3e9b",
   "metadata": {},
   "outputs": [
    {
     "name": "stdout",
     "output_type": "stream",
     "text": [
      "106993205379072\n"
     ]
    }
   ],
   "source": [
    "#Exponetation**\n",
    "a=12\n",
    "b=13\n",
    "sum=operator.pow(a,b)\n",
    "print(sum)"
   ]
  },
  {
   "cell_type": "code",
   "execution_count": 8,
   "id": "4dde84ba-d234-4372-870e-cac32cdd5dc5",
   "metadata": {},
   "outputs": [
    {
     "name": "stdout",
     "output_type": "stream",
     "text": [
      "0.9230769230769231\n"
     ]
    }
   ],
   "source": [
    "#Division/\n",
    "a=12\n",
    "b=13\n",
    "sum=operator.truediv(a,b)\n",
    "print(sum)\n"
   ]
  },
  {
   "cell_type": "code",
   "execution_count": 9,
   "id": "5db625cd-84e8-4fa5-bfa7-d4c26f774cd4",
   "metadata": {},
   "outputs": [
    {
     "name": "stdout",
     "output_type": "stream",
     "text": [
      "0\n"
     ]
    }
   ],
   "source": [
    "#Floor division//\n",
    "a=12\n",
    "b=13\n",
    "sum=operator.floordiv(a,b)\n",
    "print(sum)"
   ]
  },
  {
   "cell_type": "code",
   "execution_count": 11,
   "id": "c20f7b71-3c5c-47e1-bf2a-f8c822726e57",
   "metadata": {},
   "outputs": [
    {
     "name": "stdout",
     "output_type": "stream",
     "text": [
      "12\n"
     ]
    }
   ],
   "source": [
    "#Modulus%\n",
    "a=12\n",
    "b=13\n",
    "sum=operator.mod(a,b)\n",
    "print(sum)"
   ]
  },
  {
   "cell_type": "code",
   "execution_count": 2,
   "id": "dacf537a-8a35-4c27-b06d-00b942f1b1bb",
   "metadata": {},
   "outputs": [
    {
     "data": {
      "text/plain": [
       "3"
      ]
     },
     "execution_count": 2,
     "metadata": {},
     "output_type": "execute_result"
    }
   ],
   "source": [
    "a=2\n",
    "a+=1\n",
    "a"
   ]
  },
  {
   "cell_type": "code",
   "execution_count": 6,
   "id": "200efd6d-c9be-4ae5-860c-58d88d083e56",
   "metadata": {},
   "outputs": [
    {
     "data": {
      "text/plain": [
       "5"
      ]
     },
     "execution_count": 6,
     "metadata": {},
     "output_type": "execute_result"
    }
   ],
   "source": [
    "import operator\n",
    "b=operator.iadd(4,1)\n",
    "b"
   ]
  },
  {
   "cell_type": "code",
   "execution_count": null,
   "id": "aced17a8-67ff-477d-99ec-3fe7b2b338cf",
   "metadata": {},
   "outputs": [],
   "source": [
    "#Assignment Operator"
   ]
  },
  {
   "cell_type": "code",
   "execution_count": 8,
   "id": "5311204b-ae03-483f-9060-992c2070fef5",
   "metadata": {},
   "outputs": [
    {
     "data": {
      "text/plain": [
       "5"
      ]
     },
     "execution_count": 8,
     "metadata": {},
     "output_type": "execute_result"
    }
   ],
   "source": [
    "# =\n",
    "x=5\n",
    "x"
   ]
  },
  {
   "cell_type": "code",
   "execution_count": 18,
   "id": "ccfe22e0-d92a-4260-ad9c-6f2c0c7740f5",
   "metadata": {},
   "outputs": [
    {
     "name": "stdout",
     "output_type": "stream",
     "text": [
      "10\n"
     ]
    }
   ],
   "source": [
    "# +=\n",
    "x=5\n",
    "x+=5\n",
    "print(x)"
   ]
  },
  {
   "cell_type": "code",
   "execution_count": 14,
   "id": "ceb43355-8016-4490-b598-295a24d6ff60",
   "metadata": {},
   "outputs": [
    {
     "name": "stdout",
     "output_type": "stream",
     "text": [
      "10\n"
     ]
    }
   ],
   "source": [
    "x=operator.iadd(5,5)\n",
    "print(x)"
   ]
  },
  {
   "cell_type": "code",
   "execution_count": 17,
   "id": "69f9a672-2cd9-4889-a050-9ae8f69bc146",
   "metadata": {},
   "outputs": [
    {
     "name": "stdout",
     "output_type": "stream",
     "text": [
      "3\n"
     ]
    }
   ],
   "source": [
    "# -=\n",
    "x=5\n",
    "x-=2\n",
    "print(x)"
   ]
  },
  {
   "cell_type": "code",
   "execution_count": 20,
   "id": "749ae102-1f33-42b3-9a34-e94124e0de96",
   "metadata": {},
   "outputs": [
    {
     "name": "stdout",
     "output_type": "stream",
     "text": [
      "3\n"
     ]
    }
   ],
   "source": [
    "x=operator.isub(5,2)\n",
    "print(x)"
   ]
  },
  {
   "cell_type": "code",
   "execution_count": 22,
   "id": "7a6fb2bb-c835-4dfc-aee3-ad4e2c694358",
   "metadata": {},
   "outputs": [
    {
     "name": "stdout",
     "output_type": "stream",
     "text": [
      "6\n"
     ]
    }
   ],
   "source": [
    "# *=\n",
    "x=2\n",
    "x*=3\n",
    "print(x)"
   ]
  },
  {
   "cell_type": "code",
   "execution_count": 24,
   "id": "49d28b29-8af7-4034-a947-8dd085e8fee9",
   "metadata": {},
   "outputs": [
    {
     "name": "stdout",
     "output_type": "stream",
     "text": [
      "6\n"
     ]
    }
   ],
   "source": [
    "x=operator.imul(2,3)\n",
    "print(x)"
   ]
  },
  {
   "cell_type": "code",
   "execution_count": 26,
   "id": "b5d6df85-4d46-48a4-8851-72f3a8b6cca7",
   "metadata": {},
   "outputs": [
    {
     "name": "stdout",
     "output_type": "stream",
     "text": [
      "2.0\n"
     ]
    }
   ],
   "source": [
    "# /=\n",
    "x=6\n",
    "x/=3\n",
    "print(x)"
   ]
  },
  {
   "cell_type": "code",
   "execution_count": 27,
   "id": "58962878-6ae2-4edb-bc1c-a7d7ba3d64d3",
   "metadata": {},
   "outputs": [
    {
     "name": "stdout",
     "output_type": "stream",
     "text": [
      "2.0\n"
     ]
    }
   ],
   "source": [
    "x=operator.itruediv(6,3)\n",
    "print(x)"
   ]
  },
  {
   "cell_type": "code",
   "execution_count": 29,
   "id": "69be12f1-d831-46cd-b064-b6b091b2141f",
   "metadata": {},
   "outputs": [
    {
     "name": "stdout",
     "output_type": "stream",
     "text": [
      "1\n"
     ]
    }
   ],
   "source": [
    "# //=\n",
    "x=6\n",
    "x//=5\n",
    "print(x)"
   ]
  },
  {
   "cell_type": "code",
   "execution_count": 30,
   "id": "8889abd0-f475-4739-b6a0-2d3044a10861",
   "metadata": {},
   "outputs": [
    {
     "name": "stdout",
     "output_type": "stream",
     "text": [
      "1\n"
     ]
    }
   ],
   "source": [
    "x=operator.ifloordiv(6,5)\n",
    "print(x)"
   ]
  },
  {
   "cell_type": "code",
   "execution_count": 31,
   "id": "e7f17f23-f91f-4e86-af96-9e030cc0add7",
   "metadata": {},
   "outputs": [
    {
     "name": "stdout",
     "output_type": "stream",
     "text": [
      "2\n"
     ]
    }
   ],
   "source": [
    "# %=\n",
    "x=11\n",
    "x%=3\n",
    "print(x)"
   ]
  },
  {
   "cell_type": "code",
   "execution_count": 35,
   "id": "b853449f-660f-44e6-b54e-bbcccb92d26f",
   "metadata": {},
   "outputs": [
    {
     "name": "stdout",
     "output_type": "stream",
     "text": [
      "3\n"
     ]
    }
   ],
   "source": [
    "# &=\n",
    "x=11\n",
    "x&=3\n",
    "print(x)"
   ]
  },
  {
   "cell_type": "code",
   "execution_count": 34,
   "id": "a02cfd5d-569e-4c4e-b7b2-c159f148b6a9",
   "metadata": {},
   "outputs": [
    {
     "name": "stdout",
     "output_type": "stream",
     "text": [
      "3\n"
     ]
    }
   ],
   "source": [
    "x=operator.iand(11,3)\n",
    "print(x)\n"
   ]
  },
  {
   "cell_type": "code",
   "execution_count": 36,
   "id": "efd222e8-1901-40c8-82fc-0c19d3b4e586",
   "metadata": {},
   "outputs": [
    {
     "name": "stdout",
     "output_type": "stream",
     "text": [
      "7\n"
     ]
    }
   ],
   "source": [
    "# |=\n",
    "x=3\n",
    "x|=4\n",
    "print(x)"
   ]
  },
  {
   "cell_type": "code",
   "execution_count": 45,
   "id": "01798d56-8ce6-4421-93ba-05fc467c2afa",
   "metadata": {},
   "outputs": [
    {
     "name": "stdout",
     "output_type": "stream",
     "text": [
      "7\n"
     ]
    }
   ],
   "source": [
    "operator.mod(3,4)\n",
    "print(x)"
   ]
  },
  {
   "cell_type": "code",
   "execution_count": 46,
   "id": "2f80686f-232d-4715-a8d1-80377914b7ae",
   "metadata": {},
   "outputs": [
    {
     "name": "stdout",
     "output_type": "stream",
     "text": [
      "7\n"
     ]
    }
   ],
   "source": [
    "x=5\n",
    "x ^= 2\n",
    "print(x)"
   ]
  },
  {
   "cell_type": "code",
   "execution_count": 44,
   "id": "d85b3ed9-4185-49a3-943a-ba52de7ef71b",
   "metadata": {},
   "outputs": [
    {
     "name": "stdout",
     "output_type": "stream",
     "text": [
      "7\n"
     ]
    }
   ],
   "source": [
    "x=operator.ixor(5,2)\n",
    "print(x)"
   ]
  },
  {
   "cell_type": "code",
   "execution_count": 40,
   "id": "2f51f255-7518-42a5-bdae-07a9cf15a3a4",
   "metadata": {},
   "outputs": [
    {
     "name": "stdout",
     "output_type": "stream",
     "text": [
      "1\n"
     ]
    }
   ],
   "source": [
    "# >>=\n",
    "x=5\n",
    "x>>=2\n",
    "print(x)"
   ]
  },
  {
   "cell_type": "code",
   "execution_count": 41,
   "id": "6ea6b6b9-f7a2-4b08-b111-74a32c72c400",
   "metadata": {},
   "outputs": [
    {
     "name": "stdout",
     "output_type": "stream",
     "text": [
      "1\n"
     ]
    }
   ],
   "source": [
    "x=operator.irshift(5,2)\n",
    "print(x)"
   ]
  },
  {
   "cell_type": "code",
   "execution_count": 42,
   "id": "aa7ba0b3-fc53-4dec-8554-595dda642517",
   "metadata": {},
   "outputs": [
    {
     "name": "stdout",
     "output_type": "stream",
     "text": [
      "20\n"
     ]
    }
   ],
   "source": [
    "# <<=\n",
    "x=5\n",
    "x<<=2\n",
    "print(x)"
   ]
  },
  {
   "cell_type": "code",
   "execution_count": 43,
   "id": "810a74e9-5208-40a3-9e1d-f9a5822f97e3",
   "metadata": {},
   "outputs": [
    {
     "name": "stdout",
     "output_type": "stream",
     "text": [
      "20\n"
     ]
    }
   ],
   "source": [
    "x=operator.ilshift(5,2)\n",
    "print(x)"
   ]
  },
  {
   "cell_type": "code",
   "execution_count": null,
   "id": "79a63816-3ced-4f12-921e-d4d0df227136",
   "metadata": {},
   "outputs": [],
   "source": [
    "#Logical Operators"
   ]
  },
  {
   "cell_type": "code",
   "execution_count": 47,
   "id": "2b3a7863-7846-404a-9b37-2b5b0823ca8c",
   "metadata": {},
   "outputs": [
    {
     "data": {
      "text/plain": [
       "True"
      ]
     },
     "execution_count": 47,
     "metadata": {},
     "output_type": "execute_result"
    }
   ],
   "source": [
    "#and\n",
    "x=5\n",
    "y=6\n",
    "x>1 and y<10"
   ]
  },
  {
   "cell_type": "code",
   "execution_count": 3,
   "id": "26dd5214-e43d-4f9e-9f10-c87993c3fda7",
   "metadata": {},
   "outputs": [
    {
     "data": {
      "text/plain": [
       "True"
      ]
     },
     "execution_count": 3,
     "metadata": {},
     "output_type": "execute_result"
    }
   ],
   "source": [
    "# or\n",
    "x=5\n",
    "y=6\n",
    "x>1 or y<4"
   ]
  },
  {
   "cell_type": "code",
   "execution_count": 50,
   "id": "e0744c12-4049-4a08-ab2e-8c1e88eac075",
   "metadata": {},
   "outputs": [
    {
     "data": {
      "text/plain": [
       "False"
      ]
     },
     "execution_count": 50,
     "metadata": {},
     "output_type": "execute_result"
    }
   ],
   "source": [
    "# not\n",
    "x=5\n",
    "not x>1"
   ]
  },
  {
   "cell_type": "code",
   "execution_count": 51,
   "id": "b70ac609-a005-456b-9c24-9c1c30274720",
   "metadata": {},
   "outputs": [
    {
     "data": {
      "text/plain": [
       "False"
      ]
     },
     "execution_count": 51,
     "metadata": {},
     "output_type": "execute_result"
    }
   ],
   "source": [
    "# Identity operatators\n",
    "# is\n",
    "x=5;y=6\n",
    "x is y"
   ]
  },
  {
   "cell_type": "code",
   "execution_count": 53,
   "id": "9122dd43-33fe-49d0-90de-e8edb12dc6e2",
   "metadata": {},
   "outputs": [
    {
     "name": "stdout",
     "output_type": "stream",
     "text": [
      "False\n"
     ]
    }
   ],
   "source": [
    "x=operator.is_(x,y)\n",
    "print(x)"
   ]
  },
  {
   "cell_type": "code",
   "execution_count": 1,
   "id": "8fe33193-3a92-4819-b782-15b9c031cac1",
   "metadata": {},
   "outputs": [
    {
     "data": {
      "text/plain": [
       "True"
      ]
     },
     "execution_count": 1,
     "metadata": {},
     "output_type": "execute_result"
    }
   ],
   "source": [
    "# is not\n",
    "x=5;y=6\n",
    "x is not y"
   ]
  },
  {
   "cell_type": "code",
   "execution_count": 56,
   "id": "2e268c02-44a8-432d-a08a-d848e10f0a65",
   "metadata": {},
   "outputs": [
    {
     "name": "stdout",
     "output_type": "stream",
     "text": [
      "True\n"
     ]
    }
   ],
   "source": [
    "x=operator.is_not(x,y)\n",
    "print(x)"
   ]
  },
  {
   "cell_type": "code",
   "execution_count": 66,
   "id": "06edda18-2f20-4468-995d-95fbe0eb18b2",
   "metadata": {},
   "outputs": [
    {
     "data": {
      "text/plain": [
       "True"
      ]
     },
     "execution_count": 66,
     "metadata": {},
     "output_type": "execute_result"
    }
   ],
   "source": [
    "# Membership test operators \n",
    "#in\n",
    "nums=[1,2,3,4,5]\n",
    "1 in nums\n",
    "10 in nums\n",
    "'str' in 'string'\n"
   ]
  },
  {
   "cell_type": "code",
   "execution_count": 62,
   "id": "c45759a6-b8d1-4c6f-ad1c-cb1c806719de",
   "metadata": {},
   "outputs": [
    {
     "data": {
      "text/plain": [
       "False"
      ]
     },
     "execution_count": 62,
     "metadata": {},
     "output_type": "execute_result"
    }
   ],
   "source": [
    "nums=[1,2,3,4,5]\n",
    "1 not in nums"
   ]
  },
  {
   "cell_type": "code",
   "execution_count": 64,
   "id": "3780a6ea-54f7-4073-98f3-f992a1f44b5c",
   "metadata": {},
   "outputs": [
    {
     "data": {
      "text/plain": [
       "True"
      ]
     },
     "execution_count": 64,
     "metadata": {},
     "output_type": "execute_result"
    }
   ],
   "source": [
    "10 not in nums"
   ]
  },
  {
   "cell_type": "code",
   "execution_count": 65,
   "id": "062e62e1-7cd8-477e-8f70-968161f8dc31",
   "metadata": {},
   "outputs": [
    {
     "data": {
      "text/plain": [
       "False"
      ]
     },
     "execution_count": 65,
     "metadata": {},
     "output_type": "execute_result"
    }
   ],
   "source": [
    "'str' not in 'string'"
   ]
  },
  {
   "cell_type": "code",
   "execution_count": null,
   "id": "2e02eb68-ad87-42a9-bb6a-2335ee5f5e87",
   "metadata": {},
   "outputs": [],
   "source": [
    "#Bitwise operator"
   ]
  },
  {
   "cell_type": "code",
   "execution_count": 1,
   "id": "7086415a-7c45-4e20-a1fe-e015fa2edb66",
   "metadata": {},
   "outputs": [
    {
     "data": {
      "text/plain": [
       "0"
      ]
     },
     "execution_count": 1,
     "metadata": {},
     "output_type": "execute_result"
    }
   ],
   "source": [
    "# &\n",
    "x=5\n",
    "y=10\n",
    "z=x&y\n",
    "z\n"
   ]
  },
  {
   "cell_type": "code",
   "execution_count": 2,
   "id": "233f9a41-1b2e-4808-9373-6f7e1a0ba187",
   "metadata": {},
   "outputs": [
    {
     "data": {
      "text/plain": [
       "0"
      ]
     },
     "execution_count": 2,
     "metadata": {},
     "output_type": "execute_result"
    }
   ],
   "source": [
    "import operator\n",
    "operator.and_(x,y)"
   ]
  },
  {
   "cell_type": "code",
   "execution_count": 3,
   "id": "4798d7db-068d-4f8e-8f76-bea79e786fab",
   "metadata": {},
   "outputs": [
    {
     "data": {
      "text/plain": [
       "15"
      ]
     },
     "execution_count": 3,
     "metadata": {},
     "output_type": "execute_result"
    }
   ],
   "source": [
    "# |\n",
    "x=5\n",
    "y=10\n",
    "z=x|y\n",
    "z"
   ]
  },
  {
   "cell_type": "code",
   "execution_count": 4,
   "id": "6c260fc9-5819-4772-8094-fa5e8bb606a7",
   "metadata": {},
   "outputs": [
    {
     "data": {
      "text/plain": [
       "15"
      ]
     },
     "execution_count": 4,
     "metadata": {},
     "output_type": "execute_result"
    }
   ],
   "source": [
    "operator.or_(x,y)"
   ]
  },
  {
   "cell_type": "code",
   "execution_count": 7,
   "id": "89cc153c-2662-49c3-951d-5f5c2c85409f",
   "metadata": {},
   "outputs": [
    {
     "data": {
      "text/plain": [
       "15"
      ]
     },
     "execution_count": 7,
     "metadata": {},
     "output_type": "execute_result"
    }
   ],
   "source": [
    "# ^\n",
    "x=5\n",
    "y=10\n",
    "z=x^y\n",
    "z"
   ]
  },
  {
   "cell_type": "code",
   "execution_count": 8,
   "id": "3a819f17-c2ee-42bc-8250-9a86488f32bb",
   "metadata": {},
   "outputs": [
    {
     "data": {
      "text/plain": [
       "15"
      ]
     },
     "execution_count": 8,
     "metadata": {},
     "output_type": "execute_result"
    }
   ],
   "source": [
    "operator.xor(x,y)"
   ]
  },
  {
   "cell_type": "code",
   "execution_count": null,
   "id": "f9e7df09-8344-490b-8e83-52c5b9ba7e27",
   "metadata": {},
   "outputs": [],
   "source": [
    "# Lists"
   ]
  },
  {
   "cell_type": "code",
   "execution_count": null,
   "id": "3c521fd3-5997-4e08-8b60-813222d923fb",
   "metadata": {},
   "outputs": [],
   "source": [
    "# indexing"
   ]
  },
  {
   "cell_type": "code",
   "execution_count": 9,
   "id": "717bf4e5-52ea-4cbd-ae57-8d454cf8d284",
   "metadata": {},
   "outputs": [
    {
     "name": "stdout",
     "output_type": "stream",
     "text": [
      "['banana', 'apple', 'orange']\n"
     ]
    }
   ],
   "source": [
    "fruits=[\"banana\",\"apple\",\"orange\",]\n",
    "print(fruits)"
   ]
  },
  {
   "cell_type": "code",
   "execution_count": 11,
   "id": "678073cc-c860-46f1-994d-30c2fe172486",
   "metadata": {},
   "outputs": [
    {
     "name": "stdout",
     "output_type": "stream",
     "text": [
      "orange\n"
     ]
    }
   ],
   "source": [
    "fruits=[\"apple\",\"orange\",\"apple\"]\n",
    "print(fruits[1])"
   ]
  },
  {
   "cell_type": "code",
   "execution_count": 14,
   "id": "a1d0f40d-566b-4e27-a204-c2f29aa05f71",
   "metadata": {},
   "outputs": [
    {
     "name": "stdout",
     "output_type": "stream",
     "text": [
      "orange\n"
     ]
    }
   ],
   "source": [
    "print(fruits[-1])"
   ]
  },
  {
   "cell_type": "code",
   "execution_count": 19,
   "id": "0723d11f-d515-4407-a56e-5861f16d0c3c",
   "metadata": {},
   "outputs": [
    {
     "name": "stdout",
     "output_type": "stream",
     "text": [
      "['orange', 'mango', 'apple', 'kiwi']\n"
     ]
    }
   ],
   "source": [
    "fruits=[\"apple\",\"orange\",\"mango\",\"apple\",\"kiwi\",\"pineapple\"]\n",
    "print(fruits[1:5])"
   ]
  },
  {
   "cell_type": "code",
   "execution_count": 20,
   "id": "0d274b4d-1408-42d7-ae18-62697b8e7406",
   "metadata": {},
   "outputs": [
    {
     "name": "stdout",
     "output_type": "stream",
     "text": [
      "['apple', 'orange', 'mango', 'apple', 'kiwi']\n"
     ]
    }
   ],
   "source": [
    "print(fruits[:5])"
   ]
  },
  {
   "cell_type": "code",
   "execution_count": 21,
   "id": "15b75d78-efe6-4c00-9874-1349ddd394a5",
   "metadata": {},
   "outputs": [
    {
     "name": "stdout",
     "output_type": "stream",
     "text": [
      "['orange', 'mango', 'apple', 'kiwi', 'pineapple']\n"
     ]
    }
   ],
   "source": [
    "print(fruits[1:])"
   ]
  },
  {
   "cell_type": "code",
   "execution_count": 23,
   "id": "1df14170-870a-4878-b44b-2104f6b8cb64",
   "metadata": {},
   "outputs": [
    {
     "name": "stdout",
     "output_type": "stream",
     "text": [
      "['apple', 'banana', 'watermelon', 'green apple', 'kiwi', 'pineapple']\n"
     ]
    }
   ],
   "source": [
    "fruits[2:4]=[\"watermelon\",\"green apple\"]\n",
    "print(fruits)"
   ]
  },
  {
   "cell_type": "code",
   "execution_count": 1,
   "id": "24022481-6075-4ca7-92bd-5ef5321458d6",
   "metadata": {},
   "outputs": [
    {
     "name": "stdout",
     "output_type": "stream",
     "text": [
      "['apple', 'banana', 'watermelon', 'kiwi']\n"
     ]
    }
   ],
   "source": [
    "fruits=['apple','banana','orange']\n",
    "fruits[2:]=['watermelon','kiwi']\n",
    "print(fruits)"
   ]
  },
  {
   "cell_type": "code",
   "execution_count": 25,
   "id": "5b7cef88-df2a-4902-9af4-eb88314eb0ed",
   "metadata": {},
   "outputs": [
    {
     "name": "stdout",
     "output_type": "stream",
     "text": [
      "['apple', 'orange', 'banana', 'cherry']\n"
     ]
    }
   ],
   "source": [
    "fruits=[\"apple\",\"banana\",\"cherry\"]\n",
    "fruits.insert(1,\"orange\")\n",
    "print(fruits)"
   ]
  },
  {
   "cell_type": "code",
   "execution_count": null,
   "id": "95918a50-cc69-4b23-8270-da7340a9f5a1",
   "metadata": {},
   "outputs": [],
   "source": [
    "# append"
   ]
  },
  {
   "cell_type": "code",
   "execution_count": 26,
   "id": "325d508a-5af2-461f-a89c-2ac77aaadc3e",
   "metadata": {},
   "outputs": [
    {
     "name": "stdout",
     "output_type": "stream",
     "text": [
      "['apple', 'banana', 'cherry', 'orange']\n"
     ]
    }
   ],
   "source": [
    "fruits=[\"apple\",\"banana\",\"cherry\"]\n",
    "fruits.append(\"orange\")\n",
    "print(fruits)"
   ]
  },
  {
   "cell_type": "code",
   "execution_count": null,
   "id": "9a782aca-b307-4428-aa74-3dcb118e52a3",
   "metadata": {},
   "outputs": [],
   "source": [
    "# Extend"
   ]
  },
  {
   "cell_type": "code",
   "execution_count": 27,
   "id": "acf64cb7-a6a9-4229-b536-bc1cb3a4b2f4",
   "metadata": {},
   "outputs": [
    {
     "name": "stdout",
     "output_type": "stream",
     "text": [
      "['apple', 'banana', 'cherry', 'mango', 'pineapple', 'pappaya']\n"
     ]
    }
   ],
   "source": [
    "fruits=[\"apple\",\"banana\",\"cherry\"]\n",
    "fruits2=[\"mango\",\"pineapple\",\"pappaya\"]\n",
    "fruits.extend(fruits2)\n",
    "print(fruits)"
   ]
  },
  {
   "cell_type": "code",
   "execution_count": null,
   "id": "66d5a6c0-a559-4066-9204-c062d75bdb11",
   "metadata": {},
   "outputs": [],
   "source": [
    "# Remove"
   ]
  },
  {
   "cell_type": "code",
   "execution_count": 28,
   "id": "44f90bab-d2d9-4d74-be2a-01938cc11287",
   "metadata": {},
   "outputs": [
    {
     "name": "stdout",
     "output_type": "stream",
     "text": [
      "['banana', 'cherry']\n"
     ]
    }
   ],
   "source": [
    "fruits=[\"apple\",\"banana\",\"cherry\"]\n",
    "fruits.remove(\"apple\")\n",
    "print(fruits)"
   ]
  },
  {
   "cell_type": "code",
   "execution_count": null,
   "id": "96cfd8fe-fcb0-4737-8aee-b0a731baba74",
   "metadata": {},
   "outputs": [],
   "source": [
    "# pop"
   ]
  },
  {
   "cell_type": "code",
   "execution_count": 30,
   "id": "2962a1bb-658e-4956-9081-cab5244c43b4",
   "metadata": {},
   "outputs": [
    {
     "name": "stdout",
     "output_type": "stream",
     "text": [
      "['apple', 'cherry']\n"
     ]
    }
   ],
   "source": [
    "fruits=[\"apple\",\"banana\",\"cherry\"]\n",
    "fruits.pop(1)\n",
    "print(fruits)"
   ]
  },
  {
   "cell_type": "code",
   "execution_count": null,
   "id": "6775a3ae-f5e0-4da0-aff8-0c9f1c27a247",
   "metadata": {},
   "outputs": [],
   "source": [
    "# del"
   ]
  },
  {
   "cell_type": "code",
   "execution_count": 9,
   "id": "f70700f0-4e30-4a74-ac88-b943aac6875b",
   "metadata": {},
   "outputs": [
    {
     "name": "stdout",
     "output_type": "stream",
     "text": [
      "['apple', 'cherry']\n"
     ]
    }
   ],
   "source": [
    "fruits=[\"apple\",\"banana\",\"cherry\"]\n",
    "del fruits[1]\n",
    "print(fruits)"
   ]
  },
  {
   "cell_type": "code",
   "execution_count": 10,
   "id": "33b1bba5-b511-46b2-979c-b10eb6582caf",
   "metadata": {},
   "outputs": [],
   "source": [
    "del fruits"
   ]
  },
  {
   "cell_type": "code",
   "execution_count": null,
   "id": "afa5c6d0-dda0-4870-a037-7b8598f39ad0",
   "metadata": {},
   "outputs": [],
   "source": [
    "# clear"
   ]
  },
  {
   "cell_type": "code",
   "execution_count": 32,
   "id": "13b89fc0-785b-4dc0-bf22-4f92fba79c70",
   "metadata": {},
   "outputs": [
    {
     "name": "stdout",
     "output_type": "stream",
     "text": [
      "fruits\n"
     ]
    }
   ],
   "source": [
    "fruits=[\"apple\",\"banana\",\"cherry\"]\n",
    "fruits.clear()\n",
    "print(\"fruits\")"
   ]
  },
  {
   "cell_type": "code",
   "execution_count": null,
   "id": "270b41bc-e235-442b-aebe-8889b344cdb7",
   "metadata": {},
   "outputs": [],
   "source": [
    "# copy"
   ]
  },
  {
   "cell_type": "code",
   "execution_count": 37,
   "id": "b2dfd17d-245c-450e-a698-bdfafd73556c",
   "metadata": {},
   "outputs": [
    {
     "name": "stdout",
     "output_type": "stream",
     "text": [
      "['apple', 'banana', 'cherry']\n"
     ]
    }
   ],
   "source": [
    "fruits=[\"apple\",\"banana\",\"cherry\"]\n",
    "myfruits=fruits.copy()\n",
    "print(myfruits)"
   ]
  },
  {
   "cell_type": "code",
   "execution_count": null,
   "id": "69ec3acb-5f94-4202-b425-9470b8c33898",
   "metadata": {},
   "outputs": [],
   "source": [
    "# Sort"
   ]
  },
  {
   "cell_type": "code",
   "execution_count": 2,
   "id": "91b66feb-0237-4a86-830a-a0ee3e711478",
   "metadata": {},
   "outputs": [
    {
     "name": "stdout",
     "output_type": "stream",
     "text": [
      "[1, 2, 3, 4]\n"
     ]
    }
   ],
   "source": [
    "numbers=[3,1,4,2]\n",
    "numbers.sort()\n",
    "print(numbers)"
   ]
  },
  {
   "cell_type": "code",
   "execution_count": null,
   "id": "4390854e-ed16-46d5-9923-2291f7da8dbe",
   "metadata": {},
   "outputs": [],
   "source": [
    "# Count"
   ]
  },
  {
   "cell_type": "code",
   "execution_count": 4,
   "id": "9d30e8ca-800d-4003-a795-9347f5febbe8",
   "metadata": {},
   "outputs": [
    {
     "name": "stdout",
     "output_type": "stream",
     "text": [
      "2\n"
     ]
    }
   ],
   "source": [
    "fruits=['apple','banana','apple','orange']\n",
    "count=fruits.count('apple')\n",
    "print(count)"
   ]
  },
  {
   "cell_type": "code",
   "execution_count": null,
   "id": "240f0d60-5810-4464-8cb4-559c27cb1007",
   "metadata": {},
   "outputs": [],
   "source": [
    "# Reverse"
   ]
  },
  {
   "cell_type": "code",
   "execution_count": 5,
   "id": "9acca0b2-4fdc-4bbf-ad61-29e756c254f5",
   "metadata": {},
   "outputs": [
    {
     "name": "stdout",
     "output_type": "stream",
     "text": [
      "['orange', 'banana', 'apple']\n"
     ]
    }
   ],
   "source": [
    "fruits=['apple','banana','orange']\n",
    "fruits.reverse()\n",
    "print(fruits)"
   ]
  },
  {
   "cell_type": "code",
   "execution_count": null,
   "id": "b922ca2f-5063-4dd6-b943-51115132806a",
   "metadata": {},
   "outputs": [],
   "source": [
    "# Tuples"
   ]
  },
  {
   "cell_type": "code",
   "execution_count": null,
   "id": "06536784-6450-4ecd-9385-c642f77e41a0",
   "metadata": {},
   "outputs": [],
   "source": [
    "# Empty Tuple"
   ]
  },
  {
   "cell_type": "code",
   "execution_count": 7,
   "id": "c1ea3e6e-eca5-4782-9bb3-4a8d98865532",
   "metadata": {},
   "outputs": [
    {
     "name": "stdout",
     "output_type": "stream",
     "text": [
      "()\n"
     ]
    }
   ],
   "source": [
    "My_tuple=()\n",
    "print(My_tuple)"
   ]
  },
  {
   "cell_type": "code",
   "execution_count": null,
   "id": "e90af163-1b33-441d-b086-ad6c8a5b71de",
   "metadata": {},
   "outputs": [],
   "source": [
    "# Tuple with one Element"
   ]
  },
  {
   "cell_type": "code",
   "execution_count": 8,
   "id": "7ffcd1cc-3440-400e-8c6c-b4cc71b62aa7",
   "metadata": {},
   "outputs": [
    {
     "name": "stdout",
     "output_type": "stream",
     "text": [
      "(5,)\n"
     ]
    }
   ],
   "source": [
    "my_tuple=(5,)\n",
    "print(my_tuple)"
   ]
  },
  {
   "cell_type": "code",
   "execution_count": null,
   "id": "1af062e8-36ea-40d1-813c-86e87f169105",
   "metadata": {},
   "outputs": [],
   "source": [
    "# Tuple with Multiple Elements"
   ]
  },
  {
   "cell_type": "code",
   "execution_count": 9,
   "id": "1793d7e4-87b9-4dac-8f39-9db3c3f92486",
   "metadata": {},
   "outputs": [
    {
     "name": "stdout",
     "output_type": "stream",
     "text": [
      "(1, 2, 3)\n"
     ]
    }
   ],
   "source": [
    "my_tuple=(1,2,3)\n",
    "print(my_tuple)"
   ]
  },
  {
   "cell_type": "code",
   "execution_count": null,
   "id": "fdb1fb97-2034-4e86-8175-43b47d8ff8ad",
   "metadata": {},
   "outputs": [],
   "source": [
    "# Tuple without parentheses"
   ]
  },
  {
   "cell_type": "code",
   "execution_count": 10,
   "id": "2ac2b809-cc6a-46d5-80e8-68df49765847",
   "metadata": {},
   "outputs": [
    {
     "name": "stdout",
     "output_type": "stream",
     "text": [
      "(1, 2, 3)\n"
     ]
    }
   ],
   "source": [
    "my_tuple=1,2,3\n",
    "print(my_tuple)"
   ]
  },
  {
   "cell_type": "code",
   "execution_count": null,
   "id": "9317b6b8-f6c4-49b5-a7c3-1162baf0d988",
   "metadata": {},
   "outputs": [],
   "source": [
    "# Nested Tuple"
   ]
  },
  {
   "cell_type": "code",
   "execution_count": 12,
   "id": "201d5909-3f4d-41b3-840f-8f3cd9c93eee",
   "metadata": {},
   "outputs": [
    {
     "name": "stdout",
     "output_type": "stream",
     "text": [
      "(1, (2, 3), 4)\n"
     ]
    }
   ],
   "source": [
    "my_tuple=(1,(2,3),4)\n",
    "print(my_tuple)"
   ]
  },
  {
   "cell_type": "code",
   "execution_count": null,
   "id": "0d973e48-3e74-45e9-856b-08b84f18204f",
   "metadata": {},
   "outputs": [],
   "source": [
    "# Indexing"
   ]
  },
  {
   "cell_type": "code",
   "execution_count": 13,
   "id": "59a7b48e-40bb-4257-9d07-790b89539f90",
   "metadata": {},
   "outputs": [
    {
     "name": "stdout",
     "output_type": "stream",
     "text": [
      "20\n"
     ]
    }
   ],
   "source": [
    "my_tuple=(10,20,30)\n",
    "print(my_tuple[1])"
   ]
  },
  {
   "cell_type": "code",
   "execution_count": null,
   "id": "8bdae4f4-c751-4b0d-af42-6d255e9b28d3",
   "metadata": {},
   "outputs": [],
   "source": [
    "# Slicing"
   ]
  },
  {
   "cell_type": "code",
   "execution_count": 14,
   "id": "dcc9f7dd-a95d-4d44-9e9d-e67afb4a9716",
   "metadata": {},
   "outputs": [
    {
     "name": "stdout",
     "output_type": "stream",
     "text": [
      "(20, 30, 40)\n"
     ]
    }
   ],
   "source": [
    "my_tuple=(10,20,30,40,50)\n",
    "print(my_tuple[1:4])"
   ]
  },
  {
   "cell_type": "code",
   "execution_count": null,
   "id": "d96f0aa8-0ff5-46bc-84ea-2db26b008b7e",
   "metadata": {},
   "outputs": [],
   "source": [
    "# Concatenation"
   ]
  },
  {
   "cell_type": "code",
   "execution_count": 15,
   "id": "c2c9a64b-cc5e-492d-af53-41f5138ba27a",
   "metadata": {},
   "outputs": [
    {
     "name": "stdout",
     "output_type": "stream",
     "text": [
      "(1, 2, 3, 4)\n"
     ]
    }
   ],
   "source": [
    "tuple1=(1,2)\n",
    "tuple2=(3,4)\n",
    "result=tuple1+tuple2\n",
    "print(result)"
   ]
  },
  {
   "cell_type": "code",
   "execution_count": null,
   "id": "9136914a-e82a-46ca-9872-2919e0eacb99",
   "metadata": {},
   "outputs": [],
   "source": [
    "# Repetition"
   ]
  },
  {
   "cell_type": "code",
   "execution_count": 16,
   "id": "0d71ca16-429f-4bca-9713-58bfc9610f3b",
   "metadata": {},
   "outputs": [
    {
     "name": "stdout",
     "output_type": "stream",
     "text": [
      "(1, 2, 1, 2, 1, 2)\n"
     ]
    }
   ],
   "source": [
    "my_tuple=(1,2)\n",
    "result=my_tuple*3\n",
    "print(result)"
   ]
  },
  {
   "cell_type": "code",
   "execution_count": null,
   "id": "72401005-dc1c-4028-ac56-e9194e4202c1",
   "metadata": {},
   "outputs": [],
   "source": [
    "# Count(elent)"
   ]
  },
  {
   "cell_type": "code",
   "execution_count": 17,
   "id": "d7a17426-62a5-4d01-bf6f-d9d230c779a8",
   "metadata": {},
   "outputs": [
    {
     "name": "stdout",
     "output_type": "stream",
     "text": [
      "2\n"
     ]
    }
   ],
   "source": [
    "my_tuple=(1,2,2,3)\n",
    "print(my_tuple.count(2))"
   ]
  },
  {
   "cell_type": "code",
   "execution_count": null,
   "id": "a6ca04c8-be00-4a40-ad5f-c6a00f320ff2",
   "metadata": {},
   "outputs": [],
   "source": [
    "# Index(element)"
   ]
  },
  {
   "cell_type": "code",
   "execution_count": 18,
   "id": "172a2584-c40f-404d-9017-a6f8c7c94dcc",
   "metadata": {},
   "outputs": [
    {
     "name": "stdout",
     "output_type": "stream",
     "text": [
      "1\n"
     ]
    }
   ],
   "source": [
    "my_tuple=(1,2,3)\n",
    "print(my_tuple.index(2))"
   ]
  },
  {
   "cell_type": "code",
   "execution_count": null,
   "id": "d662b4d4-b58f-4d8e-b3c0-435eb828f056",
   "metadata": {},
   "outputs": [],
   "source": [
    "# Tuple Unpacking"
   ]
  },
  {
   "cell_type": "code",
   "execution_count": 19,
   "id": "3b8c31f8-ff72-4998-8e6d-f60c5fe846dd",
   "metadata": {},
   "outputs": [
    {
     "name": "stdout",
     "output_type": "stream",
     "text": [
      "10 20 30\n"
     ]
    }
   ],
   "source": [
    "my_tuple=(10,20,30)\n",
    "a,b,c=my_tuple\n",
    "print(a,b,c)"
   ]
  },
  {
   "cell_type": "code",
   "execution_count": 21,
   "id": "83b37586-8f14-42b4-acc8-70c14f25d0f1",
   "metadata": {},
   "outputs": [
    {
     "name": "stdout",
     "output_type": "stream",
     "text": [
      "apple\n",
      "banana\n",
      "cherry\n"
     ]
    }
   ],
   "source": [
    "fruits=(\"apple\",\"banana\",\"cherry\")\n",
    "(green,yellow,red)=fruits\n",
    "print(green)\n",
    "print(yellow)\n",
    "print(red)"
   ]
  },
  {
   "cell_type": "code",
   "execution_count": null,
   "id": "0f8eecc9-74e0-45d9-adc6-1ea5ac51dc5b",
   "metadata": {},
   "outputs": [],
   "source": [
    "# len()"
   ]
  },
  {
   "cell_type": "code",
   "execution_count": 22,
   "id": "0a6a12ee-f148-4df5-bba1-17bf31191bd4",
   "metadata": {},
   "outputs": [
    {
     "name": "stdout",
     "output_type": "stream",
     "text": [
      "3\n"
     ]
    }
   ],
   "source": [
    "fruits=(\"apple\",\"orange\",\"kiwi\")\n",
    "print(len(fruits))"
   ]
  },
  {
   "cell_type": "code",
   "execution_count": null,
   "id": "848e3c20-3603-4aeb-8e44-9c3a9997961d",
   "metadata": {},
   "outputs": [],
   "source": [
    "# <class 'tuple'>"
   ]
  },
  {
   "cell_type": "code",
   "execution_count": 25,
   "id": "44383cd4-b6be-41ae-b3b1-5abfb8baab98",
   "metadata": {},
   "outputs": [
    {
     "name": "stdout",
     "output_type": "stream",
     "text": [
      "<class 'tuple'>\n"
     ]
    }
   ],
   "source": [
    "fruits=(\"apple\",\"orange\",\"kiwi\")\n",
    "print(type(fruits))"
   ]
  },
  {
   "cell_type": "code",
   "execution_count": null,
   "id": "751eb7c8-95e7-410c-8a42-0cebdc916af1",
   "metadata": {},
   "outputs": [],
   "source": [
    "# Negative index"
   ]
  },
  {
   "cell_type": "code",
   "execution_count": 26,
   "id": "a0a0fce5-271b-4cb4-b342-1f2fa84fb32f",
   "metadata": {},
   "outputs": [
    {
     "name": "stdout",
     "output_type": "stream",
     "text": [
      "cherry\n"
     ]
    }
   ],
   "source": [
    "fruits=(\"apple\",\"banana\",\"cherry\")\n",
    "print(fruits[-1])"
   ]
  },
  {
   "cell_type": "code",
   "execution_count": null,
   "id": "672802ac-2feb-4194-8bf9-ffc7a8869c73",
   "metadata": {},
   "outputs": [],
   "source": [
    "# Tuple to list convert"
   ]
  },
  {
   "cell_type": "code",
   "execution_count": 27,
   "id": "984548a6-0b65-4e52-bf63-a1c7d0c0096f",
   "metadata": {},
   "outputs": [
    {
     "name": "stdout",
     "output_type": "stream",
     "text": [
      "('apple', 'watermelon', 'cherry')\n"
     ]
    }
   ],
   "source": [
    "x=(\"apple\",\"banana\",\"cherry\")\n",
    "y=list(x)\n",
    "y[1]=\"watermelon\"\n",
    "x=tuple(y)\n",
    "print(x)"
   ]
  },
  {
   "cell_type": "code",
   "execution_count": null,
   "id": "6ed0d057-58c7-49b0-8df6-b7db9cc3cfaf",
   "metadata": {},
   "outputs": [],
   "source": [
    "# Sets"
   ]
  },
  {
   "cell_type": "code",
   "execution_count": null,
   "id": "1afb0a0c-6086-46a0-b816-d4dba4c800ec",
   "metadata": {},
   "outputs": [],
   "source": [
    "# Add()"
   ]
  },
  {
   "cell_type": "code",
   "execution_count": 28,
   "id": "d4170ab9-bac0-4a16-b502-9e62f602a54f",
   "metadata": {},
   "outputs": [
    {
     "name": "stdout",
     "output_type": "stream",
     "text": [
      "{'banana', 'orange', 'cherry', 'apple'}\n"
     ]
    }
   ],
   "source": [
    "fruits={\"apple\",\"banana\",\"cherry\"}\n",
    "fruits.add(\"orange\")\n",
    "print(fruits)"
   ]
  },
  {
   "cell_type": "code",
   "execution_count": null,
   "id": "47a71135-7d76-4bed-bcee-bb1c794c8792",
   "metadata": {},
   "outputs": [],
   "source": [
    "# Update"
   ]
  },
  {
   "cell_type": "code",
   "execution_count": 29,
   "id": "a2e97bfe-80db-4996-ba2c-c725bd8d685c",
   "metadata": {},
   "outputs": [
    {
     "name": "stdout",
     "output_type": "stream",
     "text": [
      "{'apple', 'banana', 'cherry', 'orange', 'kiwi'}\n"
     ]
    }
   ],
   "source": [
    "fruits={\"apple\",\"banana\",\"cherry\"}\n",
    "mylist=[\"kiwi\",\"orange\"]\n",
    "fruits.update(mylist)\n",
    "print(fruits)"
   ]
  },
  {
   "cell_type": "code",
   "execution_count": null,
   "id": "48a61862-c736-4432-890c-297fce79e040",
   "metadata": {},
   "outputs": [],
   "source": [
    "# Remove"
   ]
  },
  {
   "cell_type": "code",
   "execution_count": 30,
   "id": "58c461bd-a15b-4777-93d8-5793a2bfdaa6",
   "metadata": {},
   "outputs": [
    {
     "name": "stdout",
     "output_type": "stream",
     "text": [
      "{'cherry', 'apple'}\n"
     ]
    }
   ],
   "source": [
    "fruits={\"apple\",\"banana\",\"cherry\"}\n",
    "fruits.remove(\"banana\")\n",
    "print(fruits)"
   ]
  },
  {
   "cell_type": "code",
   "execution_count": null,
   "id": "8716eb68-4c08-4075-8c44-750d12436271",
   "metadata": {},
   "outputs": [],
   "source": [
    "# pop"
   ]
  },
  {
   "cell_type": "code",
   "execution_count": 33,
   "id": "2b780b84-a823-4389-bce7-93ffed5ef6f0",
   "metadata": {},
   "outputs": [
    {
     "name": "stdout",
     "output_type": "stream",
     "text": [
      "banana\n",
      "{'cherry', 'apple'}\n"
     ]
    }
   ],
   "source": [
    "fruits={\"apple\",\"banana\",\"cherry\"}\n",
    "x=fruits.pop()\n",
    "print(x)\n",
    "print(fruits)"
   ]
  },
  {
   "cell_type": "code",
   "execution_count": null,
   "id": "0dced57b-c1b6-4ee3-becf-d40283202ec3",
   "metadata": {},
   "outputs": [],
   "source": [
    "# Clear"
   ]
  },
  {
   "cell_type": "code",
   "execution_count": 34,
   "id": "f4c350a7-aa0b-4aab-8fcf-f05f23a909a7",
   "metadata": {},
   "outputs": [
    {
     "name": "stdout",
     "output_type": "stream",
     "text": [
      "set()\n"
     ]
    }
   ],
   "source": [
    "fruits={\"apple\",\"banana\",\"cherry\"}\n",
    "fruits.clear()\n",
    "print(fruits)"
   ]
  },
  {
   "cell_type": "code",
   "execution_count": null,
   "id": "dfd84b4f-3d2b-48e8-8f30-3e840c1596ef",
   "metadata": {},
   "outputs": [],
   "source": [
    "# del"
   ]
  },
  {
   "cell_type": "code",
   "execution_count": 38,
   "id": "2a4b795b-39de-4cee-9bdd-282aea13a294",
   "metadata": {},
   "outputs": [],
   "source": [
    "fruits={\"apple\",\"banana\",\"cherry\"}\n",
    "del fruits\n"
   ]
  },
  {
   "cell_type": "code",
   "execution_count": null,
   "id": "0ba0b17d-a6d9-46bb-92fe-57671144fbd8",
   "metadata": {},
   "outputs": [],
   "source": [
    "# Union()"
   ]
  },
  {
   "cell_type": "code",
   "execution_count": 39,
   "id": "f09b13b2-1f25-4660-a1d9-a203205d0fe6",
   "metadata": {},
   "outputs": [
    {
     "name": "stdout",
     "output_type": "stream",
     "text": [
      "{1, 'c', 2, 'a', 3, 'b'}\n"
     ]
    }
   ],
   "source": [
    "set1={\"a\",\"b\",\"c\"}\n",
    "set2={1,2,3}\n",
    "set3=set1.union(set2)\n",
    "print(set3)"
   ]
  },
  {
   "cell_type": "code",
   "execution_count": null,
   "id": "aaf0b2d7-f819-44ea-85b9-8ceef0701073",
   "metadata": {},
   "outputs": [],
   "source": [
    "# Update"
   ]
  },
  {
   "cell_type": "code",
   "execution_count": 48,
   "id": "d1ec3687-12fd-488a-8a87-aa2c4e1ab394",
   "metadata": {},
   "outputs": [
    {
     "name": "stdout",
     "output_type": "stream",
     "text": [
      "{1, 'c', 2, 'a', 3, 'b'}\n"
     ]
    }
   ],
   "source": [
    "set1={\"a\",\"b\",\"c\"}\n",
    "set2={1,2,3}\n",
    "set1.update(set2)\n",
    "print(set1)"
   ]
  },
  {
   "cell_type": "code",
   "execution_count": null,
   "id": "6dc75d6a-94b4-4255-a826-e4872b0125ee",
   "metadata": {},
   "outputs": [],
   "source": [
    "# Intersection"
   ]
  },
  {
   "cell_type": "code",
   "execution_count": 41,
   "id": "057fc13e-80b4-44b3-833e-18b1d76be036",
   "metadata": {},
   "outputs": [
    {
     "name": "stdout",
     "output_type": "stream",
     "text": [
      "{'apple'}\n"
     ]
    }
   ],
   "source": [
    "x={\"apple\",\"banana\",\"cherry\"}\n",
    "y={\"google\",\"microsoft\",\"apple\"}\n",
    "z=x.intersection(y)\n",
    "print(z)"
   ]
  },
  {
   "cell_type": "code",
   "execution_count": null,
   "id": "99d904bd-972d-45e9-ba20-080953e84bfc",
   "metadata": {},
   "outputs": [],
   "source": [
    "# Intersection_update"
   ]
  },
  {
   "cell_type": "code",
   "execution_count": 42,
   "id": "7e996810-229d-4931-9b7f-d69765068a76",
   "metadata": {},
   "outputs": [
    {
     "name": "stdout",
     "output_type": "stream",
     "text": [
      "{'apple'}\n"
     ]
    }
   ],
   "source": [
    "x={\"apple\",\"banana\",\"cherry\"}\n",
    "y={\"google\",\"microsoft\",\"apple\"}\n",
    "x.intersection_update(y)\n",
    "print(x)"
   ]
  },
  {
   "cell_type": "code",
   "execution_count": null,
   "id": "89041208-00f0-4c77-beb9-dd442a01afac",
   "metadata": {},
   "outputs": [],
   "source": [
    "# simmetric_difference"
   ]
  },
  {
   "cell_type": "code",
   "execution_count": 47,
   "id": "5e844a21-3b73-4fd4-9f2d-a4d45afb071e",
   "metadata": {},
   "outputs": [
    {
     "name": "stdout",
     "output_type": "stream",
     "text": [
      "{'banana', 'cherry', 'google', 'microsoft'}\n"
     ]
    }
   ],
   "source": [
    "x={\"apple\",\"banana\",\"cherry\"}\n",
    "y={\"google\",\"microsoft\",\"apple\"}\n",
    "z=x.symmetric_difference(y)\n",
    "print(z)"
   ]
  },
  {
   "cell_type": "code",
   "execution_count": null,
   "id": "23afac04-b71d-4c47-8f35-f81201672808",
   "metadata": {},
   "outputs": [],
   "source": [
    "# Symmetric difference update"
   ]
  },
  {
   "cell_type": "code",
   "execution_count": 45,
   "id": "5465188b-313c-4f1f-9b57-d3e829005a72",
   "metadata": {},
   "outputs": [
    {
     "name": "stdout",
     "output_type": "stream",
     "text": [
      "{'banana', 'cherry', 'google', 'microsoft'}\n"
     ]
    }
   ],
   "source": [
    "x={\"apple\",\"banana\",\"cherry\"}\n",
    "y={\"google\",\"microsoft\",\"apple\"}\n",
    "x.symmetric_difference_update(y)\n",
    "print(x)\n",
    "   "
   ]
  },
  {
   "cell_type": "code",
   "execution_count": null,
   "id": "5e584aa4-9dd9-4a57-b898-c14687148e97",
   "metadata": {},
   "outputs": [],
   "source": [
    "# frozenset"
   ]
  },
  {
   "cell_type": "code",
   "execution_count": 49,
   "id": "657fee10-e7bc-4bc5-a55f-a4d07800e698",
   "metadata": {},
   "outputs": [
    {
     "name": "stdout",
     "output_type": "stream",
     "text": [
      "frozenset object is: frozenset({1, 2, 3, 4, 5, 6, 7, 8, 9})\n"
     ]
    }
   ],
   "source": [
    "nu=(1,2,3,4,5,6,7,8,9)\n",
    "fnum=frozenset(nu)\n",
    "print(\"frozenset object is:\",fnum)"
   ]
  },
  {
   "cell_type": "code",
   "execution_count": null,
   "id": "cdce64a6-f8dd-4519-8d58-188d4a297803",
   "metadata": {},
   "outputs": [],
   "source": [
    "# Dictionaries"
   ]
  },
  {
   "cell_type": "code",
   "execution_count": 1,
   "id": "b6060e87-0881-49ce-9fd9-76f79c0810c3",
   "metadata": {},
   "outputs": [
    {
     "name": "stdout",
     "output_type": "stream",
     "text": [
      "{'brand': 'bmw', 'model': '2nd series', 'year': 2004}\n"
     ]
    }
   ],
   "source": [
    "cars={\n",
    "    \"brand\":\"bmw\",\n",
    "    \"model\":\"2nd series\",\n",
    "    \"year\":2004\n",
    "}\n",
    "print(cars)"
   ]
  },
  {
   "cell_type": "code",
   "execution_count": 2,
   "id": "a6511320-4f74-4dc3-843a-cf45c6f5eaf9",
   "metadata": {},
   "outputs": [
    {
     "name": "stdout",
     "output_type": "stream",
     "text": [
      "2nd series\n"
     ]
    }
   ],
   "source": [
    "x=cars.get(\"model\")\n",
    "print(x)"
   ]
  },
  {
   "cell_type": "code",
   "execution_count": 5,
   "id": "5b5325e4-d23f-4c82-b0ee-21a35a3b916c",
   "metadata": {},
   "outputs": [
    {
     "name": "stdout",
     "output_type": "stream",
     "text": [
      "dict_keys(['brand', 'model', 'year'])\n"
     ]
    }
   ],
   "source": [
    "x=cars.keys()\n",
    "print(x)"
   ]
  },
  {
   "cell_type": "code",
   "execution_count": 6,
   "id": "7222e4d9-fcce-4e17-b091-dd7f581a17c2",
   "metadata": {},
   "outputs": [
    {
     "name": "stdout",
     "output_type": "stream",
     "text": [
      "dict_values(['bmw', '2nd series', 2004])\n"
     ]
    }
   ],
   "source": [
    "x=cars.values()\n",
    "print(x)"
   ]
  },
  {
   "cell_type": "code",
   "execution_count": 11,
   "id": "5f3f257e-12f2-453f-87e0-6f849950a291",
   "metadata": {},
   "outputs": [
    {
     "name": "stdout",
     "output_type": "stream",
     "text": [
      "dict_values(['ford', 'mustang', 1964])\n",
      "dict_values(['ford', 'mustang', 2020])\n"
     ]
    }
   ],
   "source": [
    "car={\n",
    "    \"brand\":\"ford\",\n",
    "     \"model\":\"mustang\",\n",
    "    \"year\":1964\n",
    "}\n",
    "x=car.values()\n",
    "print(x)\n",
    "car[\"year\"]=2020\n",
    "print(x)\n"
   ]
  },
  {
   "cell_type": "code",
   "execution_count": 12,
   "id": "e1ee2c91-ece4-4066-948d-73e0a97086e6",
   "metadata": {},
   "outputs": [
    {
     "name": "stdout",
     "output_type": "stream",
     "text": [
      "dict_values(['ford', 'mustang', 1964])\n",
      "dict_values(['ford', 'mustang', 1964, 'red'])\n"
     ]
    }
   ],
   "source": [
    "car={\n",
    "    \"brand\":\"ford\",\n",
    "    \"model\":\"mustang\",\n",
    "    \"year\":1964\n",
    "}\n",
    "x=car.values()\n",
    "print(x)\n",
    "car[\"color\"]=\"red\"\n",
    "print(x)\n"
   ]
  },
  {
   "cell_type": "code",
   "execution_count": 15,
   "id": "5e8a832e-aac5-4c6a-8838-fd9966a2deef",
   "metadata": {},
   "outputs": [
    {
     "name": "stdout",
     "output_type": "stream",
     "text": [
      "dict_items([('brand', 'bmw'), ('model', '2nd series'), ('year', 2004)])\n"
     ]
    }
   ],
   "source": [
    "x=cars.items()\n",
    "print(x)"
   ]
  },
  {
   "cell_type": "code",
   "execution_count": 23,
   "id": "a8880448-8437-4229-a1c4-f70eb0f1b8f1",
   "metadata": {},
   "outputs": [
    {
     "name": "stdout",
     "output_type": "stream",
     "text": [
      "{'brand': 'ford', 'model': 'mustang', 'year': 2020}\n"
     ]
    }
   ],
   "source": [
    "car={\n",
    "    \"brand\":\"ford\",\n",
    "\"model\":\"mustang\",\n",
    "    \"year\":1964\n",
    "}\n",
    "car[\"year\"]=2020\n",
    "print(cars)\n"
   ]
  },
  {
   "cell_type": "code",
   "execution_count": 34,
   "id": "ed853474-650e-44c0-862e-fb304f9a36f1",
   "metadata": {},
   "outputs": [
    {
     "data": {
      "text/plain": [
       "{'brand': 'ford', 'model': 'mustang', 'year': 2020}"
      ]
     },
     "execution_count": 34,
     "metadata": {},
     "output_type": "execute_result"
    }
   ],
   "source": [
    "cars={\n",
    "    \"brand\":\"ford\",\n",
    "    \"model\":\"mustang\",\n",
    "    \"year\":1964\n",
    "}\n",
    "cars.update({\"year\":2020})\n",
    "cars"
   ]
  },
  {
   "cell_type": "code",
   "execution_count": 36,
   "id": "dee0cf59-c568-4e4e-b77a-799154f51d6f",
   "metadata": {},
   "outputs": [
    {
     "data": {
      "text/plain": [
       "{'brand': 'ford', 'model': 'mustang'}"
      ]
     },
     "execution_count": 36,
     "metadata": {},
     "output_type": "execute_result"
    }
   ],
   "source": [
    "car={\n",
    "    \"brand\":\"ford\",\n",
    "\"model\":\"mustang\",\n",
    "\"year\":1964\n",
    "}\n",
    "car.pop('year')\n",
    "car"
   ]
  },
  {
   "cell_type": "code",
   "execution_count": 26,
   "id": "b797fe41-8816-4f12-b116-c96589c4e096",
   "metadata": {},
   "outputs": [
    {
     "name": "stdout",
     "output_type": "stream",
     "text": [
      "{'brand': 'ford'}\n"
     ]
    }
   ],
   "source": [
    "del car[\"model\"]\n",
    "print(car)"
   ]
  },
  {
   "cell_type": "code",
   "execution_count": 27,
   "id": "77f76cb3-56a5-432a-8e85-4c7613981c2b",
   "metadata": {},
   "outputs": [
    {
     "name": "stdout",
     "output_type": "stream",
     "text": [
      "{}\n"
     ]
    }
   ],
   "source": [
    "car.clear()\n",
    "print(car)"
   ]
  },
  {
   "cell_type": "code",
   "execution_count": 28,
   "id": "97b8e61d-8e5e-47da-a49a-649a350c324b",
   "metadata": {},
   "outputs": [
    {
     "name": "stdout",
     "output_type": "stream",
     "text": [
      "{'brand': 'ford', 'model': 'mustang', 'year': 1964}\n"
     ]
    }
   ],
   "source": [
    "car={\n",
    "    \"brand\":\"ford\",\n",
    "    \"model\":\"mustang\",\n",
    "    \"year\":1964\n",
    "}\n",
    "mydict=car.copy()\n",
    "print(mydict)\n",
    "    "
   ]
  },
  {
   "cell_type": "code",
   "execution_count": null,
   "id": "6706b24b-ecd5-41e0-a5bf-fc1c017dd406",
   "metadata": {},
   "outputs": [],
   "source": [
    "# Dict()"
   ]
  },
  {
   "cell_type": "code",
   "execution_count": 30,
   "id": "22a5d698-62da-45f3-aed3-a81b27d23751",
   "metadata": {},
   "outputs": [
    {
     "name": "stdout",
     "output_type": "stream",
     "text": [
      "{'brand': 'ford', 'model': 'mustang', 'year': 1964}\n"
     ]
    }
   ],
   "source": [
    "car={\n",
    "    \"brand\":\"ford\",\n",
    "    \"model\":\"mustang\",\n",
    "    \"year\":1964\n",
    "}\n",
    "mydict=dict(car)\n",
    "print(mydict)"
   ]
  },
  {
   "cell_type": "code",
   "execution_count": null,
   "id": "36ea0a62-013c-4990-81e6-3a2dca3abac6",
   "metadata": {},
   "outputs": [],
   "source": [
    "# Nested Dictionaries"
   ]
  },
  {
   "cell_type": "code",
   "execution_count": 33,
   "id": "c6019666-5cda-4ed9-985e-ee04585f1ba3",
   "metadata": {},
   "outputs": [
    {
     "data": {
      "text/plain": [
       "{'child1': {'name': 'arun', 'year': 2000},\n",
       " 'child2': {'name': 'vignesh', 'year': 2001},\n",
       " 'child3': {'name': 'arya', 'year': 2018}}"
      ]
     },
     "execution_count": 33,
     "metadata": {},
     "output_type": "execute_result"
    }
   ],
   "source": [
    "friends={\n",
    "    \"child1\":{\n",
    "        \"name\":\"arun\",\n",
    "        \"year\":2000\n",
    "    },\n",
    "    \"child2\":{\n",
    "        \"name\":\"vignesh\",\n",
    "        \"year\":2001\n",
    "    },\n",
    "    \"child3\":{\n",
    "        \"name\":\"arya\",\n",
    "        \"year\":2018\n",
    "    }\n",
    "}\n",
    "friends"
   ]
  },
  {
   "cell_type": "code",
   "execution_count": 40,
   "id": "7293ad43-5929-4a3d-bc52-46310e82b55c",
   "metadata": {},
   "outputs": [
    {
     "data": {
      "text/plain": [
       "{'child1': {'name': 'arun', 'year': 2000},\n",
       " 'child2': {'name': 'vignesh', 'year': 2018},\n",
       " 'child3': {'name': 'arya', 'year': 2018}}"
      ]
     },
     "execution_count": 40,
     "metadata": {},
     "output_type": "execute_result"
    }
   ],
   "source": [
    "child1={\n",
    "    \"name\":\"arun\",\n",
    "    \"year\":2000\n",
    "}\n",
    "child2={\n",
    "    \"name\":\"vignesh\",\n",
    "    \"year\":2018\n",
    "}\n",
    "child3={\n",
    "    \"name\":\"arya\",\n",
    "    \"year\":2018\n",
    "}\n",
    "friends={\n",
    "    \"child1\":child1,\n",
    "    \"child2\":child2,\n",
    "    \"child3\":child3\n",
    "}\n",
    "friends"
   ]
  },
  {
   "cell_type": "code",
   "execution_count": null,
   "id": "f526d0ea-af95-471d-8fdc-7b42cf20c609",
   "metadata": {},
   "outputs": [],
   "source": [
    "# Conditional Statements"
   ]
  },
  {
   "cell_type": "code",
   "execution_count": 51,
   "id": "4d7f1b86-f1e5-46ca-babe-9603425b2a28",
   "metadata": {},
   "outputs": [
    {
     "data": {
      "text/plain": [
       "True"
      ]
     },
     "execution_count": 51,
     "metadata": {},
     "output_type": "execute_result"
    }
   ],
   "source": [
    "a=10\n",
    "b=13\n",
    "a<b"
   ]
  },
  {
   "cell_type": "code",
   "execution_count": 49,
   "id": "aa81fe29-ff9e-4360-9ee8-bb54598504b9",
   "metadata": {},
   "outputs": [],
   "source": [
    "if a==b:\n",
    "    print(\"Equal\")"
   ]
  },
  {
   "cell_type": "code",
   "execution_count": 50,
   "id": "ac381ca8-eb44-4c95-b952-b0d5d8726f03",
   "metadata": {},
   "outputs": [
    {
     "name": "stdout",
     "output_type": "stream",
     "text": [
      "error\n"
     ]
    }
   ],
   "source": [
    "if a==b:\n",
    "     print(\"Equal\")\n",
    "else:\n",
    "     print(\"error\")"
   ]
  },
  {
   "cell_type": "code",
   "execution_count": 6,
   "id": "465b8a1e-b4c4-4c55-a297-1d3c8665cfe9",
   "metadata": {},
   "outputs": [
    {
     "ename": "NameError",
     "evalue": "name 'a' is not defined",
     "output_type": "error",
     "traceback": [
      "\u001b[1;31m---------------------------------------------------------------------------\u001b[0m",
      "\u001b[1;31mNameError\u001b[0m                                 Traceback (most recent call last)",
      "Cell \u001b[1;32mIn[6], line 1\u001b[0m\n\u001b[1;32m----> 1\u001b[0m \u001b[38;5;28;01mif\u001b[39;00m \u001b[43ma\u001b[49m\u001b[38;5;241m==\u001b[39mb:\n\u001b[0;32m      2\u001b[0m     \u001b[38;5;28mprint\u001b[39m(\u001b[38;5;124m\"\u001b[39m\u001b[38;5;124mEqual\u001b[39m\u001b[38;5;124m\"\u001b[39m)\n\u001b[0;32m      3\u001b[0m \u001b[38;5;28;01melif\u001b[39;00m a\u001b[38;5;241m<\u001b[39mb:\n",
      "\u001b[1;31mNameError\u001b[0m: name 'a' is not defined"
     ]
    }
   ],
   "source": [
    "if a==b:\n",
    "    print(\"Equal\")\n",
    "elif a<b:\n",
    "    print(\"B is greater\")\n",
    "else:\n",
    "    print(error)"
   ]
  },
  {
   "cell_type": "code",
   "execution_count": 2,
   "id": "dd8e5c64-4f38-46a5-bea1-4e2112ba291c",
   "metadata": {},
   "outputs": [],
   "source": [
    "# simple if"
   ]
  },
  {
   "cell_type": "code",
   "execution_count": 53,
   "id": "40d6144d-dff3-44b2-a380-18540e1f9bed",
   "metadata": {},
   "outputs": [
    {
     "name": "stdout",
     "output_type": "stream",
     "text": [
      "b is greater than a\n"
     ]
    }
   ],
   "source": [
    "a=33\n",
    "b=200\n",
    "if b>a:\n",
    "    print(\"b is greater than a\")"
   ]
  },
  {
   "cell_type": "code",
   "execution_count": null,
   "id": "1e6767b2-d6de-45f8-87bf-b0f797d34193",
   "metadata": {},
   "outputs": [],
   "source": [
    "# Elif"
   ]
  },
  {
   "cell_type": "code",
   "execution_count": 54,
   "id": "6100fc76-7323-4650-9518-6d73d5d8a483",
   "metadata": {},
   "outputs": [
    {
     "name": "stdout",
     "output_type": "stream",
     "text": [
      "a and b are equal\n"
     ]
    }
   ],
   "source": [
    "a=33\n",
    "b=33\n",
    "if b>a:\n",
    "    print(\"b is greater than a\")\n",
    "elif a==b:\n",
    "    print(\"a and b are equal\")"
   ]
  },
  {
   "cell_type": "code",
   "execution_count": null,
   "id": "832f92d1-f875-4c4d-b3fd-f3c4f096c609",
   "metadata": {},
   "outputs": [],
   "source": [
    "# Else"
   ]
  },
  {
   "cell_type": "code",
   "execution_count": 55,
   "id": "1ef54af5-9c1c-4959-9100-e0d4dd4d43b8",
   "metadata": {},
   "outputs": [
    {
     "name": "stdout",
     "output_type": "stream",
     "text": [
      "a is greater than b\n"
     ]
    }
   ],
   "source": [
    "a=200\n",
    "b=33\n",
    "if b>a:\n",
    "    print(\"b is greater than a\")\n",
    "elif a==b:\n",
    "    print(\"a and b are equal\")\n",
    "else:\n",
    "    print(\"a is greater than b\")"
   ]
  },
  {
   "cell_type": "code",
   "execution_count": 57,
   "id": "09d9f17a-dd19-4408-b277-542a66faad23",
   "metadata": {},
   "outputs": [
    {
     "name": "stdout",
     "output_type": "stream",
     "text": [
      "B\n"
     ]
    }
   ],
   "source": [
    "a=2\n",
    "b=330\n",
    "print(\"A\")if a>b else print(\"B\")"
   ]
  },
  {
   "cell_type": "code",
   "execution_count": 58,
   "id": "89f45ccb-4209-42e0-952d-6dc0c4b37602",
   "metadata": {},
   "outputs": [
    {
     "name": "stdout",
     "output_type": "stream",
     "text": [
      "=\n"
     ]
    }
   ],
   "source": [
    "a=330\n",
    "b=330\n",
    "print(\"A\")if a>b else print(\"=\")if a==b else print(\"B\")"
   ]
  },
  {
   "cell_type": "code",
   "execution_count": null,
   "id": "0bf1227a-7364-46cd-a89b-c8e18e5ef3bc",
   "metadata": {},
   "outputs": [],
   "source": [
    "# And"
   ]
  },
  {
   "cell_type": "code",
   "execution_count": 59,
   "id": "134d54d3-6c1c-4b21-b7cf-524c32f46cb4",
   "metadata": {},
   "outputs": [
    {
     "name": "stdout",
     "output_type": "stream",
     "text": [
      "Both conditions are True\n"
     ]
    }
   ],
   "source": [
    "a=200\n",
    "b=33\n",
    "c=500\n",
    "if a>b and c>a:\n",
    "    print(\"Both conditions are True\")"
   ]
  },
  {
   "cell_type": "code",
   "execution_count": null,
   "id": "4b3f3de9-7e23-4dcf-9656-c9ae50492d38",
   "metadata": {},
   "outputs": [],
   "source": [
    "# Or"
   ]
  },
  {
   "cell_type": "code",
   "execution_count": 56,
   "id": "d318e4e8-d510-4826-a929-dc6bd0a51832",
   "metadata": {},
   "outputs": [
    {
     "name": "stdout",
     "output_type": "stream",
     "text": [
      "At least one of the conditions is True\n"
     ]
    }
   ],
   "source": [
    "a=200\n",
    "b=33\n",
    "c=500\n",
    "if a>b or a>c:\n",
    "    print(\"At least one of the conditions is True\")"
   ]
  },
  {
   "cell_type": "code",
   "execution_count": null,
   "id": "aa18aaf2-1669-4225-947a-c93e83bb8434",
   "metadata": {},
   "outputs": [],
   "source": [
    "# Nested if"
   ]
  },
  {
   "cell_type": "code",
   "execution_count": 60,
   "id": "b64acffd-fc98-4ac4-a66a-5255f4d21b29",
   "metadata": {},
   "outputs": [
    {
     "name": "stdout",
     "output_type": "stream",
     "text": [
      "Above ten,\n",
      "and also above 20.\n"
     ]
    }
   ],
   "source": [
    "x=41\n",
    "if x>10:\n",
    "    print(\"Above ten,\")\n",
    "    if x>20:\n",
    "        print(\"and also above 20.\")"
   ]
  },
  {
   "cell_type": "code",
   "execution_count": null,
   "id": "963b0f46-46f3-4b88-87a7-d511aad4b980",
   "metadata": {},
   "outputs": [],
   "source": [
    "# Pass Statement"
   ]
  },
  {
   "cell_type": "code",
   "execution_count": 63,
   "id": "c21fd72a-6e90-46f0-b940-1b0df4f744db",
   "metadata": {},
   "outputs": [],
   "source": [
    "a=33\n",
    "b=200\n",
    "if b>a:\n",
    "    pass"
   ]
  },
  {
   "cell_type": "code",
   "execution_count": null,
   "id": "c50f42a4-0700-42eb-ade8-1714c2498d86",
   "metadata": {},
   "outputs": [],
   "source": [
    "# Looping Statements"
   ]
  },
  {
   "cell_type": "code",
   "execution_count": 1,
   "id": "accd2cf6-52f9-402a-8db5-baeccd0b3069",
   "metadata": {},
   "outputs": [
    {
     "name": "stdout",
     "output_type": "stream",
     "text": [
      "0\n",
      "1\n",
      "2\n",
      "3\n",
      "4\n"
     ]
    }
   ],
   "source": [
    "i=0\n",
    "while i<5:\n",
    "    print(i)\n",
    "    i+=1"
   ]
  },
  {
   "cell_type": "code",
   "execution_count": 2,
   "id": "19d1254f-775c-4564-9534-35279387c353",
   "metadata": {},
   "outputs": [
    {
     "name": "stdout",
     "output_type": "stream",
     "text": [
      "0\n",
      "1\n",
      "2\n",
      "4\n"
     ]
    }
   ],
   "source": [
    "i=0\n",
    "while i<5:\n",
    "    if i==3:\n",
    "        i+=1\n",
    "        continue\n",
    "    else:\n",
    "        print(i)\n",
    "        i+=1"
   ]
  },
  {
   "cell_type": "code",
   "execution_count": 3,
   "id": "7691674a-2311-4923-8864-91a63d74be1f",
   "metadata": {},
   "outputs": [
    {
     "name": "stdout",
     "output_type": "stream",
     "text": [
      "0\n",
      "1\n",
      "2\n"
     ]
    }
   ],
   "source": [
    "i=0\n",
    "while i<5:\n",
    "    if i==3:\n",
    "        i+=1\n",
    "        break\n",
    "    else:\n",
    "        print(i)\n",
    "        i+=1"
   ]
  },
  {
   "cell_type": "code",
   "execution_count": 1,
   "id": "d1183342-cf83-4ec9-930b-43b63ffe4d08",
   "metadata": {},
   "outputs": [
    {
     "name": "stdout",
     "output_type": "stream",
     "text": [
      "0\n",
      "1\n",
      "2\n",
      "3\n"
     ]
    }
   ],
   "source": [
    "i=0\n",
    "while i<4:\n",
    "    print(i)\n",
    "    i+=1"
   ]
  },
  {
   "cell_type": "code",
   "execution_count": 1,
   "id": "3430227a-4326-40a8-874c-f8ae68d76fe6",
   "metadata": {},
   "outputs": [
    {
     "name": "stdout",
     "output_type": "stream",
     "text": [
      "0\n",
      "1\n",
      "2\n",
      "3\n"
     ]
    }
   ],
   "source": [
    "i=0\n",
    "while i<4:\n",
    "    print(i)\n",
    "    i+=1\n",
    "    continue"
   ]
  },
  {
   "cell_type": "code",
   "execution_count": 4,
   "id": "a91e41ec-cbbc-458e-b53e-0dc44a50c19f",
   "metadata": {},
   "outputs": [
    {
     "name": "stdout",
     "output_type": "stream",
     "text": [
      "3\n"
     ]
    }
   ],
   "source": [
    "i=0\n",
    "while i<4:\n",
    "    i+=3\n",
    "    print(i)\n",
    "    break"
   ]
  },
  {
   "cell_type": "code",
   "execution_count": null,
   "id": "78c8af56-e2aa-4732-be9c-e717a4515e21",
   "metadata": {},
   "outputs": [],
   "source": [
    "# Pass Statemnt"
   ]
  },
  {
   "cell_type": "code",
   "execution_count": null,
   "id": "913e4032-51b9-4829-993d-bcc466ec294c",
   "metadata": {},
   "outputs": [],
   "source": [
    "a='loop in python'\n",
    "i=0\n",
    "while i<len(a):\n",
    " i+1\n",
    "pass\n",
    "print('value of i:',i)"
   ]
  },
  {
   "cell_type": "code",
   "execution_count": 3,
   "id": "3f567d4b-b2fe-41b8-aa39-8e8d98e4e45d",
   "metadata": {},
   "outputs": [
    {
     "name": "stdout",
     "output_type": "stream",
     "text": [
      "current letter: l\n",
      "current letter: o\n",
      "current letter: o\n",
      "current letter: p\n",
      "current letter:  \n",
      "current letter: i\n",
      "current letter: n\n",
      "current letter:  \n",
      "current letter: p\n",
      "current letter: y\n",
      "current letter: t\n",
      "current letter: h\n",
      "current letter: o\n",
      "current letter: n\n"
     ]
    }
   ],
   "source": [
    "i=0\n",
    "a='loops in python'\n",
    "while i<len(a):\n",
    "    if a[i]=='e'or a[i]=='s':\n",
    "        i+=1\n",
    "        continue\n",
    "    print('current letter:',a[i])\n",
    "    i+=1"
   ]
  },
  {
   "cell_type": "code",
   "execution_count": null,
   "id": "9b13db0c-17be-4bb7-bb92-b184ad493c8d",
   "metadata": {},
   "outputs": [],
   "source": [
    "i=0\n",
    "a='loops in python'\n",
    "while i<len(a):\n",
    "    if a[i]=='p' or a[i]=='h':\n",
    "        i+=1\n",
    "        break\n",
    "    print('curent letter:',a[i])\n",
    "    i+=1"
   ]
  },
  {
   "cell_type": "code",
   "execution_count": null,
   "id": "771836cd-adf0-4d99-a1f8-b73d4a5453b3",
   "metadata": {},
   "outputs": [],
   "source": [
    "# While-else loop"
   ]
  },
  {
   "cell_type": "code",
   "execution_count": 2,
   "id": "98ce86f9-4b29-4f85-97b9-ebb6d6f5f5c3",
   "metadata": {},
   "outputs": [
    {
     "name": "stdout",
     "output_type": "stream",
     "text": [
      "1\n",
      "2\n",
      "3\n",
      "4\n",
      "No Break\n",
      "\n"
     ]
    }
   ],
   "source": [
    "i=0\n",
    "while i<4:\n",
    "    i+=1\n",
    "    print(i)\n",
    "else:\n",
    "    print(\"No Break\\n\")"
   ]
  },
  {
   "cell_type": "code",
   "execution_count": 2,
   "id": "cd8c470f-90c6-4cd5-955b-64e2919ce60f",
   "metadata": {},
   "outputs": [
    {
     "name": "stdout",
     "output_type": "stream",
     "text": [
      "0\n"
     ]
    }
   ],
   "source": [
    "i=0\n",
    "while i<4:\n",
    " i+1\n",
    " print(i)\n",
    " break\n",
    "else:\n",
    "    print(\"No Break\")"
   ]
  },
  {
   "cell_type": "code",
   "execution_count": null,
   "id": "daa96f9e-428d-42d1-8101-302ebf1643f3",
   "metadata": {},
   "outputs": [],
   "source": [
    "# For loops"
   ]
  },
  {
   "cell_type": "code",
   "execution_count": 10,
   "id": "2adb4575-5fda-4a7e-a7f4-629f6bd549ca",
   "metadata": {},
   "outputs": [
    {
     "name": "stdout",
     "output_type": "stream",
     "text": [
      "List iteration\n",
      "hello\n",
      "for\n",
      "python\n"
     ]
    }
   ],
   "source": [
    "print(\"List iteration\")\n",
    "l=[\"hello\",\"for\",\"python\"]\n",
    "for i in l:\n",
    "    print(i)"
   ]
  },
  {
   "cell_type": "code",
   "execution_count": 11,
   "id": "ec0cd52c-735c-4e43-9090-b21a0b44bc95",
   "metadata": {},
   "outputs": [
    {
     "name": "stdout",
     "output_type": "stream",
     "text": [
      "\n",
      "Tuple iteration\n",
      "hello\n",
      "for\n",
      "python\n"
     ]
    }
   ],
   "source": [
    "print(\"\\nTuple iteration\")\n",
    "t=(\"hello\",\"for\",\"python\")\n",
    "for i in t:\n",
    "    print(i)"
   ]
  },
  {
   "cell_type": "code",
   "execution_count": 12,
   "id": "e87ed202-6ed3-411b-813a-ad634f47190a",
   "metadata": {},
   "outputs": [
    {
     "name": "stdout",
     "output_type": "stream",
     "text": [
      "\n",
      "Dictionary iteration\n",
      "xyz123\n",
      "abc345\n"
     ]
    }
   ],
   "source": [
    "print(\"\\nDictionary iteration\")\n",
    "d=dict()\n",
    "d['xyz']=123\n",
    "d['abc']=345\n",
    "for i in d:\n",
    "    print(\"%s%d\"%(i,d[i]))"
   ]
  },
  {
   "cell_type": "code",
   "execution_count": null,
   "id": "f2af5bb2-76c7-456a-b9ae-18090e802b92",
   "metadata": {},
   "outputs": [],
   "source": [
    "# continue"
   ]
  },
  {
   "cell_type": "code",
   "execution_count": 3,
   "id": "26de9fa8-f761-4208-9afe-2c6bb9ec73e3",
   "metadata": {},
   "outputs": [
    {
     "name": "stdout",
     "output_type": "stream",
     "text": [
      "current letter: p\n",
      "current letter: y\n",
      "current letter: t\n",
      "current letter: h\n",
      "current letter: n\n",
      "current letter:  \n",
      "current letter: d\n",
      "current letter: v\n",
      "current letter: l\n",
      "current letter: p\n",
      "current letter: r\n"
     ]
    }
   ],
   "source": [
    "for x in 'python developer':\n",
    "    if x=='e' or x=='o':\n",
    "        continue\n",
    "    print('current letter:',x)"
   ]
  },
  {
   "cell_type": "code",
   "execution_count": 22,
   "id": "3c185c7e-2da3-42d7-9784-976b1041a8fa",
   "metadata": {},
   "outputs": [
    {
     "name": "stdout",
     "output_type": "stream",
     "text": [
      "current letter: o\n"
     ]
    }
   ],
   "source": [
    "for x in 'python developer':\n",
    "    if x=='o' or x=='e':\n",
    "        break\n",
    "print('current letter:',x)"
   ]
  },
  {
   "cell_type": "code",
   "execution_count": 19,
   "id": "6f10e340-0861-43f5-af90-5a0458e21b01",
   "metadata": {},
   "outputs": [
    {
     "name": "stdout",
     "output_type": "stream",
     "text": [
      "last letter: r\n"
     ]
    }
   ],
   "source": [
    "for x in \"python developer\":\n",
    "    pass\n",
    "print(\"last letter:\",x)"
   ]
  },
  {
   "cell_type": "code",
   "execution_count": null,
   "id": "644847fe-14d2-4e35-b87c-1adb9cd9ec55",
   "metadata": {},
   "outputs": [],
   "source": [
    "# Range"
   ]
  },
  {
   "cell_type": "code",
   "execution_count": 23,
   "id": "8094aca0-298f-460d-8b94-dfaf54255539",
   "metadata": {},
   "outputs": [
    {
     "name": "stdout",
     "output_type": "stream",
     "text": [
      "0\n",
      "1\n",
      "2\n",
      "3\n",
      "4\n",
      "5\n",
      "6\n",
      "7\n",
      "8\n",
      "9\n"
     ]
    }
   ],
   "source": [
    "for i in range(10):\n",
    "    print(i,end=\"\")\n",
    "    print()"
   ]
  },
  {
   "cell_type": "code",
   "execution_count": 24,
   "id": "7ea428e2-2907-4d12-83f8-b51176009f2c",
   "metadata": {},
   "outputs": [
    {
     "name": "stdout",
     "output_type": "stream",
     "text": [
      "10\n",
      "20\n",
      "30\n",
      "40\n"
     ]
    }
   ],
   "source": [
    "l=[10,20,30,40]\n",
    "for i in range(len(l)):\n",
    "    print(l[i],end=\"\")\n",
    "    print()"
   ]
  },
  {
   "cell_type": "code",
   "execution_count": 25,
   "id": "7097337e-de17-4ab9-b897-2c6b05c9e10f",
   "metadata": {},
   "outputs": [
    {
     "name": "stdout",
     "output_type": "stream",
     "text": [
      "sum of first 10 natural number: 55\n"
     ]
    }
   ],
   "source": [
    "sum=0\n",
    "for i in range(1,11):\n",
    "    sum=sum+i\n",
    "print(\"sum of first 10 natural number:\",sum)"
   ]
  },
  {
   "cell_type": "code",
   "execution_count": 9,
   "id": "8a0b6b4b-06cf-485b-85aa-904ec54cabf3",
   "metadata": {},
   "outputs": [
    {
     "name": "stdout",
     "output_type": "stream",
     "text": [
      "1\n",
      "2\n",
      "3\n",
      "No Break\n",
      "\n"
     ]
    }
   ],
   "source": [
    "for i in range(1,4):\n",
    "  print(i)\n",
    "else:\n",
    "  print(\"No Break\\n\")"
   ]
  },
  {
   "cell_type": "code",
   "execution_count": 10,
   "id": "261048e3-1c80-469f-9a7d-e75a1708dde9",
   "metadata": {},
   "outputs": [
    {
     "name": "stdout",
     "output_type": "stream",
     "text": [
      "1\n"
     ]
    }
   ],
   "source": [
    "for i in range(1,4):\n",
    "  print(i)\n",
    "  break\n",
    "else:\n",
    "    print(\"No Break\")"
   ]
  },
  {
   "cell_type": "code",
   "execution_count": null,
   "id": "c29b2c2f-106f-4227-8c04-2d10605e4682",
   "metadata": {},
   "outputs": [],
   "source": [
    "# Nested loop"
   ]
  },
  {
   "cell_type": "code",
   "execution_count": 11,
   "id": "8a7031d8-12e2-4e7a-9462-8d30a0850570",
   "metadata": {},
   "outputs": [
    {
     "name": "stdout",
     "output_type": "stream",
     "text": [
      "red apple\n",
      "red banana\n",
      "red cherry\n",
      "big apple\n",
      "big banana\n",
      "big cherry\n",
      "tasty apple\n",
      "tasty banana\n",
      "tasty cherry\n"
     ]
    }
   ],
   "source": [
    "adj=[\"red\",\"big\",\"tasty\"]\n",
    "fruits=[\"apple\",\"banana\",\"cherry\"]\n",
    "for x in adj:\n",
    " for y in fruits:\n",
    "  print(x,y)"
   ]
  },
  {
   "cell_type": "code",
   "execution_count": null,
   "id": "5f96eaaa-8c33-47e6-afbf-5bd58f03f8bc",
   "metadata": {},
   "outputs": [],
   "source": [
    "# Python Functions"
   ]
  },
  {
   "cell_type": "code",
   "execution_count": 13,
   "id": "83f59b25-904a-4375-a4a5-6cc425de4f51",
   "metadata": {},
   "outputs": [
    {
     "name": "stdout",
     "output_type": "stream",
     "text": [
      "welcome to ipcs\n"
     ]
    }
   ],
   "source": [
    "def hello():\n",
    "       print(\"welcome to ipcs\")\n",
    "hello()"
   ]
  },
  {
   "cell_type": "code",
   "execution_count": 4,
   "id": "a3435812-c244-4c0e-90ff-d4e884b04138",
   "metadata": {},
   "outputs": [
    {
     "name": "stdout",
     "output_type": "stream",
     "text": [
      "even\n",
      "odd\n"
     ]
    }
   ],
   "source": [
    "def evenorodd(x):\n",
    "  if (x%2==0):\n",
    "    print(\"even\")\n",
    "  else:\n",
    "       print(\"odd\")\n",
    "evenorodd(6)\n",
    "evenorodd(7)"
   ]
  },
  {
   "cell_type": "code",
   "execution_count": null,
   "id": "d0096fd3-d412-4f56-a1c5-c879aa159992",
   "metadata": {},
   "outputs": [],
   "source": [
    "# Arguments"
   ]
  },
  {
   "cell_type": "code",
   "execution_count": 6,
   "id": "9037a892-3835-4441-863e-c4a633ba7cee",
   "metadata": {},
   "outputs": [
    {
     "name": "stdout",
     "output_type": "stream",
     "text": [
      "x: 10\n",
      "y: 50\n"
     ]
    }
   ],
   "source": [
    "def myfun(x,y=50):\n",
    "  print(\"x:\",x)\n",
    "  print(\"y:\",y)\n",
    "myfun(10)"
   ]
  },
  {
   "cell_type": "code",
   "execution_count": null,
   "id": "d96c718e-4ecb-4b0e-bfad-83412026f842",
   "metadata": {},
   "outputs": [],
   "source": [
    "# Keyword Arguments"
   ]
  },
  {
   "cell_type": "code",
   "execution_count": 8,
   "id": "4363590a-6750-4d2e-85f7-8c363daf0d0b",
   "metadata": {},
   "outputs": [
    {
     "name": "stdout",
     "output_type": "stream",
     "text": [
      "python functions\n",
      "programmers hello\n"
     ]
    }
   ],
   "source": [
    "def student(firstname,lastname):\n",
    "  print(firstname,lastname)\n",
    "student(firstname='python',lastname='functions')\n",
    "student(lastname='hello',firstname='programmers')"
   ]
  },
  {
   "cell_type": "code",
   "execution_count": 10,
   "id": "7d7698c1-d545-4587-8c1e-a184ff6fa3ca",
   "metadata": {},
   "outputs": [
    {
     "name": "stdout",
     "output_type": "stream",
     "text": [
      "The youngest child isLinus\n"
     ]
    }
   ],
   "source": [
    "def my_function(*kids):\n",
    "    print(\"The youngest child is\"+kids[2])\n",
    "my_function(\"Emil\",\"Tobias\",\"Linus\")"
   ]
  },
  {
   "cell_type": "code",
   "execution_count": 12,
   "id": "9e485a16-8d60-4b9e-8ffa-425a07dbacc5",
   "metadata": {},
   "outputs": [
    {
     "name": "stdout",
     "output_type": "stream",
     "text": [
      "Hello\n",
      "welcome\n",
      "to\n",
      "ipcs\n"
     ]
    }
   ],
   "source": [
    "def myfunction(*argv):\n",
    "    for x in argv:\n",
    "        print(x)\n",
    "myfunction('Hello','welcome','to','ipcs')"
   ]
  },
  {
   "cell_type": "code",
   "execution_count": null,
   "id": "53657c1c-8a0e-44e9-89cc-ee02a971813e",
   "metadata": {},
   "outputs": [],
   "source": [
    "# **kwargs"
   ]
  },
  {
   "cell_type": "code",
   "execution_count": 1,
   "id": "78acdc3d-b3b1-4a4d-832f-4764cc8f747d",
   "metadata": {},
   "outputs": [
    {
     "name": "stdout",
     "output_type": "stream",
     "text": [
      "His first name is vignesh\n"
     ]
    }
   ],
   "source": [
    "def my_function(**student):\n",
    "    print(\"His first name is \"+student[\"fname\"])\n",
    "my_function(fname=\"vignesh\",lname=\"s\")\n",
    "    "
   ]
  },
  {
   "cell_type": "code",
   "execution_count": 15,
   "id": "e37dcfdb-be88-4f21-bbb1-046c97406c2f",
   "metadata": {},
   "outputs": [
    {
     "name": "stdout",
     "output_type": "stream",
     "text": [
      "first==welcome\n",
      "mid==for\n",
      "last==course\n"
     ]
    }
   ],
   "source": [
    "def myfun(**kwargs):\n",
    "    for key,value in kwargs.items():\n",
    "        print(\"%s==%s\"%(key,value))\n",
    "myfun(first='welcome',mid='for',last='course')"
   ]
  },
  {
   "cell_type": "code",
   "execution_count": 19,
   "id": "b8acbfb8-1f75-40ef-87f1-02f35ca7c0dc",
   "metadata": {},
   "outputs": [
    {
     "name": "stdout",
     "output_type": "stream",
     "text": [
      "i am from sweden\n",
      "i am from india\n",
      "i am from brazil\n"
     ]
    }
   ],
   "source": [
    "def my_function(country=\"Norway\"):\n",
    "    print(\"i am from \"+country)\n",
    "my_function(\"sweden\")\n",
    "my_function(\"india\")\n",
    "my_function(\"brazil\")"
   ]
  },
  {
   "cell_type": "code",
   "execution_count": 20,
   "id": "fcdefb58-b12e-4d78-8d8d-269881680fe6",
   "metadata": {},
   "outputs": [
    {
     "name": "stdout",
     "output_type": "stream",
     "text": [
      "apple\n",
      "banana\n",
      "cherry\n"
     ]
    }
   ],
   "source": [
    "def my_function(xyz):\n",
    "    for x in xyz:\n",
    "        print(x)\n",
    "fruits=[\"apple\",\"banana\",\"cherry\"]\n",
    "my_function(fruits)"
   ]
  },
  {
   "cell_type": "code",
   "execution_count": null,
   "id": "adaba5ef-a170-42ae-9ca6-6ea2cfd02c14",
   "metadata": {},
   "outputs": [],
   "source": [
    "# Return Values"
   ]
  },
  {
   "cell_type": "code",
   "execution_count": 25,
   "id": "39d6bc89-6808-4286-9833-f921baba39f8",
   "metadata": {},
   "outputs": [
    {
     "name": "stdout",
     "output_type": "stream",
     "text": [
      "10\n"
     ]
    }
   ],
   "source": [
    "def my_fun():\n",
    "    return 5+5\n",
    "print(my_fun())"
   ]
  },
  {
   "cell_type": "code",
   "execution_count": 26,
   "id": "229844cf-5ac7-4d6b-8456-9e06988f294b",
   "metadata": {},
   "outputs": [
    {
     "name": "stdout",
     "output_type": "stream",
     "text": [
      "4\n",
      "16\n"
     ]
    }
   ],
   "source": [
    "def square_value(num):\n",
    "    return num**2\n",
    "print(square_value(2))\n",
    "print(square_value(-4))"
   ]
  },
  {
   "cell_type": "code",
   "execution_count": null,
   "id": "2a383360-1af2-430b-be6b-a6921efb8b2e",
   "metadata": {},
   "outputs": [],
   "source": [
    "# Function Pass"
   ]
  },
  {
   "cell_type": "code",
   "execution_count": 27,
   "id": "8a3c6b85-bff1-4d65-8c14-58e79547555b",
   "metadata": {},
   "outputs": [
    {
     "name": "stdout",
     "output_type": "stream",
     "text": [
      "[30, 11, 13, 14, 15]\n"
     ]
    }
   ],
   "source": [
    "def myfunction(x):\n",
    "    x[0]=30\n",
    "lst=[9,11,13,14,15]\n",
    "myfunction(lst)\n",
    "print(lst)"
   ]
  },
  {
   "cell_type": "code",
   "execution_count": null,
   "id": "2bd152da-5a6b-4015-be1c-afe0a0ed0451",
   "metadata": {},
   "outputs": [],
   "source": [
    "# Function within functions"
   ]
  },
  {
   "cell_type": "code",
   "execution_count": 32,
   "id": "5e3bd58f-f2c6-4996-a9d4-8cf7ee449ed1",
   "metadata": {},
   "outputs": [
    {
     "name": "stdout",
     "output_type": "stream",
     "text": [
      "i love python\n"
     ]
    }
   ],
   "source": [
    "def f1():\n",
    "    s='i love python'\n",
    "    def f2():\n",
    "        print(s)\n",
    "        \n",
    "    f2()\n",
    "f1()"
   ]
  },
  {
   "cell_type": "code",
   "execution_count": null,
   "id": "9e06eb1f-4893-4743-a054-bd541c05ea74",
   "metadata": {},
   "outputs": [],
   "source": [
    "# python lambda\n"
   ]
  },
  {
   "cell_type": "code",
   "execution_count": 1,
   "id": "c1eef5fe-4b5b-4b88-a05b-971b2af9f0fb",
   "metadata": {},
   "outputs": [
    {
     "name": "stdout",
     "output_type": "stream",
     "text": [
      "<function <lambda> at 0x00000257C09205E0>\n"
     ]
    }
   ],
   "source": [
    "string='hello python'\n",
    "print(lambda string:string)"
   ]
  },
  {
   "cell_type": "code",
   "execution_count": 2,
   "id": "8861960f-2156-4481-8aec-a700455d8ac8",
   "metadata": {},
   "outputs": [
    {
     "name": "stdout",
     "output_type": "stream",
     "text": [
      "hello  python\n"
     ]
    }
   ],
   "source": [
    "x=\"hello  python\"\n",
    "(lambda x:print(x))(x)"
   ]
  },
  {
   "cell_type": "code",
   "execution_count": 5,
   "id": "e92081b4-d517-40a2-ad77-69cbfe61dda4",
   "metadata": {},
   "outputs": [
    {
     "name": "stdout",
     "output_type": "stream",
     "text": [
      "343\n",
      "125\n"
     ]
    }
   ],
   "source": [
    "def cube(y):\n",
    "    return y*y*y;\n",
    "g=lambda x:x*x*x\n",
    "print(g(7))\n",
    "print(cube(5))"
   ]
  },
  {
   "cell_type": "code",
   "execution_count": 7,
   "id": "88aa6afb-1ac5-4396-8349-9ad765c30294",
   "metadata": {},
   "outputs": [
    {
     "name": "stdout",
     "output_type": "stream",
     "text": [
      "Now power is set to 2\n",
      "6 powerof 2= 36\n",
      "Now power is set to 5\n",
      "8powerof 5=  32768\n"
     ]
    }
   ],
   "source": [
    "def power(n):\n",
    "    return lambda a:a**n\n",
    "base=power(2)\n",
    "print(\"Now power is set to 2\")\n",
    "print(\"6 powerof 2=\",base(6))\n",
    "base=power(5)\n",
    "print(\"Now power is set to 5\")\n",
    "print(\"8powerof 5= \",base(8))"
   ]
  },
  {
   "cell_type": "code",
   "execution_count": 8,
   "id": "da93e65a-b82c-4e93-b232-f4bb5bbce868",
   "metadata": {},
   "outputs": [
    {
     "name": "stdout",
     "output_type": "stream",
     "text": [
      "[100, 2, 8, 60, 4, 10]\n"
     ]
    }
   ],
   "source": [
    "a=[100,2,8,60,5,4,3,31,10,11]\n",
    "filtered=filter(lambda x:x%2==0,a)\n",
    "print(list(filtered))"
   ]
  },
  {
   "cell_type": "code",
   "execution_count": 9,
   "id": "27afe75b-3af0-4b17-ab73-5aeeea39541e",
   "metadata": {},
   "outputs": [
    {
     "name": "stdout",
     "output_type": "stream",
     "text": [
      "[True, True, True, True, False, True, False, False, True, False]\n"
     ]
    }
   ],
   "source": [
    "maped=map(lambda x:x%2==0,a)\n",
    "print(list(maped))"
   ]
  },
  {
   "cell_type": "code",
   "execution_count": null,
   "id": "95062062-1e68-4efa-9990-6e4e36dde3f6",
   "metadata": {},
   "outputs": [],
   "source": [
    "# Global scope"
   ]
  },
  {
   "cell_type": "code",
   "execution_count": 10,
   "id": "94094c42-423f-49e8-9460-27ccfe73bb13",
   "metadata": {},
   "outputs": [
    {
     "name": "stdout",
     "output_type": "stream",
     "text": [
      "i love python\n"
     ]
    }
   ],
   "source": [
    "def myfunction():\n",
    "    print(s)\n",
    "s=\"i love python\"\n",
    "myfunction()"
   ]
  },
  {
   "cell_type": "code",
   "execution_count": 11,
   "id": "e4f3b785-0fc9-43ff-87a8-510f25684995",
   "metadata": {},
   "outputs": [
    {
     "name": "stdout",
     "output_type": "stream",
     "text": [
      "me too\n",
      "i love python\n"
     ]
    }
   ],
   "source": [
    "def myfunction():\n",
    "    s=\"me too\"\n",
    "    print(s)\n",
    "s=\"i love python\"\n",
    "myfunction()\n",
    "print(s)"
   ]
  },
  {
   "cell_type": "code",
   "execution_count": 14,
   "id": "9b5e80e7-951d-4245-a97b-46878fa354b7",
   "metadata": {},
   "outputs": [
    {
     "name": "stdout",
     "output_type": "stream",
     "text": [
      "global: 1\n",
      "inside f(): 1\n",
      "global: 1\n",
      "inside g(): 2\n",
      "global: 1\n",
      "inside h(): 3\n",
      "global: 3\n"
     ]
    }
   ],
   "source": [
    "a=1\n",
    "def f():\n",
    "    print('inside f():',a)\n",
    "def g():\n",
    "    a=2\n",
    "    print('inside g():',a)\n",
    "def h():\n",
    "    global a\n",
    "    a=3\n",
    "    print('inside h():',a)\n",
    "print('global:',a)\n",
    "f()\n",
    "print('global:',a)\n",
    "g()\n",
    "print('global:',a)\n",
    "h()\n",
    "print('global:',a)"
   ]
  },
  {
   "cell_type": "code",
   "execution_count": null,
   "id": "2f82d620-5c37-4d85-acac-be309d9c7214",
   "metadata": {},
   "outputs": [],
   "source": [
    "# First class functions in python"
   ]
  },
  {
   "cell_type": "code",
   "execution_count": 16,
   "id": "a0a2a580-0d00-42aa-bb05-297588a67b74",
   "metadata": {},
   "outputs": [
    {
     "name": "stdout",
     "output_type": "stream",
     "text": [
      "HELLO\n",
      "HELLO\n"
     ]
    }
   ],
   "source": [
    "def shout(text):\n",
    "    return text.upper()\n",
    "print(shout('hello'))\n",
    "yell=shout\n",
    "print(yell('hello'))"
   ]
  },
  {
   "cell_type": "code",
   "execution_count": 18,
   "id": "0b703371-07d7-4fed-a768-a0726afe1ab1",
   "metadata": {},
   "outputs": [
    {
     "name": "stdout",
     "output_type": "stream",
     "text": [
      "HI,I AM CREATED BY A FUNCTION PASSED AS AN ARGUMENT.\n",
      "hi,i am created by a function passed as an argument.\n"
     ]
    }
   ],
   "source": [
    "def shout(text):\n",
    "    return text.upper()\n",
    "def whisper(text):\n",
    "    return text.lower()\n",
    "def greet(func):\n",
    "    greeting=func(\"\"\"Hi,i am created by a function passed as an argument.\"\"\")\n",
    "    print(greeting)\n",
    "greet(shout)\n",
    "greet(whisper)"
   ]
  },
  {
   "cell_type": "code",
   "execution_count": 22,
   "id": "fb24a73b-9fcd-4102-93f9-f240255d2699",
   "metadata": {},
   "outputs": [
    {
     "name": "stdout",
     "output_type": "stream",
     "text": [
      "25\n"
     ]
    }
   ],
   "source": [
    "def create_adder(x):\n",
    "    def adder(y):\n",
    "        return x+y\n",
    "    return adder\n",
    "add_15=create_adder(15)\n",
    "print(add_15(10))"
   ]
  },
  {
   "cell_type": "code",
   "execution_count": null,
   "id": "8b7cb29b-e4af-4fa4-ade3-d6492e98f483",
   "metadata": {},
   "outputs": [],
   "source": [
    "# Recursive functions"
   ]
  },
  {
   "cell_type": "code",
   "execution_count": 26,
   "id": "1ba5802c-8f79-4ca6-94ae-85aba5093c38",
   "metadata": {},
   "outputs": [
    {
     "name": "stdout",
     "output_type": "stream",
     "text": [
      "The factorial off 4 is 24\n"
     ]
    }
   ],
   "source": [
    "def calc_factorial(x):\n",
    "    if x==1:\n",
    "        return 1\n",
    "    else:\n",
    "        return(x*calc_factorial(x-1))\n",
    "num=4\n",
    "print(\"The factorial off\",num,\"is\",calc_factorial(num))"
   ]
  },
  {
   "cell_type": "code",
   "execution_count": null,
   "id": "ac3aca69-8f09-45c9-a730-10b3f23d645d",
   "metadata": {},
   "outputs": [],
   "source": []
  },
  {
   "cell_type": "code",
   "execution_count": 1,
   "id": "32ef6ebb-b9f5-4bac-b3d3-d479b119917e",
   "metadata": {},
   "outputs": [
    {
     "name": "stdout",
     "output_type": "stream",
     "text": [
      "8\n"
     ]
    }
   ],
   "source": [
    "from calc import subtract\n",
    "print(subtract(10,2))"
   ]
  },
  {
   "cell_type": "code",
   "execution_count": 6,
   "id": "39020467-fd22-462f-807c-bc259f850c37",
   "metadata": {},
   "outputs": [
    {
     "name": "stdout",
     "output_type": "stream",
     "text": [
      "['__doc__', '__loader__', '__name__', '__package__', '__spec__', 'acos', 'acosh', 'asin', 'asinh', 'atan', 'atan2', 'atanh', 'cbrt', 'ceil', 'comb', 'copysign', 'cos', 'cosh', 'degrees', 'dist', 'e', 'erf', 'erfc', 'exp', 'exp2', 'expm1', 'fabs', 'factorial', 'floor', 'fmod', 'frexp', 'fsum', 'gamma', 'gcd', 'hypot', 'inf', 'isclose', 'isfinite', 'isinf', 'isnan', 'isqrt', 'lcm', 'ldexp', 'lgamma', 'log', 'log10', 'log1p', 'log2', 'modf', 'nan', 'nextafter', 'perm', 'pi', 'pow', 'prod', 'radians', 'remainder', 'sin', 'sinh', 'sqrt', 'sumprod', 'tan', 'tanh', 'tau', 'trunc', 'ulp']\n"
     ]
    }
   ],
   "source": [
    "import math\n",
    "print(dir(math))"
   ]
  },
  {
   "cell_type": "raw",
   "id": "dad8b365-2eed-457b-9883-b198b63b3381",
   "metadata": {},
   "source": [
    "import math\n",
    "print(sqrt(16))\n",
    "print(factorial(6))"
   ]
  },
  {
   "cell_type": "raw",
   "id": "e634f05b-3b8e-4b29-b82a-9d4e312ff69e",
   "metadata": {},
   "source": [
    "import math\n",
    "print(sqrt(16))\n",
    "print(factorial(6))"
   ]
  },
  {
   "cell_type": "code",
   "execution_count": 3,
   "id": "d8ec6b1d-571d-4e44-88a3-1b8157657dd9",
   "metadata": {},
   "outputs": [
    {
     "name": "stdout",
     "output_type": "stream",
     "text": [
      "4.0\n",
      "720\n"
     ]
    }
   ],
   "source": [
    "from math import*\n",
    "print(sqrt(16))\n",
    "print(factorial(6))"
   ]
  },
  {
   "cell_type": "code",
   "execution_count": 4,
   "id": "27574021-69b2-45fe-9224-97885dfc46d0",
   "metadata": {},
   "outputs": [
    {
     "name": "stdout",
     "output_type": "stream",
     "text": [
      "1.1578212823495777\n",
      "0.12217304763960307\n"
     ]
    }
   ],
   "source": [
    "from math import*\n",
    "print(tan(4))\n",
    "print(radians(7))"
   ]
  },
  {
   "cell_type": "code",
   "execution_count": 7,
   "id": "40e3d454-c773-4692-8087-b64ca5270d03",
   "metadata": {},
   "outputs": [
    {
     "name": "stdout",
     "output_type": "stream",
     "text": [
      "['__call__', '__class__', '__delattr__', '__dir__', '__doc__', '__eq__', '__format__', '__ge__', '__getattribute__', '__getstate__', '__gt__', '__hash__', '__init__', '__init_subclass__', '__le__', '__lt__', '__module__', '__name__', '__ne__', '__new__', '__qualname__', '__reduce__', '__reduce_ex__', '__repr__', '__self__', '__setattr__', '__sizeof__', '__str__', '__subclasshook__', '__text_signature__']\n"
     ]
    }
   ],
   "source": [
    "from random import *\n",
    "print(dir(random))"
   ]
  },
  {
   "cell_type": "code",
   "execution_count": 8,
   "id": "195a1546-0390-4842-8b94-fef1c3a336fc",
   "metadata": {},
   "outputs": [
    {
     "name": "stdout",
     "output_type": "stream",
     "text": [
      "['BPF', 'LOG4', 'NV_MAGICCONST', 'RECIP_BPF', 'Random', 'SG_MAGICCONST', 'SystemRandom', 'TWOPI', '_ONE', '_Sequence', '__all__', '__builtins__', '__cached__', '__doc__', '__file__', '__loader__', '__name__', '__package__', '__spec__', '_accumulate', '_acos', '_bisect', '_ceil', '_cos', '_e', '_exp', '_fabs', '_floor', '_index', '_inst', '_isfinite', '_lgamma', '_log', '_log2', '_os', '_pi', '_random', '_repeat', '_sha512', '_sin', '_sqrt', '_test', '_test_generator', '_urandom', '_warn', 'betavariate', 'binomialvariate', 'choice', 'choices', 'expovariate', 'gammavariate', 'gauss', 'getrandbits', 'getstate', 'lognormvariate', 'normalvariate', 'paretovariate', 'randbytes', 'randint', 'random', 'randrange', 'sample', 'seed', 'setstate', 'shuffle', 'triangular', 'uniform', 'vonmisesvariate', 'weibullvariate']\n"
     ]
    }
   ],
   "source": [
    "import random\n",
    "print(dir(random))"
   ]
  },
  {
   "cell_type": "code",
   "execution_count": null,
   "id": "a3cec4a5-c34d-46c2-aaea-42e0069952b8",
   "metadata": {},
   "outputs": [],
   "source": []
  }
 ],
 "metadata": {
  "kernelspec": {
   "display_name": "Python 3 (ipykernel)",
   "language": "python",
   "name": "python3"
  },
  "language_info": {
   "codemirror_mode": {
    "name": "ipython",
    "version": 3
   },
   "file_extension": ".py",
   "mimetype": "text/x-python",
   "name": "python",
   "nbconvert_exporter": "python",
   "pygments_lexer": "ipython3",
   "version": "3.12.7"
  }
 },
 "nbformat": 4,
 "nbformat_minor": 5
}
