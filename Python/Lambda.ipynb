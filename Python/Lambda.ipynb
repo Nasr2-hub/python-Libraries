{
 "cells": [
  {
   "cell_type": "code",
   "execution_count": 8,
   "id": "370e560d-0fc4-4871-9df8-31cced4f288f",
   "metadata": {},
   "outputs": [
    {
     "name": "stdout",
     "output_type": "stream",
     "text": [
      "<function <lambda> at 0x0000018F22D9C540>\n"
     ]
    }
   ],
   "source": [
    "x='hello python'\n",
    "print(lambda x:x)"
   ]
  },
  {
   "cell_type": "code",
   "execution_count": 7,
   "id": "13412333-fc32-48ec-b939-48d2324644c4",
   "metadata": {},
   "outputs": [
    {
     "name": "stdout",
     "output_type": "stream",
     "text": [
      "hello python\n"
     ]
    }
   ],
   "source": [
    "x='hello python'\n",
    "(lambda x:print(x))(x)"
   ]
  },
  {
   "cell_type": "code",
   "execution_count": 15,
   "id": "6afa94ed-a99d-4869-9b06-8da47e4ce820",
   "metadata": {},
   "outputs": [
    {
     "name": "stdout",
     "output_type": "stream",
     "text": [
      "343\n",
      "125\n"
     ]
    }
   ],
   "source": [
    "def cube(y):\n",
    "    return y*y*y;\n",
    "g=lambda x:x*x*x\n",
    "print(g(7))\n",
    "print(cube(5))    "
   ]
  },
  {
   "cell_type": "code",
   "execution_count": 16,
   "id": "d3068f35-11ec-4719-8ad8-a1a41c6f887d",
   "metadata": {},
   "outputs": [
    {
     "name": "stdout",
     "output_type": "stream",
     "text": [
      "Now power is set to 2\n",
      "6 power of 2= 36\n",
      "Now power is set to 5\n",
      "8 power of 5= 32768\n"
     ]
    }
   ],
   "source": [
    "def power(n):\n",
    "    return lambda a:a**n\n",
    "base=power(2)\n",
    "print(\"Now power is set to 2\")\n",
    "print(\"6 power of 2=\",base(6))\n",
    "base=power(5)\n",
    "print(\"Now power is set to 5\")\n",
    "print(\"8 power of 5=\",base(8))"
   ]
  },
  {
   "cell_type": "code",
   "execution_count": 1,
   "id": "5b016211-47d8-48ba-905b-c2189435c471",
   "metadata": {},
   "outputs": [
    {
     "name": "stdout",
     "output_type": "stream",
     "text": [
      "[100, 2, 8, 60, 4, 10]\n"
     ]
    }
   ],
   "source": [
    "a=[100,2,8,60,5,4,3,31,10,11]\n",
    "filtered=filter(lambda x:x%2==0,a)\n",
    "print(list(filtered))"
   ]
  },
  {
   "cell_type": "code",
   "execution_count": 3,
   "id": "f5b1dbde-8d27-4649-b77d-69c95a3cbe7f",
   "metadata": {},
   "outputs": [
    {
     "name": "stdout",
     "output_type": "stream",
     "text": [
      "[True, True, True, True, False, True, False, False, True, False]\n"
     ]
    }
   ],
   "source": [
    "maped=map(lambda x:x%2==0,a)\n",
    "print(list(maped))"
   ]
  },
  {
   "cell_type": "code",
   "execution_count": null,
   "id": "f00a10a3-824e-4cf5-bb23-25af2e2dc85b",
   "metadata": {},
   "outputs": [],
   "source": [
    "# global scope"
   ]
  },
  {
   "cell_type": "code",
   "execution_count": 4,
   "id": "e705c547-91ed-4ad9-abe6-9305d2706309",
   "metadata": {},
   "outputs": [
    {
     "name": "stdout",
     "output_type": "stream",
     "text": [
      "i love python\n"
     ]
    }
   ],
   "source": [
    "def my_fun():\n",
    "    print(s)\n",
    "s='i love python'\n",
    "my_fun()"
   ]
  },
  {
   "cell_type": "code",
   "execution_count": 5,
   "id": "b809a354-1420-4084-9675-5416ac806f52",
   "metadata": {},
   "outputs": [
    {
     "name": "stdout",
     "output_type": "stream",
     "text": [
      "me too\n",
      "i love python\n"
     ]
    }
   ],
   "source": [
    "def my_fun():\n",
    "    s='me too'\n",
    "    print(s)\n",
    "s='i love python'\n",
    "my_fun()\n",
    "print(s)"
   ]
  },
  {
   "cell_type": "code",
   "execution_count": 6,
   "id": "6a41c6df-2e3b-4ed3-898c-5d5d1496f376",
   "metadata": {},
   "outputs": [
    {
     "name": "stdout",
     "output_type": "stream",
     "text": [
      "global: 1\n",
      "inside f(): 1\n",
      "global: 1\n",
      "inside g(): 2\n",
      "global: 1\n",
      "inside h(): 3\n",
      "global: 3\n"
     ]
    }
   ],
   "source": [
    "a=1\n",
    "def f():\n",
    "    print('inside f():',a)\n",
    "def g():\n",
    "    a=2\n",
    "    print('inside g():',a)\n",
    "def h():\n",
    "    global a\n",
    "    a=3\n",
    "    print('inside h():',a)\n",
    "print('global:',a)\n",
    "f()\n",
    "print('global:',a)\n",
    "g()\n",
    "print('global:',a)\n",
    "h()\n",
    "print('global:',a)\n"
   ]
  },
  {
   "cell_type": "code",
   "execution_count": null,
   "id": "e4d12b18-d8fb-47b8-b0ec-89416108f190",
   "metadata": {},
   "outputs": [],
   "source": []
  }
 ],
 "metadata": {
  "kernelspec": {
   "display_name": "Python 3 (ipykernel)",
   "language": "python",
   "name": "python3"
  },
  "language_info": {
   "codemirror_mode": {
    "name": "ipython",
    "version": 3
   },
   "file_extension": ".py",
   "mimetype": "text/x-python",
   "name": "python",
   "nbconvert_exporter": "python",
   "pygments_lexer": "ipython3",
   "version": "3.12.7"
  }
 },
 "nbformat": 4,
 "nbformat_minor": 5
}
