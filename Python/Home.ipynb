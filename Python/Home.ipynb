{
 "cells": [
  {
   "cell_type": "code",
   "execution_count": 2,
   "id": "679a11ae-c2d6-4df5-aa90-3fbeab5c4d1b",
   "metadata": {},
   "outputs": [
    {
     "name": "stdout",
     "output_type": "stream",
     "text": [
      "Hello World\n"
     ]
    }
   ],
   "source": [
    "print('Hello World')"
   ]
  },
  {
   "cell_type": "code",
   "execution_count": 3,
   "id": "79f2dcba-52d2-4816-b306-743aedd0e2b7",
   "metadata": {},
   "outputs": [
    {
     "data": {
      "text/plain": [
       "122"
      ]
     },
     "execution_count": 3,
     "metadata": {},
     "output_type": "execute_result"
    }
   ],
   "source": [
    "122"
   ]
  },
  {
   "cell_type": "code",
   "execution_count": 4,
   "id": "2aa93c1a-14c6-49fb-aded-f777b257d238",
   "metadata": {},
   "outputs": [
    {
     "name": "stdout",
     "output_type": "stream",
     "text": [
      "80\n"
     ]
    }
   ],
   "source": [
    "print(4*20)"
   ]
  },
  {
   "cell_type": "code",
   "execution_count": 7,
   "id": "bc48f035-7bca-4cf1-854d-86633caaee5a",
   "metadata": {},
   "outputs": [
    {
     "data": {
      "text/plain": [
       "'Nasru Nasru Nasru Nasru Nasru '"
      ]
     },
     "execution_count": 7,
     "metadata": {},
     "output_type": "execute_result"
    }
   ],
   "source": [
    "\"Nasru \"*5"
   ]
  },
  {
   "cell_type": "code",
   "execution_count": 8,
   "id": "dc2db8f4-168e-4677-941f-a121edcea194",
   "metadata": {},
   "outputs": [
    {
     "name": "stdout",
     "output_type": "stream",
     "text": [
      "6\n"
     ]
    }
   ],
   "source": [
    "x=6\n",
    "print(x)"
   ]
  },
  {
   "cell_type": "code",
   "execution_count": 5,
   "id": "f6783b05-562d-4d68-904c-43f43a68a80c",
   "metadata": {},
   "outputs": [
    {
     "name": "stdout",
     "output_type": "stream",
     "text": [
      "1_Lakh\n"
     ]
    }
   ],
   "source": [
    "number_1=(\"1_Lakh\")\n",
    "print(number_1)"
   ]
  },
  {
   "cell_type": "code",
   "execution_count": 6,
   "id": "7b758419-e1f1-4bbb-95e1-e65176644d30",
   "metadata": {},
   "outputs": [
    {
     "name": "stdout",
     "output_type": "stream",
     "text": [
      "260000\n"
     ]
    }
   ],
   "source": [
    "payment_per_day=10000\n",
    "total_days_of_working=26\n",
    "total_salary=payment_per_day*total_days_of_working\n",
    "print(total_salary)"
   ]
  },
  {
   "cell_type": "code",
   "execution_count": 11,
   "id": "ec1019d2-c121-40df-9724-086f93d3620d",
   "metadata": {},
   "outputs": [
    {
     "name": "stdout",
     "output_type": "stream",
     "text": [
      "('fruits', 'markets', 'computer') markets computer\n"
     ]
    }
   ],
   "source": [
    "x=\"fruits\",\"markets\",\"computer\"\n",
    "print(x,y,z)"
   ]
  },
  {
   "cell_type": "code",
   "execution_count": 12,
   "id": "a41fe181-8fd6-49fd-ad84-06bc7d977af6",
   "metadata": {},
   "outputs": [
    {
     "name": "stdout",
     "output_type": "stream",
     "text": [
      "<class 'tuple'>\n"
     ]
    }
   ],
   "source": [
    "print(type(x))"
   ]
  },
  {
   "cell_type": "code",
   "execution_count": 14,
   "id": "c19e166b-e6be-40d5-aff2-3ebe09d9fe63",
   "metadata": {},
   "outputs": [
    {
     "name": "stdout",
     "output_type": "stream",
     "text": [
      "123\n"
     ]
    }
   ],
   "source": [
    "x=123\n",
    "print(x)"
   ]
  },
  {
   "cell_type": "code",
   "execution_count": 15,
   "id": "e51f9be7-28cb-4195-a55d-0a836cea583d",
   "metadata": {},
   "outputs": [
    {
     "name": "stdout",
     "output_type": "stream",
     "text": [
      "123\n"
     ]
    }
   ],
   "source": [
    "print(str(x))"
   ]
  },
  {
   "cell_type": "code",
   "execution_count": 16,
   "id": "12097dfc-8cc7-429c-ab1b-5a72e01ec8d9",
   "metadata": {},
   "outputs": [
    {
     "data": {
      "text/plain": [
       "int"
      ]
     },
     "execution_count": 16,
     "metadata": {},
     "output_type": "execute_result"
    }
   ],
   "source": [
    "type(x)"
   ]
  },
  {
   "cell_type": "code",
   "execution_count": 20,
   "id": "2e3783f6-0b60-442f-918d-5d615caf709b",
   "metadata": {},
   "outputs": [
    {
     "name": "stdout",
     "output_type": "stream",
     "text": [
      "hello python\n"
     ]
    }
   ],
   "source": [
    "x=\"hello \"\n",
    "y=\"python\"\n",
    "c=x+y\n",
    "print(c)"
   ]
  },
  {
   "cell_type": "code",
   "execution_count": 24,
   "id": "2e0a6e94-9c03-4ca0-8ff9-94b350181272",
   "metadata": {},
   "outputs": [
    {
     "name": "stdout",
     "output_type": "stream",
     "text": [
      "14579\n"
     ]
    }
   ],
   "source": [
    "x=\"13345\"\n",
    "y=1234\n",
    "a=z+y\n",
    "print(a)"
   ]
  },
  {
   "cell_type": "code",
   "execution_count": 4,
   "id": "3421f158-f88e-4681-aef3-5eba882a05e3",
   "metadata": {},
   "outputs": [
    {
     "name": "stdout",
     "output_type": "stream",
     "text": [
      "a\n"
     ]
    }
   ],
   "source": [
    "x=\"array\"\n",
    "print(x[0])"
   ]
  },
  {
   "cell_type": "code",
   "execution_count": 5,
   "id": "9a310532-6c96-4450-846d-02e9b8f8286d",
   "metadata": {},
   "outputs": [
    {
     "name": "stdout",
     "output_type": "stream",
     "text": [
      "16\n"
     ]
    }
   ],
   "source": [
    "x=\"Hello Programmer\"\n",
    "print(len(x))"
   ]
  },
  {
   "cell_type": "code",
   "execution_count": 7,
   "id": "270cbd4c-b100-4c83-8e46-56455a4a4301",
   "metadata": {},
   "outputs": [
    {
     "name": "stdout",
     "output_type": "stream",
     "text": [
      "True\n"
     ]
    }
   ],
   "source": [
    "Text=\"you are the king\"\n",
    "print(\"king\" in Text)"
   ]
  },
  {
   "cell_type": "code",
   "execution_count": 8,
   "id": "348f0a46-7a4b-495f-891c-ad96f89c42bd",
   "metadata": {},
   "outputs": [
    {
     "name": "stdout",
     "output_type": "stream",
     "text": [
      "True\n"
     ]
    }
   ],
   "source": [
    "print(\"duke\" not in Text)"
   ]
  },
  {
   "cell_type": "code",
   "execution_count": 10,
   "id": "cac7d4fc-f64a-4e18-b1c5-7a5f0d9ae605",
   "metadata": {},
   "outputs": [
    {
     "name": "stdout",
     "output_type": "stream",
     "text": [
      "i am the duke\n"
     ]
    }
   ],
   "source": [
    "x=\"i am the duke of earth\"\n",
    "print(x[0:13])"
   ]
  },
  {
   "cell_type": "code",
   "execution_count": 11,
   "id": "73d87309-bc45-4fc3-8803-48f7a8425204",
   "metadata": {},
   "outputs": [
    {
     "name": "stdout",
     "output_type": "stream",
     "text": [
      "i am the duke of earth\n"
     ]
    }
   ],
   "source": [
    "print(x[0:])"
   ]
  },
  {
   "cell_type": "code",
   "execution_count": 13,
   "id": "04f7c6c6-a349-40bd-b98c-691df54b67a0",
   "metadata": {},
   "outputs": [
    {
     "name": "stdout",
     "output_type": "stream",
     "text": [
      "h\n"
     ]
    }
   ],
   "source": [
    "print(x[-1])"
   ]
  },
  {
   "cell_type": "code",
   "execution_count": 22,
   "id": "73334e89-b163-4671-af84-d20d706cb09c",
   "metadata": {},
   "outputs": [
    {
     "name": "stdout",
     "output_type": "stream",
     "text": [
      "orl\n"
     ]
    }
   ],
   "source": [
    "b='hello world!'\n",
    "print(b[-5:-2])"
   ]
  },
  {
   "cell_type": "code",
   "execution_count": 24,
   "id": "428547b0-7abe-4b6d-9048-cb586e8b2e4a",
   "metadata": {},
   "outputs": [
    {
     "name": "stdout",
     "output_type": "stream",
     "text": [
      "True\n",
      "True\n",
      "False\n"
     ]
    }
   ],
   "source": [
    "print(10==10)\n",
    "print(10>9)\n",
    "print(10==100)"
   ]
  },
  {
   "cell_type": "code",
   "execution_count": 25,
   "id": "18ff3ea0-0489-4861-a0d2-8e909bbee679",
   "metadata": {},
   "outputs": [
    {
     "name": "stdout",
     "output_type": "stream",
     "text": [
      "True\n",
      "True\n"
     ]
    }
   ],
   "source": [
    "print(bool(\"hello\"))\n",
    "print(bool(100))"
   ]
  },
  {
   "cell_type": "code",
   "execution_count": 27,
   "id": "b38c5c0f-f463-4848-84da-c341e3abc2e0",
   "metadata": {},
   "outputs": [
    {
     "name": "stdout",
     "output_type": "stream",
     "text": [
      "True\n"
     ]
    }
   ],
   "source": [
    "x=500\n",
    "print(isinstance(x,int))"
   ]
  },
  {
   "cell_type": "code",
   "execution_count": 1,
   "id": "d95fff7e-7abc-4683-818f-bdcfdb13455c",
   "metadata": {},
   "outputs": [
    {
     "data": {
      "text/plain": [
       "78125"
      ]
     },
     "execution_count": 1,
     "metadata": {},
     "output_type": "execute_result"
    }
   ],
   "source": [
    "5**7"
   ]
  },
  {
   "cell_type": "code",
   "execution_count": 5,
   "id": "df6de297-0f50-4f5d-946a-99fc34e2dbcd",
   "metadata": {},
   "outputs": [
    {
     "data": {
      "text/plain": [
       "7"
      ]
     },
     "execution_count": 5,
     "metadata": {},
     "output_type": "execute_result"
    }
   ],
   "source": [
    "import operator\n",
    "x=operator.iadd(5,2)\n",
    "x"
   ]
  },
  {
   "cell_type": "code",
   "execution_count": 7,
   "id": "3153e84c-e8ee-4c34-ade8-7d3b8def78a4",
   "metadata": {},
   "outputs": [
    {
     "data": {
      "text/plain": [
       "999"
      ]
     },
     "execution_count": 7,
     "metadata": {},
     "output_type": "execute_result"
    }
   ],
   "source": [
    "x=operator.isub(1000,1)\n",
    "x"
   ]
  },
  {
   "cell_type": "code",
   "execution_count": 8,
   "id": "358fc56e-da9c-4cbe-a062-cf03cd7b6b93",
   "metadata": {},
   "outputs": [
    {
     "data": {
      "text/plain": [
       "7"
      ]
     },
     "execution_count": 8,
     "metadata": {},
     "output_type": "execute_result"
    }
   ],
   "source": [
    "x=5+2\n",
    "x"
   ]
  },
  {
   "cell_type": "code",
   "execution_count": 9,
   "id": "25a0704a-908c-4232-ba06-8f0740b7b6cb",
   "metadata": {},
   "outputs": [
    {
     "data": {
      "text/plain": [
       "0"
      ]
     },
     "execution_count": 9,
     "metadata": {},
     "output_type": "execute_result"
    }
   ],
   "source": [
    "x=10%2\n",
    "x"
   ]
  },
  {
   "cell_type": "code",
   "execution_count": null,
   "id": "2f4a27f0-ebc3-4f1a-b03c-bd3f3d5e5ab1",
   "metadata": {},
   "outputs": [],
   "source": []
  }
 ],
 "metadata": {
  "kernelspec": {
   "display_name": "Python 3 (ipykernel)",
   "language": "python",
   "name": "python3"
  },
  "language_info": {
   "codemirror_mode": {
    "name": "ipython",
    "version": 3
   },
   "file_extension": ".py",
   "mimetype": "text/x-python",
   "name": "python",
   "nbconvert_exporter": "python",
   "pygments_lexer": "ipython3",
   "version": "3.12.7"
  }
 },
 "nbformat": 4,
 "nbformat_minor": 5
}
