{
 "cells": [
  {
   "cell_type": "code",
   "execution_count": 2,
   "id": "34a7ff40-6bfa-4d20-b4b0-2d987efa9b90",
   "metadata": {},
   "outputs": [
    {
     "name": "stdout",
     "output_type": "stream",
     "text": [
      "{'brand': 'bmw', 'model': '2nd series', 'year': 2004}\n"
     ]
    }
   ],
   "source": [
    "cars={\n",
    "    \"brand\":\"bmw\",\n",
    "    \"model\":\"2nd series\",\n",
    "    \"year\":2004\n",
    "}\n",
    "print(cars)"
   ]
  },
  {
   "cell_type": "code",
   "execution_count": 3,
   "id": "e8533c9d-2ecd-4f30-8e9e-980b2ee176f8",
   "metadata": {},
   "outputs": [
    {
     "name": "stdout",
     "output_type": "stream",
     "text": [
      "2nd series\n"
     ]
    }
   ],
   "source": [
    "x=cars.get(\"model\")\n",
    "print(x)"
   ]
  },
  {
   "cell_type": "code",
   "execution_count": 4,
   "id": "b60592a0-3773-4f32-8bb0-43045eab8b2e",
   "metadata": {},
   "outputs": [
    {
     "name": "stdout",
     "output_type": "stream",
     "text": [
      "dict_keys(['brand', 'model', 'year'])\n"
     ]
    }
   ],
   "source": [
    "x=cars.keys()\n",
    "print(x)"
   ]
  },
  {
   "cell_type": "code",
   "execution_count": null,
   "id": "16d2b7ea-f233-4aa5-a8a9-736bae70deba",
   "metadata": {},
   "outputs": [],
   "source": []
  },
  {
   "cell_type": "code",
   "execution_count": 2,
   "id": "0011f65d-be22-4991-b100-9812db488f53",
   "metadata": {},
   "outputs": [
    {
     "name": "stdout",
     "output_type": "stream",
     "text": [
      "dict_values(['ford', 'mustang', 1964])\n",
      "dict_values(['ford', 'mustang', 2020])\n"
     ]
    }
   ],
   "source": [
    "car={\n",
    "    \"brand\":\"ford\",\n",
    "    \"model\":\"mustang\",\n",
    "    \"year\":1964\n",
    "}\n",
    "x=car.values()\n",
    "print(x)\n",
    "car[\"year\"]=2020\n",
    "print(x)\n",
    "\n",
    "    "
   ]
  },
  {
   "cell_type": "code",
   "execution_count": 1,
   "id": "a9fbf019-b265-43d5-8b39-752d86a51709",
   "metadata": {},
   "outputs": [
    {
     "name": "stdout",
     "output_type": "stream",
     "text": [
      "dict_values(['ford', 'mustang', 1964])\n",
      "dict_values(['ford', 'mustang', 1964, 'red'])\n"
     ]
    }
   ],
   "source": [
    "car={\n",
    "    \"brand\":\"ford\",\n",
    "    \"model\":\"mustang\",\n",
    "    \"year\":1964\n",
    "}\n",
    "x=car.values()\n",
    "print(x)\n",
    "car[\"colour\"]=\"red\"\n",
    "print(x)"
   ]
  },
  {
   "cell_type": "code",
   "execution_count": 8,
   "id": "d8058931-3854-4fb4-84c5-e914710e017a",
   "metadata": {},
   "outputs": [
    {
     "name": "stdout",
     "output_type": "stream",
     "text": [
      "dict_items([('brand', 'bmw'), ('model', '2nd series'), ('year', 2020)])\n"
     ]
    }
   ],
   "source": [
    "x=cars.items()\n",
    "print(x)"
   ]
  },
  {
   "cell_type": "code",
   "execution_count": 4,
   "id": "13e0c0ac-3874-4348-be4a-4323081989a8",
   "metadata": {},
   "outputs": [
    {
     "name": "stdout",
     "output_type": "stream",
     "text": [
      "{'brand': 'ford', 'model': 'mustang', 'year': 2020}\n"
     ]
    }
   ],
   "source": [
    "car={\n",
    "    \"brand\":\"ford\",\n",
    "    \"model\":\"mustang\",\n",
    "    \"year\":1964\n",
    "}\n",
    "car[\"year\"]=2020\n",
    "print(car)"
   ]
  },
  {
   "cell_type": "code",
   "execution_count": 8,
   "id": "b6bfd0d9-50a4-4541-903b-513e55a5210f",
   "metadata": {},
   "outputs": [
    {
     "name": "stdout",
     "output_type": "stream",
     "text": [
      "{'brand': 'ford', 'model': 'mustang', 'year': 2020}\n"
     ]
    }
   ],
   "source": [
    "car={\n",
    "    \"brand\":\"ford\",\n",
    "    \"model\":\"mustang\",\n",
    "    \"year\":1964\n",
    "}\n",
    "car.update({\"year\":2020})\n",
    "print(car)"
   ]
  },
  {
   "cell_type": "code",
   "execution_count": 9,
   "id": "65bb142d-4147-48da-ab3b-9878d61d8f51",
   "metadata": {},
   "outputs": [
    {
     "name": "stdout",
     "output_type": "stream",
     "text": [
      "{'brand': 'ford', 'model': 'mustang'}\n"
     ]
    }
   ],
   "source": [
    "car={\n",
    "    \"brand\":\"ford\",\n",
    "    \"model\":\"mustang\",\n",
    "    \"year\":1964\n",
    "}\n",
    "car.pop(\"year\")\n",
    "print(car)"
   ]
  },
  {
   "cell_type": "code",
   "execution_count": 25,
   "id": "e7d38440-91d4-4df2-8ac0-ef29e4017635",
   "metadata": {},
   "outputs": [
    {
     "name": "stdout",
     "output_type": "stream",
     "text": [
      "{'brand': 'ford', 'year': 1964}\n"
     ]
    }
   ],
   "source": [
    "del car[\"model\"]\n",
    "print(car)"
   ]
  },
  {
   "cell_type": "code",
   "execution_count": 26,
   "id": "17c87614-1001-4592-b3c4-f854c06a54c5",
   "metadata": {},
   "outputs": [
    {
     "name": "stdout",
     "output_type": "stream",
     "text": [
      "{}\n"
     ]
    }
   ],
   "source": [
    "car.clear()\n",
    "print(car)"
   ]
  },
  {
   "cell_type": "code",
   "execution_count": 10,
   "id": "bc657b3c-e534-4b69-8d21-c2e513f57816",
   "metadata": {},
   "outputs": [
    {
     "name": "stdout",
     "output_type": "stream",
     "text": [
      "{'brand': 'ford', 'model': 'mustang', 'year': 1964}\n"
     ]
    }
   ],
   "source": [
    "car={\n",
    "    \"brand\":\"ford\",\n",
    "    \"model\":\"mustang\",\n",
    "    \"year\":1964\n",
    "}\n",
    "mydict=car.copy()\n",
    "print(mydict)"
   ]
  },
  {
   "cell_type": "code",
   "execution_count": 11,
   "id": "81797fb0-15af-474a-be19-6a67c145bbc5",
   "metadata": {},
   "outputs": [
    {
     "name": "stdout",
     "output_type": "stream",
     "text": [
      "{'brand': 'ford', 'model': 'mustang', 'year': 1964}\n"
     ]
    }
   ],
   "source": [
    "car={\n",
    "    \"brand\":\"ford\",\n",
    "    \"model\":\"mustang\",\n",
    "    \"year\":1964\n",
    "}\n",
    "mydict=dict(car)\n",
    "print(mydict)"
   ]
  },
  {
   "cell_type": "code",
   "execution_count": 21,
   "id": "8280fcfc-c370-4a0e-81be-0e1540645148",
   "metadata": {},
   "outputs": [
    {
     "data": {
      "text/plain": [
       "{'child1': {'name': 'arun', 'year': 2000},\n",
       " 'child2': {'name': 'vignesh', 'year': 2001},\n",
       " 'child3': {'name': 'arya', 'year': 2018}}"
      ]
     },
     "execution_count": 21,
     "metadata": {},
     "output_type": "execute_result"
    }
   ],
   "source": [
    "friends={\n",
    "    \"child1\":{\n",
    "     \"name\":\"arun\",\n",
    "        \"year\":2000\n",
    "    },\n",
    "    \"child2\":{\n",
    "    \"name\":\"vignesh\",\n",
    "        \"year\":2001\n",
    "    },\n",
    "    \"child3\":{\n",
    "        \"name\":\"arya\",\n",
    "        \"year\":2018\n",
    "    }\n",
    "}\n",
    "friends\n",
    "\n",
    "\n",
    "    "
   ]
  },
  {
   "cell_type": "code",
   "execution_count": 24,
   "id": "2af2d543-4c83-4d52-8291-4c8688746fc6",
   "metadata": {},
   "outputs": [
    {
     "data": {
      "text/plain": [
       "{'child1': {'name': 'arun', 'year': 2000},\n",
       " 'child2': {'name': 'vignesh', 'year': 2001},\n",
       " 'child3': {'name': 'arya', 'year': 2018}}"
      ]
     },
     "execution_count": 24,
     "metadata": {},
     "output_type": "execute_result"
    }
   ],
   "source": [
    "child1={\n",
    "    \"name\":\"arun\",\n",
    "    \"year\":2000\n",
    "}\n",
    "child2={\n",
    "    \"name\":\"vignesh\",\n",
    "    \"year\":2001\n",
    "}\n",
    "child3={\n",
    "    \"name\":\"arya\",\n",
    "    \"year\":2018\n",
    "}\n",
    "friends={\n",
    "    \"child1\":child1,\n",
    "    \"child2\":child2,\n",
    "    \"child3\":child3\n",
    "}\n",
    "friends\n",
    "    "
   ]
  },
  {
   "cell_type": "code",
   "execution_count": null,
   "id": "d35a5012-23f6-4b49-a9d8-9aa53879446d",
   "metadata": {},
   "outputs": [],
   "source": []
  }
 ],
 "metadata": {
  "kernelspec": {
   "display_name": "Python 3 (ipykernel)",
   "language": "python",
   "name": "python3"
  },
  "language_info": {
   "codemirror_mode": {
    "name": "ipython",
    "version": 3
   },
   "file_extension": ".py",
   "mimetype": "text/x-python",
   "name": "python",
   "nbconvert_exporter": "python",
   "pygments_lexer": "ipython3",
   "version": "3.12.7"
  }
 },
 "nbformat": 4,
 "nbformat_minor": 5
}
