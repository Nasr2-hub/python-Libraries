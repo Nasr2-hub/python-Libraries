{
 "cells": [
  {
   "cell_type": "code",
   "execution_count": 4,
   "id": "5d81c1c2-6ca3-447d-9621-40a21e0e83a6",
   "metadata": {},
   "outputs": [
    {
     "name": "stdout",
     "output_type": "stream",
     "text": [
      "hi my name\n"
     ]
    }
   ],
   "source": [
    "file=open('python.txt','r')\n",
    "for line in file:\n",
    "          print(line)\n"
   ]
  },
  {
   "cell_type": "code",
   "execution_count": 7,
   "id": "2f38065f-212b-45aa-a2d6-660fb58c1431",
   "metadata": {},
   "outputs": [
    {
     "name": "stdout",
     "output_type": "stream",
     "text": [
      "hi my name\n"
     ]
    }
   ],
   "source": [
    "file=open(\"python.txt\",\"r\")\n",
    "print(file.read())"
   ]
  },
  {
   "cell_type": "code",
   "execution_count": 9,
   "id": "9f8c3775-7a51-4867-a6e6-5e1882c13cf6",
   "metadata": {},
   "outputs": [
    {
     "name": "stdout",
     "output_type": "stream",
     "text": [
      "hi my\n"
     ]
    }
   ],
   "source": [
    "file=open(\"python.txt\",\"r\")\n",
    "print(file.read(5))"
   ]
  },
  {
   "cell_type": "code",
   "execution_count": 3,
   "id": "76e03f62-61f2-48c0-90d1-7dd76268cd81",
   "metadata": {},
   "outputs": [],
   "source": [
    "file=open(\"python.txt\",\"w\")\n",
    "file.write(\"This is the write command \\n\")\n",
    "file.write(\"it allows us to write in a particular file \\n\")\n",
    "file.close()"
   ]
  },
  {
   "cell_type": "code",
   "execution_count": 4,
   "id": "32521d24-6b94-4f47-a4b7-de675654b623",
   "metadata": {},
   "outputs": [],
   "source": [
    "file=open('python.txt','a')\n",
    "file.write(\"This will add this line\")\n",
    "file.close()"
   ]
  },
  {
   "cell_type": "code",
   "execution_count": 8,
   "id": "0543d117-a42f-493b-9ca8-b4515a1e575e",
   "metadata": {},
   "outputs": [
    {
     "name": "stdout",
     "output_type": "stream",
     "text": [
      "Output of readlines after appending\n",
      "This is delhi \n",
      "This is paris \n",
      "This is London\n",
      "TodayTomorrow\n",
      "\n"
     ]
    }
   ],
   "source": [
    "file1=open(\"python.txt\",\"w\")\n",
    "L=[\"This is delhi \\n\",\"This is paris \\n\",\"This is London\"]\n",
    "file1.writelines(L)\n",
    "file1.close()\n",
    "file1=open(\"python.txt\",\"a\")\n",
    "file1.write(\"\\n\")\n",
    "file1.write(\"Today\")\n",
    "file1.write(\"Tomorrow\")\n",
    "file1=open(\"python.txt\",\"r\")\n",
    "print(\"Output of readlines after appending\")\n",
    "print(file1.read())\n",
    "print()\n",
    "file1.close()"
   ]
  },
  {
   "cell_type": "code",
   "execution_count": 11,
   "id": "a15d85a8-6871-41d0-a423-47d7d443cc7d",
   "metadata": {},
   "outputs": [
    {
     "name": "stdout",
     "output_type": "stream",
     "text": [
      "Hello\n",
      "This is Delhi \n",
      "This is paris \n",
      "This is London \n",
      "Today\n"
     ]
    }
   ],
   "source": [
    "L=[\"This is Delhi \\n\",\"This is paris \\n\",\"This is London \\n\"]\n",
    "with open(\"python.txt\",\"w\")as file1:\n",
    "    file1.write(\"Hello\\n\")\n",
    "    file1.writelines(L)\n",
    "with open(\"python.txt\",'a')as file1:\n",
    "    file1.write(\"Today\")\n",
    "with open(\"python.txt\",\"r+\")as file1:\n",
    "    print(file1.read())\n",
    "    "
   ]
  },
  {
   "cell_type": "code",
   "execution_count": null,
   "id": "d99a139f-6f62-4e2a-bdc8-b5ec6bac3a99",
   "metadata": {},
   "outputs": [],
   "source": []
  }
 ],
 "metadata": {
  "kernelspec": {
   "display_name": "Python 3 (ipykernel)",
   "language": "python",
   "name": "python3"
  },
  "language_info": {
   "codemirror_mode": {
    "name": "ipython",
    "version": 3
   },
   "file_extension": ".py",
   "mimetype": "text/x-python",
   "name": "python",
   "nbconvert_exporter": "python",
   "pygments_lexer": "ipython3",
   "version": "3.12.7"
  }
 },
 "nbformat": 4,
 "nbformat_minor": 5
}
