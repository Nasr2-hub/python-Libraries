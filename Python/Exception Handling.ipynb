{
 "cells": [
  {
   "cell_type": "code",
   "execution_count": 3,
   "id": "a68d152a-43e4-4e80-835f-46e90dc7c2be",
   "metadata": {},
   "outputs": [
    {
     "ename": "SyntaxError",
     "evalue": "expected ':' (2068516050.py, line 2)",
     "output_type": "error",
     "traceback": [
      "\u001b[1;36m  Cell \u001b[1;32mIn[3], line 2\u001b[1;36m\u001b[0m\n\u001b[1;33m    if(amount>4999)\u001b[0m\n\u001b[1;37m                   ^\u001b[0m\n\u001b[1;31mSyntaxError\u001b[0m\u001b[1;31m:\u001b[0m expected ':'\n"
     ]
    }
   ],
   "source": [
    "amount=100000\n",
    "if(amount>4999)\n",
    "print(\"you are eligible to purchase Dsa self paced\")\n"
   ]
  },
  {
   "cell_type": "code",
   "execution_count": 4,
   "id": "a6eaab43-03c6-4e87-9954-a6245def18a3",
   "metadata": {},
   "outputs": [
    {
     "ename": "SyntaxError",
     "evalue": "invalid syntax (967534868.py, line 1)",
     "output_type": "error",
     "traceback": [
      "\u001b[1;36m  Cell \u001b[1;32mIn[4], line 1\u001b[1;36m\u001b[0m\n\u001b[1;33m    eg:\u001b[0m\n\u001b[1;37m       ^\u001b[0m\n\u001b[1;31mSyntaxError\u001b[0m\u001b[1;31m:\u001b[0m invalid syntax\n"
     ]
    }
   ],
   "source": [
    "eg:\n",
    "marks=10000\n",
    "a=marks/0\n",
    "print(a)"
   ]
  },
  {
   "cell_type": "code",
   "execution_count": 5,
   "id": "24106191-3f7e-4d86-987c-799e5ceae19d",
   "metadata": {},
   "outputs": [
    {
     "name": "stdout",
     "output_type": "stream",
     "text": [
      "Second element=2\n",
      "An error occured\n"
     ]
    }
   ],
   "source": [
    "a=[1,2,3]\n",
    "try:\n",
    "    print(\"Second element=%d\"%(a[1]))\n",
    "    print(\"Fourth element=%d\"%(a[3]))\n",
    "except:\n",
    "    print(\"An error occured\")"
   ]
  },
  {
   "cell_type": "code",
   "execution_count": 7,
   "id": "a0ffabec-7851-49da-8351-b87702f3b0f5",
   "metadata": {},
   "outputs": [
    {
     "name": "stdout",
     "output_type": "stream",
     "text": [
      "ZeroDivisionError Occured and Handled\n"
     ]
    }
   ],
   "source": [
    "def fun(a):\n",
    "    if a<4:\n",
    "        b=a/(a-3)\n",
    "    print(\"value of b=\",b)\n",
    "try:\n",
    "    fun(3)\n",
    "    fun(5)\n",
    "except ZeroDivisionError:\n",
    "    print(\"ZeroDivisionError Occured and Handled\")\n",
    "except NameError:\n",
    "    print(\"NameError occured and Handled\")"
   ]
  },
  {
   "cell_type": "code",
   "execution_count": 8,
   "id": "2aca3c26-0181-4112-b81f-db4227b37926",
   "metadata": {},
   "outputs": [
    {
     "name": "stdout",
     "output_type": "stream",
     "text": [
      "-5.0\n",
      "a/b result in 0\n"
     ]
    }
   ],
   "source": [
    "def AbyB(a,b):\n",
    "    try:\n",
    "        c=((a+b)/(a-b))\n",
    "    except ZeroDivisionError:\n",
    "        print(\"a/b result in 0\")\n",
    "    else:\n",
    "        print(c)\n",
    "AbyB(2.0,3.0)\n",
    "AbyB(3.0,3.0)"
   ]
  },
  {
   "cell_type": "code",
   "execution_count": 1,
   "id": "ffc5cf63-f56e-473a-899a-ec63a54e6fb9",
   "metadata": {},
   "outputs": [
    {
     "name": "stdout",
     "output_type": "stream",
     "text": [
      "Can't divide by zero\n",
      "This is always executed\n"
     ]
    }
   ],
   "source": [
    "try:\n",
    "    k=5//0\n",
    "    print(k)\n",
    "except ZeroDivisionError:\n",
    "    print(\"Can't divide by zero\")\n",
    "finally:\n",
    "    print('This is always executed')"
   ]
  },
  {
   "cell_type": "code",
   "execution_count": null,
   "id": "81c88b27-961e-46df-b586-bab520077286",
   "metadata": {},
   "outputs": [],
   "source": [
    "# Raise Exception"
   ]
  },
  {
   "cell_type": "code",
   "execution_count": 2,
   "id": "c676413b-5172-40bc-a840-e9e275d16f87",
   "metadata": {},
   "outputs": [
    {
     "name": "stdout",
     "output_type": "stream",
     "text": [
      "An exception\n"
     ]
    }
   ],
   "source": [
    "try:\n",
    "    raise NameError(\"Hi there\")\n",
    "except NameError:\n",
    "    print(\"An exception\")"
   ]
  },
  {
   "cell_type": "code",
   "execution_count": null,
   "id": "c6cd9e66-a67f-4d21-962b-efff7e7c5ce9",
   "metadata": {},
   "outputs": [],
   "source": [
    "# User defined exception"
   ]
  },
  {
   "cell_type": "code",
   "execution_count": 4,
   "id": "043a580f-2336-40c8-84f9-4295a5b6b5a9",
   "metadata": {},
   "outputs": [
    {
     "name": "stdout",
     "output_type": "stream",
     "text": [
      "A New exception occured: 6\n"
     ]
    }
   ],
   "source": [
    "class MyError(Exception):\n",
    "    def __init__(self,value):\n",
    "        self.value=value\n",
    "    def __str__(self):\n",
    "        return(repr(self.value))\n",
    "try:\n",
    "    raise(MyError(3*2))\n",
    "except MyError as error:\n",
    "    print('A New exception occured:',error.value)"
   ]
  },
  {
   "cell_type": "code",
   "execution_count": null,
   "id": "4b3a9a9a-ee7d-41eb-96d2-8ea003ec284e",
   "metadata": {},
   "outputs": [],
   "source": [
    "# Regular expressions"
   ]
  },
  {
   "cell_type": "code",
   "execution_count": 8,
   "id": "b62cbfc0-87b7-42e9-9540-abb9bd49d38e",
   "metadata": {},
   "outputs": [
    {
     "name": "stdout",
     "output_type": "stream",
     "text": [
      "YES!we have a match!\n"
     ]
    }
   ],
   "source": [
    "import re\n",
    "txt=\"The rain in Spain\"\n",
    "x=re.search(\"^The.*Spain$\",txt)\n",
    "if x:\n",
    "    print(\"YES!we have a match!\")\n",
    "else:\n",
    "    print(\"No match\")\n",
    "    "
   ]
  },
  {
   "cell_type": "code",
   "execution_count": null,
   "id": "2de65144-4fbe-41ec-b34a-330df589f52b",
   "metadata": {},
   "outputs": [],
   "source": [
    "# Findall function"
   ]
  },
  {
   "cell_type": "code",
   "execution_count": 9,
   "id": "a0666309-31da-465f-a597-7184ae0aa078",
   "metadata": {},
   "outputs": [
    {
     "name": "stdout",
     "output_type": "stream",
     "text": [
      "['ai', 'ai']\n"
     ]
    }
   ],
   "source": [
    "import re\n",
    "txt=\"The rain in spain\"\n",
    "x=re.findall(\"ai\",txt)\n",
    "print(x)"
   ]
  },
  {
   "cell_type": "code",
   "execution_count": 10,
   "id": "d56ec49d-207d-48fb-a219-a8ef1614d67f",
   "metadata": {},
   "outputs": [
    {
     "name": "stdout",
     "output_type": "stream",
     "text": [
      "[]\n",
      "No match\n"
     ]
    }
   ],
   "source": [
    "import re\n",
    "txt=\"The rain in spain\"\n",
    "x=re.findall(\"Portugal\",txt)\n",
    "print(x)\n",
    "if(x):\n",
    "    print(\"Yes,there is atleast one match!\")\n",
    "else:\n",
    "    print(\"No match\")"
   ]
  },
  {
   "cell_type": "code",
   "execution_count": null,
   "id": "cfb48efd-2c81-497f-bec8-a0246445b1af",
   "metadata": {},
   "outputs": [],
   "source": [
    "# Search function"
   ]
  },
  {
   "cell_type": "code",
   "execution_count": 11,
   "id": "1340854c-61dc-40a7-8edd-9e469d449b59",
   "metadata": {},
   "outputs": [
    {
     "name": "stdout",
     "output_type": "stream",
     "text": [
      "The first white-space character is located in position: 3\n"
     ]
    },
    {
     "name": "stderr",
     "output_type": "stream",
     "text": [
      "<>:2: SyntaxWarning: invalid escape sequence '\\s'\n",
      "<>:2: SyntaxWarning: invalid escape sequence '\\s'\n",
      "C:\\Users\\User\\AppData\\Local\\Temp\\ipykernel_7380\\3653295954.py:2: SyntaxWarning: invalid escape sequence '\\s'\n",
      "  x=re.search(\"\\s\",txt)\n"
     ]
    }
   ],
   "source": [
    "txt=\"The rain in spain\"\n",
    "x=re.search(\"\\s\",txt)\n",
    "print(\"The first white-space character is located in position:\",x.start())"
   ]
  },
  {
   "cell_type": "code",
   "execution_count": 12,
   "id": "20437ebf-ed2f-4295-8434-29e10e90feac",
   "metadata": {},
   "outputs": [
    {
     "name": "stdout",
     "output_type": "stream",
     "text": [
      "None\n"
     ]
    }
   ],
   "source": [
    "import re\n",
    "txt=\"The rain in spain\"\n",
    "x=re.search(\"Portugal\",txt)\n",
    "print(x)"
   ]
  },
  {
   "cell_type": "code",
   "execution_count": null,
   "id": "abe1a3c8-fee2-4fe3-a721-97dd3352fe84",
   "metadata": {},
   "outputs": [],
   "source": [
    "# Split function"
   ]
  },
  {
   "cell_type": "code",
   "execution_count": 13,
   "id": "d303d982-319c-4992-91cd-afbe1dcf27cb",
   "metadata": {},
   "outputs": [
    {
     "name": "stdout",
     "output_type": "stream",
     "text": [
      "['The', 'rain', 'in', 'spain']\n"
     ]
    },
    {
     "name": "stderr",
     "output_type": "stream",
     "text": [
      "<>:3: SyntaxWarning: invalid escape sequence '\\s'\n",
      "<>:3: SyntaxWarning: invalid escape sequence '\\s'\n",
      "C:\\Users\\User\\AppData\\Local\\Temp\\ipykernel_7380\\4027913792.py:3: SyntaxWarning: invalid escape sequence '\\s'\n",
      "  x=re.split(\"\\s\",txt)\n"
     ]
    }
   ],
   "source": [
    "import re\n",
    "txt=\"The rain in spain\"\n",
    "x=re.split(\"\\s\",txt)\n",
    "print(x)"
   ]
  },
  {
   "cell_type": "code",
   "execution_count": 15,
   "id": "410f610e-ae59-46c3-901f-d764a63bb316",
   "metadata": {},
   "outputs": [
    {
     "name": "stdout",
     "output_type": "stream",
     "text": [
      "['The', 'rain in spain']\n"
     ]
    },
    {
     "name": "stderr",
     "output_type": "stream",
     "text": [
      "<>:3: SyntaxWarning: invalid escape sequence '\\s'\n",
      "<>:3: SyntaxWarning: invalid escape sequence '\\s'\n",
      "C:\\Users\\User\\AppData\\Local\\Temp\\ipykernel_7380\\70615690.py:3: SyntaxWarning: invalid escape sequence '\\s'\n",
      "  x=re.split(\"\\s\",txt,1)\n"
     ]
    }
   ],
   "source": [
    "import re\n",
    "txt=\"The rain in spain\"\n",
    "x=re.split(\"\\s\",txt,1)\n",
    "print(x)"
   ]
  },
  {
   "cell_type": "code",
   "execution_count": null,
   "id": "ecffc44c-e29b-42ed-9b1a-86c3a8bcda0e",
   "metadata": {},
   "outputs": [],
   "source": [
    "# Sub function"
   ]
  },
  {
   "cell_type": "code",
   "execution_count": 16,
   "id": "21af8b26-6841-4af6-b473-f1d3bfb3bd0c",
   "metadata": {},
   "outputs": [
    {
     "name": "stdout",
     "output_type": "stream",
     "text": [
      "The9rain9in9spain\n"
     ]
    },
    {
     "name": "stderr",
     "output_type": "stream",
     "text": [
      "<>:3: SyntaxWarning: invalid escape sequence '\\s'\n",
      "<>:3: SyntaxWarning: invalid escape sequence '\\s'\n",
      "C:\\Users\\User\\AppData\\Local\\Temp\\ipykernel_7380\\38519270.py:3: SyntaxWarning: invalid escape sequence '\\s'\n",
      "  x=re.sub(\"\\s\",\"9\",txt)\n"
     ]
    }
   ],
   "source": [
    "import re\n",
    "txt=\"The rain in spain\"\n",
    "x=re.sub(\"\\s\",\"9\",txt)\n",
    "print(x)"
   ]
  },
  {
   "cell_type": "code",
   "execution_count": 17,
   "id": "9f4c89bc-7c27-4876-8d8b-c10e14e25dd9",
   "metadata": {},
   "outputs": [
    {
     "name": "stdout",
     "output_type": "stream",
     "text": [
      "The rain in spain\n"
     ]
    }
   ],
   "source": [
    "import re\n",
    "txt=\"The rain in spain\"\n",
    "x=re.sub(\"/s\",\"9\",txt,2)\n",
    "print(x)"
   ]
  },
  {
   "cell_type": "code",
   "execution_count": null,
   "id": "72934c12-9ca1-43fc-abc0-be438e91ccc8",
   "metadata": {},
   "outputs": [],
   "source": [
    "# Match object"
   ]
  },
  {
   "cell_type": "code",
   "execution_count": 18,
   "id": "fbe42d6e-c0fb-473e-8024-ec05174e246c",
   "metadata": {},
   "outputs": [
    {
     "name": "stdout",
     "output_type": "stream",
     "text": [
      "<re.Match object; span=(5, 7), match='ai'>\n"
     ]
    }
   ],
   "source": [
    "import re\n",
    "txt=\"The rain in spain\"\n",
    "x=re.search(\"ai\",txt)\n",
    "print(x)"
   ]
  },
  {
   "cell_type": "code",
   "execution_count": null,
   "id": "34ef935a-d279-4421-b5cb-903b9ecf3349",
   "metadata": {},
   "outputs": [],
   "source": [
    "# .span"
   ]
  },
  {
   "cell_type": "code",
   "execution_count": 22,
   "id": "16258c92-0b57-4ba5-a7c6-987ce168a9ea",
   "metadata": {},
   "outputs": [
    {
     "name": "stdout",
     "output_type": "stream",
     "text": [
      "(12, 17)\n"
     ]
    }
   ],
   "source": [
    "import re\n",
    "txt=\"The rain in spain\"\n",
    "x=re.search(r\"\\bs\\w+\",txt)\n",
    "print(x.span())"
   ]
  },
  {
   "cell_type": "code",
   "execution_count": null,
   "id": "32aefbde-8f59-4155-880b-18dc38adb8f1",
   "metadata": {},
   "outputs": [],
   "source": [
    "# group"
   ]
  },
  {
   "cell_type": "code",
   "execution_count": 21,
   "id": "60319777-632b-4c98-b384-249b1d2fdeb6",
   "metadata": {},
   "outputs": [
    {
     "name": "stdout",
     "output_type": "stream",
     "text": [
      "spain\n"
     ]
    }
   ],
   "source": [
    "import re\n",
    "txt=\"The rain in spain\"\n",
    "x=re.search(r\"\\bs\\w+\",txt)\n",
    "print(x.group())"
   ]
  },
  {
   "cell_type": "code",
   "execution_count": null,
   "id": "7ae41dad-498f-4521-84f3-47ae280582f7",
   "metadata": {},
   "outputs": [],
   "source": [
    "# String"
   ]
  },
  {
   "cell_type": "code",
   "execution_count": 23,
   "id": "ca19ef45-c10d-4f08-92dc-36c628e77149",
   "metadata": {},
   "outputs": [
    {
     "name": "stdout",
     "output_type": "stream",
     "text": [
      "The rain in spain\n"
     ]
    }
   ],
   "source": [
    "import re\n",
    "txt=\"The rain in spain\"\n",
    "x=re.search(r\"\\bs\\w+\",txt)\n",
    "print(x.string)"
   ]
  }
 ],
 "metadata": {
  "kernelspec": {
   "display_name": "Python 3 (ipykernel)",
   "language": "python",
   "name": "python3"
  },
  "language_info": {
   "codemirror_mode": {
    "name": "ipython",
    "version": 3
   },
   "file_extension": ".py",
   "mimetype": "text/x-python",
   "name": "python",
   "nbconvert_exporter": "python",
   "pygments_lexer": "ipython3",
   "version": "3.12.7"
  }
 },
 "nbformat": 4,
 "nbformat_minor": 5
}
