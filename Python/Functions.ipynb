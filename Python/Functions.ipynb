{
 "cells": [
  {
   "cell_type": "code",
   "execution_count": 3,
   "id": "7c02165c-a11e-4656-8d60-24eee5d40aaf",
   "metadata": {},
   "outputs": [
    {
     "name": "stdout",
     "output_type": "stream",
     "text": [
      "Welcome to ipcs\n"
     ]
    }
   ],
   "source": [
    "def Hello():\n",
    "    print(\"Welcome to ipcs\")\n",
    "Hello()"
   ]
  },
  {
   "cell_type": "code",
   "execution_count": 7,
   "id": "71d29c77-d7e6-4723-af61-c612f0a414de",
   "metadata": {},
   "outputs": [
    {
     "name": "stdout",
     "output_type": "stream",
     "text": [
      "even\n",
      "odd\n"
     ]
    }
   ],
   "source": [
    "def evenorodd(x):\n",
    "    if(x%2==0):\n",
    "        print(\"even\")\n",
    "    else:\n",
    "        print(\"odd\")\n",
    "evenorodd(6)\n",
    "evenorodd(7)"
   ]
  },
  {
   "cell_type": "code",
   "execution_count": null,
   "id": "1ad15f85-768a-4107-9e16-19de039eb561",
   "metadata": {},
   "outputs": [],
   "source": [
    "# Arguments"
   ]
  },
  {
   "cell_type": "code",
   "execution_count": 8,
   "id": "96c979a3-aa54-45a4-abaf-65d09eb07165",
   "metadata": {},
   "outputs": [
    {
     "name": "stdout",
     "output_type": "stream",
     "text": [
      "x: 10\n",
      "y: 50\n"
     ]
    }
   ],
   "source": [
    "def myfun(x,y=50):\n",
    "    print(\"x:\",x)\n",
    "    print(\"y:\",y)\n",
    "myfun(10)"
   ]
  },
  {
   "cell_type": "code",
   "execution_count": null,
   "id": "cafd7966-0076-4827-9800-84923ccaabee",
   "metadata": {},
   "outputs": [],
   "source": [
    "# Keyword Arguments"
   ]
  },
  {
   "cell_type": "code",
   "execution_count": 2,
   "id": "7705199a-3cbe-4fc9-b161-aa05f1703250",
   "metadata": {},
   "outputs": [
    {
     "name": "stdout",
     "output_type": "stream",
     "text": [
      "python functions\n",
      "ptogrammers hello\n"
     ]
    }
   ],
   "source": [
    "def student(firstname,lastname):\n",
    "    print(firstname,lastname)\n",
    "student(firstname='python',lastname='functions')\n",
    "student(lastname='hello',firstname='ptogrammers')"
   ]
  },
  {
   "cell_type": "code",
   "execution_count": null,
   "id": "edebe47e-4112-494f-aa1d-7da7bdafec3a",
   "metadata": {},
   "outputs": [],
   "source": [
    "# Arbitrary Argument"
   ]
  },
  {
   "cell_type": "code",
   "execution_count": 8,
   "id": "dbd2c988-44fb-4c9c-9e28-a0debb4cd143",
   "metadata": {},
   "outputs": [
    {
     "name": "stdout",
     "output_type": "stream",
     "text": [
      "The youngest child is Linus\n"
     ]
    }
   ],
   "source": [
    "def my_fun(*kids):\n",
    "    print(\"The youngest child is \"+kids[2])\n",
    "my_fun(\"Emil\",\"Thobias\",\"Linus\")"
   ]
  },
  {
   "cell_type": "code",
   "execution_count": 9,
   "id": "24933b53-4935-472b-8493-6e2bdd6c1942",
   "metadata": {},
   "outputs": [
    {
     "name": "stdout",
     "output_type": "stream",
     "text": [
      "hello\n",
      "welcome\n",
      "to\n",
      "ipcs\n"
     ]
    }
   ],
   "source": [
    "def my_fun(*argv):\n",
    "    for x in argv:\n",
    "        print(x)\n",
    "my_fun('hello','welcome','to','ipcs')"
   ]
  },
  {
   "cell_type": "code",
   "execution_count": null,
   "id": "cbd83d54-5b5e-4717-b919-36ba8c0cc26d",
   "metadata": {},
   "outputs": [],
   "source": [
    "# Arbitrary Keyword Arguments(**kwargs)"
   ]
  },
  {
   "cell_type": "code",
   "execution_count": 2,
   "id": "140105e5-b9b8-45d0-92bb-851ddf73e36c",
   "metadata": {},
   "outputs": [
    {
     "name": "stdout",
     "output_type": "stream",
     "text": [
      "His first name is vignesh\n"
     ]
    }
   ],
   "source": [
    "def my_fun(**student):\n",
    "    print(\"His first name is \"+student[\"fname\"])\n",
    "my_fun(fname=\"vignesh\",lname=\"s\")"
   ]
  },
  {
   "cell_type": "code",
   "execution_count": 3,
   "id": "5fef3f8c-150c-46e9-9acd-987433494346",
   "metadata": {},
   "outputs": [
    {
     "name": "stdout",
     "output_type": "stream",
     "text": [
      "first==welcome\n",
      "mid==for\n",
      "last==course\n"
     ]
    }
   ],
   "source": [
    "def myfun(**kwargs):\n",
    "    for key,value in kwargs.items():\n",
    "        print(\"%s==%s\"%(key,value))\n",
    "myfun(first='welcome',mid='for',last='course')"
   ]
  },
  {
   "cell_type": "code",
   "execution_count": null,
   "id": "5467d237-587c-4ada-8dfa-7476723d80b7",
   "metadata": {},
   "outputs": [],
   "source": [
    "# Default Arguments"
   ]
  },
  {
   "cell_type": "code",
   "execution_count": 4,
   "id": "74e15846-999a-4ae7-9e5f-3d7ae9a85e6a",
   "metadata": {},
   "outputs": [
    {
     "name": "stdout",
     "output_type": "stream",
     "text": [
      "i am from Sweden\n",
      "i am from India\n",
      "i am from Norway\n",
      "i am from Brazil\n"
     ]
    }
   ],
   "source": [
    "def my_fun(country=\"Norway\"):\n",
    "    print(\"i am from \"+country)\n",
    "my_fun(\"Sweden\")\n",
    "my_fun(\"India\")\n",
    "my_fun()\n",
    "my_fun(\"Brazil\")"
   ]
  },
  {
   "cell_type": "code",
   "execution_count": null,
   "id": "2a57fe00-7345-4e71-b2b6-aba41b959ae9",
   "metadata": {},
   "outputs": [],
   "source": []
  },
  {
   "cell_type": "code",
   "execution_count": 6,
   "id": "5d31957d-a495-450f-8e26-964065e34f7f",
   "metadata": {},
   "outputs": [
    {
     "name": "stdout",
     "output_type": "stream",
     "text": [
      "apple\n",
      "banana\n",
      "cherry\n"
     ]
    }
   ],
   "source": [
    "def my_fun(xyz):\n",
    "    for x in xyz:\n",
    "        print(x)\n",
    "fruits=[\"apple\",\"banana\",\"cherry\"]\n",
    "my_fun(fruits)"
   ]
  },
  {
   "cell_type": "code",
   "execution_count": null,
   "id": "984c636f-d53e-421b-80c0-261ca0c8ad46",
   "metadata": {},
   "outputs": [],
   "source": [
    "# Return Values"
   ]
  },
  {
   "cell_type": "code",
   "execution_count": 1,
   "id": "b21bd38f-d018-4cf2-a591-cf7c5b056204",
   "metadata": {},
   "outputs": [
    {
     "name": "stdout",
     "output_type": "stream",
     "text": [
      "10\n"
     ]
    }
   ],
   "source": [
    "def my_fun():\n",
    "    return 5+5\n",
    "print(my_fun())"
   ]
  },
  {
   "cell_type": "code",
   "execution_count": 4,
   "id": "2383b4f8-043e-4198-b992-9b6ada54da95",
   "metadata": {},
   "outputs": [
    {
     "name": "stdout",
     "output_type": "stream",
     "text": [
      "4\n",
      "16\n"
     ]
    }
   ],
   "source": [
    "def square_value(num):\n",
    "    return num**2\n",
    "print(square_value(2))\n",
    "print(square_value(-4))"
   ]
  },
  {
   "cell_type": "code",
   "execution_count": null,
   "id": "37e44f1c-21d9-4666-b5af-752fa7c81d6c",
   "metadata": {},
   "outputs": [],
   "source": [
    "# Pass by reference"
   ]
  },
  {
   "cell_type": "code",
   "execution_count": 5,
   "id": "3125fdaa-4788-4ba8-9f46-92de3c702701",
   "metadata": {},
   "outputs": [
    {
     "name": "stdout",
     "output_type": "stream",
     "text": [
      "[30, 11, 13, 14, 15]\n"
     ]
    }
   ],
   "source": [
    "def my_fun(x):\n",
    "    x[0]=30\n",
    "lst=[9,11,13,14,15]\n",
    "my_fun(lst)\n",
    "print(lst)"
   ]
  },
  {
   "cell_type": "code",
   "execution_count": null,
   "id": "b726b2d2-bf37-4636-b5ee-d45b827b794b",
   "metadata": {},
   "outputs": [],
   "source": [
    "# Function within Function"
   ]
  },
  {
   "cell_type": "code",
   "execution_count": 13,
   "id": "2b9ed386-5d21-4243-8abd-876d3769108a",
   "metadata": {},
   "outputs": [
    {
     "name": "stdout",
     "output_type": "stream",
     "text": [
      "i love python\n"
     ]
    }
   ],
   "source": [
    "def f1():\n",
    "    s='i love python'\n",
    "    def f2():\n",
    "        print(s)\n",
    "    f2()\n",
    "f1()"
   ]
  },
  {
   "cell_type": "code",
   "execution_count": null,
   "id": "44d84133-305c-4b1f-9aef-bd200ece743b",
   "metadata": {},
   "outputs": [],
   "source": []
  }
 ],
 "metadata": {
  "kernelspec": {
   "display_name": "Python 3 (ipykernel)",
   "language": "python",
   "name": "python3"
  },
  "language_info": {
   "codemirror_mode": {
    "name": "ipython",
    "version": 3
   },
   "file_extension": ".py",
   "mimetype": "text/x-python",
   "name": "python",
   "nbconvert_exporter": "python",
   "pygments_lexer": "ipython3",
   "version": "3.12.7"
  }
 },
 "nbformat": 4,
 "nbformat_minor": 5
}
