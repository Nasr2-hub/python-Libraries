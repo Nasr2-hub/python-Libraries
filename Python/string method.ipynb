{
 "cells": [
  {
   "cell_type": "code",
   "execution_count": 2,
   "id": "e875ef84-a827-4d96-aa7d-e57f9e4d6061",
   "metadata": {},
   "outputs": [
    {
     "name": "stdout",
     "output_type": "stream",
     "text": [
      "HELLO\n"
     ]
    }
   ],
   "source": [
    "#upper()\n",
    "text=\"hello\"\n",
    "print(text.upper())"
   ]
  },
  {
   "cell_type": "code",
   "execution_count": 3,
   "id": "bd392fe5-d163-4775-b23e-062557fb1532",
   "metadata": {},
   "outputs": [
    {
     "name": "stdout",
     "output_type": "stream",
     "text": [
      "hello\n"
     ]
    }
   ],
   "source": [
    "# lower\n",
    "text=\"Hello\"\n",
    "print(text.lower())"
   ]
  },
  {
   "cell_type": "code",
   "execution_count": 4,
   "id": "74be67a2-bd7e-481a-ad3e-8ca77a3e59ee",
   "metadata": {},
   "outputs": [
    {
     "name": "stdout",
     "output_type": "stream",
     "text": [
      "hello\n"
     ]
    }
   ],
   "source": [
    "# strip\n",
    "text=\"   hello   \"\n",
    "print(text.strip())"
   ]
  },
  {
   "cell_type": "code",
   "execution_count": 5,
   "id": "841b9c02-fb8a-478e-b430-4ae1ec97e9ce",
   "metadata": {},
   "outputs": [
    {
     "name": "stdout",
     "output_type": "stream",
     "text": [
      "hello python\n"
     ]
    }
   ],
   "source": [
    "# replace(old,new)\n",
    "text=\"hello world\"\n",
    "print(text.replace(\"world\",\"python\"))"
   ]
  },
  {
   "cell_type": "code",
   "execution_count": 8,
   "id": "2614994c-2d03-4ce8-906b-e8b0aa770f0e",
   "metadata": {},
   "outputs": [
    {
     "name": "stdout",
     "output_type": "stream",
     "text": [
      "['apple', 'banana', 'orange']\n"
     ]
    }
   ],
   "source": [
    "# split(separator)\n",
    "text=\"apple,banana,orange\"\n",
    "fruits=text.split(\",\")\n",
    "print(fruits)"
   ]
  },
  {
   "cell_type": "code",
   "execution_count": 9,
   "id": "e032449c-694e-4622-9d4a-84749e934943",
   "metadata": {},
   "outputs": [
    {
     "name": "stdout",
     "output_type": "stream",
     "text": [
      "apple,banana,banana\n"
     ]
    }
   ],
   "source": [
    "# join\n",
    "fruits=['apple','banana','banana']\n",
    "print(','.join(fruits))"
   ]
  },
  {
   "cell_type": "code",
   "execution_count": 10,
   "id": "e89560e0-29b8-4ff9-b14a-1b5e390ba078",
   "metadata": {},
   "outputs": [
    {
     "name": "stdout",
     "output_type": "stream",
     "text": [
      "2\n"
     ]
    }
   ],
   "source": [
    "# find\n",
    "text=\"hello\"\n",
    "print(text.find(\"l\"))"
   ]
  },
  {
   "cell_type": "code",
   "execution_count": 11,
   "id": "b891f64f-8cba-44f9-858a-36c08831190e",
   "metadata": {},
   "outputs": [
    {
     "name": "stdout",
     "output_type": "stream",
     "text": [
      "True\n"
     ]
    }
   ],
   "source": [
    "# startswith\n",
    "text=\"hello\"\n",
    "print(text.startswith(\"he\"))"
   ]
  },
  {
   "cell_type": "code",
   "execution_count": 12,
   "id": "cffe9165-1317-426a-a9bb-9ab985ac24b2",
   "metadata": {},
   "outputs": [
    {
     "name": "stdout",
     "output_type": "stream",
     "text": [
      "True\n"
     ]
    }
   ],
   "source": [
    "# endswith\n",
    "text=\"hello\"\n",
    "print(text.endswith(\"llo\"))"
   ]
  },
  {
   "cell_type": "code",
   "execution_count": 14,
   "id": "47e9530b-0374-4ec6-a540-f3fdd9b95daa",
   "metadata": {},
   "outputs": [
    {
     "name": "stdout",
     "output_type": "stream",
     "text": [
      "2\n"
     ]
    }
   ],
   "source": [
    "# count\n",
    "text=\"hello\"\n",
    "print(text.count(\"l\"))"
   ]
  },
  {
   "cell_type": "code",
   "execution_count": 15,
   "id": "9f5169f6-43a5-4c4f-a859-5ba090908b8f",
   "metadata": {},
   "outputs": [
    {
     "name": "stdout",
     "output_type": "stream",
     "text": [
      "Hello\n"
     ]
    }
   ],
   "source": [
    "# capitalize\n",
    "text=\"hello\"\n",
    "print(text.capitalize())"
   ]
  },
  {
   "cell_type": "code",
   "execution_count": 16,
   "id": "8fff56b5-462d-4e6f-adab-8d123fa86461",
   "metadata": {},
   "outputs": [
    {
     "name": "stdout",
     "output_type": "stream",
     "text": [
      "Hello World\n"
     ]
    }
   ],
   "source": [
    "# title\n",
    "text=\"hello world\"\n",
    "print(text.title())"
   ]
  },
  {
   "cell_type": "code",
   "execution_count": 19,
   "id": "c00d6f21-ad8e-49d6-aa60-f3e674795672",
   "metadata": {},
   "outputs": [
    {
     "name": "stdout",
     "output_type": "stream",
     "text": [
      "my name is john,i am 36\n"
     ]
    }
   ],
   "source": [
    "age=36\n",
    "txt=\"my name is john,i am \"+str(age)\n",
    "print(txt)"
   ]
  },
  {
   "cell_type": "code",
   "execution_count": 2,
   "id": "c571ffca-b009-463f-94c4-4d95d0644b36",
   "metadata": {},
   "outputs": [
    {
     "name": "stdout",
     "output_type": "stream",
     "text": [
      "hello python\n"
     ]
    }
   ],
   "source": [
    "A=\"hello \"\n",
    "B=\"python\"\n",
    "v=A+B\n",
    "print(v)"
   ]
  },
  {
   "cell_type": "code",
   "execution_count": 4,
   "id": "d3be5706-8a68-4891-8a9b-81d4e87a8948",
   "metadata": {},
   "outputs": [
    {
     "name": "stdout",
     "output_type": "stream",
     "text": [
      "my name is john,i am 36\n"
     ]
    }
   ],
   "source": [
    "# string format(method 1)\n",
    "age=36\n",
    "txt=\"my name is john,i am {}\"\n",
    "print(txt.format(age))"
   ]
  },
  {
   "cell_type": "code",
   "execution_count": 6,
   "id": "40bc5c57-9484-46ee-a037-b87229e014aa",
   "metadata": {},
   "outputs": [
    {
     "name": "stdout",
     "output_type": "stream",
     "text": [
      "i want 10 of my order 4776 for 3212 rupees.\n"
     ]
    }
   ],
   "source": [
    "# (method 2)\n",
    "amount=3212\n",
    "order=4776\n",
    "quantity=10\n",
    "myorder=\"i want {} of my order {} for {} rupees.\"\n",
    "print(myorder.format(quantity,order,amount))"
   ]
  },
  {
   "cell_type": "code",
   "execution_count": 7,
   "id": "b3a38e26-82da-4a9d-8267-ab8f0b452c28",
   "metadata": {},
   "outputs": [
    {
     "name": "stdout",
     "output_type": "stream",
     "text": [
      "We are the so called \"vikings\" from the north\n"
     ]
    }
   ],
   "source": [
    "# Escape character\n",
    "txt=\"We are the so called \\\"vikings\\\" from the north\"\n",
    "print(txt)"
   ]
  },
  {
   "cell_type": "code",
   "execution_count": 8,
   "id": "47eeccc7-e1c4-4b0e-9944-8a0df3a76220",
   "metadata": {},
   "outputs": [
    {
     "name": "stdout",
     "output_type": "stream",
     "text": [
      "Hello\n",
      "World\n"
     ]
    }
   ],
   "source": [
    "# Newline escape\n",
    "txt=\"Hello\\nWorld\"\n",
    "print(txt)"
   ]
  },
  {
   "cell_type": "code",
   "execution_count": null,
   "id": "bb63449a-0f0f-4836-bc22-e75e6d92676e",
   "metadata": {},
   "outputs": [],
   "source": []
  }
 ],
 "metadata": {
  "kernelspec": {
   "display_name": "Python 3 (ipykernel)",
   "language": "python",
   "name": "python3"
  },
  "language_info": {
   "codemirror_mode": {
    "name": "ipython",
    "version": 3
   },
   "file_extension": ".py",
   "mimetype": "text/x-python",
   "name": "python",
   "nbconvert_exporter": "python",
   "pygments_lexer": "ipython3",
   "version": "3.12.7"
  }
 },
 "nbformat": 4,
 "nbformat_minor": 5
}
