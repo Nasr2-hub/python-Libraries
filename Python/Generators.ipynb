{
 "cells": [
  {
   "cell_type": "code",
   "execution_count": 5,
   "id": "b6ac7241-d0e3-45c9-b954-2a7b6cdd2789",
   "metadata": {},
   "outputs": [
    {
     "name": "stdout",
     "output_type": "stream",
     "text": [
      "Hi\n",
      "1\n",
      "How are you\n",
      "2\n",
      "Are youn there\n",
      "3\n"
     ]
    }
   ],
   "source": [
    "def greeting():\n",
    "    print('Hi')\n",
    "    yield 1\n",
    "    print('How are you')\n",
    "    yield 2\n",
    "    print('Are youn there')\n",
    "    yield 3\n",
    "messenger=greeting()\n",
    "result=next(messenger)\n",
    "print(result)\n",
    "result=next(messenger)\n",
    "print(result)\n",
    "result=next(messenger)\n",
    "print(result)\n"
   ]
  },
  {
   "cell_type": "code",
   "execution_count": null,
   "id": "fde75a8c-79e9-444e-9b40-71c77a447c89",
   "metadata": {},
   "outputs": [],
   "source": []
  }
 ],
 "metadata": {
  "kernelspec": {
   "display_name": "Python 3 (ipykernel)",
   "language": "python",
   "name": "python3"
  },
  "language_info": {
   "codemirror_mode": {
    "name": "ipython",
    "version": 3
   },
   "file_extension": ".py",
   "mimetype": "text/x-python",
   "name": "python",
   "nbconvert_exporter": "python",
   "pygments_lexer": "ipython3",
   "version": "3.12.7"
  }
 },
 "nbformat": 4,
 "nbformat_minor": 5
}
