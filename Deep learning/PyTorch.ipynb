{
 "cells": [
  {
   "cell_type": "code",
   "execution_count": 1,
   "id": "7bedbee1-3237-482d-a67d-a247e378322c",
   "metadata": {},
   "outputs": [
    {
     "name": "stdout",
     "output_type": "stream",
     "text": [
      "Requirement already satisfied: torch in c:\\users\\user\\appdata\\local\\programs\\python\\python312\\lib\\site-packages (2.5.1)\n",
      "Collecting torchvision\n",
      "  Using cached torchvision-0.20.1-cp312-cp312-win_amd64.whl.metadata (6.2 kB)\n",
      "Collecting torchaudio\n",
      "  Using cached torchaudio-2.5.1-cp312-cp312-win_amd64.whl.metadata (6.5 kB)\n",
      "Requirement already satisfied: filelock in c:\\users\\user\\appdata\\local\\programs\\python\\python312\\lib\\site-packages (from torch) (3.16.1)\n",
      "Requirement already satisfied: typing-extensions>=4.8.0 in c:\\users\\user\\appdata\\local\\programs\\python\\python312\\lib\\site-packages (from torch) (4.12.2)\n",
      "Requirement already satisfied: networkx in c:\\users\\user\\appdata\\local\\programs\\python\\python312\\lib\\site-packages (from torch) (3.4.2)\n",
      "Requirement already satisfied: jinja2 in c:\\users\\user\\appdata\\roaming\\python\\python312\\site-packages (from torch) (3.1.4)\n",
      "Requirement already satisfied: fsspec in c:\\users\\user\\appdata\\local\\programs\\python\\python312\\lib\\site-packages (from torch) (2024.12.0)\n",
      "Requirement already satisfied: setuptools in c:\\users\\user\\appdata\\roaming\\python\\python312\\site-packages (from torch) (75.1.0)\n",
      "Requirement already satisfied: sympy==1.13.1 in c:\\users\\user\\appdata\\local\\programs\\python\\python312\\lib\\site-packages (from torch) (1.13.1)\n",
      "Requirement already satisfied: mpmath<1.4,>=1.1.0 in c:\\users\\user\\appdata\\local\\programs\\python\\python312\\lib\\site-packages (from sympy==1.13.1->torch) (1.3.0)\n",
      "Requirement already satisfied: numpy in c:\\users\\user\\appdata\\local\\programs\\python\\python312\\lib\\site-packages (from torchvision) (2.0.2)\n",
      "Requirement already satisfied: pillow!=8.3.*,>=5.3.0 in c:\\users\\user\\appdata\\local\\programs\\python\\python312\\lib\\site-packages (from torchvision) (11.0.0)\n",
      "Requirement already satisfied: MarkupSafe>=2.0 in c:\\users\\user\\appdata\\roaming\\python\\python312\\site-packages (from jinja2->torch) (2.1.5)\n",
      "Using cached torchvision-0.20.1-cp312-cp312-win_amd64.whl (1.6 MB)\n",
      "Using cached torchaudio-2.5.1-cp312-cp312-win_amd64.whl (2.4 MB)\n",
      "Installing collected packages: torchvision, torchaudio\n",
      "Successfully installed torchaudio-2.5.1 torchvision-0.20.1\n"
     ]
    },
    {
     "name": "stderr",
     "output_type": "stream",
     "text": [
      "WARNING: Ignoring invalid distribution ~umpy (C:\\Users\\User\\AppData\\Local\\Programs\\Python\\Python312\\Lib\\site-packages)\n",
      "WARNING: Ignoring invalid distribution ~umpy (C:\\Users\\User\\AppData\\Local\\Programs\\Python\\Python312\\Lib\\site-packages)\n",
      "WARNING: Ignoring invalid distribution ~umpy (C:\\Users\\User\\AppData\\Local\\Programs\\Python\\Python312\\Lib\\site-packages)\n",
      "\n",
      "[notice] A new release of pip is available: 24.2 -> 24.3.1\n",
      "[notice] To update, run: python.exe -m pip install --upgrade pip\n"
     ]
    }
   ],
   "source": [
    "!pip install torch torchvision torchaudio"
   ]
  },
  {
   "cell_type": "code",
   "execution_count": 1,
   "id": "944ece74-e846-4793-905a-86c4a625a74a",
   "metadata": {},
   "outputs": [],
   "source": [
    "import torch"
   ]
  },
  {
   "cell_type": "code",
   "execution_count": 3,
   "id": "d37f31bc-c07b-4204-b1bf-f8a8c1cdd540",
   "metadata": {},
   "outputs": [],
   "source": [
    "array1=torch.tensor([1,2,3,4,5])\n",
    "array2=torch.tensor([10,20,30,40,50])"
   ]
  },
  {
   "cell_type": "code",
   "execution_count": 4,
   "id": "d5a2b74e-73e6-48f4-a548-fea7f1e023dd",
   "metadata": {},
   "outputs": [],
   "source": [
    "result=array1+array2"
   ]
  },
  {
   "cell_type": "code",
   "execution_count": 5,
   "id": "a2850ddc-e7f8-46ea-bcdf-182ae65fb975",
   "metadata": {},
   "outputs": [
    {
     "name": "stdout",
     "output_type": "stream",
     "text": [
      "Array 1: tensor([1, 2, 3, 4, 5])\n",
      "Array 2: tensor([10, 20, 30, 40, 50])\n",
      "Sum: tensor([11, 22, 33, 44, 55])\n"
     ]
    }
   ],
   "source": [
    "print(\"Array 1:\",array1)\n",
    "print(\"Array 2:\",array2)\n",
    "print(\"Sum:\",result)"
   ]
  },
  {
   "cell_type": "code",
   "execution_count": null,
   "id": "f5a90335-9eea-4bed-9d7d-58c493de277f",
   "metadata": {},
   "outputs": [],
   "source": []
  },
  {
   "cell_type": "code",
   "execution_count": null,
   "id": "4b9b5af0-f206-49bc-8905-ee32d3dfbb62",
   "metadata": {},
   "outputs": [],
   "source": [
    "# Basic Arithmetic Operations"
   ]
  },
  {
   "cell_type": "code",
   "execution_count": 7,
   "id": "47feb56f-e54d-40d8-963a-a9b48fd1243c",
   "metadata": {},
   "outputs": [],
   "source": [
    "a=torch.tensor([1,2,3])\n",
    "b=torch.tensor([4,5,6])"
   ]
  },
  {
   "cell_type": "code",
   "execution_count": 13,
   "id": "051a561e-d6c8-413c-bf02-edbc25c4ca41",
   "metadata": {},
   "outputs": [],
   "source": [
    "add_result=a+b\n",
    "sub_result=a-b\n",
    "mul_result=a*b\n",
    "div_result=a/b"
   ]
  },
  {
   "cell_type": "code",
   "execution_count": 14,
   "id": "244f8a91-987a-414e-92a0-9f8f42d0aa7f",
   "metadata": {},
   "outputs": [
    {
     "name": "stdout",
     "output_type": "stream",
     "text": [
      "Addition: tensor([5, 7, 9])\n",
      "Subtraction: tensor([-3, -3, -3])\n",
      "Multiplication: tensor([ 4, 10, 18])\n",
      "Division: tensor([0.2500, 0.4000, 0.5000])\n"
     ]
    }
   ],
   "source": [
    "print(\"Addition:\",add_result)\n",
    "print(\"Subtraction:\",sub_result)\n",
    "print(\"Multiplication:\",mul_result)\n",
    "print(\"Division:\",div_result)"
   ]
  },
  {
   "cell_type": "code",
   "execution_count": null,
   "id": "4ab4209a-afe4-4dd8-846d-296714db9bef",
   "metadata": {},
   "outputs": [],
   "source": []
  },
  {
   "cell_type": "code",
   "execution_count": null,
   "id": "31dd112f-35cc-4ba5-80ec-b25f34bf9bcc",
   "metadata": {},
   "outputs": [],
   "source": [
    "# Matrix Operations"
   ]
  },
  {
   "cell_type": "code",
   "execution_count": 15,
   "id": "51179637-82a5-4c95-a075-552cadf0bba9",
   "metadata": {},
   "outputs": [],
   "source": [
    "matrix1=torch.tensor([[1,2],[3,4]])\n",
    "matrix2=torch.tensor([[5,6],[7,8]])"
   ]
  },
  {
   "cell_type": "code",
   "execution_count": 16,
   "id": "2dce6c61-a4cc-47ee-95ca-6792c23d0d75",
   "metadata": {},
   "outputs": [],
   "source": [
    "matmul_result=torch.matmul(matrix1,matrix2)"
   ]
  },
  {
   "cell_type": "code",
   "execution_count": 17,
   "id": "47885228-f82c-46e7-a2cd-83a21fc8cc11",
   "metadata": {},
   "outputs": [],
   "source": [
    "transpose_result=matrix1.t()"
   ]
  },
  {
   "cell_type": "code",
   "execution_count": 18,
   "id": "44c2f1f8-16c4-4688-8089-6072dfee4e00",
   "metadata": {},
   "outputs": [],
   "source": [
    "vec1=torch.tensor([1,2])\n",
    "vec2=torch.tensor([3,4])\n",
    "dot_result=torch.dot(vec1,vec2)"
   ]
  },
  {
   "cell_type": "code",
   "execution_count": 19,
   "id": "2590895d-27ae-49c1-b108-d67bdd2a333c",
   "metadata": {},
   "outputs": [
    {
     "name": "stdout",
     "output_type": "stream",
     "text": [
      "Matrix Multiplication: tensor([[19, 22],\n",
      "        [43, 50]])\n",
      "Transpose: tensor([[1, 3],\n",
      "        [2, 4]])\n",
      "Dot Product: tensor(11)\n"
     ]
    }
   ],
   "source": [
    "print(\"Matrix Multiplication:\",matmul_result)\n",
    "print(\"Transpose:\",transpose_result)\n",
    "print(\"Dot Product:\",dot_result)"
   ]
  },
  {
   "cell_type": "code",
   "execution_count": null,
   "id": "9ea8d219-cae5-475d-a663-abd4e1d37c7a",
   "metadata": {},
   "outputs": [],
   "source": []
  }
 ],
 "metadata": {
  "kernelspec": {
   "display_name": "Python 3 (ipykernel)",
   "language": "python",
   "name": "python3"
  },
  "language_info": {
   "codemirror_mode": {
    "name": "ipython",
    "version": 3
   },
   "file_extension": ".py",
   "mimetype": "text/x-python",
   "name": "python",
   "nbconvert_exporter": "python",
   "pygments_lexer": "ipython3",
   "version": "3.12.7"
  }
 },
 "nbformat": 4,
 "nbformat_minor": 5
}
