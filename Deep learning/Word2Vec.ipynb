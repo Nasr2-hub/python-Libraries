{
 "cells": [
  {
   "cell_type": "code",
   "execution_count": 2,
   "id": "0f555fac-01ad-4a0e-af64-70a25b512ee3",
   "metadata": {},
   "outputs": [
    {
     "name": "stdout",
     "output_type": "stream",
     "text": [
      "{'this', 'is', 'second', 'first', 'document'}\n"
     ]
    }
   ],
   "source": [
    "doc_a='this document is first document'\n",
    "doc_b='this document is second document'\n",
    "bag_of_words_a=doc_a.split(' ')\n",
    "bag_of_words_b=doc_b.split(' ')\n",
    "unique_words_set=set(bag_of_words_a).union(set(bag_of_words_b))\n",
    "print(unique_words_set)"
   ]
  },
  {
   "cell_type": "code",
   "execution_count": 3,
   "id": "1e8f19ad-a377-4027-99ae-41a6cbc9a723",
   "metadata": {},
   "outputs": [
    {
     "name": "stdout",
     "output_type": "stream",
     "text": [
      "{'this': 0, 'is': 0, 'second': 0, 'first': 0, 'document': 0}\n"
     ]
    }
   ],
   "source": [
    "dict_a=dict.fromkeys(unique_words_set, 0)\n",
    "print(dict_a)"
   ]
  },
  {
   "cell_type": "code",
   "execution_count": 4,
   "id": "01b6ae48-4dc5-4661-94c7-39596ded9308",
   "metadata": {},
   "outputs": [
    {
     "name": "stdout",
     "output_type": "stream",
     "text": [
      "{'this': 1, 'is': 1, 'second': 0, 'first': 1, 'document': 2}\n"
     ]
    }
   ],
   "source": [
    "for word in bag_of_words_a:\n",
    "    dict_a[word] +=1\n",
    "print(dict_a)"
   ]
  },
  {
   "cell_type": "code",
   "execution_count": 6,
   "id": "a934ed33-cc14-4383-a9d6-f07940451fe3",
   "metadata": {},
   "outputs": [
    {
     "name": "stdout",
     "output_type": "stream",
     "text": [
      "{'this': 0, 'is': 0, 'second': 0, 'first': 0, 'document': 0}\n"
     ]
    }
   ],
   "source": [
    "dict_b=dict.fromkeys(unique_words_set, 0)\n",
    "print(dict_b)"
   ]
  },
  {
   "cell_type": "code",
   "execution_count": 7,
   "id": "c86792a6-e299-4dc3-aa2b-c4735e103279",
   "metadata": {},
   "outputs": [
    {
     "name": "stdout",
     "output_type": "stream",
     "text": [
      "{'this': 1, 'is': 1, 'second': 1, 'first': 0, 'document': 2}\n"
     ]
    }
   ],
   "source": [
    "for word in bag_of_words_b:\n",
    "    dict_b[word] +=1\n",
    "print(dict_b)"
   ]
  },
  {
   "cell_type": "code",
   "execution_count": null,
   "id": "59e7445f-c1b5-437c-bbee-9128a8eaf1b4",
   "metadata": {},
   "outputs": [],
   "source": []
  }
 ],
 "metadata": {
  "kernelspec": {
   "display_name": "Python 3 (ipykernel)",
   "language": "python",
   "name": "python3"
  },
  "language_info": {
   "codemirror_mode": {
    "name": "ipython",
    "version": 3
   },
   "file_extension": ".py",
   "mimetype": "text/x-python",
   "name": "python",
   "nbconvert_exporter": "python",
   "pygments_lexer": "ipython3",
   "version": "3.12.7"
  }
 },
 "nbformat": 4,
 "nbformat_minor": 5
}
