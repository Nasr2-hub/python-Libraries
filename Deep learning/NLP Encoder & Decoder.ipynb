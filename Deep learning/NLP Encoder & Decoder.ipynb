{
 "cells": [
  {
   "cell_type": "code",
   "execution_count": 3,
   "id": "b21825a3-e704-4b88-82ba-3df482cd7087",
   "metadata": {},
   "outputs": [
    {
     "name": "stdout",
     "output_type": "stream",
     "text": [
      "Collecting gtts\n",
      "  Downloading gTTS-2.5.4-py3-none-any.whl.metadata (4.1 kB)\n",
      "Requirement already satisfied: requests<3,>=2.27 in c:\\users\\user\\appdata\\roaming\\python\\python312\\site-packages (from gtts) (2.32.3)\n",
      "Requirement already satisfied: click<8.2,>=7.1 in c:\\users\\user\\appdata\\local\\programs\\python\\python312\\lib\\site-packages (from gtts) (8.1.8)\n",
      "Requirement already satisfied: colorama in c:\\users\\user\\appdata\\roaming\\python\\python312\\site-packages (from click<8.2,>=7.1->gtts) (0.4.6)\n",
      "Requirement already satisfied: charset-normalizer<4,>=2 in c:\\users\\user\\appdata\\roaming\\python\\python312\\site-packages (from requests<3,>=2.27->gtts) (3.3.2)\n",
      "Requirement already satisfied: idna<4,>=2.5 in c:\\users\\user\\appdata\\roaming\\python\\python312\\site-packages (from requests<3,>=2.27->gtts) (3.10)\n",
      "Requirement already satisfied: urllib3<3,>=1.21.1 in c:\\users\\user\\appdata\\roaming\\python\\python312\\site-packages (from requests<3,>=2.27->gtts) (2.2.3)\n",
      "Requirement already satisfied: certifi>=2017.4.17 in c:\\users\\user\\appdata\\roaming\\python\\python312\\site-packages (from requests<3,>=2.27->gtts) (2024.8.30)\n",
      "Downloading gTTS-2.5.4-py3-none-any.whl (29 kB)\n",
      "Installing collected packages: gtts\n",
      "Successfully installed gtts-2.5.4\n"
     ]
    },
    {
     "name": "stderr",
     "output_type": "stream",
     "text": [
      "WARNING: Ignoring invalid distribution ~umpy (C:\\Users\\User\\AppData\\Local\\Programs\\Python\\Python312\\Lib\\site-packages)\n",
      "WARNING: Ignoring invalid distribution ~umpy (C:\\Users\\User\\AppData\\Local\\Programs\\Python\\Python312\\Lib\\site-packages)\n",
      "WARNING: Ignoring invalid distribution ~umpy (C:\\Users\\User\\AppData\\Local\\Programs\\Python\\Python312\\Lib\\site-packages)\n",
      "\n",
      "[notice] A new release of pip is available: 24.2 -> 25.0\n",
      "[notice] To update, run: python.exe -m pip install --upgrade pip\n"
     ]
    }
   ],
   "source": [
    "!pip install gtts"
   ]
  },
  {
   "cell_type": "code",
   "execution_count": 5,
   "id": "78ffaa56-54bb-4b7d-a6a4-e7d66cca3359",
   "metadata": {},
   "outputs": [
    {
     "name": "stdout",
     "output_type": "stream",
     "text": [
      "Collecting SpeechRecognition\n",
      "  Downloading SpeechRecognition-3.14.1-py3-none-any.whl.metadata (31 kB)\n",
      "Requirement already satisfied: typing-extensions in c:\\users\\user\\appdata\\local\\programs\\python\\python312\\lib\\site-packages (from SpeechRecognition) (4.12.2)\n",
      "Downloading SpeechRecognition-3.14.1-py3-none-any.whl (32.9 MB)\n",
      "   ---------------------------------------- 0.0/32.9 MB ? eta -:--:--\n",
      "   ------- -------------------------------- 6.0/32.9 MB 30.8 MB/s eta 0:00:01\n",
      "   ---------------- ----------------------- 13.9/32.9 MB 33.6 MB/s eta 0:00:01\n",
      "   ----------------------- ---------------- 19.4/32.9 MB 34.1 MB/s eta 0:00:01\n",
      "   ------------------------------- -------- 26.0/32.9 MB 31.0 MB/s eta 0:00:01\n",
      "   ------------------------------------- -- 31.2/32.9 MB 29.5 MB/s eta 0:00:01\n",
      "   ---------------------------------------  32.8/32.9 MB 29.3 MB/s eta 0:00:01\n",
      "   ---------------------------------------- 32.9/32.9 MB 25.1 MB/s eta 0:00:00\n",
      "Installing collected packages: SpeechRecognition\n",
      "Successfully installed SpeechRecognition-3.14.1\n"
     ]
    },
    {
     "name": "stderr",
     "output_type": "stream",
     "text": [
      "WARNING: Ignoring invalid distribution ~umpy (C:\\Users\\User\\AppData\\Local\\Programs\\Python\\Python312\\Lib\\site-packages)\n",
      "WARNING: Ignoring invalid distribution ~umpy (C:\\Users\\User\\AppData\\Local\\Programs\\Python\\Python312\\Lib\\site-packages)\n",
      "WARNING: Ignoring invalid distribution ~umpy (C:\\Users\\User\\AppData\\Local\\Programs\\Python\\Python312\\Lib\\site-packages)\n",
      "\n",
      "[notice] A new release of pip is available: 24.2 -> 25.0\n",
      "[notice] To update, run: python.exe -m pip install --upgrade pip\n"
     ]
    }
   ],
   "source": [
    "!pip install SpeechRecognition"
   ]
  },
  {
   "cell_type": "code",
   "execution_count": 1,
   "id": "feaabc63-fb25-4b48-9f39-c04986d1d580",
   "metadata": {},
   "outputs": [],
   "source": [
    "from tkinter import*\n",
    "from tkinter.messagebox import showinfo\n",
    "from gtts import gTTS\n",
    "import speech_recognition as sr\n",
    "import os"
   ]
  },
  {
   "cell_type": "code",
   "execution_count": 2,
   "id": "472911aa-0e1c-43ab-ad7f-703078704a83",
   "metadata": {},
   "outputs": [],
   "source": [
    "mainwindow=Tk()\n",
    "mainwindow.title('DataFlair Text-To-Speech Speech-to-text Converter')\n",
    "mainwindow.geometry('500x400')\n",
    "mainwindow.resizable(0,0)\n",
    "mainwindow.configure(bg='yellow')"
   ]
  },
  {
   "cell_type": "code",
   "execution_count": 3,
   "id": "5b2889c5-dc82-48bb-ae08-e0c17f859af4",
   "metadata": {},
   "outputs": [],
   "source": [
    "def say(text1):\n",
    "    language='en'\n",
    "    speech=gTTS(text=text1,lang=language,slow=False)\n",
    "    speech.save(\"text.mp3\")\n",
    "    os.system(\"start text.mp3\")"
   ]
  },
  {
   "cell_type": "code",
   "execution_count": 4,
   "id": "6438d9cc-761c-45fb-b200-6f00f35fa9e8",
   "metadata": {},
   "outputs": [],
   "source": [
    "say(\"this is a test.Hello,world!\")"
   ]
  },
  {
   "cell_type": "code",
   "execution_count": 14,
   "id": "c0bdaf79-b9b5-4c88-945c-33a95d6a8c7b",
   "metadata": {},
   "outputs": [
    {
     "name": "stdout",
     "output_type": "stream",
     "text": [
      "Requirement already satisfied: gtts in c:\\users\\user\\appdata\\local\\programs\\python\\python312\\lib\\site-packages (2.5.4)Note: you may need to restart the kernel to use updated packages.\n",
      "\n",
      "Requirement already satisfied: speechrecognition in c:\\users\\user\\appdata\\local\\programs\\python\\python312\\lib\\site-packages (3.14.1)\n",
      "Collecting pyaudio\n",
      "  Downloading PyAudio-0.2.14-cp312-cp312-win_amd64.whl.metadata (2.7 kB)\n",
      "Requirement already satisfied: requests<3,>=2.27 in c:\\users\\user\\appdata\\roaming\\python\\python312\\site-packages (from gtts) (2.32.3)\n",
      "Requirement already satisfied: click<8.2,>=7.1 in c:\\users\\user\\appdata\\local\\programs\\python\\python312\\lib\\site-packages (from gtts) (8.1.8)\n",
      "Requirement already satisfied: typing-extensions in c:\\users\\user\\appdata\\local\\programs\\python\\python312\\lib\\site-packages (from speechrecognition) (4.12.2)\n",
      "Requirement already satisfied: colorama in c:\\users\\user\\appdata\\roaming\\python\\python312\\site-packages (from click<8.2,>=7.1->gtts) (0.4.6)\n",
      "Requirement already satisfied: charset-normalizer<4,>=2 in c:\\users\\user\\appdata\\roaming\\python\\python312\\site-packages (from requests<3,>=2.27->gtts) (3.3.2)\n",
      "Requirement already satisfied: idna<4,>=2.5 in c:\\users\\user\\appdata\\roaming\\python\\python312\\site-packages (from requests<3,>=2.27->gtts) (3.10)\n",
      "Requirement already satisfied: urllib3<3,>=1.21.1 in c:\\users\\user\\appdata\\roaming\\python\\python312\\site-packages (from requests<3,>=2.27->gtts) (2.2.3)\n",
      "Requirement already satisfied: certifi>=2017.4.17 in c:\\users\\user\\appdata\\roaming\\python\\python312\\site-packages (from requests<3,>=2.27->gtts) (2024.8.30)\n",
      "Downloading PyAudio-0.2.14-cp312-cp312-win_amd64.whl (164 kB)\n",
      "Installing collected packages: pyaudio\n",
      "Successfully installed pyaudio-0.2.14\n"
     ]
    },
    {
     "name": "stderr",
     "output_type": "stream",
     "text": [
      "WARNING: Ignoring invalid distribution ~umpy (C:\\Users\\User\\AppData\\Local\\Programs\\Python\\Python312\\Lib\\site-packages)\n",
      "WARNING: Ignoring invalid distribution ~umpy (C:\\Users\\User\\AppData\\Local\\Programs\\Python\\Python312\\Lib\\site-packages)\n",
      "WARNING: Ignoring invalid distribution ~umpy (C:\\Users\\User\\AppData\\Local\\Programs\\Python\\Python312\\Lib\\site-packages)\n",
      "\n",
      "[notice] A new release of pip is available: 24.2 -> 25.0\n",
      "[notice] To update, run: python.exe -m pip install --upgrade pip\n"
     ]
    }
   ],
   "source": [
    "pip install gtts speechrecognition pyaudio"
   ]
  },
  {
   "cell_type": "code",
   "execution_count": 5,
   "id": "2d68e848-7b97-45e4-9983-c059649bb51a",
   "metadata": {},
   "outputs": [
    {
     "name": "stdout",
     "output_type": "stream",
     "text": [
      "Speak something...\n",
      "You said: hello world\n",
      "Recognized text: hello world\n"
     ]
    }
   ],
   "source": [
    "def recordvoice():\n",
    "    r = sr.Recognizer()\n",
    "    with sr.Microphone() as source:\n",
    "        print(\"Speak something...\")\n",
    "        audio = r.listen(source)\n",
    "        try:\n",
    "            text1 = r.recognize_google(audio, language=\"en-IN\")\n",
    "            print(\"You said:\", text1)\n",
    "            return text1\n",
    "        except sr.UnknownValueError:\n",
    "            print(\"Google Speech Recognition could not understand the audio\")\n",
    "        except sr.RequestError as e:\n",
    "            print(f\"Could not request results from Google Speech Recognition service; {e}\")\n",
    "    return None  # Return None if no text was recognized\n",
    "\n",
    "# Example usage\n",
    "spoken_text = recordvoice()\n",
    "if spoken_text:\n",
    "    print(\"Recognized text:\", spoken_text)\n",
    "else:\n",
    "    print(\"No text recognized.\")"
   ]
  },
  {
   "cell_type": "code",
   "execution_count": 6,
   "id": "fdd0bdb0-b9bb-42d7-ad5c-f4cb754afb78",
   "metadata": {
    "scrolled": true
   },
   "outputs": [],
   "source": [
    "from tkinter import *  # Import all tkinter functions\n",
    "def TextToSpeech():\n",
    "    texttospeechwindow=Toplevel(mainwindow)\n",
    "    texttospeechwindow.title('Text-To-Speech Converter by DataFlair')\n",
    "    texttospeechwindow.geometry(\"500x500\")\n",
    "    texttospeechwindow.configure(bg='Blue')\n",
    "    Label(texttospeechwindow,text='Text-To-Speech Converter by DataFlair',font=(\"Times New Roman\",15),ng='Blue').place(x=50)\n",
    "    text=Text(texttospeechwindow,height=5,width=30,font=12)\n",
    "    text.place(x=7,y=60)\n",
    "    speakbutton=Button(texttospeechwindow,text='listen',bg='coral',command=lambda:say(str(text.get(1,0,END))))\n",
    "    speakbutton.place(x=140,y=200)                          "
   ]
  },
  {
   "cell_type": "code",
   "execution_count": 7,
   "id": "672732a1-241d-49df-8dee-381aabe027a6",
   "metadata": {},
   "outputs": [],
   "source": [
    "def SpeechToText():\n",
    "    speechtotextwindow=Toplevel(mainwindow)\n",
    "    speechtotextwindow.title('Speech-To-Text Converter by DataFlair')\n",
    "    speechtotextwindow.geometry(\"500x500\")\n",
    "    speechtotextwindow.configure(bg='pink')\n",
    "    Label(speechtotextwindow,text='Speech-To-Text Converter by DataFlair',font=(\"comic sans MS\",15),bg='IndianRed').place(x=50)\n",
    "    text=Text(speechtotextwindow,font=12,height=3,width=30)\n",
    "    text.place(x=7,y=100)\n",
    "    recordbutton=Button(speechtotextwindow,text='Record',bg='Sienna',command=lambda:text.insert(END,recordvoice()))\n",
    "    recordbutton.place(x=140,y=50)"
   ]
  },
  {
   "cell_type": "code",
   "execution_count": null,
   "id": "8f657346-6105-46f5-8aaf-2eeb3ec7c72d",
   "metadata": {},
   "outputs": [],
   "source": [
    "Label(mainwindow, text='DataFlair Text-To-speech and Speech-To-Text Converter',\n",
    "      font=('Times New Roman', 16), bg='red', wrap=True, wraplength=450).place(x=25, y=0)\n",
    "texttospeechbutton=Button(mainwindow,text='Text-To-speech Conversion',font=('Times New Roman',16),bg='purple',command=TextToSpeech)\n",
    "texttospeechbutton.place(x=100,y=150)\n",
    "speechtotextbutton=Button(mainwindow,text='Speech-To-Text Conversion',font=('Times New Roman',16),bg='purple',command=SpeechToText)\n",
    "speechtotextbutton.place(x=100,y=150)\n",
    "mainwindow.update()\n",
    "mainwindow.mainloop()\n",
    "                     "
   ]
  },
  {
   "cell_type": "code",
   "execution_count": null,
   "id": "ed0e18a2-2794-4863-a631-270416aca624",
   "metadata": {},
   "outputs": [],
   "source": []
  }
 ],
 "metadata": {
  "kernelspec": {
   "display_name": "Python 3 (ipykernel)",
   "language": "python",
   "name": "python3"
  },
  "language_info": {
   "codemirror_mode": {
    "name": "ipython",
    "version": 3
   },
   "file_extension": ".py",
   "mimetype": "text/x-python",
   "name": "python",
   "nbconvert_exporter": "python",
   "pygments_lexer": "ipython3",
   "version": "3.12.7"
  }
 },
 "nbformat": 4,
 "nbformat_minor": 5
}
