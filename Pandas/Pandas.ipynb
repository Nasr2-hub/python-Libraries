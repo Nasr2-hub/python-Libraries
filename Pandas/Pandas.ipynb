{
 "cells": [
  {
   "cell_type": "code",
   "execution_count": 1,
   "id": "d96f1f75-cd33-45f5-896f-d6244305e7c2",
   "metadata": {},
   "outputs": [
    {
     "name": "stdout",
     "output_type": "stream",
     "text": [
      "Requirement already satisfied: pandas in c:\\users\\user\\appdata\\local\\programs\\python\\python312\\lib\\site-packages (2.2.3)\n",
      "Requirement already satisfied: numpy>=1.26.0 in c:\\users\\user\\appdata\\local\\programs\\python\\python312\\lib\\site-packages (from pandas) (2.1.3)\n",
      "Requirement already satisfied: python-dateutil>=2.8.2 in c:\\users\\user\\appdata\\roaming\\python\\python312\\site-packages (from pandas) (2.9.0.post0)\n",
      "Requirement already satisfied: pytz>=2020.1 in c:\\users\\user\\appdata\\local\\programs\\python\\python312\\lib\\site-packages (from pandas) (2024.2)\n",
      "Requirement already satisfied: tzdata>=2022.7 in c:\\users\\user\\appdata\\local\\programs\\python\\python312\\lib\\site-packages (from pandas) (2024.2)\n",
      "Requirement already satisfied: six>=1.5 in c:\\users\\user\\appdata\\roaming\\python\\python312\\site-packages (from python-dateutil>=2.8.2->pandas) (1.16.0)\n",
      "Note: you may need to restart the kernel to use updated packages.\n"
     ]
    },
    {
     "name": "stderr",
     "output_type": "stream",
     "text": [
      "\n",
      "[notice] A new release of pip is available: 24.2 -> 24.3.1\n",
      "[notice] To update, run: python.exe -m pip install --upgrade pip\n"
     ]
    }
   ],
   "source": [
    "pip install pandas"
   ]
  },
  {
   "cell_type": "code",
   "execution_count": 2,
   "id": "dec28ef6-4a32-417b-b69f-4afad03faf24",
   "metadata": {},
   "outputs": [],
   "source": [
    "import pandas"
   ]
  },
  {
   "cell_type": "code",
   "execution_count": 3,
   "id": "2c2512f6-b554-4fd8-bb23-2aa0f5ceed98",
   "metadata": {},
   "outputs": [
    {
     "name": "stdout",
     "output_type": "stream",
     "text": [
      "    cars  passings\n",
      "0    BMW         3\n",
      "1  Volvo         7\n",
      "2   Ford         2\n"
     ]
    }
   ],
   "source": [
    "mydataset={\n",
    "    'cars':[\"BMW\",\"Volvo\",\"Ford\"],\n",
    "    'passings':[3,7,2]\n",
    "}\n",
    "myvar=pandas.DataFrame(mydataset)\n",
    "print(myvar)"
   ]
  },
  {
   "cell_type": "code",
   "execution_count": 5,
   "id": "6adc4746-2c4a-4bba-adaf-0cef247b8067",
   "metadata": {},
   "outputs": [],
   "source": [
    "import pandas as pd"
   ]
  },
  {
   "cell_type": "code",
   "execution_count": 6,
   "id": "e1b50486-5039-45d8-94d6-7b7f64b1a1d7",
   "metadata": {},
   "outputs": [
    {
     "name": "stdout",
     "output_type": "stream",
     "text": [
      "    cars  passings\n",
      "0    BMW         3\n",
      "1  Volvo         7\n",
      "2   Ford         2\n"
     ]
    }
   ],
   "source": [
    "mydataset={\n",
    "    'cars':[\"BMW\",\"Volvo\",\"Ford\"],\n",
    "    'passings':[3,7,2]\n",
    "}\n",
    "myvar=pd.DataFrame(mydataset)\n",
    "print(myvar)"
   ]
  },
  {
   "cell_type": "code",
   "execution_count": 7,
   "id": "0b2d4212-302e-4571-ab02-32a77f063b29",
   "metadata": {},
   "outputs": [
    {
     "name": "stdout",
     "output_type": "stream",
     "text": [
      "2.2.3\n"
     ]
    }
   ],
   "source": [
    "print(pd.__version__)"
   ]
  },
  {
   "cell_type": "code",
   "execution_count": null,
   "id": "065855c5-5f1a-4d31-ae45-916b77ef060a",
   "metadata": {},
   "outputs": [],
   "source": [
    "# Pandas Series"
   ]
  },
  {
   "cell_type": "code",
   "execution_count": 9,
   "id": "f5751bd0-04fd-4ebf-9414-39825c6e52bb",
   "metadata": {},
   "outputs": [
    {
     "name": "stdout",
     "output_type": "stream",
     "text": [
      "0    1\n",
      "1    7\n",
      "2    2\n",
      "dtype: int64\n"
     ]
    }
   ],
   "source": [
    "a=[1,7,2]\n",
    "myvar=pd.Series(a)\n",
    "print(myvar)"
   ]
  },
  {
   "cell_type": "code",
   "execution_count": null,
   "id": "7aa1378d-6b37-4421-953b-0d74a9a50e92",
   "metadata": {},
   "outputs": [],
   "source": [
    "# Labels"
   ]
  },
  {
   "cell_type": "code",
   "execution_count": 10,
   "id": "252232ac-fc42-44aa-9073-cabb7fb403e3",
   "metadata": {},
   "outputs": [
    {
     "name": "stdout",
     "output_type": "stream",
     "text": [
      "1\n"
     ]
    }
   ],
   "source": [
    "print(myvar[0])"
   ]
  },
  {
   "cell_type": "code",
   "execution_count": null,
   "id": "68b58635-c76e-496c-84ac-3dd97c7d23b8",
   "metadata": {},
   "outputs": [],
   "source": [
    "# Create Labels"
   ]
  },
  {
   "cell_type": "code",
   "execution_count": 11,
   "id": "e7398922-10b3-4cf3-8397-d48016cb2418",
   "metadata": {},
   "outputs": [
    {
     "name": "stdout",
     "output_type": "stream",
     "text": [
      "x    1\n",
      "y    7\n",
      "z    2\n",
      "dtype: int64\n"
     ]
    }
   ],
   "source": [
    "a=[1,7,2]\n",
    "myvar=pd.Series(a,index=[\"x\",\"y\",\"z\"])\n",
    "print(myvar)"
   ]
  },
  {
   "cell_type": "code",
   "execution_count": 12,
   "id": "50e51a87-e392-4506-81fd-f225b4f4daeb",
   "metadata": {},
   "outputs": [
    {
     "name": "stdout",
     "output_type": "stream",
     "text": [
      "7\n"
     ]
    }
   ],
   "source": [
    "print(myvar[\"y\"])"
   ]
  },
  {
   "cell_type": "code",
   "execution_count": null,
   "id": "67fdf7d1-cbb9-49ae-87a0-cbd3d649b359",
   "metadata": {},
   "outputs": [],
   "source": []
  },
  {
   "cell_type": "code",
   "execution_count": 4,
   "id": "bdaafb4a-2c4b-4fd5-af96-440e410bfeca",
   "metadata": {},
   "outputs": [
    {
     "name": "stdout",
     "output_type": "stream",
     "text": [
      "day1    420\n",
      "day2    380\n",
      "day3    390\n",
      "dtype: int64\n"
     ]
    }
   ],
   "source": [
    "import pandas as pd\n",
    "calories={\"day1\":420,\"day2\":380,\"day3\":390}\n",
    "myvar=pd.Series(calories)\n",
    "print(myvar)"
   ]
  },
  {
   "cell_type": "code",
   "execution_count": 5,
   "id": "2211fda2-a363-4a83-aa7d-8e651a5de2d3",
   "metadata": {},
   "outputs": [
    {
     "name": "stdout",
     "output_type": "stream",
     "text": [
      "day1    420\n",
      "day2    380\n",
      "dtype: int64\n"
     ]
    }
   ],
   "source": [
    "import pandas as pd\n",
    "calories={\"day1\":420,\"day2\":380,\"day3\":390}\n",
    "myvar=pd.Series(calories,index=[\"day1\",\"day2\"])\n",
    "print(myvar)"
   ]
  },
  {
   "cell_type": "code",
   "execution_count": null,
   "id": "4238dac8-ca15-4967-b173-645662f143d1",
   "metadata": {},
   "outputs": [],
   "source": [
    "# DataFrames"
   ]
  },
  {
   "cell_type": "code",
   "execution_count": 7,
   "id": "3a16ee42-d775-461b-872f-0c7b365187f6",
   "metadata": {},
   "outputs": [
    {
     "name": "stdout",
     "output_type": "stream",
     "text": [
      "   calories  duration\n",
      "0       420        50\n",
      "1       380        40\n",
      "2       390        45\n"
     ]
    }
   ],
   "source": [
    "data={\n",
    "    \"calories\":[420,380,390],\n",
    "    \"duration\":[50,40,45]\n",
    "}\n",
    "df=pd.DataFrame(data)\n",
    "print(df)"
   ]
  },
  {
   "cell_type": "code",
   "execution_count": 8,
   "id": "6b5da449-1d7b-4805-bf23-fc4ae877e7c6",
   "metadata": {},
   "outputs": [
    {
     "name": "stdout",
     "output_type": "stream",
     "text": [
      "calories    420\n",
      "duration     50\n",
      "Name: 0, dtype: int64\n"
     ]
    }
   ],
   "source": [
    "print(df.loc[0])"
   ]
  },
  {
   "cell_type": "code",
   "execution_count": 12,
   "id": "e41609f5-e9c2-4b82-a959-9ce7bda18d0c",
   "metadata": {},
   "outputs": [
    {
     "name": "stdout",
     "output_type": "stream",
     "text": [
      "   calories  duration\n",
      "0       420        50\n",
      "1       380        40\n"
     ]
    }
   ],
   "source": [
    "print(df.loc[[0,1,]])"
   ]
  },
  {
   "cell_type": "code",
   "execution_count": 13,
   "id": "fa8ba090-8fc7-4df9-befe-704d12e03075",
   "metadata": {},
   "outputs": [
    {
     "name": "stdout",
     "output_type": "stream",
     "text": [
      "      calories  duration\n",
      "day1       420        50\n",
      "day2       380        40\n",
      "day3       390        45\n"
     ]
    }
   ],
   "source": [
    "data={\n",
    "    \"calories\":[420,380,390],\n",
    "    \"duration\":[50,40,45]\n",
    "}\n",
    "df=pd.DataFrame(data,index=[\"day1\",\"day2\",\"day3\"])\n",
    "print(df)"
   ]
  },
  {
   "cell_type": "code",
   "execution_count": 14,
   "id": "c39457a1-ed61-4912-ba59-f95d4e259195",
   "metadata": {},
   "outputs": [
    {
     "name": "stdout",
     "output_type": "stream",
     "text": [
      "calories    380\n",
      "duration     40\n",
      "Name: day2, dtype: int64\n"
     ]
    }
   ],
   "source": [
    "print(df.loc[\"day2\"])"
   ]
  },
  {
   "cell_type": "code",
   "execution_count": null,
   "id": "f59e37a7-3d42-4fcd-9d69-47d78cac83a4",
   "metadata": {},
   "outputs": [],
   "source": [
    "# Pandas csv"
   ]
  },
  {
   "cell_type": "code",
   "execution_count": 15,
   "id": "a929c302-fd66-41c8-8a7f-d4804a688bef",
   "metadata": {},
   "outputs": [
    {
     "name": "stdout",
     "output_type": "stream",
     "text": [
      "    Index      Customer Id First Name Last Name  \\\n",
      "0       1  DD37Cf93aecA6Dc     Sheryl    Baxter   \n",
      "1       2  1Ef7b82A4CAAD10    Preston    Lozano   \n",
      "2       3  6F94879bDAfE5a6        Roy     Berry   \n",
      "3       4  5Cef8BFA16c5e3c      Linda     Olsen   \n",
      "4       5  053d585Ab6b3159     Joanna    Bender   \n",
      "..    ...              ...        ...       ...   \n",
      "95     96  cb8E23e48d22Eae       Karl     Greer   \n",
      "96     97  CeD220bdAaCfaDf       Lynn  Atkinson   \n",
      "97     98  28CDbC0dFe4b1Db       Fred    Guerra   \n",
      "98     99  c23d1D9EE8DEB0A     Yvonne    Farmer   \n",
      "99    100  2354a0E336A91A1   Clarence    Haynes   \n",
      "\n",
      "                            Company               City  \\\n",
      "0                   Rasmussen Group       East Leonard   \n",
      "1                       Vega-Gentry  East Jimmychester   \n",
      "2                     Murillo-Perry      Isabelborough   \n",
      "3   Dominguez, Mcmillan and Donovan         Bensonview   \n",
      "4          Martin, Lang and Andrade     West Priscilla   \n",
      "..                              ...                ...   \n",
      "95                        Carey LLC       East Richard   \n",
      "96            Ware, Burns and Oneal       New Bradview   \n",
      "97                    Schmitt-Jones         Ortegaland   \n",
      "98               Fitzgerald-Harrell    Lake Elijahview   \n",
      "99               Le, Nash and Cross          Judymouth   \n",
      "\n",
      "                       Country                 Phone 1  \\\n",
      "0                        Chile            229.077.5154   \n",
      "1                     Djibouti              5153435776   \n",
      "2          Antigua and Barbuda         +1-539-402-0259   \n",
      "3           Dominican Republic  001-808-617-6467x12895   \n",
      "4   Slovakia (Slovak Republic)  001-234-203-0635x76146   \n",
      "..                         ...                     ...   \n",
      "95                      Guyana     (188)169-1674x58692   \n",
      "96                   Sri Lanka         +1-846-706-2218   \n",
      "97             Solomon Islands    +1-753-067-8419x7170   \n",
      "98                       Aruba           (530)311-9786   \n",
      "99                    Honduras           (753)813-6941   \n",
      "\n",
      "                   Phone 2                           Email Subscription Date  \\\n",
      "0         397.884.0519x718        zunigavanessa@smith.info        2020-08-24   \n",
      "1         686-620-1820x944                 vmata@colon.com        2021-04-23   \n",
      "2      (496)978-3969x58947             beckycarr@hogan.com        2020-03-25   \n",
      "3          +1-813-324-8756     stanleyblackwell@benson.org        2020-06-02   \n",
      "4    001-199-446-3860x3486         colinalvarado@miles.net        2021-04-17   \n",
      "..                     ...                             ...               ...   \n",
      "95    001-841-293-3519x614                hhart@jensen.com        2022-01-30   \n",
      "96            605.413.3198               vkemp@ferrell.com        2021-07-10   \n",
      "97   +1-632-666-7507x92121                swagner@kane.org        2021-09-18   \n",
      "98  001-869-452-0943x12424  mccarthystephen@horn-green.biz        2021-08-11   \n",
      "99            783.639.1472          colleen91@faulkner.biz        2020-03-11   \n",
      "\n",
      "                              Website  \n",
      "0          http://www.stephenson.com/  \n",
      "1               http://www.hobbs.com/  \n",
      "2            http://www.lawrence.com/  \n",
      "3          http://www.good-lyons.com/  \n",
      "4         https://goodwin-ingram.com/  \n",
      "..                                ...  \n",
      "95            http://hayes-perez.com/  \n",
      "96         https://novak-allison.com/  \n",
      "97              https://www.ross.com/  \n",
      "98               http://watkins.info/  \n",
      "99  http://www.hatfield-saunders.net/  \n",
      "\n",
      "[100 rows x 12 columns]\n"
     ]
    }
   ],
   "source": [
    "df=pd.read_csv('customers.csv')\n",
    "print(df)"
   ]
  },
  {
   "cell_type": "code",
   "execution_count": 17,
   "id": "e410df09-b4c9-4423-b724-31f22d102bbc",
   "metadata": {},
   "outputs": [
    {
     "name": "stdout",
     "output_type": "stream",
     "text": [
      "60\n"
     ]
    }
   ],
   "source": [
    "print(pd.options.display.max_rows)"
   ]
  },
  {
   "cell_type": "code",
   "execution_count": 18,
   "id": "21c1a453-6516-421a-8d53-cb9064da1f37",
   "metadata": {
    "scrolled": true
   },
   "outputs": [
    {
     "name": "stdout",
     "output_type": "stream",
     "text": [
      "    Index      Customer Id  First Name    Last Name  \\\n",
      "0       1  DD37Cf93aecA6Dc      Sheryl       Baxter   \n",
      "1       2  1Ef7b82A4CAAD10     Preston       Lozano   \n",
      "2       3  6F94879bDAfE5a6         Roy        Berry   \n",
      "3       4  5Cef8BFA16c5e3c       Linda        Olsen   \n",
      "4       5  053d585Ab6b3159      Joanna       Bender   \n",
      "5       6  2d08FB17EE273F4       Aimee        Downs   \n",
      "6       7  EA4d384DfDbBf77      Darren         Peck   \n",
      "7       8  0e04AFde9f225dE       Brett       Mullen   \n",
      "8       9  C2dE4dEEc489ae0      Sheryl       Meyers   \n",
      "9      10  8C2811a503C7c5a    Michelle    Gallagher   \n",
      "10     11  216E205d6eBb815        Carl    Schroeder   \n",
      "11     12  CEDec94deE6d69B       Jenna       Dodson   \n",
      "12     13  e35426EbDEceaFF      Tracey         Mata   \n",
      "13     14  A08A8aF8BE9FaD4    Kristine          Cox   \n",
      "14     15  6fEaA1b7cab7B6C       Faith         Lutz   \n",
      "15     16  8cad0b4CBceaeec     Miranda      Beasley   \n",
      "16     17  a5DC21AE3a21eaA    Caroline        Foley   \n",
      "17     18  F8Aa9d6DfcBeeF8        Greg         Mata   \n",
      "18     19  F160f5Db3EfE973    Clifford     Jacobson   \n",
      "19     20  0F60FF3DdCd7aB0      Joanna         Kirk   \n",
      "20     21  9F9AdB7B8A6f7F2     Maxwell         Frye   \n",
      "21     22  FBd0Ded4F02a742       Kiara      Houston   \n",
      "22     23  2FB0FAA1d429421     Colleen       Howard   \n",
      "23     24  010468dAA11382c       Janet   Valenzuela   \n",
      "24     25  eC1927Ca84E033e       Shane       Wilcox   \n",
      "25     26  09D7D7C8Fe09aea      Marcus        Moody   \n",
      "26     27  aBdfcF2c50b0bfD      Dakota        Poole   \n",
      "27     28  b92EBfdF8a3f0E6   Frederick       Harper   \n",
      "28     29  3B5dAAFA41AFa22    Stefanie  Fitzpatrick   \n",
      "29     30  EDA69ca7a6e96a2        Kent     Bradshaw   \n",
      "30     31  64DCcDFaB9DFd4e        Jack         Tate   \n",
      "31     32  679c6c83DD872d6         Tom     Trujillo   \n",
      "32     33  7Ce381e4Afa4ba9     Gabriel        Mejia   \n",
      "33     34  A09AEc6E3bF70eE     Kaitlyn      Santana   \n",
      "34     35  aA9BAFfBc3710fe       Faith         Moon   \n",
      "35     36  E11dfb2DB8C9f72      Tammie        Haley   \n",
      "36     37  889eCf90f68c5Da    Nicholas         Sosa   \n",
      "37     38  7a1Ee69F4fF4B4D      Jordan          Gay   \n",
      "38     39  dca4f1D0A0fc5c9       Bruce      Esparza   \n",
      "39     40  17aD8e2dB3df03D      Sherry        Garza   \n",
      "40     41  2f79Cd309624Abb     Natalie       Gentry   \n",
      "41     42  6e5ad5a5e2bB5Ca       Bryan         Dunn   \n",
      "42     43  7E441b6B228DBcA       Wayne      Simpson   \n",
      "43     44  D3fC11A9C235Dc6        Luis        Greer   \n",
      "44     45  30Dfa48fe5Ede78      Rhonda        Frost   \n",
      "45     46  fD780ED8dbEae7B      Joanne       Montes   \n",
      "46     47  300A40d3ce24bBA    Geoffrey       Guzman   \n",
      "47     48  283DFCD0Dba40aF      Gloria       Mccall   \n",
      "48     49  F4Fc91fEAEad286       Brady        Cohen   \n",
      "49     50  80F33Fd2AcebF05      Latoya       Mccann   \n",
      "50     51  Aa20BDe68eAb0e9      Gerald      Hawkins   \n",
      "51     52  e898eEB1B9FE22b      Samuel     Crawford   \n",
      "52     53  faCEF517ae7D8eB    Patricia      Goodwin   \n",
      "53     54  c09952De6Cda8aA      Stacie      Richard   \n",
      "54     55  f3BEf3Be028166f       Robin         West   \n",
      "55     56  C6F2Fc6a7948a4e       Ralph         Haas   \n",
      "56     57  c8FE57cBBdCDcb2     Phyllis    Maldonado   \n",
      "57     58  B5acdFC982124F2       Danny      Parrish   \n",
      "58     59  8c7DdF10798bCC3       Kathy         Hill   \n",
      "59     60  C681dDd0cc422f7       Kelli        Hardy   \n",
      "60     61  a940cE42e035F28        Lynn         Pham   \n",
      "61     62  9Cf5E6AFE0aeBfd     Shelley       Harris   \n",
      "62     63  aEcbe5365BbC67D       Eddie      Jimenez   \n",
      "63     64  FCBdfCEAe20A8Dc       Chloe   Hutchinson   \n",
      "64     65  636cBF0835E10ff      Eileen        Lynch   \n",
      "65     66  fF1b6c9E8Fbf1ff    Fernando      Lambert   \n",
      "66     67  2A13F74EAa7DA6c     Makayla       Cannon   \n",
      "67     68  a014Ec1b9FccC1E         Tom     Alvarado   \n",
      "68     69  421a109cABDf5fa    Virginia       Dudley   \n",
      "69     70  CC68FD1D3Bbbf22       Riley         Good   \n",
      "70     71  CBCd2Ac8E3eBDF9  Alexandria         Buck   \n",
      "71     72  Ef859092FbEcC07     Richard         Roth   \n",
      "72     73  F560f2d3cDFb618     Candice       Keller   \n",
      "73     74  A3F76Be153Df4a3       Anita       Benson   \n",
      "74     75  D01Af0AF7cBbFeA      Regina        Stein   \n",
      "75     76  d40e89dCade7b2F       Debra       Riddle   \n",
      "76     77  BF6a1f9bd1bf8DE    Brittany       Zuniga   \n",
      "77     78  FfaeFFbbbf280db     Cassidy      Mcmahon   \n",
      "78     79  CbAE1d1e9a8dCb1      Laurie   Pennington   \n",
      "79     80  A7F85c1DE4dB87f   Alejandro        Blair   \n",
      "80     81  D6CEAfb3BDbaa1A      Leslie     Jennings   \n",
      "81     82  Ebdb6F6F7c90b69    Kathleen        Mckay   \n",
      "82     83  E8E7e8Cfe516ef0      Hunter       Moreno   \n",
      "83     84  78C06E9b6B3DF20        Chad     Davidson   \n",
      "84     85  03A1E62ADdeb31c       Corey         Holt   \n",
      "85     86  C6763c99d0bd16D        Emma   Cunningham   \n",
      "86     87  ebe77E5Bf9476CE       Duane        Woods   \n",
      "87     88  E4Bbcd8AD81fC5f      Alison       Vargas   \n",
      "88     89  efeb73245CDf1fF      Vernon         Kane   \n",
      "89     90  37Ec4B395641c1E        Lori      Flowers   \n",
      "90     91  5ef6d3eefdD43bE        Nina       Chavez   \n",
      "91     92  98b3aeDcC3B9FF3       Shane        Foley   \n",
      "92     93  aAb6AFc7AfD0fF3      Collin        Ayers   \n",
      "93     94  54B5B5Fe9F1B6C5      Sherry        Young   \n",
      "94     95  BE91A0bdcA49Bbc     Darrell      Douglas   \n",
      "95     96  cb8E23e48d22Eae        Karl        Greer   \n",
      "96     97  CeD220bdAaCfaDf        Lynn     Atkinson   \n",
      "97     98  28CDbC0dFe4b1Db        Fred       Guerra   \n",
      "98     99  c23d1D9EE8DEB0A      Yvonne       Farmer   \n",
      "99    100  2354a0E336A91A1    Clarence       Haynes   \n",
      "\n",
      "                            Company                 City  \\\n",
      "0                   Rasmussen Group         East Leonard   \n",
      "1                       Vega-Gentry    East Jimmychester   \n",
      "2                     Murillo-Perry        Isabelborough   \n",
      "3   Dominguez, Mcmillan and Donovan           Bensonview   \n",
      "4          Martin, Lang and Andrade       West Priscilla   \n",
      "5                      Steele Group        Chavezborough   \n",
      "6      Lester, Woodard and Mitchell             Lake Ana   \n",
      "7      Sanford, Davenport and Giles              Kimport   \n",
      "8                    Browning-Simon         Robersonstad   \n",
      "9                      Beck-Hendrix           Elaineberg   \n",
      "10       Oconnell, Meza and Everett         Shannonville   \n",
      "11        Hoffman, Reed and Mcclain          East Andrea   \n",
      "12                   Graham-Francis    South Joannamouth   \n",
      "13                   Carpenter-Cook             Jodyberg   \n",
      "14                   Carter-Hancock            Burchbury   \n",
      "15               Singleton and Sons         Desireeshire   \n",
      "16                  Winters-Mendoza    West Adriennestad   \n",
      "17                    Valentine LLC          Lake Leslie   \n",
      "18                        Simon LLC           Harmonview   \n",
      "19                   Mays-Mccormick           Jamesshire   \n",
      "20                    Patterson Inc           East Carly   \n",
      "21       Manning, Hester and Arroyo          South Alvin   \n",
      "22                   Greer and Sons         Brittanyview   \n",
      "23                  Watts-Donaldson        Veronicamouth   \n",
      "24                       Tucker LLC           Bryanville   \n",
      "25                        Giles Ltd          Kaitlyntown   \n",
      "26                    Simmons Group         Michealshire   \n",
      "27        Hinton, Chaney and Stokes    South Marissatown   \n",
      "28                    Santana-Duran         Acevedoville   \n",
      "29                       Sawyer PLC         North Harold   \n",
      "30      Acosta, Petersen and Morrow          West Samuel   \n",
      "31                      Mcgee Group    Cunninghamborough   \n",
      "32                   Adkins-Salinas        Port Annatown   \n",
      "33                    Herrera Group          New Kaitlyn   \n",
      "34        Waters, Chase and Aguilar     West Marthaburgh   \n",
      "35       Palmer, Barnes and Houston          East Teresa   \n",
      "36                       Jordan Ltd         South Hunter   \n",
      "37                  Glover and Sons         South Walter   \n",
      "38                    Huerta-Mclean            Poolefurt   \n",
      "39                     Anderson Ltd            West John   \n",
      "40                       Monroe PLC          West Darius   \n",
      "41                 Kaufman and Sons        North Jimstad   \n",
      "42                  Perkins-Trevino  East Rebekahborough   \n",
      "43                        Cross PLC           North Drew   \n",
      "44  Herrera, Shepherd and Underwood      Lake Lindaburgh   \n",
      "45       Price, Sexton and Mcdaniel        Gwendolynview   \n",
      "46                    Short-Wiggins        Zimmermanland   \n",
      "47        Brennan, Acosta and Ramos       North Kerriton   \n",
      "48                 Osborne-Erickson    North Eileenville   \n",
      "49       Hobbs, Garrett and Sanford      Port Sergiofort   \n",
      "50          Phelps, Forbes and Koch       New Alberttown   \n",
      "51          May, Goodwin and Martin        South Jasmine   \n",
      "52     Christian, Winters and Ellis            Cowanfort   \n",
      "53                         Byrd Inc          New Deborah   \n",
      "54        Nixon, Blackwell and Sosa            Wallstown   \n",
      "55                       Montes PLC    Lake Ellenchester   \n",
      "56                        Costa PLC         Lake Whitney   \n",
      "57                        Novak LLC       East Jaredbury   \n",
      "58           Moore, Mccoy and Glass           Selenabury   \n",
      "59                        Petty Ltd            Huangfort   \n",
      "60       Brennan, Camacho and Tapia      East Pennyshire   \n",
      "61          Prince, Malone and Pugh   Port Jasminborough   \n",
      "62                   Caldwell Group        West Kristine   \n",
      "63                        Simon LLC          South Julia   \n",
      "64       Knight, Abbott and Hubbard         Helenborough   \n",
      "65                     Church-Banks           Lake Nancy   \n",
      "66                    Henderson Inc           Georgeport   \n",
      "67              Donaldson-Dougherty     South Sophiaberg   \n",
      "68                       Warren Ltd             Hartbury   \n",
      "69                         Wade PLC           Erikaville   \n",
      "70                    Keller-Coffey          Nicolasfort   \n",
      "71                   Conway-Mcbride     New Jasmineshire   \n",
      "72                   Huynh and Sons      East Summerstad   \n",
      "73                      Parrish Ltd          Skinnerport   \n",
      "74                     Guzman-Brown              Raystad   \n",
      "75       Chang, Aguirre and Leblanc           Colinhaven   \n",
      "76                     Mason-Hester        West Reginald   \n",
      "77       Mcguire, Huynh and Hopkins   Lake Sherryborough   \n",
      "78          Sanchez, Marsh and Hale  Port Katherineville   \n",
      "79         Combs, Waller and Durham           Thomasland   \n",
      "80                Blankenship-Arias            Coreybury   \n",
      "81         Coffey, Lamb and Johnson       Lake Janiceton   \n",
      "82             Fitzpatrick-Lawrence         East Clinton   \n",
      "83                   Garcia-Jimenez    South Joshuashire   \n",
      "84       Mcdonald, Bird and Ramirez           New Glenda   \n",
      "85                     Stephens Inc    North Jillianview   \n",
      "86                   Montoya-Miller            Lyonsberg   \n",
      "87          Vaughn, Watts and Leach    East Cristinabury   \n",
      "88                Carter-Strickland           Thomasfurt   \n",
      "89                  Decker-Mcknight       North Joeburgh   \n",
      "90                    Byrd-Campbell       Cassidychester   \n",
      "91                       Rocha-Hart     South Dannymouth   \n",
      "92                    Lamb-Peterson         South Lonnie   \n",
      "93          Lee, Lucero and Johnson         Frankchester   \n",
      "94      Newton, Petersen and Mathis         Daisyborough   \n",
      "95                        Carey LLC         East Richard   \n",
      "96            Ware, Burns and Oneal         New Bradview   \n",
      "97                    Schmitt-Jones           Ortegaland   \n",
      "98               Fitzgerald-Harrell      Lake Elijahview   \n",
      "99               Le, Nash and Cross            Judymouth   \n",
      "\n",
      "                                         Country                 Phone 1  \\\n",
      "0                                          Chile            229.077.5154   \n",
      "1                                       Djibouti              5153435776   \n",
      "2                            Antigua and Barbuda         +1-539-402-0259   \n",
      "3                             Dominican Republic  001-808-617-6467x12895   \n",
      "4                     Slovakia (Slovak Republic)  001-234-203-0635x76146   \n",
      "5                         Bosnia and Herzegovina     (283)437-3886x88321   \n",
      "6                               Pitcairn Islands      (496)452-6181x3291   \n",
      "7                                       Bulgaria    001-583-352-7197x297   \n",
      "8                                         Cyprus       854-138-4911x5772   \n",
      "9                                    Timor-Leste        739.218.2516x459   \n",
      "10                                      Guernsey        637-854-0256x825   \n",
      "11                                       Vietnam           (041)737-3846   \n",
      "12                                          Togo        001-949-844-8787   \n",
      "13                                     Sri Lanka      786-284-3358x62152   \n",
      "14                                     Singapore      (781)861-7180x8306   \n",
      "15                                          Oman        540.085.3135x185   \n",
      "16                                Western Sahara       936.222.4746x9924   \n",
      "17                                    Mozambique           (701)087-2415   \n",
      "18  South Georgia and the South Sandwich Islands   001-151-330-3524x0469   \n",
      "19                              French Polynesia       (266)131-7001x711   \n",
      "20                                         Malta            423.262.3059   \n",
      "21                                   Netherlands  001-274-040-3582x10611   \n",
      "22                                      Paraguay              1935085151   \n",
      "23              Lao People's Democratic Republic       354.259.5062x7538   \n",
      "24                                       Albania     (429)005-9030x11004   \n",
      "25                                        Panama            674-677-8623   \n",
      "26                                       Belarus      (371)987-8576x4720   \n",
      "27                                   Switzerland    +1-077-121-1558x0687   \n",
      "28              Saint Vincent and the Grenadines           (752)776-3286   \n",
      "29                                      Tanzania     +1-472-143-5037x884   \n",
      "30                                      Zimbabwe      965-108-4406x20714   \n",
      "31                                       Denmark            416-338-3758   \n",
      "32                                 Liechtenstein              4077245425   \n",
      "33                      United States of America              6303643286   \n",
      "34                                       Bahamas    +1-586-217-0359x6317   \n",
      "35                                        Belize   001-276-734-4113x6087   \n",
      "36                                       Uruguay           (661)425-6042   \n",
      "37                               Solomon Islands              7208417020   \n",
      "38                                    Montenegro            559-529-4424   \n",
      "39                                        Poland    001-067-713-6440x158   \n",
      "40                            Dominican Republic            830.996.8238   \n",
      "41                                  Burkina Faso        001-710-802-5565   \n",
      "42                                       Bolivia      (344)156-8632x1869   \n",
      "43                                      Bulgaria    001-336-025-6849x701   \n",
      "44                                        Monaco           (127)081-9339   \n",
      "45                                         Palau           (897)726-7952   \n",
      "46                                    Uzbekistan        975.235.8921x269   \n",
      "47                                         Ghana            445-603-6729   \n",
      "48                          United Arab Emirates        741.849.0139x524   \n",
      "49                                       Belarus     (530)287-4548x29481   \n",
      "50                                        Canada   +1-323-239-1456x96168   \n",
      "51                                       Algeria            802-242-7457   \n",
      "52                                     Swaziland      322.549.7139x70040   \n",
      "53                                    Madagascar  001-622-948-3641x24810   \n",
      "54                                       Ecuador            698.303.4267   \n",
      "55                         Palestinian Territory              2239271999   \n",
      "56                              Saint Barthelemy              4500370767   \n",
      "57                          United Arab Emirates      (669)384-8597x8794   \n",
      "58  South Georgia and the South Sandwich Islands    001-171-716-2175x310   \n",
      "59                         Sao Tome and Principe       020.324.2191x2022   \n",
      "60                                      Portugal        846.468.6834x611   \n",
      "61                                          Togo       423.098.0315x8373   \n",
      "62                                      Ethiopia    +1-235-657-1073x6306   \n",
      "63                                   Netherlands            981-544-9452   \n",
      "64                                       Liberia   +1-158-951-4131x53578   \n",
      "65                                     Lithuania            497.829.9038   \n",
      "66                                 New Caledonia  001-215-801-6392x46009   \n",
      "67                                      Kiribati      (585)606-2980x2258   \n",
      "68                   French Southern Territories      027.846.3705x14184   \n",
      "69                                        Canada              6977745822   \n",
      "70                                          Iran      078-900-4760x76668   \n",
      "71                                       Morocco            581-440-6539   \n",
      "72                                      Zimbabwe  001-927-965-8550x92406   \n",
      "73                            Russian Federation      874.617.5668x69878   \n",
      "74                               Solomon Islands   001-469-848-0724x4407   \n",
      "75                  United States Virgin Islands   +1-768-182-6014x14336   \n",
      "76                               Kyrgyz Republic           (050)136-9025   \n",
      "77                                       Myanmar              5040771311   \n",
      "78                                      Dominica        007.155.3406x553   \n",
      "79                                       Iceland     (690)068-4641x51468   \n",
      "80                                    Micronesia            629.198.6346   \n",
      "81              Saint Vincent and the Grenadines           (733)910-9968   \n",
      "82                                   Isle of Man           (733)833-6754   \n",
      "83                                          Oman              8275702958   \n",
      "84                                          Fiji   001-439-242-4986x7918   \n",
      "85                                   New Zealand      128-059-0206x60217   \n",
      "86                                      Maldives      (636)544-7783x7288   \n",
      "87                                         Benin            365-273-8144   \n",
      "88                                         Yemen        114-854-1159x555   \n",
      "89                                       Namibia            679.415.1210   \n",
      "90                                        Bhutan            053-344-3205   \n",
      "91                                       Hungary         +1-822-569-0302   \n",
      "92                                      Anguilla        404-645-5351x012   \n",
      "93                               Solomon Islands            158-687-1764   \n",
      "94                                          Mali   001-084-845-9524x1777   \n",
      "95                                        Guyana     (188)169-1674x58692   \n",
      "96                                     Sri Lanka         +1-846-706-2218   \n",
      "97                               Solomon Islands    +1-753-067-8419x7170   \n",
      "98                                         Aruba           (530)311-9786   \n",
      "99                                      Honduras           (753)813-6941   \n",
      "\n",
      "                   Phone 2                               Email  \\\n",
      "0         397.884.0519x718            zunigavanessa@smith.info   \n",
      "1         686-620-1820x944                     vmata@colon.com   \n",
      "2      (496)978-3969x58947                 beckycarr@hogan.com   \n",
      "3          +1-813-324-8756         stanleyblackwell@benson.org   \n",
      "4    001-199-446-3860x3486             colinalvarado@miles.net   \n",
      "5             999-728-1637                 louis27@gilbert.com   \n",
      "6     +1-247-266-0963x4995                 tgates@cantrell.com   \n",
      "7         001-333-145-0369                     asnow@colon.com   \n",
      "8      +1-448-910-2276x729             mariokhan@ryan-pope.org   \n",
      "9     001-054-401-0347x617                   mdyer@escobar.net   \n",
      "10        114.336.0784x788                  kirksalas@webb.com   \n",
      "11   +1-556-888-3485x42608                  mark42@robbins.com   \n",
      "12           (855)713-8773                    alex56@walls.org   \n",
      "13    +1-315-627-1796x8074            holdenmiranda@clarke.com   \n",
      "14            207-185-3665   cassieparrish@blevins-chapman.net   \n",
      "15   +1-600-462-6432x21881             vduncan@parks-hardy.com   \n",
      "16    001-469-948-6341x359  holtgwendolyn@watson-davenport.com   \n",
      "17     (195)156-1861x26241             jaredjuarez@carroll.org   \n",
      "18           (748)477-7174               joseph26@jacobson.com   \n",
      "19     (283)312-5579x11543             tuckerangie@salazar.net   \n",
      "20       202-880-0688x7491              fgibson@drake-webb.com   \n",
      "21    +1-528-175-0973x4684    blanchardbob@wallace-shannon.com   \n",
      "22      (947)115-7711x5488          rsingleton@ryan-cherry.com   \n",
      "23            500.433.2022               stefanie71@spence.com   \n",
      "24            541-116-4501                 mariah88@santos.com   \n",
      "25        909-277-5485x566     donnamullins@norris-barrett.org   \n",
      "26            071-152-1376                 stacey67@fields.org   \n",
      "27            264.742.7149                jacobkhan@bright.biz   \n",
      "28   +1-472-021-4814x85074                  wterrell@clark.com   \n",
      "29            126.922.6153                   qjimenez@boyd.com   \n",
      "30       046.906.1442x6784          gfigueroa@boone-zavala.com   \n",
      "31           (775)890-7209                tapiagreg@beard.info   \n",
      "32      646.044.0696x66800              coleolson@jennings.net   \n",
      "33      447-710-6202x07313                georgeross@miles.org   \n",
      "34         +1-818-199-1403      willistonya@randolph-baker.com   \n",
      "35           (430)300-8770            harrisisaiah@jenkins.com   \n",
      "36            975-998-1519                   fwolfe@dorsey.com   \n",
      "37              8035336772  tiffanydavies@harris-mcfarland.org   \n",
      "38   001-625-000-7132x0367                preese@frye-vega.com   \n",
      "39      (978)289-8785x5766                    ann48@miller.com   \n",
      "40            499.122.5415    tcummings@fitzpatrick-ashley.com   \n",
      "41      078.699.8982x13881           woodwardandres@phelps.com   \n",
      "42      463-445-3702x38463           barbarapittman@holder.com   \n",
      "43       684.698.2911x6092      bstuart@williamson-mcclure.com   \n",
      "44    +1-431-028-3337x3492            zkrueger@wolf-chavez.net   \n",
      "45      (467)886-9467x5721                   juan80@henson.net   \n",
      "46           (983)188-6873                bauercrystal@gay.com   \n",
      "47   001-395-959-4736x4524       bartlettjenna@zuniga-moss.biz   \n",
      "48    +1-028-691-7497x0894        mccalltyrone@durham-rose.biz   \n",
      "49      162-234-0249x32790                bobhammond@barry.biz   \n",
      "50           (092)508-0269            uwarner@steele-arias.com   \n",
      "51       626.116.9535x8578          xpittman@ritter-carney.net   \n",
      "52           (111)741-4173             vaughanchristy@lara.biz   \n",
      "53   001-731-168-2893x8891           clinton85@colon-arias.org   \n",
      "54    001-683-837-7651x525         greenemiranda@zimmerman.com   \n",
      "55    001-962-434-0867x649           goodmancesar@figueroa.biz   \n",
      "56    001-508-064-6725x017             yhanson@warner-diaz.org   \n",
      "57        506.731.5952x571        howelldarren@house-cohen.com   \n",
      "58            888.625.0654          ncamacho@boone-simmons.org   \n",
      "59            424-157-8216             kristopher62@oliver.com   \n",
      "60        001-248-691-0006               mpham@rios-guzman.com   \n",
      "61   +1-386-458-8944x15194       zachary96@mitchell-bryant.org   \n",
      "62      (026)401-7353x2417           kristiwhitney@bernard.com   \n",
      "63     +1-288-552-4666x060           leah85@sutton-terrell.com   \n",
      "64    001-673-779-6713x680               levigiles@vincent.com   \n",
      "65              3863743398            fisherlinda@schaefer.net   \n",
      "66            027-609-6460              scottcurtis@hurley.biz   \n",
      "67       730-797-3594x5614       nicholsonnina@montgomery.info   \n",
      "68    +1-439-171-1846x4636                zvalencia@phelps.com   \n",
      "69            855-436-7641                 alex06@galloway.com   \n",
      "70      414-112-8700x68751                   lee48@manning.com   \n",
      "71              9857827463         aharper@maddox-townsend.org   \n",
      "72  001-243-038-4271x53076            buckleycory@odonnell.net   \n",
      "73      (399)820-6418x0071                angie04@oconnell.com   \n",
      "74  001-085-360-4426x00357           zrosario@rojas-hardin.net   \n",
      "75           (303)961-4491             shieldskerry@robles.com   \n",
      "76   001-480-851-2496x0157        mchandler@cochran-huerta.org   \n",
      "77       684-682-0021x1326          katrinalane@fitzgerald.com   \n",
      "78     +1-809-862-5566x277                cookejill@powell.com   \n",
      "79       555.509.8691x2329             elizabethbarr@ewing.com   \n",
      "80            075.256.0829                 corey75@wiggins.com   \n",
      "81      (691)247-4128x0665   chloelester@higgins-wilkinson.com   \n",
      "82        001-761-013-7121           isaac26@benton-finley.com   \n",
      "83           (804)842-4715           justinwalters@jimenez.com   \n",
      "84              3162708934                maurice46@morgan.com   \n",
      "85      (312)164-4545x2284                 walter83@juarez.org   \n",
      "86      (203)287-1003x5932                  kmercer@wagner.com   \n",
      "87       053-308-7653x6287                   vcantu@norton.com   \n",
      "88            499-608-4612              hilljesse@barrett.info   \n",
      "89       945-842-3659x4581            tyrone77@valenzuela.info   \n",
      "90     +1-330-920-5422x571                elliserica@frank.com   \n",
      "91  001-626-114-5844x55073                  nsteele@sparks.com   \n",
      "92   001-257-582-8850x8516            dudleyemily@gonzales.biz   \n",
      "93       (438)375-6207x003         alan79@gates-mclaughlin.com   \n",
      "94        001-769-564-6303            grayjean@lowery-good.com   \n",
      "95    001-841-293-3519x614                    hhart@jensen.com   \n",
      "96            605.413.3198                   vkemp@ferrell.com   \n",
      "97   +1-632-666-7507x92121                    swagner@kane.org   \n",
      "98  001-869-452-0943x12424      mccarthystephen@horn-green.biz   \n",
      "99            783.639.1472              colleen91@faulkner.biz   \n",
      "\n",
      "   Subscription Date                            Website  \n",
      "0         2020-08-24         http://www.stephenson.com/  \n",
      "1         2021-04-23              http://www.hobbs.com/  \n",
      "2         2020-03-25           http://www.lawrence.com/  \n",
      "3         2020-06-02         http://www.good-lyons.com/  \n",
      "4         2021-04-17        https://goodwin-ingram.com/  \n",
      "5         2020-02-25             http://www.berger.net/  \n",
      "6         2021-08-24                https://www.le.com/  \n",
      "7         2021-04-12        https://hammond-ramsey.com/  \n",
      "8         2020-01-13           https://www.bullock.net/  \n",
      "9         2021-11-08                 https://arias.com/  \n",
      "10        2021-10-20        https://simmons-hurley.com/  \n",
      "11        2020-11-29            http://www.douglas.net/  \n",
      "12        2021-12-02               http://www.beck.com/  \n",
      "13        2021-02-08            https://www.brandt.com/  \n",
      "14        2022-01-26              http://stevenson.org/  \n",
      "15        2022-04-12                 http://acosta.org/  \n",
      "16        2021-03-10        http://www.benson-roth.com/  \n",
      "17        2022-03-26           http://pitts-cherry.com/  \n",
      "18        2020-09-24             https://mcconnell.com/  \n",
      "19        2021-09-24           https://www.camacho.net/  \n",
      "20        2022-01-12            http://www.roberts.com/  \n",
      "21        2020-09-15        https://www.reid-potts.com/  \n",
      "22        2020-08-19                   http://paul.biz/  \n",
      "23        2020-09-08                https://moreno.biz/  \n",
      "24        2021-04-06             https://www.ramos.com/  \n",
      "25        2022-05-24             https://www.curry.com/  \n",
      "26        2022-02-20        https://sanford-wilcox.biz/  \n",
      "27        2022-05-26              https://callahan.org/  \n",
      "28        2020-07-30                https://meyers.com/  \n",
      "29        2020-04-26             http://maynard-ho.com/  \n",
      "30        2021-09-15     http://www.hawkins-ramsey.com/  \n",
      "31        2022-01-13      http://www.daniels-klein.com/  \n",
      "32        2021-04-24         https://patel-hanson.info/  \n",
      "33        2021-09-21                   http://pham.com/  \n",
      "34        2021-11-03      https://spencer-charles.info/  \n",
      "35        2022-01-04            http://evans-simon.com/  \n",
      "36        2021-08-10  https://www.fleming-richards.com/  \n",
      "37        2021-02-24                http://www.lee.org/  \n",
      "38        2021-10-22             http://www.farley.org/  \n",
      "39        2021-11-01                 http://spence.com/  \n",
      "40        2020-10-10             http://www.dorsey.biz/  \n",
      "41        2021-09-08             http://www.butler.com/  \n",
      "42        2020-12-13      https://gillespie-holder.com/  \n",
      "43        2022-05-15      https://fletcher-nielsen.com/  \n",
      "44        2021-12-06               http://www.khan.com/  \n",
      "45        2020-07-01                  http://ochoa.com/  \n",
      "46        2020-04-23          https://decker-kline.com/  \n",
      "47        2022-03-11          http://burgess-frank.com/  \n",
      "48        2022-03-10         http://hammond-barron.com/  \n",
      "49        2021-12-02            https://www.burton.com/  \n",
      "50        2021-03-19            https://valenzuela.com/  \n",
      "51        2021-03-27              https://guerrero.org/  \n",
      "52        2021-03-08                 http://clark.info/  \n",
      "53        2020-10-15                   https://kim.com/  \n",
      "54        2022-01-13              https://www.mora.com/  \n",
      "55        2020-05-25                    http://may.com/  \n",
      "56        2021-01-25            http://www.bernard.com/  \n",
      "57        2021-03-17     http://www.parsons-hudson.com/  \n",
      "58        2020-11-15                 http://hayden.com/  \n",
      "59        2020-12-20               http://www.kidd.com/  \n",
      "60        2020-08-21            https://www.murphy.com/  \n",
      "61        2020-12-10              https://www.ryan.com/  \n",
      "62        2022-03-24                 http://cherry.com/  \n",
      "63        2022-05-15             https://mitchell.info/  \n",
      "64        2021-01-02                  http://mckay.com/  \n",
      "65        2021-04-23              https://www.vang.com/  \n",
      "66        2020-01-20          http://www.velazquez.net/  \n",
      "67        2020-08-18            http://odom-massey.com/  \n",
      "68        2021-01-31         http://hunter-esparza.com/  \n",
      "69        2020-02-03                 http://conway.org/  \n",
      "70        2021-02-20                https://ramsey.org/  \n",
      "71        2020-02-23            https://www.brooks.com/  \n",
      "72        2020-08-22            https://www.lucero.com/  \n",
      "73        2020-02-09                http://oconnor.com/  \n",
      "74        2022-01-15          http://www.johnston.info/  \n",
      "75        2020-07-11                http://kaiser.info/  \n",
      "76        2021-07-24              http://www.boyle.com/  \n",
      "77        2020-10-21                 https://hurst.com/  \n",
      "78        2020-06-08             http://www.hebert.com/  \n",
      "79        2020-09-19       https://mercado-blevins.com/  \n",
      "80        2021-11-13            https://www.juarez.com/  \n",
      "81        2021-09-12       http://www.owens-mooney.com/  \n",
      "82        2020-12-28                 http://walls.info/  \n",
      "83        2021-11-15      http://www.garner-oliver.com/  \n",
      "84        2020-02-18             http://www.watson.com/  \n",
      "85        2022-05-13              http://www.reid.info/  \n",
      "86        2020-07-21                 http://murray.org/  \n",
      "87        2020-11-10                 http://mason.info/  \n",
      "88        2021-04-15      http://www.duffy-hensley.net/  \n",
      "89        2021-01-09      http://www.deleon-crosby.com/  \n",
      "90        2020-03-26              https://www.pugh.com/  \n",
      "91        2021-07-06       https://www.holt-sparks.com/  \n",
      "92        2021-06-29               http://www.ruiz.com/  \n",
      "93        2021-04-04                https://travis.net/  \n",
      "94        2022-02-17                 https://banks.biz/  \n",
      "95        2022-01-30            http://hayes-perez.com/  \n",
      "96        2021-07-10         https://novak-allison.com/  \n",
      "97        2021-09-18              https://www.ross.com/  \n",
      "98        2021-08-11               http://watkins.info/  \n",
      "99        2020-03-11  http://www.hatfield-saunders.net/  \n"
     ]
    }
   ],
   "source": [
    "pd.options.display.max_rows=9999\n",
    "df=pd.read_csv('customers.csv')\n",
    "print(df)"
   ]
  },
  {
   "cell_type": "code",
   "execution_count": 19,
   "id": "1c1114ef-e8d3-4809-ba5c-005f927b3c38",
   "metadata": {},
   "outputs": [
    {
     "name": "stdout",
     "output_type": "stream",
     "text": [
      "   Index      Customer Id First Name  Last Name  \\\n",
      "0      1  DD37Cf93aecA6Dc     Sheryl     Baxter   \n",
      "1      2  1Ef7b82A4CAAD10    Preston     Lozano   \n",
      "2      3  6F94879bDAfE5a6        Roy      Berry   \n",
      "3      4  5Cef8BFA16c5e3c      Linda      Olsen   \n",
      "4      5  053d585Ab6b3159     Joanna     Bender   \n",
      "5      6  2d08FB17EE273F4      Aimee      Downs   \n",
      "6      7  EA4d384DfDbBf77     Darren       Peck   \n",
      "7      8  0e04AFde9f225dE      Brett     Mullen   \n",
      "8      9  C2dE4dEEc489ae0     Sheryl     Meyers   \n",
      "9     10  8C2811a503C7c5a   Michelle  Gallagher   \n",
      "\n",
      "                           Company               City  \\\n",
      "0                  Rasmussen Group       East Leonard   \n",
      "1                      Vega-Gentry  East Jimmychester   \n",
      "2                    Murillo-Perry      Isabelborough   \n",
      "3  Dominguez, Mcmillan and Donovan         Bensonview   \n",
      "4         Martin, Lang and Andrade     West Priscilla   \n",
      "5                     Steele Group      Chavezborough   \n",
      "6     Lester, Woodard and Mitchell           Lake Ana   \n",
      "7     Sanford, Davenport and Giles            Kimport   \n",
      "8                   Browning-Simon       Robersonstad   \n",
      "9                     Beck-Hendrix         Elaineberg   \n",
      "\n",
      "                      Country                 Phone 1                Phone 2  \\\n",
      "0                       Chile            229.077.5154       397.884.0519x718   \n",
      "1                    Djibouti              5153435776       686-620-1820x944   \n",
      "2         Antigua and Barbuda         +1-539-402-0259    (496)978-3969x58947   \n",
      "3          Dominican Republic  001-808-617-6467x12895        +1-813-324-8756   \n",
      "4  Slovakia (Slovak Republic)  001-234-203-0635x76146  001-199-446-3860x3486   \n",
      "5      Bosnia and Herzegovina     (283)437-3886x88321           999-728-1637   \n",
      "6            Pitcairn Islands      (496)452-6181x3291   +1-247-266-0963x4995   \n",
      "7                    Bulgaria    001-583-352-7197x297       001-333-145-0369   \n",
      "8                      Cyprus       854-138-4911x5772    +1-448-910-2276x729   \n",
      "9                 Timor-Leste        739.218.2516x459   001-054-401-0347x617   \n",
      "\n",
      "                         Email Subscription Date                      Website  \n",
      "0     zunigavanessa@smith.info        2020-08-24   http://www.stephenson.com/  \n",
      "1              vmata@colon.com        2021-04-23        http://www.hobbs.com/  \n",
      "2          beckycarr@hogan.com        2020-03-25     http://www.lawrence.com/  \n",
      "3  stanleyblackwell@benson.org        2020-06-02   http://www.good-lyons.com/  \n",
      "4      colinalvarado@miles.net        2021-04-17  https://goodwin-ingram.com/  \n",
      "5          louis27@gilbert.com        2020-02-25       http://www.berger.net/  \n",
      "6          tgates@cantrell.com        2021-08-24          https://www.le.com/  \n",
      "7              asnow@colon.com        2021-04-12  https://hammond-ramsey.com/  \n",
      "8      mariokhan@ryan-pope.org        2020-01-13     https://www.bullock.net/  \n",
      "9            mdyer@escobar.net        2021-11-08           https://arias.com/  \n"
     ]
    }
   ],
   "source": [
    "df=pd.read_csv('customers.csv')\n",
    "print(df.head(10))"
   ]
  },
  {
   "cell_type": "code",
   "execution_count": 21,
   "id": "6c3b9e79-2073-4a3c-a56a-51949395c7a4",
   "metadata": {},
   "outputs": [
    {
     "name": "stdout",
     "output_type": "stream",
     "text": [
      "   Index      Customer Id First Name Last Name  \\\n",
      "0      1  DD37Cf93aecA6Dc     Sheryl    Baxter   \n",
      "1      2  1Ef7b82A4CAAD10    Preston    Lozano   \n",
      "2      3  6F94879bDAfE5a6        Roy     Berry   \n",
      "3      4  5Cef8BFA16c5e3c      Linda     Olsen   \n",
      "4      5  053d585Ab6b3159     Joanna    Bender   \n",
      "\n",
      "                           Company               City  \\\n",
      "0                  Rasmussen Group       East Leonard   \n",
      "1                      Vega-Gentry  East Jimmychester   \n",
      "2                    Murillo-Perry      Isabelborough   \n",
      "3  Dominguez, Mcmillan and Donovan         Bensonview   \n",
      "4         Martin, Lang and Andrade     West Priscilla   \n",
      "\n",
      "                      Country                 Phone 1                Phone 2  \\\n",
      "0                       Chile            229.077.5154       397.884.0519x718   \n",
      "1                    Djibouti              5153435776       686-620-1820x944   \n",
      "2         Antigua and Barbuda         +1-539-402-0259    (496)978-3969x58947   \n",
      "3          Dominican Republic  001-808-617-6467x12895        +1-813-324-8756   \n",
      "4  Slovakia (Slovak Republic)  001-234-203-0635x76146  001-199-446-3860x3486   \n",
      "\n",
      "                         Email Subscription Date                      Website  \n",
      "0     zunigavanessa@smith.info        2020-08-24   http://www.stephenson.com/  \n",
      "1              vmata@colon.com        2021-04-23        http://www.hobbs.com/  \n",
      "2          beckycarr@hogan.com        2020-03-25     http://www.lawrence.com/  \n",
      "3  stanleyblackwell@benson.org        2020-06-02   http://www.good-lyons.com/  \n",
      "4      colinalvarado@miles.net        2021-04-17  https://goodwin-ingram.com/  \n"
     ]
    }
   ],
   "source": [
    "df=pd.read_csv('customers.csv')\n",
    "print(df.head())"
   ]
  },
  {
   "cell_type": "code",
   "execution_count": 22,
   "id": "3ea772ad-8654-40ae-aa80-50f7a9c266d5",
   "metadata": {},
   "outputs": [
    {
     "name": "stdout",
     "output_type": "stream",
     "text": [
      "    Index      Customer Id First Name Last Name                Company  \\\n",
      "95     96  cb8E23e48d22Eae       Karl     Greer              Carey LLC   \n",
      "96     97  CeD220bdAaCfaDf       Lynn  Atkinson  Ware, Burns and Oneal   \n",
      "97     98  28CDbC0dFe4b1Db       Fred    Guerra          Schmitt-Jones   \n",
      "98     99  c23d1D9EE8DEB0A     Yvonne    Farmer     Fitzgerald-Harrell   \n",
      "99    100  2354a0E336A91A1   Clarence    Haynes     Le, Nash and Cross   \n",
      "\n",
      "               City          Country               Phone 1  \\\n",
      "95     East Richard           Guyana   (188)169-1674x58692   \n",
      "96     New Bradview        Sri Lanka       +1-846-706-2218   \n",
      "97       Ortegaland  Solomon Islands  +1-753-067-8419x7170   \n",
      "98  Lake Elijahview            Aruba         (530)311-9786   \n",
      "99        Judymouth         Honduras         (753)813-6941   \n",
      "\n",
      "                   Phone 2                           Email Subscription Date  \\\n",
      "95    001-841-293-3519x614                hhart@jensen.com        2022-01-30   \n",
      "96            605.413.3198               vkemp@ferrell.com        2021-07-10   \n",
      "97   +1-632-666-7507x92121                swagner@kane.org        2021-09-18   \n",
      "98  001-869-452-0943x12424  mccarthystephen@horn-green.biz        2021-08-11   \n",
      "99            783.639.1472          colleen91@faulkner.biz        2020-03-11   \n",
      "\n",
      "                              Website  \n",
      "95            http://hayes-perez.com/  \n",
      "96         https://novak-allison.com/  \n",
      "97              https://www.ross.com/  \n",
      "98               http://watkins.info/  \n",
      "99  http://www.hatfield-saunders.net/  \n"
     ]
    }
   ],
   "source": [
    "print(df.tail())"
   ]
  },
  {
   "cell_type": "code",
   "execution_count": 23,
   "id": "66188705-9bcb-47bd-923d-e7fbda853858",
   "metadata": {},
   "outputs": [
    {
     "name": "stdout",
     "output_type": "stream",
     "text": [
      "<class 'pandas.core.frame.DataFrame'>\n",
      "RangeIndex: 100 entries, 0 to 99\n",
      "Data columns (total 12 columns):\n",
      " #   Column             Non-Null Count  Dtype \n",
      "---  ------             --------------  ----- \n",
      " 0   Index              100 non-null    int64 \n",
      " 1   Customer Id        100 non-null    object\n",
      " 2   First Name         100 non-null    object\n",
      " 3   Last Name          100 non-null    object\n",
      " 4   Company            100 non-null    object\n",
      " 5   City               100 non-null    object\n",
      " 6   Country            100 non-null    object\n",
      " 7   Phone 1            100 non-null    object\n",
      " 8   Phone 2            100 non-null    object\n",
      " 9   Email              100 non-null    object\n",
      " 10  Subscription Date  100 non-null    object\n",
      " 11  Website            100 non-null    object\n",
      "dtypes: int64(1), object(11)\n",
      "memory usage: 9.5+ KB\n",
      "None\n"
     ]
    }
   ],
   "source": [
    "print(df.info())"
   ]
  },
  {
   "cell_type": "code",
   "execution_count": 6,
   "id": "61f97b58-bc07-47b5-85a3-b76963de56b8",
   "metadata": {},
   "outputs": [
    {
     "data": {
      "text/plain": [
       "{'A': [1, 2, 3, None, 5], 'B': [None, 2, 3, 4, 5], 'C': [1, 2, None, None, 5]}"
      ]
     },
     "execution_count": 6,
     "metadata": {},
     "output_type": "execute_result"
    }
   ],
   "source": [
    "import pandas as pd\n",
    "data= {\n",
    "    'A': [1, 2, 3, None, 5],  \n",
    "    'B': [None, 2, 3, 4, 5],  \n",
    "    'C': [1, 2, None, None, 5]\n",
    "}\n",
    "data"
   ]
  },
  {
   "cell_type": "code",
   "execution_count": 20,
   "id": "cbffb91e-a9f0-41f5-b893-bbb738346920",
   "metadata": {},
   "outputs": [
    {
     "data": {
      "text/html": [
       "<div>\n",
       "<style scoped>\n",
       "    .dataframe tbody tr th:only-of-type {\n",
       "        vertical-align: middle;\n",
       "    }\n",
       "\n",
       "    .dataframe tbody tr th {\n",
       "        vertical-align: top;\n",
       "    }\n",
       "\n",
       "    .dataframe thead th {\n",
       "        text-align: right;\n",
       "    }\n",
       "</style>\n",
       "<table border=\"1\" class=\"dataframe\">\n",
       "  <thead>\n",
       "    <tr style=\"text-align: right;\">\n",
       "      <th></th>\n",
       "      <th>A</th>\n",
       "      <th>B</th>\n",
       "      <th>C</th>\n",
       "    </tr>\n",
       "  </thead>\n",
       "  <tbody>\n",
       "    <tr>\n",
       "      <th>0</th>\n",
       "      <td>1.0</td>\n",
       "      <td>NaN</td>\n",
       "      <td>1.0</td>\n",
       "    </tr>\n",
       "    <tr>\n",
       "      <th>1</th>\n",
       "      <td>2.0</td>\n",
       "      <td>2.0</td>\n",
       "      <td>2.0</td>\n",
       "    </tr>\n",
       "    <tr>\n",
       "      <th>2</th>\n",
       "      <td>3.0</td>\n",
       "      <td>3.0</td>\n",
       "      <td>NaN</td>\n",
       "    </tr>\n",
       "    <tr>\n",
       "      <th>3</th>\n",
       "      <td>NaN</td>\n",
       "      <td>4.0</td>\n",
       "      <td>NaN</td>\n",
       "    </tr>\n",
       "    <tr>\n",
       "      <th>4</th>\n",
       "      <td>5.0</td>\n",
       "      <td>5.0</td>\n",
       "      <td>5.0</td>\n",
       "    </tr>\n",
       "  </tbody>\n",
       "</table>\n",
       "</div>"
      ],
      "text/plain": [
       "     A    B    C\n",
       "0  1.0  NaN  1.0\n",
       "1  2.0  2.0  2.0\n",
       "2  3.0  3.0  NaN\n",
       "3  NaN  4.0  NaN\n",
       "4  5.0  5.0  5.0"
      ]
     },
     "execution_count": 20,
     "metadata": {},
     "output_type": "execute_result"
    }
   ],
   "source": [
    "df = pd.DataFrame(data)\n",
    "df"
   ]
  },
  {
   "cell_type": "code",
   "execution_count": 7,
   "id": "effb306d-56c7-43fd-b5dd-7b1bdb255601",
   "metadata": {},
   "outputs": [
    {
     "name": "stdout",
     "output_type": "stream",
     "text": [
      "     A    B    C\n",
      "1  2.0  2.0  2.0\n",
      "4  5.0  5.0  5.0\n"
     ]
    }
   ],
   "source": [
    "new_df=df.dropna()\n",
    "print(new_df.to_string())"
   ]
  },
  {
   "cell_type": "code",
   "execution_count": 9,
   "id": "4d0ba6df-0265-4a7c-8699-95b224cc2606",
   "metadata": {},
   "outputs": [
    {
     "name": "stdout",
     "output_type": "stream",
     "text": [
      "     A    B    C\n",
      "1  2.0  2.0  2.0\n",
      "4  5.0  5.0  5.0\n"
     ]
    }
   ],
   "source": [
    "df.dropna(inplace=True)\n",
    "print(df.to_string())"
   ]
  },
  {
   "cell_type": "code",
   "execution_count": 16,
   "id": "f23ff4f8-7c4a-452d-9538-1d97c10edafb",
   "metadata": {},
   "outputs": [
    {
     "data": {
      "text/html": [
       "<div>\n",
       "<style scoped>\n",
       "    .dataframe tbody tr th:only-of-type {\n",
       "        vertical-align: middle;\n",
       "    }\n",
       "\n",
       "    .dataframe tbody tr th {\n",
       "        vertical-align: top;\n",
       "    }\n",
       "\n",
       "    .dataframe thead th {\n",
       "        text-align: right;\n",
       "    }\n",
       "</style>\n",
       "<table border=\"1\" class=\"dataframe\">\n",
       "  <thead>\n",
       "    <tr style=\"text-align: right;\">\n",
       "      <th></th>\n",
       "      <th>A</th>\n",
       "      <th>B</th>\n",
       "      <th>C</th>\n",
       "      <th>c</th>\n",
       "    </tr>\n",
       "  </thead>\n",
       "  <tbody>\n",
       "    <tr>\n",
       "      <th>0</th>\n",
       "      <td>1.0</td>\n",
       "      <td>3.0</td>\n",
       "      <td>1.000000</td>\n",
       "      <td>3.0</td>\n",
       "    </tr>\n",
       "    <tr>\n",
       "      <th>1</th>\n",
       "      <td>2.0</td>\n",
       "      <td>2.0</td>\n",
       "      <td>2.000000</td>\n",
       "      <td>3.0</td>\n",
       "    </tr>\n",
       "    <tr>\n",
       "      <th>2</th>\n",
       "      <td>3.0</td>\n",
       "      <td>3.0</td>\n",
       "      <td>2.666667</td>\n",
       "      <td>3.0</td>\n",
       "    </tr>\n",
       "    <tr>\n",
       "      <th>3</th>\n",
       "      <td>3.0</td>\n",
       "      <td>4.0</td>\n",
       "      <td>3.000000</td>\n",
       "      <td>3.0</td>\n",
       "    </tr>\n",
       "    <tr>\n",
       "      <th>4</th>\n",
       "      <td>5.0</td>\n",
       "      <td>5.0</td>\n",
       "      <td>5.000000</td>\n",
       "      <td>3.0</td>\n",
       "    </tr>\n",
       "  </tbody>\n",
       "</table>\n",
       "</div>"
      ],
      "text/plain": [
       "     A    B         C    c\n",
       "0  1.0  3.0  1.000000  3.0\n",
       "1  2.0  2.0  2.000000  3.0\n",
       "2  3.0  3.0  2.666667  3.0\n",
       "3  3.0  4.0  3.000000  3.0\n",
       "4  5.0  5.0  5.000000  3.0"
      ]
     },
     "execution_count": 16,
     "metadata": {},
     "output_type": "execute_result"
    }
   ],
   "source": [
    "df.fillna(3.0,inplace=True)\n",
    "df"
   ]
  },
  {
   "cell_type": "code",
   "execution_count": 17,
   "id": "efe0da18-f806-40bd-be32-f6fb8578fc71",
   "metadata": {},
   "outputs": [
    {
     "name": "stderr",
     "output_type": "stream",
     "text": [
      "C:\\Users\\User\\AppData\\Local\\Temp\\ipykernel_15280\\1153554083.py:1: FutureWarning: A value is trying to be set on a copy of a DataFrame or Series through chained assignment using an inplace method.\n",
      "The behavior will change in pandas 3.0. This inplace method will never work because the intermediate object on which we are setting values always behaves as a copy.\n",
      "\n",
      "For example, when doing 'df[col].method(value, inplace=True)', try using 'df.method({col: value}, inplace=True)' or df[col] = df[col].method(value) instead, to perform the operation inplace on the original object.\n",
      "\n",
      "\n",
      "  df[\"A\"].fillna(3.0,inplace=True)\n"
     ]
    },
    {
     "data": {
      "text/html": [
       "<div>\n",
       "<style scoped>\n",
       "    .dataframe tbody tr th:only-of-type {\n",
       "        vertical-align: middle;\n",
       "    }\n",
       "\n",
       "    .dataframe tbody tr th {\n",
       "        vertical-align: top;\n",
       "    }\n",
       "\n",
       "    .dataframe thead th {\n",
       "        text-align: right;\n",
       "    }\n",
       "</style>\n",
       "<table border=\"1\" class=\"dataframe\">\n",
       "  <thead>\n",
       "    <tr style=\"text-align: right;\">\n",
       "      <th></th>\n",
       "      <th>A</th>\n",
       "      <th>B</th>\n",
       "      <th>C</th>\n",
       "    </tr>\n",
       "  </thead>\n",
       "  <tbody>\n",
       "    <tr>\n",
       "      <th>0</th>\n",
       "      <td>1.0</td>\n",
       "      <td>3.0</td>\n",
       "      <td>1.0</td>\n",
       "    </tr>\n",
       "    <tr>\n",
       "      <th>1</th>\n",
       "      <td>2.0</td>\n",
       "      <td>2.0</td>\n",
       "      <td>2.0</td>\n",
       "    </tr>\n",
       "    <tr>\n",
       "      <th>2</th>\n",
       "      <td>3.0</td>\n",
       "      <td>3.0</td>\n",
       "      <td>3.0</td>\n",
       "    </tr>\n",
       "    <tr>\n",
       "      <th>3</th>\n",
       "      <td>3.0</td>\n",
       "      <td>4.0</td>\n",
       "      <td>3.0</td>\n",
       "    </tr>\n",
       "    <tr>\n",
       "      <th>4</th>\n",
       "      <td>5.0</td>\n",
       "      <td>5.0</td>\n",
       "      <td>5.0</td>\n",
       "    </tr>\n",
       "  </tbody>\n",
       "</table>\n",
       "</div>"
      ],
      "text/plain": [
       "     A    B    C\n",
       "0  1.0  3.0  1.0\n",
       "1  2.0  2.0  2.0\n",
       "2  3.0  3.0  3.0\n",
       "3  3.0  4.0  3.0\n",
       "4  5.0  5.0  5.0"
      ]
     },
     "execution_count": 17,
     "metadata": {},
     "output_type": "execute_result"
    }
   ],
   "source": [
    "df[\"A\"].fillna(3.0,inplace=True)\n",
    "df"
   ]
  },
  {
   "cell_type": "code",
   "execution_count": 9,
   "id": "8ac6a3d0-7840-4c29-9b99-db3d95728128",
   "metadata": {},
   "outputs": [
    {
     "name": "stderr",
     "output_type": "stream",
     "text": [
      "C:\\Users\\User\\AppData\\Local\\Temp\\ipykernel_18396\\2005027120.py:4: FutureWarning: A value is trying to be set on a copy of a DataFrame or Series through chained assignment using an inplace method.\n",
      "The behavior will change in pandas 3.0. This inplace method will never work because the intermediate object on which we are setting values always behaves as a copy.\n",
      "\n",
      "For example, when doing 'df[col].method(value, inplace=True)', try using 'df.method({col: value}, inplace=True)' or df[col] = df[col].method(value) instead, to perform the operation inplace on the original object.\n",
      "\n",
      "\n",
      "  df[\"C\"].fillna(x,inplace=True)\n"
     ]
    }
   ],
   "source": [
    "import pandas as pd\n",
    "df=pd.DataFrame(data)\n",
    "x=df[\"C\"].mean()\n",
    "df[\"C\"].fillna(x,inplace=True)"
   ]
  },
  {
   "cell_type": "code",
   "execution_count": 10,
   "id": "0eb8aab4-7c63-46c5-8469-612b08bc349a",
   "metadata": {},
   "outputs": [
    {
     "data": {
      "text/html": [
       "<div>\n",
       "<style scoped>\n",
       "    .dataframe tbody tr th:only-of-type {\n",
       "        vertical-align: middle;\n",
       "    }\n",
       "\n",
       "    .dataframe tbody tr th {\n",
       "        vertical-align: top;\n",
       "    }\n",
       "\n",
       "    .dataframe thead th {\n",
       "        text-align: right;\n",
       "    }\n",
       "</style>\n",
       "<table border=\"1\" class=\"dataframe\">\n",
       "  <thead>\n",
       "    <tr style=\"text-align: right;\">\n",
       "      <th></th>\n",
       "      <th>A</th>\n",
       "      <th>B</th>\n",
       "      <th>C</th>\n",
       "    </tr>\n",
       "  </thead>\n",
       "  <tbody>\n",
       "    <tr>\n",
       "      <th>0</th>\n",
       "      <td>1.0</td>\n",
       "      <td>NaN</td>\n",
       "      <td>1.000000</td>\n",
       "    </tr>\n",
       "    <tr>\n",
       "      <th>1</th>\n",
       "      <td>2.0</td>\n",
       "      <td>2.0</td>\n",
       "      <td>2.000000</td>\n",
       "    </tr>\n",
       "    <tr>\n",
       "      <th>2</th>\n",
       "      <td>3.0</td>\n",
       "      <td>3.0</td>\n",
       "      <td>2.666667</td>\n",
       "    </tr>\n",
       "    <tr>\n",
       "      <th>3</th>\n",
       "      <td>NaN</td>\n",
       "      <td>4.0</td>\n",
       "      <td>2.666667</td>\n",
       "    </tr>\n",
       "    <tr>\n",
       "      <th>4</th>\n",
       "      <td>5.0</td>\n",
       "      <td>5.0</td>\n",
       "      <td>5.000000</td>\n",
       "    </tr>\n",
       "  </tbody>\n",
       "</table>\n",
       "</div>"
      ],
      "text/plain": [
       "     A    B         C\n",
       "0  1.0  NaN  1.000000\n",
       "1  2.0  2.0  2.000000\n",
       "2  3.0  3.0  2.666667\n",
       "3  NaN  4.0  2.666667\n",
       "4  5.0  5.0  5.000000"
      ]
     },
     "execution_count": 10,
     "metadata": {},
     "output_type": "execute_result"
    }
   ],
   "source": [
    "df"
   ]
  },
  {
   "cell_type": "code",
   "execution_count": 12,
   "id": "073fdc5b-ddc8-4f2b-bbd3-8bea1385229b",
   "metadata": {},
   "outputs": [
    {
     "name": "stderr",
     "output_type": "stream",
     "text": [
      "C:\\Users\\User\\AppData\\Local\\Temp\\ipykernel_18396\\3388028462.py:2: FutureWarning: A value is trying to be set on a copy of a DataFrame or Series through chained assignment using an inplace method.\n",
      "The behavior will change in pandas 3.0. This inplace method will never work because the intermediate object on which we are setting values always behaves as a copy.\n",
      "\n",
      "For example, when doing 'df[col].method(value, inplace=True)', try using 'df.method({col: value}, inplace=True)' or df[col] = df[col].method(value) instead, to perform the operation inplace on the original object.\n",
      "\n",
      "\n",
      "  df[\"C\"].fillna(x,inplace=True)\n"
     ]
    },
    {
     "data": {
      "text/html": [
       "<div>\n",
       "<style scoped>\n",
       "    .dataframe tbody tr th:only-of-type {\n",
       "        vertical-align: middle;\n",
       "    }\n",
       "\n",
       "    .dataframe tbody tr th {\n",
       "        vertical-align: top;\n",
       "    }\n",
       "\n",
       "    .dataframe thead th {\n",
       "        text-align: right;\n",
       "    }\n",
       "</style>\n",
       "<table border=\"1\" class=\"dataframe\">\n",
       "  <thead>\n",
       "    <tr style=\"text-align: right;\">\n",
       "      <th></th>\n",
       "      <th>A</th>\n",
       "      <th>B</th>\n",
       "      <th>C</th>\n",
       "    </tr>\n",
       "  </thead>\n",
       "  <tbody>\n",
       "    <tr>\n",
       "      <th>0</th>\n",
       "      <td>1.0</td>\n",
       "      <td>NaN</td>\n",
       "      <td>1.000000</td>\n",
       "    </tr>\n",
       "    <tr>\n",
       "      <th>1</th>\n",
       "      <td>2.0</td>\n",
       "      <td>2.0</td>\n",
       "      <td>2.000000</td>\n",
       "    </tr>\n",
       "    <tr>\n",
       "      <th>2</th>\n",
       "      <td>3.0</td>\n",
       "      <td>3.0</td>\n",
       "      <td>2.666667</td>\n",
       "    </tr>\n",
       "    <tr>\n",
       "      <th>3</th>\n",
       "      <td>NaN</td>\n",
       "      <td>4.0</td>\n",
       "      <td>2.666667</td>\n",
       "    </tr>\n",
       "    <tr>\n",
       "      <th>4</th>\n",
       "      <td>5.0</td>\n",
       "      <td>5.0</td>\n",
       "      <td>5.000000</td>\n",
       "    </tr>\n",
       "  </tbody>\n",
       "</table>\n",
       "</div>"
      ],
      "text/plain": [
       "     A    B         C\n",
       "0  1.0  NaN  1.000000\n",
       "1  2.0  2.0  2.000000\n",
       "2  3.0  3.0  2.666667\n",
       "3  NaN  4.0  2.666667\n",
       "4  5.0  5.0  5.000000"
      ]
     },
     "execution_count": 12,
     "metadata": {},
     "output_type": "execute_result"
    }
   ],
   "source": [
    "x=df[\"C\"].median()\n",
    "df[\"C\"].fillna(x,inplace=True)\n",
    "df"
   ]
  },
  {
   "cell_type": "code",
   "execution_count": 13,
   "id": "a22c30cf-9620-480b-b1ce-4028879ff705",
   "metadata": {},
   "outputs": [
    {
     "name": "stderr",
     "output_type": "stream",
     "text": [
      "C:\\Users\\User\\AppData\\Local\\Temp\\ipykernel_18396\\1968800364.py:2: FutureWarning: A value is trying to be set on a copy of a DataFrame or Series through chained assignment using an inplace method.\n",
      "The behavior will change in pandas 3.0. This inplace method will never work because the intermediate object on which we are setting values always behaves as a copy.\n",
      "\n",
      "For example, when doing 'df[col].method(value, inplace=True)', try using 'df.method({col: value}, inplace=True)' or df[col] = df[col].method(value) instead, to perform the operation inplace on the original object.\n",
      "\n",
      "\n",
      "  df[\"C\"].fillna(x,inplace=True)\n"
     ]
    },
    {
     "data": {
      "text/html": [
       "<div>\n",
       "<style scoped>\n",
       "    .dataframe tbody tr th:only-of-type {\n",
       "        vertical-align: middle;\n",
       "    }\n",
       "\n",
       "    .dataframe tbody tr th {\n",
       "        vertical-align: top;\n",
       "    }\n",
       "\n",
       "    .dataframe thead th {\n",
       "        text-align: right;\n",
       "    }\n",
       "</style>\n",
       "<table border=\"1\" class=\"dataframe\">\n",
       "  <thead>\n",
       "    <tr style=\"text-align: right;\">\n",
       "      <th></th>\n",
       "      <th>A</th>\n",
       "      <th>B</th>\n",
       "      <th>C</th>\n",
       "    </tr>\n",
       "  </thead>\n",
       "  <tbody>\n",
       "    <tr>\n",
       "      <th>0</th>\n",
       "      <td>1.0</td>\n",
       "      <td>NaN</td>\n",
       "      <td>1.000000</td>\n",
       "    </tr>\n",
       "    <tr>\n",
       "      <th>1</th>\n",
       "      <td>2.0</td>\n",
       "      <td>2.0</td>\n",
       "      <td>2.000000</td>\n",
       "    </tr>\n",
       "    <tr>\n",
       "      <th>2</th>\n",
       "      <td>3.0</td>\n",
       "      <td>3.0</td>\n",
       "      <td>2.666667</td>\n",
       "    </tr>\n",
       "    <tr>\n",
       "      <th>3</th>\n",
       "      <td>NaN</td>\n",
       "      <td>4.0</td>\n",
       "      <td>2.666667</td>\n",
       "    </tr>\n",
       "    <tr>\n",
       "      <th>4</th>\n",
       "      <td>5.0</td>\n",
       "      <td>5.0</td>\n",
       "      <td>5.000000</td>\n",
       "    </tr>\n",
       "  </tbody>\n",
       "</table>\n",
       "</div>"
      ],
      "text/plain": [
       "     A    B         C\n",
       "0  1.0  NaN  1.000000\n",
       "1  2.0  2.0  2.000000\n",
       "2  3.0  3.0  2.666667\n",
       "3  NaN  4.0  2.666667\n",
       "4  5.0  5.0  5.000000"
      ]
     },
     "execution_count": 13,
     "metadata": {},
     "output_type": "execute_result"
    }
   ],
   "source": [
    "x=df[\"C\"].mode()[0]\n",
    "df[\"C\"].fillna(x,inplace=True)\n",
    "df"
   ]
  },
  {
   "cell_type": "code",
   "execution_count": 15,
   "id": "ccf45bec-796f-42a3-a895-8d921a395c57",
   "metadata": {},
   "outputs": [
    {
     "data": {
      "text/html": [
       "<div>\n",
       "<style scoped>\n",
       "    .dataframe tbody tr th:only-of-type {\n",
       "        vertical-align: middle;\n",
       "    }\n",
       "\n",
       "    .dataframe tbody tr th {\n",
       "        vertical-align: top;\n",
       "    }\n",
       "\n",
       "    .dataframe thead th {\n",
       "        text-align: right;\n",
       "    }\n",
       "</style>\n",
       "<table border=\"1\" class=\"dataframe\">\n",
       "  <thead>\n",
       "    <tr style=\"text-align: right;\">\n",
       "      <th></th>\n",
       "      <th>A</th>\n",
       "      <th>B</th>\n",
       "      <th>C</th>\n",
       "      <th>c</th>\n",
       "    </tr>\n",
       "  </thead>\n",
       "  <tbody>\n",
       "    <tr>\n",
       "      <th>0</th>\n",
       "      <td>1.0</td>\n",
       "      <td>NaN</td>\n",
       "      <td>1.000000</td>\n",
       "      <td>NaN</td>\n",
       "    </tr>\n",
       "    <tr>\n",
       "      <th>1</th>\n",
       "      <td>2.0</td>\n",
       "      <td>2.0</td>\n",
       "      <td>2.000000</td>\n",
       "      <td>NaN</td>\n",
       "    </tr>\n",
       "    <tr>\n",
       "      <th>2</th>\n",
       "      <td>3.0</td>\n",
       "      <td>3.0</td>\n",
       "      <td>2.666667</td>\n",
       "      <td>NaN</td>\n",
       "    </tr>\n",
       "    <tr>\n",
       "      <th>3</th>\n",
       "      <td>NaN</td>\n",
       "      <td>4.0</td>\n",
       "      <td>3.000000</td>\n",
       "      <td>3.0</td>\n",
       "    </tr>\n",
       "    <tr>\n",
       "      <th>4</th>\n",
       "      <td>5.0</td>\n",
       "      <td>5.0</td>\n",
       "      <td>5.000000</td>\n",
       "      <td>NaN</td>\n",
       "    </tr>\n",
       "  </tbody>\n",
       "</table>\n",
       "</div>"
      ],
      "text/plain": [
       "     A    B         C    c\n",
       "0  1.0  NaN  1.000000  NaN\n",
       "1  2.0  2.0  2.000000  NaN\n",
       "2  3.0  3.0  2.666667  NaN\n",
       "3  NaN  4.0  3.000000  3.0\n",
       "4  5.0  5.0  5.000000  NaN"
      ]
     },
     "execution_count": 15,
     "metadata": {},
     "output_type": "execute_result"
    }
   ],
   "source": [
    "df.loc[3,'C']=3.000000\n",
    "df"
   ]
  },
  {
   "cell_type": "code",
   "execution_count": 18,
   "id": "1a451664-9198-4ec1-9802-c75c6e874167",
   "metadata": {},
   "outputs": [
    {
     "data": {
      "text/html": [
       "<div>\n",
       "<style scoped>\n",
       "    .dataframe tbody tr th:only-of-type {\n",
       "        vertical-align: middle;\n",
       "    }\n",
       "\n",
       "    .dataframe tbody tr th {\n",
       "        vertical-align: top;\n",
       "    }\n",
       "\n",
       "    .dataframe thead th {\n",
       "        text-align: right;\n",
       "    }\n",
       "</style>\n",
       "<table border=\"1\" class=\"dataframe\">\n",
       "  <thead>\n",
       "    <tr style=\"text-align: right;\">\n",
       "      <th></th>\n",
       "      <th>A</th>\n",
       "      <th>B</th>\n",
       "      <th>C</th>\n",
       "      <th>c</th>\n",
       "    </tr>\n",
       "  </thead>\n",
       "  <tbody>\n",
       "    <tr>\n",
       "      <th>0</th>\n",
       "      <td>1.0</td>\n",
       "      <td>2.2</td>\n",
       "      <td>1.000000</td>\n",
       "      <td>3.0</td>\n",
       "    </tr>\n",
       "    <tr>\n",
       "      <th>1</th>\n",
       "      <td>2.0</td>\n",
       "      <td>2.0</td>\n",
       "      <td>2.000000</td>\n",
       "      <td>3.0</td>\n",
       "    </tr>\n",
       "    <tr>\n",
       "      <th>2</th>\n",
       "      <td>3.0</td>\n",
       "      <td>2.2</td>\n",
       "      <td>2.666667</td>\n",
       "      <td>3.0</td>\n",
       "    </tr>\n",
       "    <tr>\n",
       "      <th>3</th>\n",
       "      <td>3.0</td>\n",
       "      <td>2.2</td>\n",
       "      <td>3.000000</td>\n",
       "      <td>3.0</td>\n",
       "    </tr>\n",
       "    <tr>\n",
       "      <th>4</th>\n",
       "      <td>5.0</td>\n",
       "      <td>2.2</td>\n",
       "      <td>5.000000</td>\n",
       "      <td>3.0</td>\n",
       "    </tr>\n",
       "  </tbody>\n",
       "</table>\n",
       "</div>"
      ],
      "text/plain": [
       "     A    B         C    c\n",
       "0  1.0  2.2  1.000000  3.0\n",
       "1  2.0  2.0  2.000000  3.0\n",
       "2  3.0  2.2  2.666667  3.0\n",
       "3  3.0  2.2  3.000000  3.0\n",
       "4  5.0  2.2  5.000000  3.0"
      ]
     },
     "execution_count": 18,
     "metadata": {},
     "output_type": "execute_result"
    }
   ],
   "source": [
    "for x in df.index:\n",
    "    if df.loc[x,\"B\"]>2.0:\n",
    "        df.loc[x,\"B\"]=2.2\n",
    "df"
   ]
  },
  {
   "cell_type": "code",
   "execution_count": 19,
   "id": "218e2099-2615-4a7b-a265-70098c25f156",
   "metadata": {},
   "outputs": [
    {
     "data": {
      "text/html": [
       "<div>\n",
       "<style scoped>\n",
       "    .dataframe tbody tr th:only-of-type {\n",
       "        vertical-align: middle;\n",
       "    }\n",
       "\n",
       "    .dataframe tbody tr th {\n",
       "        vertical-align: top;\n",
       "    }\n",
       "\n",
       "    .dataframe thead th {\n",
       "        text-align: right;\n",
       "    }\n",
       "</style>\n",
       "<table border=\"1\" class=\"dataframe\">\n",
       "  <thead>\n",
       "    <tr style=\"text-align: right;\">\n",
       "      <th></th>\n",
       "      <th>A</th>\n",
       "      <th>B</th>\n",
       "      <th>C</th>\n",
       "      <th>c</th>\n",
       "    </tr>\n",
       "  </thead>\n",
       "  <tbody>\n",
       "  </tbody>\n",
       "</table>\n",
       "</div>"
      ],
      "text/plain": [
       "Empty DataFrame\n",
       "Columns: [A, B, C, c]\n",
       "Index: []"
      ]
     },
     "execution_count": 19,
     "metadata": {},
     "output_type": "execute_result"
    }
   ],
   "source": [
    "for x in df.index:\n",
    "    if df.loc[x,\"c\"]>2.0:\n",
    "        df.drop(x,inplace=True)\n",
    "df"
   ]
  },
  {
   "cell_type": "code",
   "execution_count": 21,
   "id": "3b90a504-869b-42cd-b0e5-a9d246c63389",
   "metadata": {},
   "outputs": [
    {
     "name": "stdout",
     "output_type": "stream",
     "text": [
      "0    False\n",
      "1    False\n",
      "2    False\n",
      "3    False\n",
      "4    False\n",
      "dtype: bool\n"
     ]
    },
    {
     "data": {
      "text/html": [
       "<div>\n",
       "<style scoped>\n",
       "    .dataframe tbody tr th:only-of-type {\n",
       "        vertical-align: middle;\n",
       "    }\n",
       "\n",
       "    .dataframe tbody tr th {\n",
       "        vertical-align: top;\n",
       "    }\n",
       "\n",
       "    .dataframe thead th {\n",
       "        text-align: right;\n",
       "    }\n",
       "</style>\n",
       "<table border=\"1\" class=\"dataframe\">\n",
       "  <thead>\n",
       "    <tr style=\"text-align: right;\">\n",
       "      <th></th>\n",
       "      <th>A</th>\n",
       "      <th>B</th>\n",
       "      <th>C</th>\n",
       "    </tr>\n",
       "  </thead>\n",
       "  <tbody>\n",
       "    <tr>\n",
       "      <th>0</th>\n",
       "      <td>1.0</td>\n",
       "      <td>NaN</td>\n",
       "      <td>1.0</td>\n",
       "    </tr>\n",
       "    <tr>\n",
       "      <th>1</th>\n",
       "      <td>2.0</td>\n",
       "      <td>2.0</td>\n",
       "      <td>2.0</td>\n",
       "    </tr>\n",
       "    <tr>\n",
       "      <th>2</th>\n",
       "      <td>3.0</td>\n",
       "      <td>3.0</td>\n",
       "      <td>NaN</td>\n",
       "    </tr>\n",
       "    <tr>\n",
       "      <th>3</th>\n",
       "      <td>NaN</td>\n",
       "      <td>4.0</td>\n",
       "      <td>NaN</td>\n",
       "    </tr>\n",
       "    <tr>\n",
       "      <th>4</th>\n",
       "      <td>5.0</td>\n",
       "      <td>5.0</td>\n",
       "      <td>5.0</td>\n",
       "    </tr>\n",
       "  </tbody>\n",
       "</table>\n",
       "</div>"
      ],
      "text/plain": [
       "     A    B    C\n",
       "0  1.0  NaN  1.0\n",
       "1  2.0  2.0  2.0\n",
       "2  3.0  3.0  NaN\n",
       "3  NaN  4.0  NaN\n",
       "4  5.0  5.0  5.0"
      ]
     },
     "execution_count": 21,
     "metadata": {},
     "output_type": "execute_result"
    }
   ],
   "source": [
    "print(df.duplicated())\n",
    "df"
   ]
  },
  {
   "cell_type": "code",
   "execution_count": 22,
   "id": "025f7033-3040-467e-933c-93a7d13a5da8",
   "metadata": {},
   "outputs": [
    {
     "data": {
      "text/html": [
       "<div>\n",
       "<style scoped>\n",
       "    .dataframe tbody tr th:only-of-type {\n",
       "        vertical-align: middle;\n",
       "    }\n",
       "\n",
       "    .dataframe tbody tr th {\n",
       "        vertical-align: top;\n",
       "    }\n",
       "\n",
       "    .dataframe thead th {\n",
       "        text-align: right;\n",
       "    }\n",
       "</style>\n",
       "<table border=\"1\" class=\"dataframe\">\n",
       "  <thead>\n",
       "    <tr style=\"text-align: right;\">\n",
       "      <th></th>\n",
       "      <th>A</th>\n",
       "      <th>B</th>\n",
       "      <th>C</th>\n",
       "    </tr>\n",
       "  </thead>\n",
       "  <tbody>\n",
       "    <tr>\n",
       "      <th>0</th>\n",
       "      <td>1.0</td>\n",
       "      <td>NaN</td>\n",
       "      <td>1.0</td>\n",
       "    </tr>\n",
       "    <tr>\n",
       "      <th>1</th>\n",
       "      <td>2.0</td>\n",
       "      <td>2.0</td>\n",
       "      <td>2.0</td>\n",
       "    </tr>\n",
       "    <tr>\n",
       "      <th>2</th>\n",
       "      <td>3.0</td>\n",
       "      <td>3.0</td>\n",
       "      <td>NaN</td>\n",
       "    </tr>\n",
       "    <tr>\n",
       "      <th>3</th>\n",
       "      <td>NaN</td>\n",
       "      <td>4.0</td>\n",
       "      <td>NaN</td>\n",
       "    </tr>\n",
       "    <tr>\n",
       "      <th>4</th>\n",
       "      <td>5.0</td>\n",
       "      <td>5.0</td>\n",
       "      <td>5.0</td>\n",
       "    </tr>\n",
       "  </tbody>\n",
       "</table>\n",
       "</div>"
      ],
      "text/plain": [
       "     A    B    C\n",
       "0  1.0  NaN  1.0\n",
       "1  2.0  2.0  2.0\n",
       "2  3.0  3.0  NaN\n",
       "3  NaN  4.0  NaN\n",
       "4  5.0  5.0  5.0"
      ]
     },
     "execution_count": 22,
     "metadata": {},
     "output_type": "execute_result"
    }
   ],
   "source": [
    "df.drop_duplicates(inplace=True)\n",
    "df"
   ]
  },
  {
   "cell_type": "code",
   "execution_count": null,
   "id": "63804cfd-cdac-451b-93d0-8c543c7271ac",
   "metadata": {},
   "outputs": [],
   "source": []
  }
 ],
 "metadata": {
  "kernelspec": {
   "display_name": "Python 3 (ipykernel)",
   "language": "python",
   "name": "python3"
  },
  "language_info": {
   "codemirror_mode": {
    "name": "ipython",
    "version": 3
   },
   "file_extension": ".py",
   "mimetype": "text/x-python",
   "name": "python",
   "nbconvert_exporter": "python",
   "pygments_lexer": "ipython3",
   "version": "3.12.7"
  }
 },
 "nbformat": 4,
 "nbformat_minor": 5
}
