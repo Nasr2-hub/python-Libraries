{
 "cells": [
  {
   "cell_type": "code",
   "execution_count": 34,
   "id": "4420b049-885f-45bc-aec8-9290884830e3",
   "metadata": {},
   "outputs": [
    {
     "data": {
      "text/plain": [
       "['DESCR', 'data', 'feature_names', 'frame', 'images', 'target', 'target_names']"
      ]
     },
     "execution_count": 34,
     "metadata": {},
     "output_type": "execute_result"
    }
   ],
   "source": [
    "from sklearn.datasets import load_digits\n",
    "digits=load_digits()\n",
    "dir(digits)"
   ]
  },
  {
   "cell_type": "code",
   "execution_count": 35,
   "id": "fdc2413f-096c-4d76-bdfe-5f274c83160c",
   "metadata": {},
   "outputs": [],
   "source": [
    "from sklearn.model_selection import cross_val_score\n",
    "from sklearn.svm import SVC"
   ]
  },
  {
   "cell_type": "code",
   "execution_count": 36,
   "id": "c0d341a4-d222-47fa-a238-b4ee0422b9c8",
   "metadata": {},
   "outputs": [],
   "source": [
    "l_scores= cross_val_score(LogisticRegression(max_iter=500),X=digits.data,y=digits.target)\n",
    "svc_scores=cross_val_score(SVC(),X=digits.data,y=digits.target)\n",
    "rf_scores=cross_val_score(RandomForestClassifier(),X=digits.data,y=digits.target)"
   ]
  },
  {
   "cell_type": "code",
   "execution_count": 37,
   "id": "4c5b1d38-35f7-4545-8cdc-a41dee3b6bc5",
   "metadata": {},
   "outputs": [
    {
     "name": "stdout",
     "output_type": "stream",
     "text": [
      "[0.92222222 0.87222222 0.94150418 0.93871866 0.89693593]\n",
      "[0.925      0.89722222 0.96100279 0.96100279 0.93314763]\n",
      "[0.96111111 0.94444444 0.98328691 0.98885794 0.93871866]\n"
     ]
    }
   ],
   "source": [
    "print(l_scores)\n",
    "print(rf_scores)\n",
    "print(svc_scores)"
   ]
  },
  {
   "cell_type": "code",
   "execution_count": null,
   "id": "0dd33416-dd25-45ac-a83b-b7a9a20995f3",
   "metadata": {},
   "outputs": [],
   "source": []
  }
 ],
 "metadata": {
  "kernelspec": {
   "display_name": "Python 3 (ipykernel)",
   "language": "python",
   "name": "python3"
  },
  "language_info": {
   "codemirror_mode": {
    "name": "ipython",
    "version": 3
   },
   "file_extension": ".py",
   "mimetype": "text/x-python",
   "name": "python",
   "nbconvert_exporter": "python",
   "pygments_lexer": "ipython3",
   "version": "3.12.7"
  }
 },
 "nbformat": 4,
 "nbformat_minor": 5
}
