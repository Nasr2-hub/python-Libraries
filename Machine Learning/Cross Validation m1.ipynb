{
 "cells": [
  {
   "cell_type": "code",
   "execution_count": 18,
   "id": "ff8589c5-61f3-49b9-8f15-92125d08d4ee",
   "metadata": {},
   "outputs": [
    {
     "data": {
      "text/plain": [
       "StratifiedKFold(n_splits=4, random_state=None, shuffle=False)"
      ]
     },
     "execution_count": 18,
     "metadata": {},
     "output_type": "execute_result"
    }
   ],
   "source": [
    "from sklearn.model_selection import StratifiedKFold\n",
    "s_fold=StratifiedKFold(n_splits=4)\n",
    "s_fold"
   ]
  },
  {
   "cell_type": "code",
   "execution_count": 19,
   "id": "5e62c317-3d78-42aa-893d-10f293069ca9",
   "metadata": {},
   "outputs": [],
   "source": [
    "def score_model(model,xtrain,xtest,ytrain,ytest):\n",
    "    model.fit(xtrain,ytrain)\n",
    "    return model.score(xtest,ytest)"
   ]
  },
  {
   "cell_type": "code",
   "execution_count": 20,
   "id": "1ae01fda-5f89-4e83-8fe3-7e45bd83349c",
   "metadata": {},
   "outputs": [
    {
     "data": {
      "text/plain": [
       "['DESCR', 'data', 'feature_names', 'frame', 'images', 'target', 'target_names']"
      ]
     },
     "execution_count": 20,
     "metadata": {},
     "output_type": "execute_result"
    }
   ],
   "source": [
    "from sklearn.datasets import load_digits\n",
    "digits=load_digits()\n",
    "dir(digits)"
   ]
  },
  {
   "cell_type": "code",
   "execution_count": 21,
   "id": "13651fca-7f5f-435b-bcf2-67c2c6245eac",
   "metadata": {},
   "outputs": [],
   "source": [
    "dig_data=digits.data\n",
    "dig_target=digits.target"
   ]
  },
  {
   "cell_type": "code",
   "execution_count": 22,
   "id": "fb47e694-d9eb-409d-811e-cd3da9ed45bc",
   "metadata": {},
   "outputs": [],
   "source": [
    "from sklearn.ensemble import RandomForestClassifier\n",
    "from sklearn.linear_model import LogisticRegression\n",
    "from sklearn.svm import SVC"
   ]
  },
  {
   "cell_type": "code",
   "execution_count": 23,
   "id": "2e0b20f0-7001-4b47-ae90-ff31d6936585",
   "metadata": {},
   "outputs": [],
   "source": [
    "l_score=[]\n",
    "rf_score=[]\n",
    "svc_score=[]"
   ]
  },
  {
   "cell_type": "code",
   "execution_count": 24,
   "id": "e8a770d3-b4e9-4a12-911b-d6e0beafcd56",
   "metadata": {},
   "outputs": [],
   "source": [
    "from sklearn.model_selection import KFold\n",
    "fold = KFold(n_splits=4)"
   ]
  },
  {
   "cell_type": "code",
   "execution_count": 25,
   "id": "7c1e1453-ea25-4217-ad1e-d08330871e1c",
   "metadata": {},
   "outputs": [],
   "source": [
    "for train_index,test_index in fold.split(dig_data,dig_target):\n",
    "    xtrain,xtest=digits.data[train_index],digits.data[test_index]\n",
    "    ytrain,ytest=digits.target[train_index],digits.target[test_index]"
   ]
  },
  {
   "cell_type": "code",
   "execution_count": 27,
   "id": "876dd904-7dc8-432e-8b23-ede68d29c6e3",
   "metadata": {},
   "outputs": [],
   "source": [
    "l_score.append(score_model(LogisticRegression(max_iter=500), xtrain,xtest,ytrain,ytest))\n",
    "rf_score.append(score_model(RandomForestClassifier(),xtrain,xtest,ytrain,ytest))\n",
    "svc_score.append(score_model(SVC(),xtrain,xtest,ytrain,ytest))"
   ]
  },
  {
   "cell_type": "code",
   "execution_count": 28,
   "id": "710fb571-ce70-4c37-90fe-722c998b4385",
   "metadata": {},
   "outputs": [
    {
     "name": "stdout",
     "output_type": "stream",
     "text": [
      "[0.9153674832962138, 0.9153674832962138]\n",
      "[0.933184855233853]\n",
      "[0.9487750556792873]\n"
     ]
    }
   ],
   "source": [
    "print(l_score)\n",
    "print(rf_score)\n",
    "print(svc_score)"
   ]
  },
  {
   "cell_type": "code",
   "execution_count": null,
   "id": "4325256f-70ae-44c3-b670-06cc09e4d98e",
   "metadata": {},
   "outputs": [],
   "source": []
  }
 ],
 "metadata": {
  "kernelspec": {
   "display_name": "Python 3 (ipykernel)",
   "language": "python",
   "name": "python3"
  },
  "language_info": {
   "codemirror_mode": {
    "name": "ipython",
    "version": 3
   },
   "file_extension": ".py",
   "mimetype": "text/x-python",
   "name": "python",
   "nbconvert_exporter": "python",
   "pygments_lexer": "ipython3",
   "version": "3.12.7"
  }
 },
 "nbformat": 4,
 "nbformat_minor": 5
}
