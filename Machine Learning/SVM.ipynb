{
 "cells": [
  {
   "cell_type": "code",
   "execution_count": 43,
   "id": "47304e05-e879-4acf-b33a-8a703b87d5da",
   "metadata": {},
   "outputs": [],
   "source": [
    "import pandas as pd"
   ]
  },
  {
   "cell_type": "code",
   "execution_count": 44,
   "id": "e5da90a0-c2be-4254-9324-ac9d7962c187",
   "metadata": {},
   "outputs": [],
   "source": [
    "from sklearn.datasets import load_iris\n",
    "iris=load_iris()\n",
    "dir(iris)\n",
    "from matplotlib import pyplot as plt"
   ]
  },
  {
   "cell_type": "code",
   "execution_count": 45,
   "id": "55d87f92-2e29-4879-9dfb-1b5d7407b7d3",
   "metadata": {},
   "outputs": [
    {
     "data": {
      "text/html": [
       "<div>\n",
       "<style scoped>\n",
       "    .dataframe tbody tr th:only-of-type {\n",
       "        vertical-align: middle;\n",
       "    }\n",
       "\n",
       "    .dataframe tbody tr th {\n",
       "        vertical-align: top;\n",
       "    }\n",
       "\n",
       "    .dataframe thead th {\n",
       "        text-align: right;\n",
       "    }\n",
       "</style>\n",
       "<table border=\"1\" class=\"dataframe\">\n",
       "  <thead>\n",
       "    <tr style=\"text-align: right;\">\n",
       "      <th></th>\n",
       "      <th>sepal length (cm)</th>\n",
       "      <th>sepal width (cm)</th>\n",
       "      <th>petal length (cm)</th>\n",
       "      <th>petal width (cm)</th>\n",
       "    </tr>\n",
       "  </thead>\n",
       "  <tbody>\n",
       "    <tr>\n",
       "      <th>0</th>\n",
       "      <td>5.1</td>\n",
       "      <td>3.5</td>\n",
       "      <td>1.4</td>\n",
       "      <td>0.2</td>\n",
       "    </tr>\n",
       "    <tr>\n",
       "      <th>1</th>\n",
       "      <td>4.9</td>\n",
       "      <td>3.0</td>\n",
       "      <td>1.4</td>\n",
       "      <td>0.2</td>\n",
       "    </tr>\n",
       "    <tr>\n",
       "      <th>2</th>\n",
       "      <td>4.7</td>\n",
       "      <td>3.2</td>\n",
       "      <td>1.3</td>\n",
       "      <td>0.2</td>\n",
       "    </tr>\n",
       "    <tr>\n",
       "      <th>3</th>\n",
       "      <td>4.6</td>\n",
       "      <td>3.1</td>\n",
       "      <td>1.5</td>\n",
       "      <td>0.2</td>\n",
       "    </tr>\n",
       "    <tr>\n",
       "      <th>4</th>\n",
       "      <td>5.0</td>\n",
       "      <td>3.6</td>\n",
       "      <td>1.4</td>\n",
       "      <td>0.2</td>\n",
       "    </tr>\n",
       "    <tr>\n",
       "      <th>...</th>\n",
       "      <td>...</td>\n",
       "      <td>...</td>\n",
       "      <td>...</td>\n",
       "      <td>...</td>\n",
       "    </tr>\n",
       "    <tr>\n",
       "      <th>145</th>\n",
       "      <td>6.7</td>\n",
       "      <td>3.0</td>\n",
       "      <td>5.2</td>\n",
       "      <td>2.3</td>\n",
       "    </tr>\n",
       "    <tr>\n",
       "      <th>146</th>\n",
       "      <td>6.3</td>\n",
       "      <td>2.5</td>\n",
       "      <td>5.0</td>\n",
       "      <td>1.9</td>\n",
       "    </tr>\n",
       "    <tr>\n",
       "      <th>147</th>\n",
       "      <td>6.5</td>\n",
       "      <td>3.0</td>\n",
       "      <td>5.2</td>\n",
       "      <td>2.0</td>\n",
       "    </tr>\n",
       "    <tr>\n",
       "      <th>148</th>\n",
       "      <td>6.2</td>\n",
       "      <td>3.4</td>\n",
       "      <td>5.4</td>\n",
       "      <td>2.3</td>\n",
       "    </tr>\n",
       "    <tr>\n",
       "      <th>149</th>\n",
       "      <td>5.9</td>\n",
       "      <td>3.0</td>\n",
       "      <td>5.1</td>\n",
       "      <td>1.8</td>\n",
       "    </tr>\n",
       "  </tbody>\n",
       "</table>\n",
       "<p>150 rows × 4 columns</p>\n",
       "</div>"
      ],
      "text/plain": [
       "     sepal length (cm)  sepal width (cm)  petal length (cm)  petal width (cm)\n",
       "0                  5.1               3.5                1.4               0.2\n",
       "1                  4.9               3.0                1.4               0.2\n",
       "2                  4.7               3.2                1.3               0.2\n",
       "3                  4.6               3.1                1.5               0.2\n",
       "4                  5.0               3.6                1.4               0.2\n",
       "..                 ...               ...                ...               ...\n",
       "145                6.7               3.0                5.2               2.3\n",
       "146                6.3               2.5                5.0               1.9\n",
       "147                6.5               3.0                5.2               2.0\n",
       "148                6.2               3.4                5.4               2.3\n",
       "149                5.9               3.0                5.1               1.8\n",
       "\n",
       "[150 rows x 4 columns]"
      ]
     },
     "execution_count": 45,
     "metadata": {},
     "output_type": "execute_result"
    }
   ],
   "source": [
    "data=pd.DataFrame(iris.data,columns=iris.feature_names)\n",
    "data"
   ]
  },
  {
   "cell_type": "code",
   "execution_count": 46,
   "id": "94e53903-3d9d-4459-9e2d-7671248f934e",
   "metadata": {},
   "outputs": [],
   "source": [
    "data[\"targets\"]=iris.target\n",
    "data['flower_name']=data.targets.apply(lambda x:iris.target_names[x])"
   ]
  },
  {
   "cell_type": "code",
   "execution_count": 47,
   "id": "b0c313b8-cd98-4606-b179-860b5974a628",
   "metadata": {},
   "outputs": [],
   "source": [
    "data0=data[data.targets==0]\n",
    "data1=data[data.targets==1]\n",
    "data2=data[data.targets==2]"
   ]
  },
  {
   "cell_type": "code",
   "execution_count": 48,
   "id": "13d627d8-a1eb-4e6e-86bd-1bf48173bf95",
   "metadata": {},
   "outputs": [
    {
     "data": {
      "text/plain": [
       "<matplotlib.collections.PathCollection at 0x193e053c200>"
      ]
     },
     "execution_count": 48,
     "metadata": {},
     "output_type": "execute_result"
    },
    {
     "data": {
      "image/png": "[encoded data removed]",
      "text/plain": [
       "<Figure size 640x480 with 1 Axes>"
      ]
     },
     "metadata": {},
     "output_type": "display_data"
    }
   ],
   "source": [
    "plt.scatter(data0['sepal length (cm)'],data0['sepal width (cm)'],marker='+',color='orange')\n",
    "plt.scatter(data1['sepal length (cm)'],data1['sepal width (cm)'],marker='+',color='green')\n",
    "plt.scatter(data2['petal length (cm)'],data2['petal width (cm)'],marker='+',color='blue')\n",
    "plt.scatter(data1['petal length (cm)'],data1['petal width (cm)'],marker='+',color='red')"
   ]
  },
  {
   "cell_type": "code",
   "execution_count": 49,
   "id": "1368c156-892a-43de-b05f-57cdb0aa3753",
   "metadata": {},
   "outputs": [],
   "source": [
    "y=data.targets\n",
    "x=data.drop([\"targets\", \"flower_name\"], axis=\"columns\", errors=\"ignore\")\n"
   ]
  },
  {
   "cell_type": "code",
   "execution_count": 50,
   "id": "0b2977ba-95d7-445c-89a5-df3cd08e8480",
   "metadata": {},
   "outputs": [],
   "source": [
    "from sklearn.model_selection import train_test_split\n",
    "from sklearn.svm import SVC\n",
    "xtrain,xtest,ytrain,ytest=train_test_split(x,y)"
   ]
  },
  {
   "cell_type": "code",
   "execution_count": 51,
   "id": "5475634f-b089-4e6f-aed3-48751c67cb06",
   "metadata": {},
   "outputs": [
    {
     "data": {
      "text/plain": [
       "0.9473684210526315"
      ]
     },
     "execution_count": 51,
     "metadata": {},
     "output_type": "execute_result"
    }
   ],
   "source": [
    "model=SVC()\n",
    "model.fit(xtrain,ytrain)\n",
    "model.score(xtest,ytest)"
   ]
  },
  {
   "cell_type": "code",
   "execution_count": 52,
   "id": "e34e7949-7de1-417f-a3dc-f23756d793f5",
   "metadata": {},
   "outputs": [
    {
     "data": {
      "text/plain": [
       "array([1, 0, 2, 2, 0, 0, 2, 1, 0, 2, 1, 2, 2, 2, 2, 1, 0, 1, 1, 2, 2, 0,\n",
       "       2, 0, 1, 2, 0, 2, 2, 1, 1, 0, 1, 2, 1, 0, 1, 1])"
      ]
     },
     "execution_count": 52,
     "metadata": {},
     "output_type": "execute_result"
    }
   ],
   "source": [
    "model.predict(xtest)"
   ]
  },
  {
   "cell_type": "code",
   "execution_count": 53,
   "id": "524e2bb7-4f63-4803-89df-6cc7181c067e",
   "metadata": {},
   "outputs": [
    {
     "data": {
      "text/plain": [
       "133    2\n",
       "0      0\n",
       "129    2\n",
       "146    2\n",
       "17     0\n",
       "18     0\n",
       "130    2\n",
       "95     1\n",
       "26     0\n",
       "102    2\n",
       "84     1\n",
       "131    2\n",
       "118    2\n",
       "134    2\n",
       "141    2\n",
       "73     1\n",
       "48     0\n",
       "138    2\n",
       "52     1\n",
       "101    2\n",
       "100    2\n",
       "33     0\n",
       "137    2\n",
       "4      0\n",
       "72     1\n",
       "122    2\n",
       "43     0\n",
       "124    2\n",
       "121    2\n",
       "70     1\n",
       "79     1\n",
       "6      0\n",
       "61     1\n",
       "113    2\n",
       "86     1\n",
       "41     0\n",
       "50     1\n",
       "74     1\n",
       "Name: targets, dtype: int64"
      ]
     },
     "execution_count": 53,
     "metadata": {},
     "output_type": "execute_result"
    }
   ],
   "source": [
    "ytest"
   ]
  },
  {
   "cell_type": "code",
   "execution_count": 55,
   "id": "8972aad9-f794-4b49-ae91-02d79a1d1906",
   "metadata": {},
   "outputs": [
    {
     "data": {
      "text/plain": [
       "0.9736842105263158"
      ]
     },
     "execution_count": 55,
     "metadata": {},
     "output_type": "execute_result"
    }
   ],
   "source": [
    "svclassifier=SVC(kernel=\"linear\")\n",
    "svclassifier.fit(xtrain,ytrain)\n",
    "svclassifier.score(xtest,ytest)"
   ]
  },
  {
   "cell_type": "code",
   "execution_count": 56,
   "id": "5921e562-d948-4852-bbff-99b2901b37fa",
   "metadata": {},
   "outputs": [
    {
     "data": {
      "text/plain": [
       "0.868421052631579"
      ]
     },
     "execution_count": 56,
     "metadata": {},
     "output_type": "execute_result"
    }
   ],
   "source": [
    "svclassifier_2=SVC(kernel='poly',degree=8)\n",
    "svclassifier_2.fit(xtrain,ytrain)\n",
    "svclassifier_2.score(xtest,ytest)"
   ]
  },
  {
   "cell_type": "code",
   "execution_count": 57,
   "id": "2ffdc5b7-a0b9-41e4-9818-3c168cdbb1ad",
   "metadata": {},
   "outputs": [
    {
     "data": {
      "text/plain": [
       "0.9473684210526315"
      ]
     },
     "execution_count": 57,
     "metadata": {},
     "output_type": "execute_result"
    }
   ],
   "source": [
    "Gau_fier=SVC(kernel='rbf',random_state=0)\n",
    "Gau_fier.fit(xtrain,ytrain)\n",
    "Gau_fier.score(xtest,ytest)"
   ]
  },
  {
   "cell_type": "code",
   "execution_count": 59,
   "id": "16d22262-0a0b-4732-b2c7-1a5028141e2b",
   "metadata": {},
   "outputs": [
    {
     "data": {
      "text/plain": [
       "0.2631578947368421"
      ]
     },
     "execution_count": 59,
     "metadata": {},
     "output_type": "execute_result"
    }
   ],
   "source": [
    "sig_fier=SVC(kernel='sigmoid')\n",
    "sig_fier.fit(xtrain,ytrain)\n",
    "sig_fier.score(xtest,ytest)"
   ]
  },
  {
   "cell_type": "code",
   "execution_count": null,
   "id": "60dee342-dc3a-4c53-a298-16eb88046150",
   "metadata": {},
   "outputs": [],
   "source": []
  }
 ],
 "metadata": {
  "kernelspec": {
   "display_name": "Python 3 (ipykernel)",
   "language": "python",
   "name": "python3"
  },
  "language_info": {
   "codemirror_mode": {
    "name": "ipython",
    "version": 3
   },
   "file_extension": ".py",
   "mimetype": "text/x-python",
   "name": "python",
   "nbconvert_exporter": "python",
   "pygments_lexer": "ipython3",
   "version": "3.12.7"
  }
 },
 "nbformat": 4,
 "nbformat_minor": 5
}
