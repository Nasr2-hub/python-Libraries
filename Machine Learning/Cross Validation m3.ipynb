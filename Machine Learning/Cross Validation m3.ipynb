{
 "cells": [
  {
   "cell_type": "code",
   "execution_count": 39,
   "id": "217157ad-fa6a-4421-85a6-a82c6dd10209",
   "metadata": {},
   "outputs": [
    {
     "data": {
      "text/plain": [
       "StratifiedKFold(n_splits=4, random_state=None, shuffle=False)"
      ]
     },
     "execution_count": 39,
     "metadata": {},
     "output_type": "execute_result"
    }
   ],
   "source": [
    "from sklearn.model_selection import StratifiedKFold\n",
    "s_fold=StratifiedKFold(n_splits=4)\n",
    "s_fold"
   ]
  },
  {
   "cell_type": "code",
   "execution_count": 40,
   "id": "46920a25-3234-4c72-9e49-e27fe8a217ce",
   "metadata": {},
   "outputs": [],
   "source": [
    "def score_model(model,xtrain,xtest,ytrain,ytest):\n",
    "    model.fit(xtrain,ytrain)\n",
    "    return model.score(xtest,ytest)"
   ]
  },
  {
   "cell_type": "code",
   "execution_count": 41,
   "id": "ef58df60-bf88-40f4-9b47-056fecf8789c",
   "metadata": {},
   "outputs": [
    {
     "data": {
      "text/plain": [
       "['DESCR',\n",
       " 'data',\n",
       " 'data_module',\n",
       " 'feature_names',\n",
       " 'filename',\n",
       " 'frame',\n",
       " 'target',\n",
       " 'target_names']"
      ]
     },
     "execution_count": 41,
     "metadata": {},
     "output_type": "execute_result"
    }
   ],
   "source": [
    "from sklearn.datasets import load_iris\n",
    "iris=load_iris()\n",
    "dir(iris)"
   ]
  },
  {
   "cell_type": "code",
   "execution_count": 42,
   "id": "23e7d712-7680-41c6-95a6-a4dd7421ac8d",
   "metadata": {},
   "outputs": [],
   "source": [
    "iris_data=iris.data\n",
    "iris_target=iris.target"
   ]
  },
  {
   "cell_type": "code",
   "execution_count": 43,
   "id": "0e08df6a-b9f5-448c-a2cd-ac06f650be81",
   "metadata": {},
   "outputs": [],
   "source": [
    "from sklearn.ensemble import RandomForestClassifier\n",
    "from sklearn.linear_model import LogisticRegression\n",
    "from sklearn.svm import SVC"
   ]
  },
  {
   "cell_type": "code",
   "execution_count": 44,
   "id": "f30f5044-47a1-427e-ab73-bd2cdb617714",
   "metadata": {},
   "outputs": [],
   "source": [
    "l_score=[]\n",
    "rf_score=[]\n",
    "svc_score=[]"
   ]
  },
  {
   "cell_type": "code",
   "execution_count": 45,
   "id": "a6d15304-5b93-41c5-9ed8-48c7f3f78927",
   "metadata": {},
   "outputs": [],
   "source": [
    "from sklearn.model_selection import KFold\n",
    "fold = KFold(n_splits=4)"
   ]
  },
  {
   "cell_type": "code",
   "execution_count": 46,
   "id": "f695b676-6d34-407a-bea0-6a569eed9c40",
   "metadata": {},
   "outputs": [],
   "source": [
    "for train_index,test_index in fold.split(iris_data,iris_target):\n",
    "    xtrain,xtest=iris.data[train_index],iris.data[test_index]\n",
    "    ytrain,ytest=iris.target[train_index],iris.target[test_index]"
   ]
  },
  {
   "cell_type": "code",
   "execution_count": 47,
   "id": "8d6c942c-f1bf-474b-8548-85d23e057989",
   "metadata": {},
   "outputs": [
    {
     "name": "stdout",
     "output_type": "stream",
     "text": [
      "[0.7567567567567568]\n",
      "[0.7567567567567568]\n",
      "[0.6216216216216216]\n"
     ]
    }
   ],
   "source": [
    "l_score.append(score_model(LogisticRegression(max_iter=500),xtrain,xtest,ytrain,ytest))\n",
    "rf_score.append(score_model(RandomForestClassifier(),xtrain,xtest,ytrain,ytest))\n",
    "svc_score.append(score_model(SVC(),xtrain,xtest,ytrain,ytest))\n",
    "print(l_score)\n",
    "print(rf_score)\n",
    "print(svc_score)"
   ]
  },
  {
   "cell_type": "code",
   "execution_count": null,
   "id": "0fd660dc-cd79-4614-8321-64cab5ee3455",
   "metadata": {},
   "outputs": [],
   "source": []
  },
  {
   "cell_type": "code",
   "execution_count": null,
   "id": "a96b4a2d-43db-4f30-a2d5-a77b610c6b4c",
   "metadata": {},
   "outputs": [],
   "source": []
  },
  {
   "cell_type": "code",
   "execution_count": null,
   "id": "ddd2e7f6-ae27-4327-9763-fa79c58c9847",
   "metadata": {},
   "outputs": [],
   "source": []
  }
 ],
 "metadata": {
  "kernelspec": {
   "display_name": "Python 3 (ipykernel)",
   "language": "python",
   "name": "python3"
  },
  "language_info": {
   "codemirror_mode": {
    "name": "ipython",
    "version": 3
   },
   "file_extension": ".py",
   "mimetype": "text/x-python",
   "name": "python",
   "nbconvert_exporter": "python",
   "pygments_lexer": "ipython3",
   "version": "3.12.7"
  }
 },
 "nbformat": 4,
 "nbformat_minor": 5
}
